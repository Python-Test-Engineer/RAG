{
 "cells": [
  {
   "cell_type": "code",
   "execution_count": 1,
   "metadata": {},
   "outputs": [],
   "source": [
    "import os\n",
    "import json\n",
    "import base64\n",
    "import openai\n",
    "from openai import OpenAI\n",
    "from dotenv import find_dotenv, load_dotenv\n",
    "from uuid import uuid4\n",
    "from random import randint\n",
    "from utils.get_openai_api_key import get_test_key\n",
    "from utils.get_postgres_connection import _conn_open\n",
    "from utils.load_json import load_json\n",
    "from rich.console import Console\n",
    "\n",
    "console = Console()"
   ]
  },
  {
   "cell_type": "code",
   "execution_count": 2,
   "metadata": {},
   "outputs": [
    {
     "data": {
      "text/html": [
       "<pre style=\"white-space:pre;overflow-x:auto;line-height:normal;font-family:Menlo,'DejaVu Sans Mono',consolas,'Courier New',monospace\"><span style=\"color: #008000; text-decoration-color: #008000\">Success: .env file found with some environment variables</span>\n",
       "</pre>\n"
      ],
      "text/plain": [
       "\u001b[32mSuccess: .env file found with some environment variables\u001b[0m\n"
      ]
     },
     "metadata": {},
     "output_type": "display_data"
    },
    {
     "data": {
      "text/html": [
       "<pre style=\"white-space:pre;overflow-x:auto;line-height:normal;font-family:Menlo,'DejaVu Sans Mono',consolas,'Courier New',monospace\">sk-proj-IMmV\n",
       "</pre>\n"
      ],
      "text/plain": [
       "sk-proj-IMmV\n"
      ]
     },
     "metadata": {},
     "output_type": "display_data"
    }
   ],
   "source": [
    "OPENAI_API_KEY = get_test_key()\n",
    "# Set up your OpenAI API key\n",
    "openai.api_key = OPENAI_API_KEY\n",
    "client = OpenAI()\n",
    "# Choose a model\n",
    "model = \"text-embedding-ada-002\"\n",
    "console.print(OPENAI_API_KEY[:12])"
   ]
  },
  {
   "cell_type": "code",
   "execution_count": 3,
   "metadata": {},
   "outputs": [],
   "source": [
    "def get_embedding(text, model=\"text-embedding-3-small\"):\n",
    "\n",
    "    text = text.replace(\"\\n\", \" \")\n",
    "    return client.embeddings.create(input=[text], model=model).data[0].embedding"
   ]
  },
  {
   "cell_type": "code",
   "execution_count": 4,
   "metadata": {},
   "outputs": [
    {
     "data": {
      "text/html": [
       "<pre style=\"white-space:pre;overflow-x:auto;line-height:normal;font-family:Menlo,'DejaVu Sans Mono',consolas,'Courier New',monospace\"><span style=\"color: #008000; text-decoration-color: #008000; font-weight: bold\">Conn: &lt;connection object at </span><span style=\"color: #008000; text-decoration-color: #008000; font-weight: bold\">0x0000021A3CB2A570</span><span style=\"color: #008000; text-decoration-color: #008000; font-weight: bold\">; dsn: </span><span style=\"color: #008000; text-decoration-color: #008000; font-weight: bold\">'user=postgres password=xxx dbname=postgres </span>\n",
       "<span style=\"color: #008000; text-decoration-color: #008000; font-weight: bold\">host=host.docker.internal'</span><span style=\"color: #008000; text-decoration-color: #008000; font-weight: bold\">, closed: </span><span style=\"color: #008000; text-decoration-color: #008000; font-weight: bold\">0</span><span style=\"color: #008000; text-decoration-color: #008000; font-weight: bold\">&gt;</span>\n",
       "</pre>\n"
      ],
      "text/plain": [
       "\u001b[1;32mConn: \u001b[0m\u001b[1;32m<\u001b[0m\u001b[1;32mconnection\u001b[0m\u001b[1;32m object at \u001b[0m\u001b[1;32m0x0000021A3CB2A570\u001b[0m\u001b[1;32m; dsn: \u001b[0m\u001b[1;32m'\u001b[0m\u001b[1;32muser\u001b[0m\u001b[1;32m=\u001b[0m\u001b[1;32mpostgres\u001b[0m\u001b[1;32m \u001b[0m\u001b[1;32mpassword\u001b[0m\u001b[1;32m=\u001b[0m\u001b[1;32mxxx\u001b[0m\u001b[1;32m \u001b[0m\u001b[1;32mdbname\u001b[0m\u001b[1;32m=\u001b[0m\u001b[1;32mpostgres\u001b[0m\u001b[1;32m \u001b[0m\n",
       "\u001b[1;32mhost\u001b[0m\u001b[1;32m=\u001b[0m\u001b[1;32mhost\u001b[0m\u001b[1;32m.docker.internal'\u001b[0m\u001b[1;32m, closed: \u001b[0m\u001b[1;32m0\u001b[0m\u001b[1;32m>\u001b[0m\n"
      ]
     },
     "metadata": {},
     "output_type": "display_data"
    }
   ],
   "source": [
    "conn = _conn_open()\n",
    "cur = conn.cursor()"
   ]
  },
  {
   "cell_type": "code",
   "execution_count": 7,
   "metadata": {},
   "outputs": [],
   "source": [
    "def decode_image(encoded_image_data, image_fimename):\n",
    "    decoded_image_data = base64.b64decode(encoded_image_data)\n",
    "    file_name_path = f\"./{image_fimename}\"\n",
    "    with open(file_name_path, \"wb\") as new_image_file:\n",
    "        new_image_file.write(decoded_image_data)"
   ]
  },
  {
   "cell_type": "code",
   "execution_count": 8,
   "metadata": {},
   "outputs": [
    {
     "name": "stdout",
     "output_type": "stream",
     "text": [
      "Number of items: 10\n"
     ]
    },
    {
     "data": {
      "text/html": [
       "<pre style=\"white-space:pre;overflow-x:auto;line-height:normal;font-family:Menlo,'DejaVu Sans Mono',consolas,'Courier New',monospace\">ID is <span style=\"color: #ffff00; text-decoration-color: #ffff00\">f3101b51-de5a-4001-8e4d-92cb3ac9a4d4</span>\n",
       "FILE_ID: <span style=\"color: #ffff00; text-decoration-color: #ffff00\">6884d5d1-f736-406d-92ff-d5cff2be6826</span>\n",
       "</pre>\n"
      ],
      "text/plain": [
       "ID is \u001b[93mf3101b51-de5a-4001-8e4d-92cb3ac9a4d4\u001b[0m\n",
       "FILE_ID: \u001b[93m6884d5d1-f736-406d-92ff-d5cff2be6826\u001b[0m\n"
      ]
     },
     "metadata": {},
     "output_type": "display_data"
    },
    {
     "data": {
      "text/html": [
       "<pre style=\"white-space:pre;overflow-x:auto;line-height:normal;font-family:Menlo,'DejaVu Sans Mono',consolas,'Courier New',monospace\">ID is <span style=\"color: #ffff00; text-decoration-color: #ffff00\">1f951d2c-7c5c-4dda-be14-8614c7e3a447</span>\n",
       "FILE_ID: <span style=\"color: #ffff00; text-decoration-color: #ffff00\">6884d5d1-f736-406d-92ff-d5cff2be6826</span>\n",
       "</pre>\n"
      ],
      "text/plain": [
       "ID is \u001b[93m1f951d2c-7c5c-4dda-be14-8614c7e3a447\u001b[0m\n",
       "FILE_ID: \u001b[93m6884d5d1-f736-406d-92ff-d5cff2be6826\u001b[0m\n"
      ]
     },
     "metadata": {},
     "output_type": "display_data"
    },
    {
     "data": {
      "text/html": [
       "<pre style=\"white-space:pre;overflow-x:auto;line-height:normal;font-family:Menlo,'DejaVu Sans Mono',consolas,'Courier New',monospace\"><span style=\"color: #ff8700; text-decoration-color: #ff8700\">---------Item Number IMAGE: </span><span style=\"color: #ff8700; text-decoration-color: #ff8700; font-weight: bold\">3</span><span style=\"color: #ff8700; text-decoration-color: #ff8700\">--------</span>\n",
       "</pre>\n"
      ],
      "text/plain": [
       "\u001b[38;5;208m---------Item Number IMAGE: \u001b[0m\u001b[1;38;5;208m3\u001b[0m\u001b[38;5;208m--------\u001b[0m\n"
      ]
     },
     "metadata": {},
     "output_type": "display_data"
    },
    {
     "data": {
      "text/html": [
       "<pre style=\"white-space:pre;overflow-x:auto;line-height:normal;font-family:Menlo,'DejaVu Sans Mono',consolas,'Courier New',monospace\"><span style=\"color: #800080; text-decoration-color: #800080\">/9j/4AAQSkZJRgABAQAAAQABAAD/</span><span style=\"color: #ff00ff; text-decoration-color: #ff00ff\">2wBDAAgGBgcG</span>\n",
       "</pre>\n"
      ],
      "text/plain": [
       "\u001b[35m/9j/4AAQSkZJRgABAQAAAQABAAD/\u001b[0m\u001b[95m2wBDAAgGBgcG\u001b[0m\n"
      ]
     },
     "metadata": {},
     "output_type": "display_data"
    },
    {
     "data": {
      "text/html": [
       "<pre style=\"white-space:pre;overflow-x:auto;line-height:normal;font-family:Menlo,'DejaVu Sans Mono',consolas,'Courier New',monospace\">ID is <span style=\"color: #ffff00; text-decoration-color: #ffff00\">541a665d-a5c5-4253-9113-0e391ded2215</span>\n",
       "FILE_ID: <span style=\"color: #ffff00; text-decoration-color: #ffff00\">6884d5d1-f736-406d-92ff-d5cff2be6826</span>\n",
       "</pre>\n"
      ],
      "text/plain": [
       "ID is \u001b[93m541a665d-a5c5-4253-9113-0e391ded2215\u001b[0m\n",
       "FILE_ID: \u001b[93m6884d5d1-f736-406d-92ff-d5cff2be6826\u001b[0m\n"
      ]
     },
     "metadata": {},
     "output_type": "display_data"
    },
    {
     "data": {
      "text/html": [
       "<pre style=\"white-space:pre;overflow-x:auto;line-height:normal;font-family:Menlo,'DejaVu Sans Mono',consolas,'Courier New',monospace\">ID is <span style=\"color: #ffff00; text-decoration-color: #ffff00\">4af87b9d-d019-43a3-8607-4d1fbd5bf14a</span>\n",
       "FILE_ID: <span style=\"color: #ffff00; text-decoration-color: #ffff00\">6884d5d1-f736-406d-92ff-d5cff2be6826</span>\n",
       "</pre>\n"
      ],
      "text/plain": [
       "ID is \u001b[93m4af87b9d-d019-43a3-8607-4d1fbd5bf14a\u001b[0m\n",
       "FILE_ID: \u001b[93m6884d5d1-f736-406d-92ff-d5cff2be6826\u001b[0m\n"
      ]
     },
     "metadata": {},
     "output_type": "display_data"
    },
    {
     "data": {
      "text/html": [
       "<pre style=\"white-space:pre;overflow-x:auto;line-height:normal;font-family:Menlo,'DejaVu Sans Mono',consolas,'Courier New',monospace\">ID is <span style=\"color: #ffff00; text-decoration-color: #ffff00\">6c90550d-abf8-4ea3-96f3-32fb09356136</span>\n",
       "FILE_ID: <span style=\"color: #ffff00; text-decoration-color: #ffff00\">6884d5d1-f736-406d-92ff-d5cff2be6826</span>\n",
       "</pre>\n"
      ],
      "text/plain": [
       "ID is \u001b[93m6c90550d-abf8-4ea3-96f3-32fb09356136\u001b[0m\n",
       "FILE_ID: \u001b[93m6884d5d1-f736-406d-92ff-d5cff2be6826\u001b[0m\n"
      ]
     },
     "metadata": {},
     "output_type": "display_data"
    },
    {
     "data": {
      "text/html": [
       "<pre style=\"white-space:pre;overflow-x:auto;line-height:normal;font-family:Menlo,'DejaVu Sans Mono',consolas,'Courier New',monospace\">ID is <span style=\"color: #ffff00; text-decoration-color: #ffff00\">10414b30-6c9a-4be5-91a9-7fe734f81eb4</span>\n",
       "FILE_ID: <span style=\"color: #ffff00; text-decoration-color: #ffff00\">6884d5d1-f736-406d-92ff-d5cff2be6826</span>\n",
       "</pre>\n"
      ],
      "text/plain": [
       "ID is \u001b[93m10414b30-6c9a-4be5-91a9-7fe734f81eb4\u001b[0m\n",
       "FILE_ID: \u001b[93m6884d5d1-f736-406d-92ff-d5cff2be6826\u001b[0m\n"
      ]
     },
     "metadata": {},
     "output_type": "display_data"
    },
    {
     "data": {
      "text/html": [
       "<pre style=\"white-space:pre;overflow-x:auto;line-height:normal;font-family:Menlo,'DejaVu Sans Mono',consolas,'Courier New',monospace\">ID is <span style=\"color: #ffff00; text-decoration-color: #ffff00\">3d5560fe-ea3c-4135-bb3a-fea5da537cbc</span>\n",
       "FILE_ID: <span style=\"color: #ffff00; text-decoration-color: #ffff00\">6884d5d1-f736-406d-92ff-d5cff2be6826</span>\n",
       "</pre>\n"
      ],
      "text/plain": [
       "ID is \u001b[93m3d5560fe-ea3c-4135-bb3a-fea5da537cbc\u001b[0m\n",
       "FILE_ID: \u001b[93m6884d5d1-f736-406d-92ff-d5cff2be6826\u001b[0m\n"
      ]
     },
     "metadata": {},
     "output_type": "display_data"
    },
    {
     "data": {
      "text/html": [
       "<pre style=\"white-space:pre;overflow-x:auto;line-height:normal;font-family:Menlo,'DejaVu Sans Mono',consolas,'Courier New',monospace\">ID is <span style=\"color: #ffff00; text-decoration-color: #ffff00\">680b4482-fad4-4a07-9fa0-6efd029d1d38</span>\n",
       "FILE_ID: <span style=\"color: #ffff00; text-decoration-color: #ffff00\">6884d5d1-f736-406d-92ff-d5cff2be6826</span>\n",
       "</pre>\n"
      ],
      "text/plain": [
       "ID is \u001b[93m680b4482-fad4-4a07-9fa0-6efd029d1d38\u001b[0m\n",
       "FILE_ID: \u001b[93m6884d5d1-f736-406d-92ff-d5cff2be6826\u001b[0m\n"
      ]
     },
     "metadata": {},
     "output_type": "display_data"
    },
    {
     "data": {
      "text/html": [
       "<pre style=\"white-space:pre;overflow-x:auto;line-height:normal;font-family:Menlo,'DejaVu Sans Mono',consolas,'Courier New',monospace\"><span style=\"color: #ff8700; text-decoration-color: #ff8700\">---------Item Number IMAGE: </span><span style=\"color: #ff8700; text-decoration-color: #ff8700; font-weight: bold\">9</span><span style=\"color: #ff8700; text-decoration-color: #ff8700\">--------</span>\n",
       "</pre>\n"
      ],
      "text/plain": [
       "\u001b[38;5;208m---------Item Number IMAGE: \u001b[0m\u001b[1;38;5;208m9\u001b[0m\u001b[38;5;208m--------\u001b[0m\n"
      ]
     },
     "metadata": {},
     "output_type": "display_data"
    },
    {
     "data": {
      "text/html": [
       "<pre style=\"white-space:pre;overflow-x:auto;line-height:normal;font-family:Menlo,'DejaVu Sans Mono',consolas,'Courier New',monospace\"><span style=\"color: #800080; text-decoration-color: #800080\">/9j/4AAQSkZJRgABAQAAAQABAAD/</span><span style=\"color: #ff00ff; text-decoration-color: #ff00ff\">2wBDAAgGBgcG</span>\n",
       "</pre>\n"
      ],
      "text/plain": [
       "\u001b[35m/9j/4AAQSkZJRgABAQAAAQABAAD/\u001b[0m\u001b[95m2wBDAAgGBgcG\u001b[0m\n"
      ]
     },
     "metadata": {},
     "output_type": "display_data"
    },
    {
     "data": {
      "text/html": [
       "<pre style=\"white-space:pre;overflow-x:auto;line-height:normal;font-family:Menlo,'DejaVu Sans Mono',consolas,'Courier New',monospace\">ID is <span style=\"color: #ffff00; text-decoration-color: #ffff00\">ff3a5f52-18b4-4aec-b460-9ffe91816065</span>\n",
       "FILE_ID: <span style=\"color: #ffff00; text-decoration-color: #ffff00\">6884d5d1-f736-406d-92ff-d5cff2be6826</span>\n",
       "</pre>\n"
      ],
      "text/plain": [
       "ID is \u001b[93mff3a5f52-18b4-4aec-b460-9ffe91816065\u001b[0m\n",
       "FILE_ID: \u001b[93m6884d5d1-f736-406d-92ff-d5cff2be6826\u001b[0m\n"
      ]
     },
     "metadata": {},
     "output_type": "display_data"
    },
    {
     "data": {
      "text/html": [
       "<pre style=\"white-space:pre;overflow-x:auto;line-height:normal;font-family:Menlo,'DejaVu Sans Mono',consolas,'Courier New',monospace\">ID is <span style=\"color: #ffff00; text-decoration-color: #ffff00\">eaa2baee-38b5-453c-b67f-130f105deb92</span>\n",
       "FILE_ID: <span style=\"color: #ffff00; text-decoration-color: #ffff00\">6884d5d1-f736-406d-92ff-d5cff2be6826</span>\n",
       "</pre>\n"
      ],
      "text/plain": [
       "ID is \u001b[93meaa2baee-38b5-453c-b67f-130f105deb92\u001b[0m\n",
       "FILE_ID: \u001b[93m6884d5d1-f736-406d-92ff-d5cff2be6826\u001b[0m\n"
      ]
     },
     "metadata": {},
     "output_type": "display_data"
    }
   ],
   "source": [
    "console = Console()\n",
    "FILENAME = \"unstructured_4213.json\"\n",
    "json_data = load_json(FILENAME)\n",
    "print(f\"Number of items: {len(json_data)}\")\n",
    "encoded_image_data = None\n",
    "file_id = str(uuid4())\n",
    "for i in range(len(json_data)):\n",
    "\n",
    "    element_id = json_data[i][\"element_id\"]\n",
    "    element_type = json_data[i][\"type\"].upper()\n",
    "    if \"parent_id\" in json_data[i]:\n",
    "        parent_id = json_data[i][\"parent_id\"]\n",
    "    else:\n",
    "        parent_id = \"\"\n",
    "    page_number = json_data[i][\"metadata\"][\"page_number\"]\n",
    "    filename = json_data[i][\"metadata\"][\"filename\"]\n",
    "    element_text = json_data[i][\"text\"]\n",
    "    if element_text is not None:\n",
    "        element_embedding = get_embedding(element_text)\n",
    "    else:\n",
    "        element_embedding = \"\"\n",
    "    if json_data[i][\"type\"] == \"Image\":\n",
    "        console.print(f\"[dark_orange]---------Item Number IMAGE: {i + 1}--------[/]\")\n",
    "        el_image_b64 = json_data[i][\"metadata\"][\"image_base64\"]\n",
    "        console.print(el_image_b64[:40])\n",
    "    else:\n",
    "        el_image_b64 = \"NONE\"\n",
    "\n",
    "    sql = f\"\"\"\n",
    "        INSERT INTO tbl_doc_elements (\n",
    "            file_id, element_id, element_text, element_type, parent_id, page_number, image_base64, embedding)\n",
    "        VALUES \n",
    "        ('{file_id}','{element_id}','{element_text}','{element_type}','{parent_id}', '{page_number}', '{el_image_b64}', '{element_embedding}')\n",
    "        RETURNING id;\n",
    "            \"\"\"\n",
    "    # console.print(sql)\n",
    "    try:\n",
    "        cur.execute(sql)\n",
    "        row = cur.fetchone()\n",
    "        id = row[0]\n",
    "        console.print(f\"ID is {id}\\nFILE_ID: {file_id}\")\n",
    "        conn.commit()\n",
    "    except Exception as e:\n",
    "        console.print(e)"
   ]
  },
  {
   "cell_type": "code",
   "execution_count": 10,
   "metadata": {},
   "outputs": [
    {
     "data": {
      "text/html": [
       "<pre style=\"white-space:pre;overflow-x:auto;line-height:normal;font-family:Menlo,'DejaVu Sans Mono',consolas,'Courier New',monospace\">Image is <span style=\"color: #800080; text-decoration-color: #800080\">/9j/</span><span style=\"color: #ff00ff; text-decoration-color: #ff00ff\">4AAQSkZJRgABAQAA</span>\n",
       "</pre>\n"
      ],
      "text/plain": [
       "Image is \u001b[35m/9j/\u001b[0m\u001b[95m4AAQSkZJRgABAQAA\u001b[0m\n"
      ]
     },
     "metadata": {},
     "output_type": "display_data"
    },
    {
     "data": {
      "text/html": [
       "<pre style=\"white-space:pre;overflow-x:auto;line-height:normal;font-family:Menlo,'DejaVu Sans Mono',consolas,'Courier New',monospace\">Len <span style=\"color: #008080; text-decoration-color: #008080; font-weight: bold\">31176</span>\n",
       "</pre>\n"
      ],
      "text/plain": [
       "Len \u001b[1;36m31176\u001b[0m\n"
      ]
     },
     "metadata": {},
     "output_type": "display_data"
    }
   ],
   "source": [
    "# ensure base64 in db produces image\n",
    "\n",
    "sql = \"\"\"\n",
    "SELECT id,image_base64 FROM public.tbl_doc_elements\n",
    "WHERE element_type = 'IMAGE'\n",
    "ORDER BY id ASC \n",
    "\"\"\"\n",
    "# console.print(sql)\n",
    "try:\n",
    "    cur.execute(sql)\n",
    "    row = cur.fetchone()\n",
    "    id = row[0]\n",
    "    image_base64 = row[1]\n",
    "    console.print(f\"Image is {image_base64[:20]}\")\n",
    "    console.print(f\"Len {len(image_base64)}\")\n",
    "    decode_image(image_base64, f\"./test_image_{randint(1000,9999)}.png\")\n",
    "\n",
    "except Exception as e:\n",
    "    console.print(e)"
   ]
  },
  {
   "cell_type": "code",
   "execution_count": 8,
   "metadata": {},
   "outputs": [],
   "source": [
    "cur.close()\n",
    "conn.close()"
   ]
  }
 ],
 "metadata": {
  "kernelspec": {
   "display_name": "venv",
   "language": "python",
   "name": "python3"
  },
  "language_info": {
   "codemirror_mode": {
    "name": "ipython",
    "version": 3
   },
   "file_extension": ".py",
   "mimetype": "text/x-python",
   "name": "python",
   "nbconvert_exporter": "python",
   "pygments_lexer": "ipython3",
   "version": "3.12.1"
  }
 },
 "nbformat": 4,
 "nbformat_minor": 2
}
