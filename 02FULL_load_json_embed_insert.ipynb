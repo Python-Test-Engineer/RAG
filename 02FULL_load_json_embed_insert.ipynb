{
 "cells": [
  {
   "cell_type": "code",
   "execution_count": 1,
   "metadata": {},
   "outputs": [],
   "source": [
    "import os\n",
    "import json\n",
    "import base64\n",
    "import openai\n",
    "from openai import OpenAI\n",
    "from dotenv import find_dotenv, load_dotenv\n",
    "from uuid import uuid4\n",
    "from random import randint\n",
    "from utils.get_openai_api_key import get_test_key\n",
    "from utils.get_postgres_connection import _conn_open\n",
    "from utils.load_json import load_json\n",
    "from rich.console import Console\n",
    "\n",
    "console = Console()"
   ]
  },
  {
   "cell_type": "code",
   "execution_count": null,
   "metadata": {},
   "outputs": [],
   "source": [
    "OPENAI_API_KEY = get_test_key()\n",
    "# Set up your OpenAI API key\n",
    "openai.api_key = OPENAI_API_KEY\n",
    "client = OpenAI()\n",
    "# Choose a model\n",
    "model = \"text-embedding-ada-002\"\n",
    "console.print(OPENAI_API_KEY[:12])"
   ]
  },
  {
   "cell_type": "code",
   "execution_count": 3,
   "metadata": {},
   "outputs": [],
   "source": [
    "def get_embedding(text, model=\"text-embedding-3-small\"):\n",
    "\n",
    "    text = text.replace(\"\\n\", \" \")\n",
    "    return client.embeddings.create(input=[text], model=model).data[0].embedding"
   ]
  },
  {
   "cell_type": "code",
   "execution_count": null,
   "metadata": {},
   "outputs": [],
   "source": [
    "conn = _conn_open()\n",
    "cur = conn.cursor()"
   ]
  },
  {
   "cell_type": "code",
   "execution_count": 5,
   "metadata": {},
   "outputs": [],
   "source": [
    "def decode_image(encoded_image_data, image_fimename):\n",
    "    decoded_image_data = base64.b64decode(encoded_image_data)\n",
    "    file_name_path = f\"./{image_fimename}\"\n",
    "    with open(file_name_path, \"wb\") as new_image_file:\n",
    "        new_image_file.write(decoded_image_data)"
   ]
  },
  {
   "cell_type": "code",
   "execution_count": null,
   "metadata": {},
   "outputs": [],
   "source": [
    "console = Console()\n",
    "FILENAME = \"unstructured_7009.json\"\n",
    "json_data = load_json(FILENAME)\n",
    "print(f\"Number of items: {len(json_data)}\")\n",
    "encoded_image_data = None\n",
    "file_id = str(uuid4())\n",
    "for i in range(len(json_data)):\n",
    "\n",
    "    # if text_html then must be parsed for correct HTML quotes\n",
    "    element_id = json_data[i][\"element_id\"]\n",
    "    element_type = json_data[i][\"type\"].upper()\n",
    "    if \"parent_id\" in json_data[i]:\n",
    "        parent_id = json_data[i][\"parent_id\"]\n",
    "    else:\n",
    "        parent_id = \"\"\n",
    "    page_number = json_data[i][\"metadata\"][\"page_number\"]\n",
    "    filename = json_data[i][\"metadata\"][\"filename\"]\n",
    "    element_text = json_data[i][\"text\"]\n",
    "    if element_text is not None:\n",
    "        element_embedding = get_embedding(element_text)\n",
    "    else:\n",
    "        element_embedding = \"\"\n",
    "    if json_data[i][\"type\"] == \"Image\":\n",
    "        console.print(f\"[dark_orange]---------Item Number IMAGE: {i + 1}--------[/]\")\n",
    "        el_image_b64 = json_data[i][\"metadata\"][\"image_base64\"]\n",
    "        console.print(el_image_b64[:40])\n",
    "    else:\n",
    "        el_image_b64 = \"NONE\"\n",
    "\n",
    "    sql = f\"\"\"\n",
    "        INSERT INTO tbl_doc_elements (\n",
    "            file_id, element_id, element_text, element_type, parent_id, page_number, image_base64, embedding)\n",
    "        VALUES \n",
    "        ('{file_id}','{element_id}','{element_text}','{element_type}','{parent_id}', '{page_number}', '{el_image_b64}', '{element_embedding}')\n",
    "        RETURNING id;\n",
    "            \"\"\"\n",
    "    # console.print(sql)\n",
    "    try:\n",
    "        cur.execute(sql)\n",
    "        row = cur.fetchone()\n",
    "        id = row[0]\n",
    "        console.print(f\"ID is {id}\\nFILE_ID: {file_id}\")\n",
    "        conn.commit()\n",
    "    except Exception as e:\n",
    "        console.print(e)"
   ]
  },
  {
   "cell_type": "code",
   "execution_count": null,
   "metadata": {},
   "outputs": [],
   "source": [
    "# ensure base64 in db produces image\n",
    "\n",
    "sql = \"\"\"\n",
    "SELECT id,image_base64 FROM public.tbl_doc_elements\n",
    "WHERE element_type = 'IMAGE'\n",
    "ORDER BY id ASC \n",
    "\"\"\"\n",
    "# console.print(sql)\n",
    "try:\n",
    "    cur.execute(sql)\n",
    "    row = cur.fetchone()\n",
    "    id = row[0]\n",
    "    image_base64 = row[1]\n",
    "    console.print(f\"Image is {image_base64[:20]}\")\n",
    "    console.print(f\"Len {len(image_base64)}\")\n",
    "    decode_image(image_base64, f\"./test_image_{randint(1000,9999)}.png\")\n",
    "\n",
    "except Exception as e:\n",
    "    console.print(e)"
   ]
  },
  {
   "cell_type": "code",
   "execution_count": 8,
   "metadata": {},
   "outputs": [],
   "source": [
    "cur.close()\n",
    "conn.close()"
   ]
  }
 ],
 "metadata": {
  "kernelspec": {
   "display_name": "venv",
   "language": "python",
   "name": "python3"
  },
  "language_info": {
   "codemirror_mode": {
    "name": "ipython",
    "version": 3
   },
   "file_extension": ".py",
   "mimetype": "text/x-python",
   "name": "python",
   "nbconvert_exporter": "python",
   "pygments_lexer": "ipython3",
   "version": "3.12.1"
  }
 },
 "nbformat": 4,
 "nbformat_minor": 2
}
