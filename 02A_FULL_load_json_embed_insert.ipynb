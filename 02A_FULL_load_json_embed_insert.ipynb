{
 "cells": [
  {
   "cell_type": "code",
   "execution_count": 1,
   "metadata": {},
   "outputs": [],
   "source": [
    "import os\n",
    "import json\n",
    "import base64\n",
    "import openai\n",
    "from openai import OpenAI\n",
    "from dotenv import find_dotenv, load_dotenv\n",
    "from uuid import uuid4\n",
    "from random import randint\n",
    "from utils.get_openai_api_key import get_test_key\n",
    "from utils.get_postgres_connection import _conn_open\n",
    "from utils.load_json import load_json\n",
    "from rich.console import Console\n",
    "import psycopg2"
   ]
  },
  {
   "cell_type": "code",
   "execution_count": 2,
   "metadata": {},
   "outputs": [
    {
     "name": "stdout",
     "output_type": "stream",
     "text": [
      "Connecting to PostgreSQL...\n",
      "Successfully connected to PostgreSQL.\n"
     ]
    }
   ],
   "source": [
    "print(\"Connecting to PostgreSQL...\")\n",
    "conn = psycopg2.connect(\n",
    "    database=\"postgres\",\n",
    "    user=\"postgres\",\n",
    "    password=\"postgres\",\n",
    "    host=\"localhost\",\n",
    ")\n",
    "\n",
    "cur = conn.cursor()\n",
    "\n",
    "print(\"Successfully connected to PostgreSQL.\")"
   ]
  },
  {
   "cell_type": "code",
   "execution_count": 3,
   "metadata": {},
   "outputs": [],
   "source": [
    "console = Console()"
   ]
  },
  {
   "cell_type": "code",
   "execution_count": 4,
   "metadata": {},
   "outputs": [
    {
     "data": {
      "text/html": [
       "<pre style=\"white-space:pre;overflow-x:auto;line-height:normal;font-family:Menlo,'DejaVu Sans Mono',consolas,'Courier New',monospace\"><span style=\"color: #008000; text-decoration-color: #008000\">Success: .env file found with some environment variables</span>\n",
       "</pre>\n"
      ],
      "text/plain": [
       "\u001b[32mSuccess: .env file found with some environment variables\u001b[0m\n"
      ]
     },
     "metadata": {},
     "output_type": "display_data"
    },
    {
     "data": {
      "text/html": [
       "<pre style=\"white-space:pre;overflow-x:auto;line-height:normal;font-family:Menlo,'DejaVu Sans Mono',consolas,'Courier New',monospace\">sk-proj-SztC\n",
       "</pre>\n"
      ],
      "text/plain": [
       "sk-proj-SztC\n"
      ]
     },
     "metadata": {},
     "output_type": "display_data"
    }
   ],
   "source": [
    "OPENAI_API_KEY = get_test_key()\n",
    "# Set up your OpenAI API key\n",
    "openai.api_key = OPENAI_API_KEY\n",
    "client = OpenAI()\n",
    "# Choose a model\n",
    "model = \"text-embedding-ada-002\"\n",
    "console.print(OPENAI_API_KEY[:12])"
   ]
  },
  {
   "cell_type": "code",
   "execution_count": 5,
   "metadata": {},
   "outputs": [],
   "source": [
    "def get_embedding(text, model=\"text-embedding-3-small\"):\n",
    "\n",
    "    text = text.replace(\"\\n\", \" \")\n",
    "    return client.embeddings.create(input=[text], model=model).data[0].embedding"
   ]
  },
  {
   "cell_type": "code",
   "execution_count": 6,
   "metadata": {},
   "outputs": [],
   "source": [
    "def decode_image(encoded_image_data, image_fimename):\n",
    "    decoded_image_data = base64.b64decode(encoded_image_data)\n",
    "    file_name_path = f\"./{image_fimename}\"\n",
    "    with open(file_name_path, \"wb\") as new_image_file:\n",
    "        new_image_file.write(decoded_image_data)"
   ]
  },
  {
   "cell_type": "code",
   "execution_count": 7,
   "metadata": {},
   "outputs": [],
   "source": [
    "FILENAME = \"TMCB_43_2256640.pdf.json\""
   ]
  },
  {
   "cell_type": "code",
   "execution_count": 8,
   "metadata": {},
   "outputs": [],
   "source": [
    "def embed_and_load(filename=FILENAME):\n",
    "\n",
    "    json_data = load_json(FILENAME)\n",
    "    print(f\"Number of items: {len(json_data)}\")\n",
    "    encoded_image_data = None\n",
    "    file_id = str(uuid4())\n",
    "    for i in range(len(json_data)):\n",
    "\n",
    "        # if text_html then must be parsed for correct HTML quotes\n",
    "        element_id = json_data[i][\"element_id\"]\n",
    "        element_type = json_data[i][\"type\"].upper()\n",
    "        if \"parent_id\" in json_data[i]:\n",
    "            parent_id = json_data[i][\"parent_id\"]\n",
    "        else:\n",
    "            parent_id = \"\"\n",
    "        page_number = json_data[i][\"metadata\"][\"page_number\"]\n",
    "        filename = json_data[i][\"metadata\"][\"filename\"]\n",
    "        element_text = json_data[i][\"text\"]\n",
    "        if element_text is not None:\n",
    "            element_embedding = get_embedding(element_text)\n",
    "        else:\n",
    "            element_embedding = \"\"\n",
    "        if json_data[i][\"type\"] == \"Image\" or json_data[i][\"type\"] == \"Table\":\n",
    "            console.print(\n",
    "                f\"[dark_orange]--------- {element_type.upper()} Item Number  {i + 1}--------[/]\"\n",
    "            )\n",
    "            el_image_b64 = json_data[i][\"metadata\"][\"image_base64\"]\n",
    "            # console.print(el_image_b64[:40])\n",
    "        else:\n",
    "            el_image_b64 = \"NONE\"\n",
    "\n",
    "        sql = f\"\"\"\n",
    "            INSERT INTO tbl_doc_elements (\n",
    "                file_id, element_id, element_text, element_type, parent_id, page_number, image_base64, embedding)\n",
    "            VALUES \n",
    "            ('{file_id}','{element_id}','{element_text}','{element_type}','{parent_id}', '{page_number}', '{el_image_b64}', '{element_embedding}')\n",
    "            RETURNING id;\n",
    "                \"\"\"\n",
    "        # console.print(sql)\n",
    "        try:\n",
    "            cur.execute(sql)\n",
    "            row = cur.fetchone()\n",
    "            id = row[0]\n",
    "            console.print(f\"ID is {id}\\nFILE_ID: {file_id}\")\n",
    "            conn.commit()\n",
    "        except Exception as e:\n",
    "            console.print(e)"
   ]
  },
  {
   "cell_type": "code",
   "execution_count": 9,
   "metadata": {},
   "outputs": [],
   "source": [
    "files = [\"wef.pdf_6134.json\"]"
   ]
  },
  {
   "cell_type": "code",
   "execution_count": null,
   "metadata": {},
   "outputs": [
    {
     "name": "stdout",
     "output_type": "stream",
     "text": [
      "wef.pdf_6134.json\n",
      "Number of items: 618\n"
     ]
    },
    {
     "data": {
      "text/html": [
       "<pre style=\"white-space:pre;overflow-x:auto;line-height:normal;font-family:Menlo,'DejaVu Sans Mono',consolas,'Courier New',monospace\">ID is <span style=\"color: #ffff00; text-decoration-color: #ffff00\">079c8c24-ce4a-422d-905e-a10181b8c23c</span>\n",
       "FILE_ID: <span style=\"color: #ffff00; text-decoration-color: #ffff00\">9faf9e8e-157f-45c7-982b-94c7388801bf</span>\n",
       "</pre>\n"
      ],
      "text/plain": [
       "ID is \u001b[93m079c8c24-ce4a-422d-905e-a10181b8c23c\u001b[0m\n",
       "FILE_ID: \u001b[93m9faf9e8e-157f-45c7-982b-94c7388801bf\u001b[0m\n"
      ]
     },
     "metadata": {},
     "output_type": "display_data"
    },
    {
     "data": {
      "text/html": [
       "<pre style=\"white-space:pre;overflow-x:auto;line-height:normal;font-family:Menlo,'DejaVu Sans Mono',consolas,'Courier New',monospace\">ID is <span style=\"color: #ffff00; text-decoration-color: #ffff00\">d6df18f5-b940-4c7f-97b8-c956e32ac055</span>\n",
       "FILE_ID: <span style=\"color: #ffff00; text-decoration-color: #ffff00\">9faf9e8e-157f-45c7-982b-94c7388801bf</span>\n",
       "</pre>\n"
      ],
      "text/plain": [
       "ID is \u001b[93md6df18f5-b940-4c7f-97b8-c956e32ac055\u001b[0m\n",
       "FILE_ID: \u001b[93m9faf9e8e-157f-45c7-982b-94c7388801bf\u001b[0m\n"
      ]
     },
     "metadata": {},
     "output_type": "display_data"
    }
   ],
   "source": [
    "for file in files:\n",
    "    print(file)\n",
    "    FILENAME = file\n",
    "    embed_and_load(filename=FILENAME)\n",
    "    print(f\"file {file} loaded\")"
   ]
  },
  {
   "cell_type": "code",
   "execution_count": 11,
   "metadata": {},
   "outputs": [],
   "source": [
    "cur.close()\n",
    "conn.close()"
   ]
  }
 ],
 "metadata": {
  "kernelspec": {
   "display_name": "venv",
   "language": "python",
   "name": "python3"
  },
  "language_info": {
   "codemirror_mode": {
    "name": "ipython",
    "version": 3
   },
   "file_extension": ".py",
   "mimetype": "text/x-python",
   "name": "python",
   "nbconvert_exporter": "python",
   "pygments_lexer": "ipython3",
   "version": "3.12.8"
  }
 },
 "nbformat": 4,
 "nbformat_minor": 2
}
