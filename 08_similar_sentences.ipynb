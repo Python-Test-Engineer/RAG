{
  "cells": [
    {
      "cell_type": "markdown",
      "metadata": {
        "id": "SjNAmtyUT33o"
      },
      "source": [
        "<h2>Sentence Transformers</h2>\n"
      ]
    },
    {
      "cell_type": "markdown",
      "metadata": {
        "id": "PC08IHg2jNe1"
      },
      "source": [
        "**Resources:**\n",
        "\n",
        "- https://www.sbert.net/index.html\n",
        "- https://www.sbert.net/docs/pretrained_models.html\n"
      ]
    },
    {
      "cell_type": "markdown",
      "metadata": {
        "id": "aJ9U2MTSQCGe"
      },
      "source": [
        "**Use cases:**\n",
        "\n",
        "- Sentence Embedding\n",
        "- Sentence Similarity\n",
        "- Semantic Search\n",
        "- Clustering\n"
      ]
    },
    {
      "cell_type": "markdown",
      "metadata": {
        "id": "8Fe3mt_jCTL0"
      },
      "source": [
        "**Generate Embeding**\n"
      ]
    },
    {
      "cell_type": "code",
      "execution_count": 1,
      "metadata": {
        "id": "QXuwDrEsTl-7"
      },
      "outputs": [],
      "source": [
        "from sentence_transformers import SentenceTransformer, util\n",
        "\n",
        "model = SentenceTransformer(\"all-MiniLM-L6-v2\")"
      ]
    },
    {
      "cell_type": "code",
      "execution_count": 2,
      "metadata": {
        "id": "03fm2wdZejPc"
      },
      "outputs": [
        {
          "name": "stdout",
          "output_type": "stream",
          "text": [
            "Sentence: This framework generates embeddings for each input sentence\n",
            "Embedding: [-1.37173794e-02 -4.28515188e-02 -1.56286024e-02  1.40537471e-02\n",
            "  3.95537578e-02  1.21796258e-01  2.94333752e-02 -3.17524299e-02\n",
            "  3.54959741e-02 -7.93140009e-02  1.75878536e-02 -4.04369831e-02\n",
            "  4.97259162e-02  2.54912134e-02 -7.18700588e-02  8.14968869e-02\n",
            "  1.47070922e-03  4.79627177e-02 -4.50336002e-02 -9.92175043e-02\n",
            " -2.81769410e-02  6.45046607e-02  4.44670245e-02 -4.76216860e-02\n",
            " -3.52952480e-02  4.38671857e-02 -5.28566130e-02  4.33045177e-04\n",
            "  1.01921521e-01  1.64072365e-02  3.26996408e-02 -3.45986858e-02\n",
            "  1.21339420e-02  7.94870928e-02  4.58342116e-03  1.57778263e-02\n",
            " -9.68204346e-03  2.87625827e-02 -5.05806208e-02 -1.55793950e-02\n",
            " -2.87906528e-02 -9.62281693e-03  3.15556750e-02  2.27348786e-02\n",
            "  8.71449560e-02 -3.85027267e-02 -8.84718895e-02 -8.75498448e-03\n",
            " -2.12343037e-02  2.08923481e-02 -9.02077556e-02 -5.25732450e-02\n",
            " -1.05638849e-02  2.88310833e-02 -1.61454957e-02  6.17841491e-03\n",
            " -1.23234494e-02 -1.07337264e-02  2.83354018e-02 -5.28567806e-02\n",
            " -3.58617865e-02 -5.97989187e-02 -1.09055163e-02  2.91566271e-02\n",
            "  7.97979385e-02 -3.27911956e-04  6.83500338e-03  1.32718366e-02\n",
            " -4.24619876e-02  1.87656786e-02 -9.89234373e-02  2.09049713e-02\n",
            " -8.69605541e-02 -1.50152035e-02 -4.86201718e-02  8.04414973e-02\n",
            " -3.67702940e-03 -6.65044487e-02  1.14556782e-01 -3.04228850e-02\n",
            "  2.96631474e-02 -2.80695613e-02  4.64989878e-02 -2.25513689e-02\n",
            "  8.54223222e-02  3.15446407e-02  7.34541640e-02 -2.21861955e-02\n",
            " -5.29678501e-02  1.27130011e-02 -5.27340062e-02 -1.06188692e-01\n",
            "  7.04731420e-02  2.76736505e-02 -8.05531964e-02  2.39649788e-02\n",
            " -2.65125148e-02 -2.17331257e-02  4.35275510e-02  4.84712273e-02\n",
            " -2.37067398e-02  2.85768136e-02  1.11846142e-01 -6.34936094e-02\n",
            " -1.58318561e-02 -2.26169359e-02 -1.31027810e-02 -1.62065390e-03\n",
            " -3.60928848e-02 -9.78297070e-02 -4.67728861e-02  1.76271275e-02\n",
            " -3.97492051e-02 -1.76392568e-04  3.39628123e-02 -2.09633578e-02\n",
            "  6.33660611e-03 -2.59411186e-02  8.10410008e-02  6.14393204e-02\n",
            " -5.44591760e-03  6.48276359e-02 -1.16844043e-01  2.36861017e-02\n",
            " -1.32058263e-02 -1.12476446e-01  1.90049261e-02 -1.74661092e-34\n",
            "  5.58949709e-02  1.94244757e-02  4.65438813e-02  5.18645644e-02\n",
            "  3.89390513e-02  3.40540670e-02 -4.32114080e-02  7.90637136e-02\n",
            " -9.79530364e-02 -1.27440868e-02 -2.91870739e-02  1.02052027e-02\n",
            "  1.88115779e-02  1.08942546e-01  6.63465112e-02 -5.35295643e-02\n",
            " -3.29228230e-02  4.69826870e-02  2.28883177e-02  2.74114497e-02\n",
            " -2.91983075e-02  3.12706642e-02 -2.22850554e-02 -1.02282181e-01\n",
            " -2.79116575e-02  1.13793118e-02  9.06308964e-02 -4.75414582e-02\n",
            " -1.00718938e-01 -1.23232035e-02 -7.96928555e-02 -1.44636054e-02\n",
            " -7.76400939e-02 -7.66922301e-03  9.73955542e-03  2.24204678e-02\n",
            "  7.77267963e-02 -3.17156082e-03  2.11537629e-02 -3.30393761e-02\n",
            "  9.55246110e-03 -3.73011827e-02  2.61360593e-02 -9.79086664e-03\n",
            " -6.31505251e-02  5.77437738e-03 -3.80030461e-02  1.29685029e-02\n",
            " -1.82499941e-02 -1.56282969e-02 -1.23366609e-03  5.55579066e-02\n",
            "  1.13063768e-04 -5.61256371e-02  7.40165487e-02  1.84452273e-02\n",
            " -2.66368538e-02  1.31952167e-02  7.50086531e-02 -2.46796831e-02\n",
            " -3.24005671e-02 -1.57675110e-02 -8.03515222e-03 -5.61317848e-03\n",
            "  1.05687669e-02  3.26164183e-03 -3.91989909e-02 -9.38677564e-02\n",
            "  1.14227168e-01  6.57304749e-02 -4.72633801e-02  1.45087913e-02\n",
            " -3.54489982e-02 -3.37761529e-02 -5.15505821e-02 -3.81006300e-03\n",
            " -5.15036322e-02 -5.93429543e-02 -1.69412163e-03  7.42107183e-02\n",
            " -4.20091487e-02 -7.19975159e-02  3.17250341e-02 -1.66303553e-02\n",
            "  3.96982254e-03 -6.52750805e-02  2.77391188e-02 -7.51649216e-02\n",
            "  2.27455478e-02 -3.91368419e-02  1.54316016e-02 -5.54908589e-02\n",
            "  1.23318927e-02 -2.59520952e-02  6.66423663e-02 -6.91259325e-34\n",
            "  3.31628770e-02  8.47928822e-02 -6.65583685e-02  3.33541520e-02\n",
            "  4.71611042e-03  1.35361822e-02 -5.38694412e-02  9.20694098e-02\n",
            " -2.96876412e-02  3.16219330e-02 -2.37497464e-02  1.98771562e-02\n",
            "  1.03446215e-01 -9.06947032e-02  6.30624546e-03  1.42886695e-02\n",
            "  1.19293947e-02  6.43726718e-03  4.20104489e-02  1.25344656e-02\n",
            "  3.93019430e-02  5.35691902e-02 -4.30749916e-02  6.10432476e-02\n",
            " -5.39981156e-05  6.91682547e-02  1.05520133e-02  1.22111738e-02\n",
            " -7.23184869e-02  2.50469632e-02 -5.18371090e-02 -4.36562337e-02\n",
            " -6.71818554e-02  1.34828119e-02 -7.25888833e-02  7.04167690e-03\n",
            "  6.58939704e-02  1.08994413e-02 -2.60011782e-03  5.49968667e-02\n",
            "  5.06966524e-02  3.27948555e-02 -6.68833107e-02  6.45557716e-02\n",
            " -2.52075978e-02 -2.92572025e-02 -1.16696693e-01  3.24064530e-02\n",
            "  5.85858300e-02 -3.51756439e-02 -7.15240166e-02  2.24935878e-02\n",
            " -1.00786686e-01 -4.74545062e-02 -7.61962757e-02 -5.87166473e-02\n",
            "  4.21138369e-02 -7.47213960e-02  1.98467970e-02 -3.36502818e-03\n",
            " -5.29737025e-02  2.74729785e-02  3.45736817e-02 -6.11846894e-02\n",
            "  1.06364809e-01 -9.64120105e-02 -4.55944985e-02  1.51489861e-02\n",
            " -5.13522979e-03 -6.64447844e-02  4.31721509e-02 -1.10405944e-02\n",
            " -9.80250258e-03  7.53782913e-02 -1.49570983e-02 -4.80208546e-02\n",
            "  5.80726638e-02 -2.43896674e-02 -2.23137736e-02 -4.36992310e-02\n",
            "  5.12054041e-02 -3.28625962e-02  1.08763270e-01  6.08926564e-02\n",
            "  3.30796232e-03  5.53819984e-02  8.43201056e-02  1.27087347e-02\n",
            "  3.84465493e-02  6.52325824e-02 -2.94684023e-02  5.08005694e-02\n",
            " -2.09347550e-02  1.46135688e-01  2.25561503e-02 -1.77227744e-08\n",
            " -5.02672456e-02 -2.79222179e-04 -1.00328624e-01  2.42811050e-02\n",
            " -7.54043162e-02 -3.79140042e-02  3.96049656e-02  3.10079884e-02\n",
            " -9.05703567e-03 -6.50411993e-02  4.05453295e-02  4.83390242e-02\n",
            " -4.56962213e-02  4.76008933e-03  2.64360383e-03  9.35614333e-02\n",
            " -4.02599499e-02  3.27401869e-02  1.18298065e-02  5.54344505e-02\n",
            "  1.48052201e-01  7.21189007e-02  2.76959880e-04  1.68651044e-02\n",
            "  8.34878907e-03 -8.76156986e-03 -1.33649660e-02  6.14237078e-02\n",
            "  1.57168154e-02  6.94961175e-02  1.08621772e-02  6.08018227e-02\n",
            " -5.33421785e-02 -3.47923860e-02 -3.36272046e-02  6.93907067e-02\n",
            "  1.22987526e-02 -1.45237356e-01 -2.06970284e-03 -4.61132489e-02\n",
            "  3.72746750e-03 -5.59355412e-03 -1.00659847e-01 -4.45953235e-02\n",
            "  5.40921167e-02  4.98888362e-03  1.49534428e-02 -8.26059878e-02\n",
            "  6.26630560e-02 -5.01906825e-03 -4.81857918e-02 -3.53990868e-02\n",
            "  9.03385784e-03 -2.42337994e-02  5.66267557e-02  2.51529515e-02\n",
            " -1.70708839e-02 -1.24780461e-02  3.19518335e-02  1.38421152e-02\n",
            " -1.55815110e-02  1.00178249e-01  1.23657189e-01 -4.22967263e-02]\n",
            "\n",
            "Sentence: Sentences are passed as a list of string.\n",
            "Embedding: [ 5.64524941e-02  5.50024137e-02  3.13795991e-02  3.39484848e-02\n",
            " -3.54247391e-02  8.34667608e-02  9.88800749e-02  7.27541279e-03\n",
            " -6.68661250e-03 -7.65812397e-03  7.93738440e-02  7.39673153e-04\n",
            "  1.49291791e-02 -1.51046980e-02  3.67674269e-02  4.78743166e-02\n",
            " -4.81969528e-02 -3.76052186e-02 -4.60278466e-02 -8.89816359e-02\n",
            "  1.20228112e-01  1.30663216e-01 -3.73936072e-02  2.47858581e-03\n",
            "  2.55823391e-03  7.25814328e-02 -6.80436566e-02 -5.24696372e-02\n",
            "  4.90233935e-02  2.99563091e-02 -5.84429577e-02 -2.02263352e-02\n",
            "  2.08821967e-02  9.76692066e-02  3.52390446e-02  3.91141102e-02\n",
            "  1.05667831e-02  1.56234473e-03 -1.30822985e-02  8.52902327e-03\n",
            " -4.84095281e-03 -2.03766637e-02 -2.71801073e-02  2.83308011e-02\n",
            "  3.66017744e-02  2.51276176e-02 -9.90861803e-02  1.15626529e-02\n",
            " -3.60379852e-02 -7.23784044e-02 -1.12670138e-01  1.12942224e-02\n",
            " -3.86397466e-02  4.67386134e-02 -2.88460776e-02  2.26703566e-02\n",
            " -8.52406863e-03  3.32814939e-02 -1.06582872e-03 -7.09745809e-02\n",
            " -6.31170347e-02 -5.72186932e-02 -6.16026409e-02  5.47146387e-02\n",
            "  1.18317334e-02 -4.66261134e-02  2.56959833e-02 -7.07413815e-03\n",
            " -5.73842786e-02  4.12839577e-02 -5.91503270e-02  5.89021631e-02\n",
            " -4.41697463e-02  4.65081446e-02 -3.15814428e-02  5.58312647e-02\n",
            "  5.54578565e-02 -5.96533343e-02  4.06407230e-02  4.83762426e-03\n",
            " -4.96768281e-02 -1.00944363e-01  3.40078175e-02  4.13270807e-03\n",
            " -2.93523166e-03  2.11837757e-02 -3.73962224e-02 -2.79066991e-02\n",
            " -4.61768024e-02  5.26138507e-02 -2.79734544e-02 -1.62379235e-01\n",
            "  6.61042258e-02  1.72274299e-02 -5.45110274e-03  4.74473685e-02\n",
            " -3.82237099e-02 -3.96896824e-02  1.34544447e-02  4.49653789e-02\n",
            "  4.53670556e-03  2.82978825e-02  8.36632922e-02 -1.00858090e-02\n",
            " -1.19353980e-01 -3.84624451e-02  4.82858904e-02 -9.46084186e-02\n",
            "  1.91854164e-02 -9.96518135e-02 -6.30596727e-02  3.02696079e-02\n",
            "  1.17402710e-02 -4.78372350e-02 -6.20266888e-03 -3.32850590e-02\n",
            " -4.04390320e-03  1.28307194e-02  4.05254178e-02  7.56476745e-02\n",
            "  2.92434897e-02  2.84270365e-02 -2.78938990e-02  1.66858044e-02\n",
            " -2.47961860e-02 -6.83650896e-02  2.89968960e-02 -5.39867748e-33\n",
            " -2.69016228e-03 -2.65069306e-02 -6.47934445e-04 -8.46193451e-03\n",
            " -7.35154822e-02  4.94081201e-03 -5.97842075e-02  1.03438236e-02\n",
            "  2.12903041e-03 -2.88217678e-03 -3.17076705e-02 -9.42364335e-02\n",
            "  3.03019900e-02  7.00226650e-02  4.50685658e-02  3.69439572e-02\n",
            "  1.13593712e-02  3.53026949e-02  5.50449966e-03  1.34414784e-03\n",
            "  3.46124638e-03  7.75047764e-02  5.45112304e-02 -7.92055875e-02\n",
            " -9.31696743e-02 -4.03398275e-02  3.10668759e-02 -3.83081473e-02\n",
            " -5.89443184e-02  1.93332061e-02 -2.67159827e-02 -7.91938007e-02\n",
            "  1.04201732e-04  7.70621523e-02  4.16603498e-02  8.90932456e-02\n",
            "  3.56843285e-02 -1.09152924e-02  3.71498652e-02 -2.07070373e-02\n",
            " -2.46100724e-02 -2.05025319e-02  2.62201428e-02  3.43590751e-02\n",
            "  4.39251252e-02 -8.20520241e-03 -8.40710104e-02  4.24170792e-02\n",
            "  4.87499051e-02  5.95385171e-02  2.87747663e-02  3.37638371e-02\n",
            " -4.07442935e-02 -1.66372617e-03  7.91927353e-02  3.41088250e-02\n",
            " -5.72836550e-04  1.87749546e-02 -1.36964209e-02  7.38332942e-02\n",
            "  5.74486679e-04  8.33505169e-02  5.60810901e-02 -1.13711143e-02\n",
            "  4.42611463e-02  2.69581582e-02 -4.80536111e-02 -3.15087251e-02\n",
            "  7.75226429e-02  1.81773007e-02 -8.83005336e-02 -7.85519369e-03\n",
            " -6.22243173e-02  7.19373152e-02 -2.33475361e-02  6.52482267e-03\n",
            " -9.49526858e-03 -9.88313183e-02  4.01306264e-02  3.07396799e-02\n",
            " -2.21607275e-02 -9.45910960e-02  1.02367923e-02  1.02187797e-01\n",
            " -4.12960052e-02 -3.15778106e-02  4.74752225e-02 -1.10209800e-01\n",
            "  1.69614889e-02 -3.71709280e-02 -1.03261918e-02 -4.72538173e-02\n",
            " -1.20213879e-02 -1.93255506e-02  5.79292178e-02  4.23865998e-34\n",
            "  3.92013043e-02  8.41361731e-02 -1.02946728e-01  6.92259744e-02\n",
            "  1.68821216e-02 -3.26760896e-02  9.65959486e-03  1.80899613e-02\n",
            "  2.17939988e-02  1.63189583e-02 -9.69292298e-02  3.74849583e-03\n",
            " -2.38456745e-02 -3.44056264e-02  7.11963028e-02  9.21932166e-04\n",
            " -6.23856205e-03  3.23754363e-02 -8.90391297e-04  5.01904916e-03\n",
            " -4.24538292e-02  9.89084095e-02 -4.60320935e-02  4.69704717e-02\n",
            " -1.75284278e-02 -7.02513987e-03  1.32743604e-02 -5.30152209e-02\n",
            "  2.66409270e-03  1.45819029e-02  7.43346009e-03 -3.07131261e-02\n",
            " -2.09416393e-02  8.24110284e-02 -5.15893809e-02 -2.71178894e-02\n",
            "  1.17583014e-01  7.72504276e-03 -1.89523250e-02  3.94559465e-02\n",
            "  7.17360526e-02  2.59116869e-02  2.75191721e-02  9.50544514e-03\n",
            " -3.02355457e-02 -4.07944545e-02 -1.04028471e-01 -7.97423720e-03\n",
            " -3.64457956e-03  3.29716466e-02 -2.35954560e-02 -7.50515657e-03\n",
            " -5.82234301e-02 -3.17906179e-02 -4.18048985e-02  2.17453744e-02\n",
            " -6.67291656e-02 -4.89104092e-02  4.58516879e-03 -2.66046263e-02\n",
            " -1.12597041e-01  5.11167683e-02  5.48534356e-02 -6.69857115e-02\n",
            "  1.26766324e-01 -8.59487429e-02 -5.94231710e-02 -2.92185624e-03\n",
            " -1.14875976e-02 -1.26025781e-01 -3.48281511e-03 -9.12001580e-02\n",
            " -1.22933067e-01  1.33777019e-02 -4.75775003e-02 -6.57933354e-02\n",
            " -3.39410119e-02 -3.07107326e-02 -5.22033907e-02 -2.35463846e-02\n",
            "  5.90035170e-02 -3.85757796e-02  3.19701247e-02  4.05118540e-02\n",
            "  1.67077817e-02 -3.58281098e-02  1.45688038e-02  3.20137441e-02\n",
            " -1.34843532e-02  6.07819557e-02 -8.31395946e-03 -1.08105950e-02\n",
            "  4.69410755e-02  7.66133666e-02 -4.23400216e-02 -2.11963300e-08\n",
            " -7.25292489e-02 -4.20228131e-02 -6.12374395e-02  5.24666533e-02\n",
            " -1.42363543e-02  1.18486984e-02 -1.40789421e-02 -3.67529877e-02\n",
            " -4.44977805e-02 -1.15140080e-02  5.23317195e-02  2.96651796e-02\n",
            " -4.62780520e-02 -3.70892473e-02  1.89129822e-02  2.04306543e-02\n",
            " -2.24006046e-02 -1.48562659e-02 -1.79504342e-02  4.20007743e-02\n",
            "  1.40942475e-02 -2.83492263e-02 -1.16863042e-01  1.48956450e-02\n",
            " -7.30546424e-04  5.66027984e-02 -2.68740263e-02  1.09106652e-01\n",
            "  2.94563430e-03  1.19267926e-01  1.14212438e-01  8.92973617e-02\n",
            " -1.70255173e-02 -4.99054305e-02 -2.11930908e-02  3.18421461e-02\n",
            "  7.03436136e-02 -1.02929391e-01  8.23816881e-02  2.81968117e-02\n",
            "  3.21146213e-02  3.79107632e-02 -1.09553114e-01  8.19620267e-02\n",
            "  8.73216689e-02 -5.73563986e-02 -2.01709084e-02 -5.69444336e-02\n",
            " -1.30338604e-02 -5.55684231e-02 -1.32966423e-02  8.64014588e-03\n",
            "  5.30012548e-02 -4.06847186e-02  2.71709077e-02 -2.55951821e-03\n",
            "  3.05775534e-02 -4.61865515e-02  4.68034344e-03 -3.64947245e-02\n",
            "  6.80802539e-02  6.65087700e-02  8.49152058e-02 -3.32849137e-02]\n",
            "\n"
          ]
        }
      ],
      "source": [
        "sentences = [\n",
        "    \"This framework generates embeddings for each input sentence\",\n",
        "    \"Sentences are passed as a list of string.\",\n",
        "]\n",
        "\n",
        "\n",
        "embeddings = model.encode(sentences)\n",
        "\n",
        "\n",
        "for sentence, embedding in zip(sentences, embeddings):\n",
        "    print(\"Sentence:\", sentence)\n",
        "    # print(\"Embedding:\", embedding)\n",
        "    # print(\"\")"
      ]
    },
    {
      "cell_type": "markdown",
      "metadata": {
        "id": "YDc8_VCrCQGt"
      },
      "source": [
        "**Cosine-Similarity**\n"
      ]
    },
    {
      "cell_type": "code",
      "execution_count": 3,
      "metadata": {
        "colab": {
          "base_uri": "https://localhost:8080/"
        },
        "id": "ZGz3bDLhewrZ",
        "outputId": "a14d7c3c-638a-4975-e70c-370d8a61ca03"
      },
      "outputs": [
        {
          "name": "stdout",
          "output_type": "stream",
          "text": [
            "Cosine-Similarity: tensor([[0.5398]])\n"
          ]
        }
      ],
      "source": [
        "emb1 = model.encode(\"I am eating Apple\")\n",
        "emb2 = model.encode(\"I like fruits\")\n",
        "cos_sim = util.cos_sim(emb1, emb2)\n",
        "print(\"Cosine-Similarity:\", cos_sim)"
      ]
    },
    {
      "cell_type": "markdown",
      "metadata": {},
      "source": []
    },
    {
      "cell_type": "markdown",
      "metadata": {
        "id": "Ml5sIVHOCY6u"
      },
      "source": [
        "**Compute cosine similarity between all pairs**\n"
      ]
    },
    {
      "cell_type": "code",
      "execution_count": 4,
      "metadata": {
        "colab": {
          "base_uri": "https://localhost:8080/"
        },
        "id": "9lyr6Tjge9UY",
        "outputId": "01b57e4d-0c3d-435e-8b4f-25eda073c88e"
      },
      "outputs": [],
      "source": [
        "# Compute cosine similarity between all pairs\n",
        "\n",
        "sentences = [\n",
        "    \"A man is eating food.\",\n",
        "    \"A man is eating a piece of bread.\",\n",
        "    \"The girl is carrying a baby.\",\n",
        "    \"A man is riding a horse.\",\n",
        "    \"A woman is playing violin.\",\n",
        "    \"Two men pushed carts through the woods.\",\n",
        "    \"A man is riding a white horse on an enclosed ground.\",\n",
        "    \"A monkey is playing drums.\",\n",
        "    \"Someone in a gorilla costume is playing a set of drums.\",\n",
        "]\n",
        "\n",
        "# Encode all sentences\n",
        "embeddings = model.encode(sentences)\n",
        "\n",
        "# Compute cosine similarity between all pairs\n",
        "cos_sim = util.cos_sim(embeddings, embeddings)\n",
        "\n",
        "# cos_sim"
      ]
    },
    {
      "cell_type": "code",
      "execution_count": 5,
      "metadata": {
        "colab": {
          "base_uri": "https://localhost:8080/"
        },
        "id": "06H7O06b91_q",
        "outputId": "ecf163db-0c42-4ebe-9a3f-9f5b6f900272"
      },
      "outputs": [],
      "source": [
        "# Add all pairs to a list with their cosine similarity score\n",
        "all_sentence_combinations = []\n",
        "for i in range(len(cos_sim) - 1):\n",
        "    for j in range(i + 1, len(cos_sim)):\n",
        "        all_sentence_combinations.append((cos_sim[i][j], i, j))\n",
        "# all_sentence_combinations"
      ]
    },
    {
      "cell_type": "code",
      "execution_count": 6,
      "metadata": {
        "colab": {
          "base_uri": "https://localhost:8080/"
        },
        "id": "qhggYpNbfK4J",
        "outputId": "b4d486f0-4435-4513-8b01-f99f59946370"
      },
      "outputs": [
        {
          "name": "stdout",
          "output_type": "stream",
          "text": [
            "Top-5 most similar pairs:\n",
            "A man is eating food. \t A man is eating a piece of bread. \t 0.7553\n",
            "A man is riding a horse. \t A man is riding a white horse on an enclosed ground. \t 0.7369\n",
            "A monkey is playing drums. \t Someone in a gorilla costume is playing a set of drums. \t 0.6433\n",
            "A woman is playing violin. \t Someone in a gorilla costume is playing a set of drums. \t 0.2564\n",
            "A man is eating food. \t A man is riding a horse. \t 0.2474\n"
          ]
        }
      ],
      "source": [
        "# Sort list by the highest cosine similarity score\n",
        "all_sentence_combinations = sorted(\n",
        "    all_sentence_combinations, key=lambda x: x[0], reverse=True\n",
        ")\n",
        "\n",
        "print(\"Top-5 most similar pairs:\")\n",
        "for score, i, j in all_sentence_combinations[0:5]:\n",
        "    print(\"{} \\t {} \\t {:.4f}\".format(sentences[i], sentences[j], cos_sim[i][j]))"
      ]
    },
    {
      "cell_type": "markdown",
      "metadata": {
        "id": "E0-VolFWK-Rq"
      },
      "source": [
        "**Semantic search**\n"
      ]
    },
    {
      "cell_type": "code",
      "execution_count": 7,
      "metadata": {
        "colab": {
          "base_uri": "https://localhost:8080/"
        },
        "id": "wpX-L96mTthR",
        "outputId": "e4ff82e3-aac0-4853-df35-17df034ffcaf"
      },
      "outputs": [
        {
          "name": "stderr",
          "output_type": "stream",
          "text": [
            "c:\\Users\\owner\\Desktop\\RAG\\venv\\Lib\\site-packages\\transformers\\configuration_utils.py:302: UserWarning: Passing `gradient_checkpointing` to a config initialization is deprecated and will be removed in v5 Transformers. Using `model.gradient_checkpointing_enable()` instead, or if you are using the `Trainer` API, pass `gradient_checkpointing=True` in your `TrainingArguments`.\n",
            "  warnings.warn(\n"
          ]
        }
      ],
      "source": [
        "from sentence_transformers import SentenceTransformer, util\n",
        "\n",
        "model = SentenceTransformer(\"clips/mfaq\")"
      ]
    },
    {
      "cell_type": "code",
      "execution_count": 8,
      "metadata": {
        "colab": {
          "base_uri": "https://localhost:8080/"
        },
        "id": "z1gio-Pci9RF",
        "outputId": "5c45c533-ade1-469c-8d16-75248660302a"
      },
      "outputs": [
        {
          "name": "stdout",
          "output_type": "stream",
          "text": [
            "[[{'corpus_id': 0, 'score': 0.5646326541900635}, {'corpus_id': 2, 'score': 0.5142341256141663}, {'corpus_id': 1, 'score': 0.47300395369529724}]]\n"
          ]
        }
      ],
      "source": [
        "question = \"<Q>How many models can I host on HuggingFace?\"\n",
        "answer_1 = \"<A>All plans come with unlimited private models and datasets.\"\n",
        "answer_2 = \"<A>AutoNLP is an automatic way to train and deploy state-of-the-art NLP models, seamlessly integrated with the Hugging Face ecosystem.\"\n",
        "answer_3 = \"<A>Based on how much training data and model variants are created, we send you a compute cost and payment link - as low as $10 per job.\"\n",
        "\n",
        "query_embedding = model.encode(question)\n",
        "corpus_embeddings = model.encode([answer_1, answer_2, answer_3])\n",
        "\n",
        "print(util.semantic_search(query_embedding, corpus_embeddings))"
      ]
    },
    {
      "cell_type": "code",
      "execution_count": 9,
      "metadata": {
        "id": "6FG1WXOudgYq"
      },
      "outputs": [],
      "source": [
        "from transformers import pipeline"
      ]
    },
    {
      "cell_type": "code",
      "execution_count": 10,
      "metadata": {
        "colab": {
          "base_uri": "https://localhost:8080/"
        },
        "id": "1Qa18QF-ddMa",
        "outputId": "440e262a-1672-4f9b-e85b-c98bd1f96344"
      },
      "outputs": [
        {
          "name": "stderr",
          "output_type": "stream",
          "text": [
            "No model was supplied, defaulted to distilbert/distilbert-base-cased-distilled-squad and revision 564e9b5 (https://huggingface.co/distilbert/distilbert-base-cased-distilled-squad).\n",
            "Using a pipeline without specifying a model name and revision in production is not recommended.\n"
          ]
        },
        {
          "data": {
            "text/plain": [
              "{'score': 0.7017181515693665, 'start': 20, 'end': 29, 'answer': 'unlimited'}"
            ]
          },
          "execution_count": 10,
          "metadata": {},
          "output_type": "execute_result"
        }
      ],
      "source": [
        "qa_model = pipeline(\"question-answering\")\n",
        "question = \"How many models can I host on HuggingFace?\"\n",
        "context = \"All plans come with unlimited private models and datasets.\"\n",
        "qa_model(question=question, context=context)"
      ]
    },
    {
      "cell_type": "code",
      "execution_count": 11,
      "metadata": {
        "id": "_J6IY-4oC4hF"
      },
      "outputs": [
        {
          "name": "stdout",
          "output_type": "stream",
          "text": [
            "[[{'corpus_id': 0, 'score': 0.5646326541900635}, {'corpus_id': 2, 'score': 0.5142341256141663}, {'corpus_id': 1, 'score': 0.47300395369529724}]]\n"
          ]
        }
      ],
      "source": [
        "print(util.semantic_search(query_embedding, corpus_embeddings))"
      ]
    },
    {
      "cell_type": "markdown",
      "metadata": {
        "id": "G9tF0hu6K0TD"
      },
      "source": [
        "**Clustering**\n"
      ]
    },
    {
      "cell_type": "code",
      "execution_count": 12,
      "metadata": {
        "id": "BC9xCE63G0UF"
      },
      "outputs": [],
      "source": [
        "from sklearn.cluster import KMeans\n",
        "import numpy as np\n",
        "\n",
        "embedder = SentenceTransformer(\"all-MiniLM-L6-v2\")\n",
        "\n",
        "# Corpus with example sentences\n",
        "corpus = [\n",
        "    \"A man is eating food.\",\n",
        "    \"A man is eating a piece of bread.\",\n",
        "    \"Horse is eating grass.\",\n",
        "    \"A man is eating pasta.\",\n",
        "    \"A Woman is eating Biryani.\",\n",
        "    \"The girl is carrying a baby.\",\n",
        "    \"The baby is carried by the woman\",\n",
        "    \"A man is riding a horse.\",\n",
        "    \"A man is riding a white horse on an enclosed ground.\",\n",
        "    \"A monkey is playing drums.\",\n",
        "    \"Someone in a gorilla costume is playing a set of drums.\",\n",
        "    \"A cheetah is running behind its prey.\",\n",
        "    \"A cheetah chases prey on across a field.\",\n",
        "    \"The cheetah is chasing a man who is riding the horse.\",\n",
        "    \"man and women with their baby are watching cheetah in zoo\",\n",
        "]\n",
        "corpus_embeddings = embedder.encode(corpus)\n",
        "\n",
        "# Normalize the embeddings to unit length\n",
        "corpus_embeddings = corpus_embeddings / np.linalg.norm(\n",
        "    corpus_embeddings, axis=1, keepdims=True\n",
        ")"
      ]
    },
    {
      "cell_type": "code",
      "execution_count": 13,
      "metadata": {
        "id": "ri3xLpcXerJW"
      },
      "outputs": [],
      "source": [
        "# corpus_embeddings[0]"
      ]
    },
    {
      "cell_type": "code",
      "execution_count": 14,
      "metadata": {
        "colab": {
          "base_uri": "https://localhost:8080/"
        },
        "id": "f-pCHO7EkDKj",
        "outputId": "9728213e-3be7-4735-b468-9708aa55dcb0"
      },
      "outputs": [
        {
          "name": "stdout",
          "output_type": "stream",
          "text": [
            "[2 2 1 2 2 0 0 1 1 1 1 1 1 1 3]\n"
          ]
        }
      ],
      "source": [
        "# source: https://stackoverflow.com/questions/55619176/how-to-cluster-similar-sentences-using-bert\n",
        "\n",
        "clustering_model = KMeans(n_clusters=4)\n",
        "clustering_model.fit(corpus_embeddings)\n",
        "cluster_assignment = clustering_model.labels_\n",
        "print(cluster_assignment)"
      ]
    },
    {
      "cell_type": "code",
      "execution_count": 15,
      "metadata": {
        "colab": {
          "base_uri": "https://localhost:8080/"
        },
        "id": "Ih-1L7bJJq0k",
        "outputId": "d0bdf4f9-eae8-40a8-d98b-5458b1d26a36"
      },
      "outputs": [
        {
          "data": {
            "text/plain": [
              "{2: ['A man is eating food.',\n",
              "  'A man is eating a piece of bread.',\n",
              "  'A man is eating pasta.',\n",
              "  'A Woman is eating Biryani.'],\n",
              " 1: ['Horse is eating grass.',\n",
              "  'A man is riding a horse.',\n",
              "  'A man is riding a white horse on an enclosed ground.',\n",
              "  'A monkey is playing drums.',\n",
              "  'Someone in a gorilla costume is playing a set of drums.',\n",
              "  'A cheetah is running behind its prey.',\n",
              "  'A cheetah chases prey on across a field.',\n",
              "  'The cheetah is chasing a man who is riding the horse.'],\n",
              " 0: ['The girl is carrying a baby.', 'The baby is carried by the woman'],\n",
              " 3: ['man and women with their baby are watching cheetah in zoo']}"
            ]
          },
          "execution_count": 15,
          "metadata": {},
          "output_type": "execute_result"
        }
      ],
      "source": [
        "clustered_sentences = {}\n",
        "for sentence_id, cluster_id in enumerate(cluster_assignment):\n",
        "    if cluster_id not in clustered_sentences:\n",
        "        clustered_sentences[cluster_id] = []\n",
        "\n",
        "    clustered_sentences[cluster_id].append(corpus[sentence_id])\n",
        "clustered_sentences"
      ]
    },
    {
      "cell_type": "code",
      "execution_count": 16,
      "metadata": {
        "colab": {
          "base_uri": "https://localhost:8080/"
        },
        "id": "O2eINiS3Sivc",
        "outputId": "90bd9c78-4a64-4ade-a824-225f199c454e"
      },
      "outputs": [
        {
          "data": {
            "text/plain": [
              "{2: ['A man is eating food.',\n",
              "  'A man is eating a piece of bread.',\n",
              "  'A man is eating pasta.',\n",
              "  'A Woman is eating Biryani.'],\n",
              " 1: ['Horse is eating grass.',\n",
              "  'A man is riding a horse.',\n",
              "  'A man is riding a white horse on an enclosed ground.',\n",
              "  'A monkey is playing drums.',\n",
              "  'Someone in a gorilla costume is playing a set of drums.',\n",
              "  'A cheetah is running behind its prey.',\n",
              "  'A cheetah chases prey on across a field.',\n",
              "  'The cheetah is chasing a man who is riding the horse.'],\n",
              " 0: ['The girl is carrying a baby.', 'The baby is carried by the woman'],\n",
              " 3: ['man and women with their baby are watching cheetah in zoo']}"
            ]
          },
          "execution_count": 16,
          "metadata": {},
          "output_type": "execute_result"
        }
      ],
      "source": [
        "clustered_sentences = {}\n",
        "for sentence_id, cluster_id in enumerate(cluster_assignment):\n",
        "    if cluster_id not in clustered_sentences:\n",
        "        clustered_sentences[cluster_id] = []\n",
        "\n",
        "    clustered_sentences[cluster_id].append(corpus[sentence_id])\n",
        "clustered_sentences"
      ]
    },
    {
      "cell_type": "code",
      "execution_count": null,
      "metadata": {
        "id": "O5GW-zqcfsPl"
      },
      "outputs": [],
      "source": []
    }
  ],
  "metadata": {
    "accelerator": "GPU",
    "colab": {
      "collapsed_sections": [],
      "name": "Youtube: Course Sentence Transformers.ipynb",
      "provenance": []
    },
    "gpuClass": "standard",
    "kernelspec": {
      "display_name": "venv",
      "language": "python",
      "name": "python3"
    },
    "language_info": {
      "codemirror_mode": {
        "name": "ipython",
        "version": 3
      },
      "file_extension": ".py",
      "mimetype": "text/x-python",
      "name": "python",
      "nbconvert_exporter": "python",
      "pygments_lexer": "ipython3",
      "version": "3.12.1"
    }
  },
  "nbformat": 4,
  "nbformat_minor": 0
}
