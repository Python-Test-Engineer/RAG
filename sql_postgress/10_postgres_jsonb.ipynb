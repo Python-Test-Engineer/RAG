{
 "cells": [
  {
   "cell_type": "code",
   "execution_count": 1,
   "metadata": {},
   "outputs": [],
   "source": [
    "import os\n",
    "from dotenv import find_dotenv, load_dotenv\n",
    "from openai import OpenAI\n",
    "import openai\n",
    "import psycopg2"
   ]
  },
  {
   "cell_type": "code",
   "execution_count": 2,
   "metadata": {},
   "outputs": [
    {
     "data": {
      "text/plain": [
       "True"
      ]
     },
     "execution_count": 2,
     "metadata": {},
     "output_type": "execute_result"
    }
   ],
   "source": [
    "load_dotenv(find_dotenv())"
   ]
  },
  {
   "cell_type": "code",
   "execution_count": 3,
   "metadata": {},
   "outputs": [
    {
     "name": "stdout",
     "output_type": "stream",
     "text": [
      "sk-proj-ZiP-\n"
     ]
    }
   ],
   "source": [
    "OPENAI_API_KEY = os.getenv(\"OPENAI_API_KEY\")\n",
    "# Set up your OpenAI API key\n",
    "# openai.api_key = OPENAI_API_KEY\n",
    "client = OpenAI()\n",
    "# Choose a model\n",
    "model = \"text-embedding-ada-002\"\n",
    "print(OPENAI_API_KEY[:12])"
   ]
  },
  {
   "cell_type": "code",
   "execution_count": 4,
   "metadata": {},
   "outputs": [
    {
     "name": "stdout",
     "output_type": "stream",
     "text": [
      "Connecting to PostgreSQL...\n",
      "Successfully connected to PostgreSQL.\n"
     ]
    }
   ],
   "source": [
    "print(\"Connecting to PostgreSQL...\")\n",
    "conn = psycopg2.connect(\n",
    "    database=\"postgres\",\n",
    "    user=\"postgres\",\n",
    "    password=\"postgres\",\n",
    "    host=\"localhost\",\n",
    ")\n",
    "\n",
    "cur = conn.cursor()\n",
    "\n",
    "print(\"Successfully connected to PostgreSQL.\")"
   ]
  },
  {
   "cell_type": "code",
   "execution_count": 21,
   "metadata": {},
   "outputs": [
    {
     "name": "stdout",
     "output_type": "stream",
     "text": [
      "SQL: \n",
      "SELECT ('{\"scores\": [1,2,3,4,5]}'::jsonb @@ '$.scores[*] > 2') result;\n",
      "\n",
      "============\n",
      "(True,)\n",
      "============\n"
     ]
    }
   ],
   "source": [
    "# Query the database\n",
    "sql = \"\"\"\n",
    "SELECT\n",
    "    data ->> 'name' AS product_name\n",
    "FROM\n",
    "    products;\n",
    "\"\"\"\n",
    "sql = \"\"\"\n",
    "SELECT\n",
    "  data #>'{attributes}' AS attributes\n",
    "FROM\n",
    "  products;\n",
    "\"\"\"\n",
    "sql = \"\"\"\n",
    "SELECT\n",
    "  data #>'{attributes, color}' AS colors\n",
    "FROM\n",
    "  products;\n",
    "  \"\"\"\n",
    "sql = \"\"\"\n",
    "SELECT\n",
    "  data #>>'{attributes, color}' AS colors\n",
    "FROM\n",
    "  products;\n",
    "\"\"\"\n",
    "sql = \"\"\"\n",
    "SELECT\n",
    "  id,\n",
    "  data ->> 'name' product_name\n",
    "FROM\n",
    "  products\n",
    "WHERE\n",
    "  data @> '{\"category\": \"Electronics\"}';\n",
    "\"\"\"\n",
    "sql = \"\"\"\n",
    "SELECT\n",
    "  data ->> 'name' name,\n",
    "  data ->> 'price' price\n",
    "FROM\n",
    "  products\n",
    "WHERE\n",
    "  '{\"price\": 999.99}' :: jsonb <@ data;\n",
    "\"\"\"\n",
    "sql = \"\"\"\n",
    "SELECT\n",
    "  '{\"name\": \"iPad\"}' :: jsonb ||\n",
    "   '{\"price\": 799}' :: jsonb\n",
    "AS product;\n",
    "\"\"\"\n",
    "sql = \"\"\"\n",
    "SELECT\n",
    "  id,\n",
    "  data ->> 'name' product_name,\n",
    "  data ->> 'price' price\n",
    "FROM\n",
    "  products\n",
    "WHERE\n",
    "  data ? 'price';\n",
    "\"\"\"\n",
    "sql = \"\"\"\n",
    "SELECT\n",
    "  data ->> 'name' product_name,\n",
    "  data ->> 'attributes' attributes\n",
    "FROM\n",
    "  products\n",
    "WHERE\n",
    "  data -> 'attributes' ?| array ['storage', 'size'];\n",
    "\"\"\"\n",
    "sql = \"\"\"\n",
    "SELECT\n",
    "  data ->> 'name' product_name,\n",
    "  data ->> 'attributes' attributes\n",
    "FROM\n",
    "  products\n",
    "WHERE\n",
    "  data -> 'attributes' ?& array ['color', 'storage'];\n",
    "\"\"\"\n",
    "sql = \"\"\"\n",
    "SELECT\n",
    "  '{\"name\": \"John Doe\", \"age\": 22}' :: jsonb - 'name' result;\n",
    "\"\"\"\n",
    "sql = \"\"\"\n",
    "SELECT\n",
    "  '[\"PostgreSQL\", \"API\", \"Web Dev\"]' :: jsonb - 'API' result;\n",
    "\"\"\"\n",
    "sql = \"\"\"\n",
    "SELECT\n",
    "  '{\"name\": \"John Doe\", \"age\": 22, \"email\": \"[[email protected]](../cdn-cgi/l/email-protection.html)\"}' :: jsonb - ARRAY[ 'age',\n",
    "  'email' ] result;\n",
    "\"\"\"\n",
    "sql = \"\"\"\n",
    "SELECT\n",
    "  '[\"PostgreSQL\", \"API\", \"Web Dev\"]' :: jsonb - ARRAY['API','Web Dev'] result;\n",
    "\"\"\"\n",
    "sql = \"\"\"\n",
    "SELECT\n",
    "  data ->> 'name' product_name\n",
    "FROM\n",
    "  products\n",
    "WHERE\n",
    "  data @? '$.price ? (@ > 999)';\n",
    "\"\"\"\n",
    "sql = \"\"\"\n",
    "SELECT ('{\"scores\": [1,2,3,4,5]}'::jsonb @@ '$.scores[*] > 2') result;\n",
    "\"\"\"\n",
    "cur.execute(sql)\n",
    "print(f\"SQL: {sql}\")\n",
    "print(\"============\")\n",
    "rows = cur.fetchall()\n",
    "if not len(rows):\n",
    "    print(\"empty\")\n",
    "for row in rows:\n",
    "    print(row)\n",
    "print(\"============\")"
   ]
  },
  {
   "cell_type": "code",
   "execution_count": 6,
   "metadata": {},
   "outputs": [],
   "source": [
    "# cur.close()\n",
    "# conn.close()"
   ]
  },
  {
   "cell_type": "code",
   "execution_count": null,
   "metadata": {},
   "outputs": [],
   "source": []
  }
 ],
 "metadata": {
  "kernelspec": {
   "display_name": "venv",
   "language": "python",
   "name": "python3"
  },
  "language_info": {
   "codemirror_mode": {
    "name": "ipython",
    "version": 3
   },
   "file_extension": ".py",
   "mimetype": "text/x-python",
   "name": "python",
   "nbconvert_exporter": "python",
   "pygments_lexer": "ipython3",
   "version": "3.12.8"
  }
 },
 "nbformat": 4,
 "nbformat_minor": 2
}
