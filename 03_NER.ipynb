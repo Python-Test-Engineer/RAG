{
 "cells": [
  {
   "cell_type": "code",
   "execution_count": 1,
   "metadata": {},
   "outputs": [],
   "source": [
    "#  https://github.com/medspacy/medspacy\n",
    "# python -m spacy download en_core_web_sm"
   ]
  },
  {
   "cell_type": "code",
   "execution_count": 2,
   "metadata": {},
   "outputs": [],
   "source": [
    "import json\n",
    "import base64\n",
    "import openai\n",
    "from openai import OpenAI\n",
    "from dotenv import find_dotenv, load_dotenv\n",
    "from uuid import uuid4\n",
    "from random import randint\n",
    "from utils.get_openai_api_key import get_test_key\n",
    "from utils.get_postgres_connection import _conn_open\n",
    "from utils.load_json import load_json\n",
    "from rich.console import Console\n",
    "import psycopg2\n",
    "import medspacy\n",
    "from medspacy.ner import TargetRule\n",
    "from medspacy.visualization import visualize_ent"
   ]
  },
  {
   "cell_type": "code",
   "execution_count": 3,
   "metadata": {},
   "outputs": [],
   "source": [
    "import spacy\n",
    "from spacy import displacy\n",
    "\n",
    "NER = spacy.load(\"en_core_web_sm\")"
   ]
  },
  {
   "cell_type": "code",
   "execution_count": null,
   "metadata": {},
   "outputs": [],
   "source": [
    "print(\"Connecting to PostgreSQL...\")\n",
    "conn = psycopg2.connect(\n",
    "    database=\"postgres\",\n",
    "    user=\"postgres\",\n",
    "    password=\"postgres\",\n",
    "    host=\"localhost\",\n",
    ")\n",
    "\n",
    "cur = conn.cursor()\n",
    "\n",
    "print(\"Successfully connected to PostgreSQL.\")"
   ]
  },
  {
   "cell_type": "code",
   "execution_count": null,
   "metadata": {},
   "outputs": [],
   "source": [
    "el_id = \"04d7d459-e712-40bd-80e4-6b5255f2f44a\"\n",
    "sql = \"\"\"\n",
    "SELECT id, element_text \n",
    "FROM tbl_doc_elements\n",
    "WHERE element_type = 'NARRATIVETEXT'\n",
    "LIMIT 1\n",
    ";\"\"\"\n",
    "\n",
    "cur.execute(sql)\n",
    "print(f\"SQL: {sql}\")\n",
    "print(\"============\")\n",
    "rows = cur.fetchall()\n",
    "if not len(rows):\n",
    "    print(\"empty\")\n",
    "for row in rows:\n",
    "    # print(row)\n",
    "    el_id = row[0]\n",
    "    text = row[1]\n",
    "    text1 = NER(text)\n",
    "\n",
    "    for word in text1.ents:\n",
    "        print((word.text, word.label_))\n",
    "        sql = f\"\"\"\n",
    "        INSERT INTO public.tbl_ner(\n",
    "            element_id, word_text, word_label)\n",
    "            VALUES ('{el_id}', '{word.text}', '{word.label_}');\n",
    "        ;\"\"\"\n",
    "        print(sql)\n",
    "        cur.execute(sql)\n",
    "        conn.commit()\n",
    "        print(\"============\")"
   ]
  },
  {
   "cell_type": "code",
   "execution_count": null,
   "metadata": {},
   "outputs": [],
   "source": [
    "# text1 = NER(text)\n",
    "# print(type(text1))\n",
    "# for word in text1.ents:\n",
    "#     print((word.text, word.label_))\n",
    "#     sql = f\"\"\"\n",
    "#     INSERT INTO public.tbl_ner(\n",
    "#         element_id, word_text, word_label)\n",
    "#         VALUES ('{el_id}', '{word.text}', '{word.label_}');\n",
    "#     ;\"\"\"\n",
    "#     print(sql)\n",
    "#     cur.execute(sql)\n",
    "#     conn.commit()"
   ]
  },
  {
   "cell_type": "code",
   "execution_count": 8,
   "metadata": {},
   "outputs": [
    {
     "name": "stdout",
     "output_type": "stream",
     "text": [
      "('LUCI', 'ORG')\n",
      "('first', 'ORDINAL')\n",
      "('AI', 'GPE')\n",
      "('Luci', 'PERSON')\n",
      "('first', 'ORDINAL')\n",
      "('AI', 'GPE')\n",
      "('LUCI', 'ORG')\n",
      "('one', 'CARDINAL')\n",
      "('LUCI', 'ORG')\n",
      "('RxNorms', 'PRODUCT')\n"
     ]
    }
   ],
   "source": [
    "# for word in text1.ents:\n",
    "#     print((word.text, word.label_))"
   ]
  },
  {
   "cell_type": "code",
   "execution_count": 7,
   "metadata": {},
   "outputs": [],
   "source": [
    "cur.close()\n",
    "conn.close()"
   ]
  }
 ],
 "metadata": {
  "kernelspec": {
   "display_name": "venv",
   "language": "python",
   "name": "python3"
  },
  "language_info": {
   "codemirror_mode": {
    "name": "ipython",
    "version": 3
   },
   "file_extension": ".py",
   "mimetype": "text/x-python",
   "name": "python",
   "nbconvert_exporter": "python",
   "pygments_lexer": "ipython3",
   "version": "3.12.8"
  }
 },
 "nbformat": 4,
 "nbformat_minor": 2
}
