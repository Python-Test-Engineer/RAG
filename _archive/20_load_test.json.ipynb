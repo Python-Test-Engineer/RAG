{
 "cells": [
  {
   "cell_type": "code",
   "execution_count": 1,
   "metadata": {},
   "outputs": [],
   "source": [
    "import json\n",
    "from pprint import pprint"
   ]
  },
  {
   "cell_type": "code",
   "execution_count": 2,
   "metadata": {},
   "outputs": [],
   "source": [
    "with open(\"test.json\") as file:\n",
    "    json_data = json.load(file)"
   ]
  },
  {
   "cell_type": "code",
   "execution_count": 3,
   "metadata": {},
   "outputs": [
    {
     "name": "stdout",
     "output_type": "stream",
     "text": [
      "333\n"
     ]
    }
   ],
   "source": [
    "print(len(json_data))"
   ]
  },
  {
   "cell_type": "code",
   "execution_count": null,
   "metadata": {},
   "outputs": [
    {
     "name": "stdout",
     "output_type": "stream",
     "text": [
      "4\n",
      "{'element_id': '835f90ace46841639cd6f6f1b50ce9fe',\n",
      " 'metadata': {'data_source': {'date_created': '1729366700.1873145',\n",
      "                              'date_modified': '1729366700.979733',\n",
      "                              'date_processed': '1729366835.889055',\n",
      "                              'filesize_bytes': 2867773,\n",
      "                              'permissions_data': [{'mode': 33206}],\n",
      "                              'record_locator': {'path': 'C:\\\\Users\\\\mrcra\\\\Desktop\\\\RAG\\\\pdf_input\\\\TMCB_43_2256640.pdf'},\n",
      "                              'url': None,\n",
      "                              'version': None},\n",
      "              'filename': 'TMCB_43_2256640.pdf',\n",
      "              'filetype': 'application/pdf',\n",
      "              'languages': ['eng'],\n",
      "              'page_number': 1},\n",
      " 'text': 'Taylor & Francis Taylor &Francis Group',\n",
      " 'type': 'Image'}\n"
     ]
    }
   ],
   "source": [
    "for i in range(len(json_data)):\n",
    "    if json_data[i][\"type\"] == \"Text\":\n",
    "        print(i)\n",
    "        pprint(json_data[i])\n",
    "        break"
   ]
  },
  {
   "cell_type": "code",
   "execution_count": null,
   "metadata": {},
   "outputs": [],
   "source": []
  },
  {
   "cell_type": "code",
   "execution_count": null,
   "metadata": {},
   "outputs": [],
   "source": [
    "for i in range(len(json_data)):\n",
    "    print(json_data[i])\n",
    "    print(\"\\n\")\n",
    "    print(\"\\n\")"
   ]
  }
 ],
 "metadata": {
  "kernelspec": {
   "display_name": "Python 3",
   "language": "python",
   "name": "python3"
  },
  "language_info": {
   "codemirror_mode": {
    "name": "ipython",
    "version": 3
   },
   "file_extension": ".py",
   "mimetype": "text/x-python",
   "name": "python",
   "nbconvert_exporter": "python",
   "pygments_lexer": "ipython3",
   "version": "3.12.8"
  }
 },
 "nbformat": 4,
 "nbformat_minor": 2
}
