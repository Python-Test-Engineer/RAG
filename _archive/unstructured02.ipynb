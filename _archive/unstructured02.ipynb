{
 "cells": [
  {
   "cell_type": "code",
   "execution_count": 4,
   "metadata": {},
   "outputs": [],
   "source": [
    "# Before calling the API, replace filename and ensure sdk is installed: \"pip install unstructured-client\"\n",
    "# See https://docs.unstructured.io/api-reference/api-services/sdk for more details\n",
    "\n",
    "import unstructured_client\n",
    "from unstructured_client.models import operations, shared\n",
    "from dotenv import find_dotenv, load_dotenv\n",
    "import os\n",
    "import json\n",
    "import random"
   ]
  },
  {
   "cell_type": "code",
   "execution_count": 5,
   "metadata": {},
   "outputs": [
    {
     "name": "stdout",
     "output_type": "stream",
     "text": [
      "nuDqTMyIJXPsRI132jznTUNZ4Yem2a https://api.unstructuredapp.io/general/v0/general\n",
      "pdf_input_files pdf_json_output\n"
     ]
    }
   ],
   "source": [
    "load_dotenv(find_dotenv())\n",
    "UNSTRUCTURED_API_KEY = os.getenv(\"UNSTRUCTURED_API_KEY\")\n",
    "UNSTRUCTURED_API_URL = os.getenv(\"UNSTRUCTURED_API_URL\")\n",
    "LOCAL_FILE_INPUT_DIR = os.getenv(\"LOCAL_FILE_INPUT_DIR\")\n",
    "LOCAL_FILE_OUTPUT_DIR = os.getenv(\"LOCAL_FILE_OUTPUT_DIR\")\n",
    "\n",
    "\n",
    "print(UNSTRUCTURED_API_KEY, UNSTRUCTURED_API_URL)\n",
    "print(LOCAL_FILE_INPUT_DIR, LOCAL_FILE_OUTPUT_DIR)"
   ]
  },
  {
   "cell_type": "code",
   "execution_count": 10,
   "metadata": {},
   "outputs": [
    {
     "ename": "FileNotFoundError",
     "evalue": "[Errno 2] No such file or directory: 'test.pdf'",
     "output_type": "error",
     "traceback": [
      "\u001b[1;31m---------------------------------------------------------------------------\u001b[0m",
      "\u001b[1;31mFileNotFoundError\u001b[0m                         Traceback (most recent call last)",
      "Cell \u001b[1;32mIn[10], line 7\u001b[0m\n\u001b[0;32m      1\u001b[0m client \u001b[38;5;241m=\u001b[39m unstructured_client\u001b[38;5;241m.\u001b[39mUnstructuredClient(\n\u001b[0;32m      2\u001b[0m     api_key_auth\u001b[38;5;241m=\u001b[39mUNSTRUCTURED_API_KEY,\n\u001b[0;32m      3\u001b[0m     server_url\u001b[38;5;241m=\u001b[39mUNSTRUCTURED_API_URL,\n\u001b[0;32m      4\u001b[0m )\n\u001b[0;32m      6\u001b[0m filename \u001b[38;5;241m=\u001b[39m \u001b[38;5;124m\"\u001b[39m\u001b[38;5;124mtest.pdf\u001b[39m\u001b[38;5;124m\"\u001b[39m\n\u001b[1;32m----> 7\u001b[0m \u001b[38;5;28;01mwith\u001b[39;00m \u001b[38;5;28;43mopen\u001b[39;49m\u001b[43m(\u001b[49m\u001b[43mfilename\u001b[49m\u001b[43m,\u001b[49m\u001b[43m \u001b[49m\u001b[38;5;124;43m\"\u001b[39;49m\u001b[38;5;124;43mr\u001b[39;49m\u001b[38;5;124;43m\"\u001b[39;49m\u001b[43m)\u001b[49m \u001b[38;5;28;01mas\u001b[39;00m f:\n\u001b[0;32m      8\u001b[0m     data \u001b[38;5;241m=\u001b[39m f\u001b[38;5;241m.\u001b[39mread()\n\u001b[0;32m     10\u001b[0m req \u001b[38;5;241m=\u001b[39m operations\u001b[38;5;241m.\u001b[39mPartitionRequest(\n\u001b[0;32m     11\u001b[0m     partition_parameters\u001b[38;5;241m=\u001b[39mshared\u001b[38;5;241m.\u001b[39mPartitionParameters(\n\u001b[0;32m     12\u001b[0m         files\u001b[38;5;241m=\u001b[39mshared\u001b[38;5;241m.\u001b[39mFiles(\n\u001b[1;32m   (...)\u001b[0m\n\u001b[0;32m     29\u001b[0m     ),\n\u001b[0;32m     30\u001b[0m )\n",
      "File \u001b[1;32mc:\\Users\\owner\\Desktop\\RAG\\venv\\Lib\\site-packages\\IPython\\core\\interactiveshell.py:324\u001b[0m, in \u001b[0;36m_modified_open\u001b[1;34m(file, *args, **kwargs)\u001b[0m\n\u001b[0;32m    317\u001b[0m \u001b[38;5;28;01mif\u001b[39;00m file \u001b[38;5;129;01min\u001b[39;00m {\u001b[38;5;241m0\u001b[39m, \u001b[38;5;241m1\u001b[39m, \u001b[38;5;241m2\u001b[39m}:\n\u001b[0;32m    318\u001b[0m     \u001b[38;5;28;01mraise\u001b[39;00m \u001b[38;5;167;01mValueError\u001b[39;00m(\n\u001b[0;32m    319\u001b[0m         \u001b[38;5;124mf\u001b[39m\u001b[38;5;124m\"\u001b[39m\u001b[38;5;124mIPython won\u001b[39m\u001b[38;5;124m'\u001b[39m\u001b[38;5;124mt let you open fd=\u001b[39m\u001b[38;5;132;01m{\u001b[39;00mfile\u001b[38;5;132;01m}\u001b[39;00m\u001b[38;5;124m by default \u001b[39m\u001b[38;5;124m\"\u001b[39m\n\u001b[0;32m    320\u001b[0m         \u001b[38;5;124m\"\u001b[39m\u001b[38;5;124mas it is likely to crash IPython. If you know what you are doing, \u001b[39m\u001b[38;5;124m\"\u001b[39m\n\u001b[0;32m    321\u001b[0m         \u001b[38;5;124m\"\u001b[39m\u001b[38;5;124myou can use builtins\u001b[39m\u001b[38;5;124m'\u001b[39m\u001b[38;5;124m open.\u001b[39m\u001b[38;5;124m\"\u001b[39m\n\u001b[0;32m    322\u001b[0m     )\n\u001b[1;32m--> 324\u001b[0m \u001b[38;5;28;01mreturn\u001b[39;00m \u001b[43mio_open\u001b[49m\u001b[43m(\u001b[49m\u001b[43mfile\u001b[49m\u001b[43m,\u001b[49m\u001b[43m \u001b[49m\u001b[38;5;241;43m*\u001b[39;49m\u001b[43margs\u001b[49m\u001b[43m,\u001b[49m\u001b[43m \u001b[49m\u001b[38;5;241;43m*\u001b[39;49m\u001b[38;5;241;43m*\u001b[39;49m\u001b[43mkwargs\u001b[49m\u001b[43m)\u001b[49m\n",
      "\u001b[1;31mFileNotFoundError\u001b[0m: [Errno 2] No such file or directory: 'test.pdf'"
     ]
    }
   ],
   "source": [
    "client = unstructured_client.UnstructuredClient(\n",
    "    api_key_auth=UNSTRUCTURED_API_KEY,\n",
    "    server_url=UNSTRUCTURED_API_URL,\n",
    ")\n",
    "\n",
    "filename = \"test.pdf\"\n",
    "with open(filename, \"r\") as f:\n",
    "    data = f.read()\n",
    "\n",
    "req = operations.PartitionRequest(\n",
    "    partition_parameters=shared.PartitionParameters(\n",
    "        files=shared.Files(\n",
    "            content=data,\n",
    "            file_name=filename,\n",
    "            strategy=\"hi_res\",\n",
    "            extract_images_in_pdf=True,\n",
    "            infer_table_structure=True,\n",
    "        ),\n",
    "        # --- Other partition parameters ---\n",
    "        # Note: Defining 'strategy', 'chunking_strategy', and 'output_format'\n",
    "        # parameters as strings is accepted, but will not pass strict type checking. It is\n",
    "        # advised to use the defined enum classes as shown below.\n",
    "        strategy=shared.Strategy.HI_RES,\n",
    "        languages=[\"eng\"],\n",
    "        infer_table_structure=True,\n",
    "        extract_element_types=[\"Table\"],\n",
    "        extract_image_block_types=[\"Image\", \"Table\"],\n",
    "        extract_images_in_pdf=True,\n",
    "    ),\n",
    ")"
   ]
  },
  {
   "cell_type": "code",
   "execution_count": null,
   "metadata": {},
   "outputs": [],
   "source": [
    "output = []\n",
    "\n",
    "try:\n",
    "    res = client.general.partition(request=req)\n",
    "    for element in res.elements:\n",
    "        # print(element)\n",
    "\n",
    "        output.append(element)\n",
    "\n",
    "    # print(output)\n",
    "except Exception as e:\n",
    "    print(e)"
   ]
  },
  {
   "cell_type": "code",
   "execution_count": null,
   "metadata": {},
   "outputs": [],
   "source": [
    "# output = output.encode(\"utf8\").decode(\"ascii\", \"ignore\")\n",
    "file = f\"unstructured_{random.randint(1000,9999)}.json\"\n",
    "with open(file, \"w\") as json_file:\n",
    "    # Write the array of dictionaries to the JSON file\n",
    "    json.dump(output, json_file)"
   ]
  }
 ],
 "metadata": {
  "kernelspec": {
   "display_name": "venv",
   "language": "python",
   "name": "python3"
  },
  "language_info": {
   "codemirror_mode": {
    "name": "ipython",
    "version": 3
   },
   "file_extension": ".py",
   "mimetype": "text/x-python",
   "name": "python",
   "nbconvert_exporter": "python",
   "pygments_lexer": "ipython3",
   "version": "3.12.1"
  }
 },
 "nbformat": 4,
 "nbformat_minor": 2
}
