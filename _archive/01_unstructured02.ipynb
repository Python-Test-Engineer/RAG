{
 "cells": [
  {
   "cell_type": "code",
   "execution_count": 1,
   "metadata": {},
   "outputs": [],
   "source": [
    "# Before calling the API, replace filename and ensure sdk is installed: \"pip install unstructured-client\"\n",
    "# See https://docs.unstructured.io/api-reference/api-services/sdk for more details\n",
    "\n",
    "import unstructured_client\n",
    "from unstructured_client.models import operations, shared\n",
    "from dotenv import find_dotenv, load_dotenv\n",
    "import os\n",
    "import json\n",
    "import random\n",
    "import chardet"
   ]
  },
  {
   "cell_type": "code",
   "execution_count": 2,
   "metadata": {},
   "outputs": [
    {
     "name": "stdout",
     "output_type": "stream",
     "text": [
      "nuDqTMyIJXPsRI132jznTUNZ4Yem2a https://api.unstructuredapp.io/general/v0/general\n",
      "pdf_input_files pdf_json_output\n"
     ]
    }
   ],
   "source": [
    "load_dotenv(find_dotenv())\n",
    "UNSTRUCTURED_API_KEY = os.getenv(\"UNSTRUCTURED_API_KEY\")\n",
    "UNSTRUCTURED_API_URL = os.getenv(\"UNSTRUCTURED_API_URL\")\n",
    "LOCAL_FILE_INPUT_DIR = os.getenv(\"LOCAL_FILE_INPUT_DIR\")\n",
    "LOCAL_FILE_OUTPUT_DIR = os.getenv(\"LOCAL_FILE_OUTPUT_DIR\")\n",
    "\n",
    "\n",
    "print(UNSTRUCTURED_API_KEY, UNSTRUCTURED_API_URL)\n",
    "print(LOCAL_FILE_INPUT_DIR, LOCAL_FILE_OUTPUT_DIR)"
   ]
  },
  {
   "cell_type": "code",
   "execution_count": 9,
   "metadata": {},
   "outputs": [
    {
     "ename": "UnicodeDecodeError",
     "evalue": "'utf-8' codec can't decode byte 0xa2 in position 50: invalid start byte",
     "output_type": "error",
     "traceback": [
      "\u001b[1;31m---------------------------------------------------------------------------\u001b[0m",
      "\u001b[1;31mUnicodeDecodeError\u001b[0m                        Traceback (most recent call last)",
      "Cell \u001b[1;32mIn[9], line 16\u001b[0m\n\u001b[0;32m      7\u001b[0m \u001b[38;5;66;03m# with open(filename, \"rb\") as file:\u001b[39;00m\n\u001b[0;32m      8\u001b[0m \u001b[38;5;66;03m#     raw_data = file.read()\u001b[39;00m\n\u001b[0;32m      9\u001b[0m \u001b[38;5;66;03m#     detector = chardet.UniversalDetector()\u001b[39;00m\n\u001b[1;32m   (...)\u001b[0m\n\u001b[0;32m     13\u001b[0m \u001b[38;5;66;03m# encoding = detector.result[\"encoding\"]\u001b[39;00m\n\u001b[0;32m     14\u001b[0m \u001b[38;5;66;03m# , errors=\"ignore\"\u001b[39;00m\n\u001b[0;32m     15\u001b[0m \u001b[38;5;28;01mwith\u001b[39;00m \u001b[38;5;28mopen\u001b[39m(filename, \u001b[38;5;124m\"\u001b[39m\u001b[38;5;124mr\u001b[39m\u001b[38;5;124m\"\u001b[39m, encoding\u001b[38;5;241m=\u001b[39m\u001b[38;5;124m\"\u001b[39m\u001b[38;5;124mutf-8\u001b[39m\u001b[38;5;124m\"\u001b[39m) \u001b[38;5;28;01mas\u001b[39;00m file:\n\u001b[1;32m---> 16\u001b[0m     data \u001b[38;5;241m=\u001b[39m \u001b[43mfile\u001b[49m\u001b[38;5;241;43m.\u001b[39;49m\u001b[43mread\u001b[49m\u001b[43m(\u001b[49m\u001b[43m)\u001b[49m\u001b[38;5;241m.\u001b[39mencode(\u001b[38;5;124m\"\u001b[39m\u001b[38;5;124mlatin1\u001b[39m\u001b[38;5;124m\"\u001b[39m)\u001b[38;5;241m.\u001b[39mdecode()\n\u001b[0;32m     19\u001b[0m req \u001b[38;5;241m=\u001b[39m operations\u001b[38;5;241m.\u001b[39mPartitionRequest(\n\u001b[0;32m     20\u001b[0m     partition_parameters\u001b[38;5;241m=\u001b[39mshared\u001b[38;5;241m.\u001b[39mPartitionParameters(\n\u001b[0;32m     21\u001b[0m         files\u001b[38;5;241m=\u001b[39mshared\u001b[38;5;241m.\u001b[39mFiles(\n\u001b[1;32m   (...)\u001b[0m\n\u001b[0;32m     38\u001b[0m     ),\n\u001b[0;32m     39\u001b[0m )\n",
      "File \u001b[1;32m<frozen codecs>:322\u001b[0m, in \u001b[0;36mdecode\u001b[1;34m(self, input, final)\u001b[0m\n",
      "\u001b[1;31mUnicodeDecodeError\u001b[0m: 'utf-8' codec can't decode byte 0xa2 in position 50: invalid start byte"
     ]
    }
   ],
   "source": [
    "client = unstructured_client.UnstructuredClient(\n",
    "    api_key_auth=UNSTRUCTURED_API_KEY,\n",
    "    server_url=UNSTRUCTURED_API_URL,\n",
    ")\n",
    "\n",
    "filename = \"test.pptx\"\n",
    "# with open(filename, \"rb\") as file:\n",
    "#     raw_data = file.read()\n",
    "#     detector = chardet.UniversalDetector()\n",
    "#     detector.feed(raw_data)\n",
    "#     detector.close()\n",
    "\n",
    "# encoding = detector.result[\"encoding\"]\n",
    "# , errors=\"ignore\"\n",
    "with open(filename, \"r\", encoding=\"utf-8\") as file:\n",
    "    data = file.read()\n",
    "\n",
    "\n",
    "req = operations.PartitionRequest(\n",
    "    partition_parameters=shared.PartitionParameters(\n",
    "        files=shared.Files(\n",
    "            content=data,\n",
    "            file_name=filename,\n",
    "            strategy=\"hi_res\",\n",
    "            extract_images_in_pdf=True,\n",
    "            infer_table_structure=True,\n",
    "        ),\n",
    "        # --- Other partition parameters ---\n",
    "        # Note: Defining 'strategy', 'chunking_strategy', and 'output_format'\n",
    "        # parameters as strings is accepted, but will not pass strict type checking. It is\n",
    "        # advised to use the defined enum classes as shown below.\n",
    "        strategy=shared.Strategy.HI_RES,\n",
    "        languages=[\"eng\"],\n",
    "        infer_table_structure=True,\n",
    "        extract_element_types=[\"Table\"],\n",
    "        extract_image_block_types=[\"Image\", \"Table\"],\n",
    "        extract_images_in_pdf=True,\n",
    "    ),\n",
    ")"
   ]
  },
  {
   "cell_type": "code",
   "execution_count": 6,
   "metadata": {},
   "outputs": [
    {
     "name": "stderr",
     "output_type": "stream",
     "text": [
      "INFO: HTTP Request: POST https://api.unstructuredapp.io/general/v0/general \"HTTP/1.1 500 Internal Server Error\"\n",
      "INFO: Failed to process a request due to API server error with status code 500. Attempting retry number 1 after sleep.\n",
      "INFO: Server message - {\"detail\":\"expected str, bytes or os.PathLike object, not int\"}\n",
      "ERROR: Failed to partition the document.\n",
      "ERROR: Server responded with 500 - {\"detail\":\"expected str, bytes or os.PathLike object, not int\"}\n"
     ]
    },
    {
     "name": "stdout",
     "output_type": "stream",
     "text": [
      "{\"detail\":\"expected str, bytes or os.PathLike object, not int\"}\n"
     ]
    }
   ],
   "source": [
    "output = []\n",
    "\n",
    "try:\n",
    "    res = client.general.partition(request=req)\n",
    "    for element in res.elements:\n",
    "        # print(element)\n",
    "\n",
    "        output.append(element)\n",
    "\n",
    "    # print(output)\n",
    "except Exception as e:\n",
    "    print(e)"
   ]
  },
  {
   "cell_type": "code",
   "execution_count": null,
   "metadata": {},
   "outputs": [],
   "source": [
    "output = str(output)\n",
    "output = output.encode(\"utf8\").decode(\"ascii\", \"ignore\")\n",
    "\n",
    "\n",
    "file = f\"03_unstructured_{random.randint(1000,9999)}.json\"\n",
    "\n",
    "\n",
    "with open(file, \"w\") as json_file:\n",
    "\n",
    "    # Write the array of dictionaries to the JSON file\n",
    "\n",
    "    json.dump(output, json_file)"
   ]
  }
 ],
 "metadata": {
  "kernelspec": {
   "display_name": "venv",
   "language": "python",
   "name": "python3"
  },
  "language_info": {
   "codemirror_mode": {
    "name": "ipython",
    "version": 3
   },
   "file_extension": ".py",
   "mimetype": "text/x-python",
   "name": "python",
   "nbconvert_exporter": "python",
   "pygments_lexer": "ipython3",
   "version": "3.12.1"
  }
 },
 "nbformat": 4,
 "nbformat_minor": 2
}
