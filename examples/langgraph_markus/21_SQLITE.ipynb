{
 "cells": [
  {
   "cell_type": "markdown",
   "id": "81bae94f",
   "metadata": {},
   "source": [
    "# SQLite DB: Storing and Retrieving Vectors"
   ]
  },
  {
   "cell_type": "code",
   "execution_count": 1,
   "id": "5125aaeb",
   "metadata": {},
   "outputs": [],
   "source": [
    "# !pip install sqlite3\n",
    "\n",
    "import sqlite3\n",
    "import numpy as np"
   ]
  },
  {
   "cell_type": "code",
   "execution_count": 2,
   "id": "37381cf3",
   "metadata": {},
   "outputs": [],
   "source": [
    "# create a connection to the SQLite DB\n",
    "conn = sqlite3.connect(\"vector-db.db\")\n",
    "# Create a cursor object to execute SQL Commands\n",
    "cursor = conn.cursor()"
   ]
  },
  {
   "cell_type": "code",
   "execution_count": 34,
   "id": "607f7f93",
   "metadata": {},
   "outputs": [
    {
     "data": {
      "text/plain": [
       "<sqlite3.Cursor at 0x1e7fac79140>"
      ]
     },
     "execution_count": 34,
     "metadata": {},
     "output_type": "execute_result"
    }
   ],
   "source": [
    "# Create a table for vector data\n",
    "cursor.execute(\n",
    "    \"\"\"\n",
    "CREATE TABLE IF NOT EXISTS vectors (\n",
    "    id INTEGER PRIMARY KEY,\n",
    "    vector BLOB NOT NULL\n",
    ")\n",
    "\"\"\"\n",
    ")"
   ]
  },
  {
   "cell_type": "code",
   "execution_count": 35,
   "id": "4ee35576",
   "metadata": {},
   "outputs": [],
   "source": [
    "# generate some sample vectors\n",
    "vect1 = np.array([21.2, 3.4, 2.1, 0.8])\n",
    "vect2 = np.array([2.7, 1.5, 3.9, 2.3])\n",
    "vect3 = np.array([21.7, 1.5, 32.9, 2.3])\n",
    "vect4 = np.array([43.7, 1.5, 3.9, 2.3])\n",
    "vect5 = np.array([12.7, 1.5, 4.9, 2.3])\n",
    "vect6 = np.array([12.7, 6.5, 3.9, 2.3])"
   ]
  },
  {
   "cell_type": "code",
   "execution_count": 36,
   "id": "87ca7c70",
   "metadata": {},
   "outputs": [
    {
     "data": {
      "text/plain": [
       "b'3333335@333333\\x0b@\\xcd\\xcc\\xcc\\xcc\\xcc\\xcc\\x00@\\x9a\\x99\\x99\\x99\\x99\\x99\\xe9?'"
      ]
     },
     "execution_count": 36,
     "metadata": {},
     "output_type": "execute_result"
    }
   ],
   "source": [
    "vect1.tobytes()  # numpy array to bytestream"
   ]
  },
  {
   "cell_type": "code",
   "execution_count": 37,
   "id": "ce8931f3",
   "metadata": {},
   "outputs": [
    {
     "ename": "OperationalError",
     "evalue": "database is locked",
     "output_type": "error",
     "traceback": [
      "\u001b[1;31m---------------------------------------------------------------------------\u001b[0m",
      "\u001b[1;31mOperationalError\u001b[0m                          Traceback (most recent call last)",
      "Cell \u001b[1;32mIn[37], line 2\u001b[0m\n\u001b[0;32m      1\u001b[0m \u001b[38;5;66;03m# Insert vector data into table\u001b[39;00m\n\u001b[1;32m----> 2\u001b[0m \u001b[43mcursor\u001b[49m\u001b[38;5;241;43m.\u001b[39;49m\u001b[43mexecute\u001b[49m\u001b[43m(\u001b[49m\n\u001b[0;32m      3\u001b[0m \u001b[43m    \u001b[49m\u001b[38;5;124;43m\"\u001b[39;49m\u001b[38;5;124;43mINSERT INTO vectors (vector) VALUES (?)\u001b[39;49m\u001b[38;5;124;43m\"\u001b[39;49m\u001b[43m,\u001b[49m\u001b[43m \u001b[49m\u001b[43m(\u001b[49m\u001b[43msqlite3\u001b[49m\u001b[38;5;241;43m.\u001b[39;49m\u001b[43mBinary\u001b[49m\u001b[43m(\u001b[49m\u001b[43mvect1\u001b[49m\u001b[38;5;241;43m.\u001b[39;49m\u001b[43mtobytes\u001b[49m\u001b[43m(\u001b[49m\u001b[43m)\u001b[49m\u001b[43m)\u001b[49m\u001b[43m,\u001b[49m\u001b[43m)\u001b[49m\n\u001b[0;32m      4\u001b[0m \u001b[43m)\u001b[49m\n",
      "\u001b[1;31mOperationalError\u001b[0m: database is locked"
     ]
    }
   ],
   "source": [
    "# Insert vector data into table\n",
    "cursor.execute(\n",
    "    \"INSERT INTO vectors (vector) VALUES (?)\", (sqlite3.Binary(vect1.tobytes()),)\n",
    ")"
   ]
  },
  {
   "cell_type": "code",
   "execution_count": 8,
   "id": "c402dc58",
   "metadata": {},
   "outputs": [
    {
     "data": {
      "text/plain": [
       "<sqlite3.Cursor at 0x1e7f9f615c0>"
      ]
     },
     "execution_count": 8,
     "metadata": {},
     "output_type": "execute_result"
    }
   ],
   "source": [
    "cursor.execute(\n",
    "    \"INSERT INTO vectors (vector) VALUES (?)\", (sqlite3.Binary(vect2.tobytes()),)\n",
    ")"
   ]
  },
  {
   "cell_type": "code",
   "execution_count": 9,
   "id": "fec3b0de",
   "metadata": {},
   "outputs": [
    {
     "data": {
      "text/plain": [
       "<sqlite3.Cursor at 0x1e7f9f615c0>"
      ]
     },
     "execution_count": 9,
     "metadata": {},
     "output_type": "execute_result"
    }
   ],
   "source": [
    "# Retreive data\n",
    "\n",
    "cursor.execute(\"SELECT vector FROM vectors\")"
   ]
  },
  {
   "cell_type": "code",
   "execution_count": 10,
   "id": "89105ae4",
   "metadata": {},
   "outputs": [],
   "source": [
    "rows = cursor.fetchall()"
   ]
  },
  {
   "cell_type": "code",
   "execution_count": 11,
   "id": "c3170e8f",
   "metadata": {},
   "outputs": [
    {
     "data": {
      "text/plain": [
       "[(b'333333\\xf3?333333\\x0b@\\xcd\\xcc\\xcc\\xcc\\xcc\\xcc\\x00@\\x9a\\x99\\x99\\x99\\x99\\x99\\xe9?',),\n",
       " (b'333333\\xf3?333333\\x0b@\\xcd\\xcc\\xcc\\xcc\\xcc\\xcc\\x00@\\x9a\\x99\\x99\\x99\\x99\\x99\\xe9?',),\n",
       " (b'\\x9a\\x99\\x99\\x99\\x99\\x99\\x05@\\x00\\x00\\x00\\x00\\x00\\x00\\xf8?333333\\x0f@ffffff\\x02@',)]"
      ]
     },
     "execution_count": 11,
     "metadata": {},
     "output_type": "execute_result"
    }
   ],
   "source": [
    "rows"
   ]
  },
  {
   "cell_type": "code",
   "execution_count": 12,
   "id": "97908d99",
   "metadata": {},
   "outputs": [],
   "source": [
    "vector = np.frombuffer(rows[0][0], dtype=np.float64)"
   ]
  },
  {
   "cell_type": "code",
   "execution_count": 13,
   "id": "2edb54a1",
   "metadata": {},
   "outputs": [
    {
     "data": {
      "text/plain": [
       "array([1.2, 3.4, 2.1, 0.8])"
      ]
     },
     "execution_count": 13,
     "metadata": {},
     "output_type": "execute_result"
    }
   ],
   "source": [
    "vector"
   ]
  },
  {
   "cell_type": "code",
   "execution_count": 14,
   "id": "fd11daea",
   "metadata": {},
   "outputs": [],
   "source": [
    "vectors = []\n",
    "for row in rows:\n",
    "    vector = np.frombuffer(row[0], dtype=np.float64)\n",
    "    vectors.append(vector)"
   ]
  },
  {
   "cell_type": "code",
   "execution_count": 15,
   "id": "18258b9c",
   "metadata": {},
   "outputs": [
    {
     "data": {
      "text/plain": [
       "[array([1.2, 3.4, 2.1, 0.8]),\n",
       " array([1.2, 3.4, 2.1, 0.8]),\n",
       " array([2.7, 1.5, 3.9, 2.3])]"
      ]
     },
     "execution_count": 15,
     "metadata": {},
     "output_type": "execute_result"
    }
   ],
   "source": [
    "vectors"
   ]
  },
  {
   "cell_type": "markdown",
   "id": "7b94fe00",
   "metadata": {},
   "source": [
    "# Vector Similarity Search (VSS)"
   ]
  },
  {
   "cell_type": "code",
   "execution_count": 20,
   "id": "c1af65a1",
   "metadata": {},
   "outputs": [],
   "source": [
    "query_vect = np.array([14.0, 3.2, 2.0, 0.5])"
   ]
  },
  {
   "cell_type": "code",
   "execution_count": 21,
   "id": "303a064d",
   "metadata": {},
   "outputs": [
    {
     "data": {
      "text/plain": [
       "<sqlite3.Cursor at 0x1e7f9f615c0>"
      ]
     },
     "execution_count": 21,
     "metadata": {},
     "output_type": "execute_result"
    }
   ],
   "source": [
    "cursor.execute(\n",
    "    \"\"\"\n",
    "\n",
    "SELECT vector FROM vectors ORDER BY abs(vector - ?) ASC\n",
    "\n",
    "\"\"\",\n",
    "    (sqlite3.Binary(query_vect.tobytes()),),\n",
    ")"
   ]
  },
  {
   "cell_type": "code",
   "execution_count": 22,
   "id": "cc0a82db",
   "metadata": {},
   "outputs": [],
   "source": [
    "res = cursor.fetchone()  # finding the top one"
   ]
  },
  {
   "cell_type": "code",
   "execution_count": 23,
   "id": "f0e3f843",
   "metadata": {},
   "outputs": [
    {
     "data": {
      "text/plain": [
       "array([2.7, 1.5, 3.9, 2.3])"
      ]
     },
     "execution_count": 23,
     "metadata": {},
     "output_type": "execute_result"
    }
   ],
   "source": [
    "np.frombuffer(res[0], dtype=np.float64)  # most similar vector"
   ]
  },
  {
   "cell_type": "code",
   "execution_count": 29,
   "id": "1290f0e9",
   "metadata": {},
   "outputs": [],
   "source": [
    "conn.commit()"
   ]
  },
  {
   "cell_type": "code",
   "execution_count": 30,
   "id": "7f9a6b35",
   "metadata": {},
   "outputs": [],
   "source": [
    "conn.close()"
   ]
  },
  {
   "cell_type": "code",
   "execution_count": null,
   "id": "cd1cf934",
   "metadata": {},
   "outputs": [],
   "source": []
  }
 ],
 "metadata": {
  "kernelspec": {
   "display_name": "venv",
   "language": "python",
   "name": "python3"
  },
  "language_info": {
   "codemirror_mode": {
    "name": "ipython",
    "version": 3
   },
   "file_extension": ".py",
   "mimetype": "text/x-python",
   "name": "python",
   "nbconvert_exporter": "python",
   "pygments_lexer": "ipython3",
   "version": "3.12.7"
  }
 },
 "nbformat": 4,
 "nbformat_minor": 5
}
