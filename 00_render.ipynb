{
 "cells": [
  {
   "cell_type": "code",
   "execution_count": 5,
   "metadata": {},
   "outputs": [],
   "source": [
    "import os\n",
    "import json\n",
    "import base64\n",
    "from uuid import uuid4\n",
    "import random\n",
    "from random import randint\n",
    "\n",
    "# 3rd party\n",
    "import openai\n",
    "from openai import OpenAI\n",
    "from dotenv import find_dotenv, load_dotenv\n",
    "from rich.console import Console\n",
    "import psycopg2"
   ]
  },
  {
   "cell_type": "code",
   "execution_count": 19,
   "metadata": {},
   "outputs": [],
   "source": [
    "console = Console()\n",
    "load_dotenv(find_dotenv())\n",
    "\n",
    "\n",
    "def get_test_key():\n",
    "\n",
    "    if load_dotenv():\n",
    "        OPENAI_API_KEY = os.getenv(\"OPENAI_API_KEY\")\n",
    "        console.print(\n",
    "            f\".env file found with OPENAI_API_KEY: [dark_orange]{OPENAI_API_KEY[:12]}[/dark_orange]\"\n",
    "        )\n",
    "    else:\n",
    "        console.print(\n",
    "            \"[red]Caution: No environment variables found. Please create .env file in the root directory or add environment variables in the .env file[/red]\"\n",
    "        )\n",
    "\n",
    "    return OPENAI_API_KEY"
   ]
  },
  {
   "cell_type": "code",
   "execution_count": null,
   "metadata": {},
   "outputs": [],
   "source": [
    "OPENAI_API_KEY = get_test_key()\n",
    "openai.api_key = OPENAI_API_KEY\n",
    "client = OpenAI()"
   ]
  },
  {
   "cell_type": "code",
   "execution_count": null,
   "metadata": {},
   "outputs": [],
   "source": [
    "PG_URL = \"\"\n",
    "\n",
    "\n",
    "def get_db():\n",
    "    return psycopg2.connect(PG_URL)\n",
    "\n",
    "\n",
    "conn = get_db()\n",
    "if conn:\n",
    "    print(f\"Conn: {conn}\\n\")\n",
    "else:\n",
    "    print(\"NO CONNECTION\\n\")"
   ]
  },
  {
   "cell_type": "code",
   "execution_count": 22,
   "metadata": {},
   "outputs": [],
   "source": [
    "cursor = conn.cursor()"
   ]
  },
  {
   "cell_type": "code",
   "execution_count": null,
   "metadata": {},
   "outputs": [],
   "source": [
    "sql_pgvector = \"\"\"CREATE EXTENSION IF NOT EXISTS vector;\"\"\"\n",
    "try:\n",
    "    cursor.execute(sql_pgvector)\n",
    "    conn.commit()\n",
    "    print(\"PGVECTOR extension created successfully........\\n\")\n",
    "\n",
    "except Exception as e:\n",
    "    print(f\"Error {e}\")"
   ]
  },
  {
   "cell_type": "code",
   "execution_count": 24,
   "metadata": {},
   "outputs": [],
   "source": [
    "TABLE_NAME = \"publisher2\"\n",
    "# TABLE_NAME = \"tbl_doc_elements\""
   ]
  },
  {
   "cell_type": "code",
   "execution_count": 7,
   "metadata": {},
   "outputs": [],
   "source": [
    "sql01 = \"\"\"CREATE TABLE IF NOT EXISTS tbl_doc_elements (\n",
    "    id uuid NOT NULL DEFAULT gen_random_uuid(),\n",
    "    file_id uuid NOT NULL,\n",
    "    element_id VARCHAR(150),\n",
    "    element_type VARCHAR(50),\n",
    "    element_text TEXT,\n",
    "    parent_id VARCHAR(150),\n",
    "    page_number INTEGER,\n",
    "    filename VARCHAR(150),\n",
    "    filetype VARCHAR(50),\n",
    "    processed_text TEXT,\n",
    "    keywords TEXT [],\n",
    "    ner TEXT [], \n",
    "    embedding VECTOR(1536),\n",
    "    image_base64 TEXT,\n",
    "    created_at TIMESTAMPTZ NOT NULL DEFAULT NOW(),\n",
    "    CONSTRAINT doc_elements_pk PRIMARY KEY (id)\n",
    ");\"\"\""
   ]
  },
  {
   "cell_type": "code",
   "execution_count": null,
   "metadata": {},
   "outputs": [],
   "source": [
    "try:\n",
    "    cursor.execute(sql01)\n",
    "    conn.commit()\n",
    "    print(f\"{TABLE_NAME} table created successfully........\\n\")\n",
    "\n",
    "except Exception as e:\n",
    "    print(f\"Error {e}\")"
   ]
  },
  {
   "cell_type": "code",
   "execution_count": null,
   "metadata": {},
   "outputs": [],
   "source": [
    "OPENAI_API_KEY = get_test_key()\n",
    "# Set up your OpenAI API key\n",
    "\n",
    "# Choose a model"
   ]
  },
  {
   "cell_type": "code",
   "execution_count": null,
   "metadata": {},
   "outputs": [],
   "source": [
    "sql = f\"\"\"CREATE TABLE IF NOT EXISTS {TABLE_NAME} (\n",
    "\t\t\t\tpublisher_id SERIAL PRIMARY KEY,\n",
    "\t\t\t\tpublisher_name VARCHAR(255) NOT NULL,\n",
    "\t\t\t\tpublisher_estd INT,\n",
    "\t\t\t\tpublsiher_location VARCHAR(255),\n",
    "\t\t\t\tpublsiher_type VARCHAR(255)\n",
    "\n",
    ")\"\"\"\n",
    "\n",
    "try:\n",
    "    cursor.execute(sql)\n",
    "    conn.commit()\n",
    "    print(f\"{TABLE_NAME} table created successfully........\\n\")\n",
    "\n",
    "except Exception as e:\n",
    "    print(f\"Error {e}\")"
   ]
  },
  {
   "cell_type": "code",
   "execution_count": null,
   "metadata": {},
   "outputs": [],
   "source": [
    "try:\n",
    "    postgres_insert_query = f\"\"\" INSERT INTO {TABLE_NAME} (publisher_id,\n",
    "\tpublisher_name, publisher_estd, publsiher_location, publsiher_type)\n",
    "\tVALUES (%s,%s,%s,%s,%s)\"\"\"\n",
    "\n",
    "    record_to_insert = [\n",
    "        (random.randint(1000, 9999), \"Packt\", 1950, \"chennai\", \"books\"),\n",
    "        (random.randint(1000, 9999), \"Springer\", 1950, \"chennai\", \"books\"),\n",
    "        (random.randint(1000, 9999), \"Springer\", 1950, \"chennai\", \"articles\"),\n",
    "        (random.randint(1000, 9999), \"Oxford\", 1950, \"chennai\", \"all\"),\n",
    "        (random.randint(1000, 9999), \"MIT\", 1950, \"chennai\", \"books\"),\n",
    "    ]\n",
    "    for i in record_to_insert:\n",
    "        cursor.execute(postgres_insert_query, i)\n",
    "\n",
    "        conn.commit()\n",
    "        count = cursor.rowcount\n",
    "        print(\n",
    "            count,\n",
    "            f\"Record inserted successfully into {TABLE_NAME} table\",\n",
    "        )\n",
    "\n",
    "except (Exception, psycopg2.Error) as error:\n",
    "    print(\"Failed to insert record into publisher table\", error)"
   ]
  },
  {
   "cell_type": "code",
   "execution_count": null,
   "metadata": {},
   "outputs": [],
   "source": [
    "try:\n",
    "    postgreSQL_select_Query = f\"select * from {TABLE_NAME}\"\n",
    "\n",
    "    cursor.execute(postgreSQL_select_Query)\n",
    "    print(f\"\\nSelecting rows from {TABLE_NAME} table using cursor.fetchall\")\n",
    "    records = cursor.fetchall()\n",
    "\n",
    "    for row in records:\n",
    "        # print(\"publisher_id = \",row[0])\n",
    "        # print(\"publisher_name = \", row[1])\n",
    "        # print(\"publisher_estd = \", row[2])\n",
    "        # print(\"publisher_location = \", row[3])\n",
    "        # print(\"publisher_type = \", row[4], \"\\n\")\n",
    "        print(row)\n",
    "\n",
    "except (Exception, psycopg2.Error) as error:\n",
    "    print(\"Error while fetching data from PostgreSQL\", error)"
   ]
  },
  {
   "cell_type": "code",
   "execution_count": null,
   "metadata": {},
   "outputs": [],
   "source": [
    "cursor.close()\n",
    "conn.close()\n",
    "print(\"PostgreSQL connection is closed\")"
   ]
  }
 ],
 "metadata": {
  "kernelspec": {
   "display_name": "venv",
   "language": "python",
   "name": "python3"
  },
  "language_info": {
   "codemirror_mode": {
    "name": "ipython",
    "version": 3
   },
   "file_extension": ".py",
   "mimetype": "text/x-python",
   "name": "python",
   "nbconvert_exporter": "python",
   "pygments_lexer": "ipython3",
   "version": "3.12.1"
  }
 },
 "nbformat": 4,
 "nbformat_minor": 2
}
