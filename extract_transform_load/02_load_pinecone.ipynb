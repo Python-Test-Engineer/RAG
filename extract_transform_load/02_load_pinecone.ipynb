{
 "cells": [
  {
   "cell_type": "code",
   "execution_count": 1,
   "metadata": {},
   "outputs": [],
   "source": [
    "import json, os, time\n",
    "import copy\n",
    "\n",
    "\n",
    "import pprint\n",
    "\n",
    "# OPENAI\n",
    "from openai import OpenAI\n",
    "\n",
    "# LANGCHAIN\n",
    "from langchain_core.documents import Document\n",
    "from langchain_openai import OpenAIEmbeddings\n",
    "from langchain_community.vectorstores.utils import filter_complex_metadata\n",
    "from langchain.schema import Document\n",
    "from langchain_openai import OpenAIEmbeddings\n",
    "from langchain.prompts.prompt import PromptTemplate\n",
    "from langchain_core.prompts import ChatPromptTemplate\n",
    "from langchain_community.vectorstores import Chroma\n",
    "from langchain_core.messages import AIMessage, HumanMessage\n",
    "from langchain_openai import ChatOpenAI\n",
    "from langchain_core.output_parsers import StrOutputParser\n",
    "from langchain_core.runnables import RunnablePassthrough\n",
    "from langchain_pinecone import PineconeVectorStore\n",
    "\n",
    "# PINECONE\n",
    "import pinecone\n",
    "from pinecone.grpc import PineconeGRPC as Pinecone\n",
    "from pinecone import ServerlessSpec\n",
    "\n",
    "# GENERAL\n",
    "from dotenv import find_dotenv, load_dotenv\n",
    "from rich.console import Console"
   ]
  },
  {
   "cell_type": "code",
   "execution_count": null,
   "metadata": {},
   "outputs": [],
   "source": [
    "console = Console()"
   ]
  },
  {
   "cell_type": "code",
   "execution_count": null,
   "metadata": {},
   "outputs": [],
   "source": [
    "load_dotenv()\n",
    "if load_dotenv():\n",
    "    print(\"Success: .env file found with some environment variables\")\n",
    "else:\n",
    "    print(\n",
    "        \"Caution: No environment variables found. Please create .env file in the root directory or add environment variables in the .env file\"\n",
    "    )\n",
    "api_key = os.environ[\"OPENAI_API_KEY\"]\n",
    "PINECONE_API_KEY = os.environ[\"PINECONE_API_KEY\"]\n",
    "PINECONE_ENV = os.environ[\"PINECONE_ENV\"]\n",
    "PINCONE_INDEX = os.environ[\"PINECONE_INDEX\"]\n",
    "\n",
    "print(f\"{PINECONE_API_KEY} | {PINECONE_ENV} | {PINCONE_INDEX}\")\n",
    "client = OpenAI()\n",
    "\n",
    "\n",
    "if api_key:\n",
    "    try:\n",
    "        client.models.list()\n",
    "        print(\"OPENAI_API_KEY is set and is valid:\", api_key)\n",
    "    except openai.APIError as e:\n",
    "        print(f\"OpenAI API returned an API Error: {e}\")\n",
    "        pass\n",
    "    except openai.APIConnectionError as e:\n",
    "        print(f\"Failed to connect to OpenAI API: {e}\")\n",
    "        pass\n",
    "    except openai.RateLimitError as e:\n",
    "        print(f\"OpenAI API request exceeded rate limit: {e}\")\n",
    "        pass\n",
    "\n",
    "else:\n",
    "    print(\"Please set you OpenAI API key as an environment variable OPENAI_API_KEY\")"
   ]
  },
  {
   "cell_type": "code",
   "execution_count": 55,
   "metadata": {},
   "outputs": [],
   "source": [
    "embedding_function = OpenAIEmbeddings()"
   ]
  },
  {
   "cell_type": "code",
   "execution_count": 56,
   "metadata": {},
   "outputs": [],
   "source": [
    "# Initialize a client\n",
    "pc = Pinecone(api_key=PINECONE_API_KEY, environment=PINECONE_ENV)"
   ]
  },
  {
   "cell_type": "code",
   "execution_count": 57,
   "metadata": {},
   "outputs": [],
   "source": [
    "index_name = PINCONE_INDEX"
   ]
  },
  {
   "cell_type": "code",
   "execution_count": null,
   "metadata": {},
   "outputs": [],
   "source": [
    "print(pc.list_indexes().names())"
   ]
  },
  {
   "cell_type": "code",
   "execution_count": null,
   "metadata": {},
   "outputs": [],
   "source": [
    "print(pc.Index(index_name).describe_index_stats())"
   ]
  },
  {
   "cell_type": "code",
   "execution_count": 60,
   "metadata": {},
   "outputs": [],
   "source": [
    "client = OpenAI()\n",
    "\n",
    "\n",
    "def get_embedding(text, model=\"text-embedding-3-small\"):\n",
    "    # text = text.replace(\"\\n\", \" \")\n",
    "\n",
    "    try:\n",
    "        embedding = (\n",
    "            client.embeddings.create(input=[text], model=model).data[0].embedding\n",
    "        )\n",
    "\n",
    "    except Exception as e:\n",
    "        print(f\"Embedding failed: {text} | {e}\")\n",
    "\n",
    "        embedding = None\n",
    "\n",
    "    return embedding"
   ]
  },
  {
   "cell_type": "code",
   "execution_count": 61,
   "metadata": {},
   "outputs": [],
   "source": [
    "# Wait for the index to be ready\n",
    "index_name = PINCONE_INDEX\n",
    "while not pc.describe_index(index_name).status[\"ready\"]:\n",
    "    time.sleep(1)\n",
    "index = pc.Index(index_name)"
   ]
  },
  {
   "cell_type": "code",
   "execution_count": null,
   "metadata": {},
   "outputs": [],
   "source": [
    "filename = \"TMCB_43_2256640.pdf.json\"\n",
    "# filename = \"post_ocr.pdf.json\"\n",
    "\n",
    "\n",
    "# filename = \"mindset.pdf.json\"\n",
    "category = \"nih\"\n",
    "\n",
    "\n",
    "persist_directory = \"./data/db/chroma/\"\n",
    "\n",
    "\n",
    "data_json_directory = f\"./pdf_output/{category}/\"\n",
    "\n",
    "\n",
    "file = data_json_directory + filename\n",
    "\n",
    "\n",
    "console.print(f\"File: {file}\")\n",
    "\n",
    "\n",
    "with open(file) as f:\n",
    "    data = json.load(f)\n",
    "\n",
    "\n",
    "num_el = len(data)\n",
    "\n",
    "\n",
    "print(f\"{num_el} elements to load\")"
   ]
  },
  {
   "cell_type": "code",
   "execution_count": null,
   "metadata": {},
   "outputs": [],
   "source": [
    "for i in range(3):\n",
    "    metadata = dict(data[i][\"metadata\"])\n",
    "    el_type = data[i][\"type\"]\n",
    "    page_number = metadata[\"page_number\"]\n",
    "    doc_id = data[i][\"element_id\"]\n",
    "    content = data[i][\"text\"]\n",
    "    embed = get_embedding(content)\n",
    "    meta = {\n",
    "        \"category\": category,\n",
    "        \"doc_id\": doc_id,\n",
    "        \"filename\": filename,\n",
    "        \"page_number\": page_number,\n",
    "        \"type\": el_type,\n",
    "        \"content\": content,\n",
    "    }\n",
    "    print(f\"Upserting: {i} | {doc_id}\")\n",
    "    try:\n",
    "        if embed is None:\n",
    "            continue\n",
    "        else:\n",
    "            index.upsert(\n",
    "                vectors=[\n",
    "                    {\"id\": doc_id, \"values\": embed, \"metadata\": meta},\n",
    "                ],\n",
    "                namespace=\"\",\n",
    "            )\n",
    "    except Exception as e:\n",
    "        print(f\"Upsert failed: {doc_id}\\n{e}\")\n",
    "\n",
    "# See how many vectors have been upserted\n",
    "print(\"Index after upsert:\")\n",
    "print(pc.Index(index_name).describe_index_stats())\n",
    "print(\"\\n\")"
   ]
  }
 ],
 "metadata": {
  "kernelspec": {
   "display_name": "venv",
   "language": "python",
   "name": "python3"
  },
  "language_info": {
   "codemirror_mode": {
    "name": "ipython",
    "version": 3
   },
   "file_extension": ".py",
   "mimetype": "text/x-python",
   "name": "python",
   "nbconvert_exporter": "python",
   "pygments_lexer": "ipython3",
   "version": "3.12.7"
  }
 },
 "nbformat": 4,
 "nbformat_minor": 2
}
