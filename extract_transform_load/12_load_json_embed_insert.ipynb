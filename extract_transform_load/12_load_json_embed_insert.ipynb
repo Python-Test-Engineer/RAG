{
 "cells": [
  {
   "cell_type": "code",
   "execution_count": 7,
   "metadata": {},
   "outputs": [],
   "source": [
    "import os\n",
    "import json\n",
    "import openai\n",
    "from openai import OpenAI\n",
    "from dotenv import find_dotenv, load_dotenv\n",
    "from uuid import uuid4\n",
    "from random import randint\n",
    "from utils.get_openai_api_key import get_test_key\n",
    "from utils.get_postgres_connection import _conn_open\n",
    "from utils.load_json import load_json\n",
    "from rich.console import Console\n",
    "\n",
    "console = Console()"
   ]
  },
  {
   "cell_type": "code",
   "execution_count": 8,
   "metadata": {},
   "outputs": [
    {
     "data": {
      "text/html": [
       "<pre style=\"white-space:pre;overflow-x:auto;line-height:normal;font-family:Menlo,'DejaVu Sans Mono',consolas,'Courier New',monospace\"><span style=\"color: #008000; text-decoration-color: #008000\">Success: .env file found with some environment variables</span>\n",
       "</pre>\n"
      ],
      "text/plain": [
       "\u001b[32mSuccess: .env file found with some environment variables\u001b[0m\n"
      ]
     },
     "metadata": {},
     "output_type": "display_data"
    },
    {
     "data": {
      "text/html": [
       "<pre style=\"white-space:pre;overflow-x:auto;line-height:normal;font-family:Menlo,'DejaVu Sans Mono',consolas,'Courier New',monospace\">sk-proj-QDenE0JpMrlrM8CASrnAA9c-UkZh959UyFnxVIFK5CrvUGt3gDQ6PCPAelYd0GD7AKbUTpEx1zT3BlbkFJ-zaqpKBs5MNlixrDnd1bTAxm6\n",
       "YK7z5216yESvF9lg6U9NGB3dEgNmsZAgxQNMcMgl3WW3wrOMA\n",
       "</pre>\n"
      ],
      "text/plain": [
       "sk-proj-QDenE0JpMrlrM8CASrnAA9c-UkZh959UyFnxVIFK5CrvUGt3gDQ6PCPAelYd0GD7AKbUTpEx1zT3BlbkFJ-zaqpKBs5MNlixrDnd1bTAxm6\n",
       "YK7z5216yESvF9lg6U9NGB3dEgNmsZAgxQNMcMgl3WW3wrOMA\n"
      ]
     },
     "metadata": {},
     "output_type": "display_data"
    }
   ],
   "source": [
    "OPENAI_API_KEY = get_test_key()\n",
    "# Set up your OpenAI API key\n",
    "openai.api_key = OPENAI_API_KEY\n",
    "client = OpenAI()\n",
    "# Choose a model\n",
    "model = \"text-embedding-ada-002\"\n",
    "console.print(OPENAI_API_KEY)"
   ]
  },
  {
   "cell_type": "code",
   "execution_count": 9,
   "metadata": {},
   "outputs": [],
   "source": [
    "def get_embedding(text, model=\"text-embedding-3-small\"):\n",
    "\n",
    "    text = text.replace(\"\\n\", \" \")\n",
    "    return client.embeddings.create(input=[text], model=model).data[0].embedding"
   ]
  },
  {
   "cell_type": "code",
   "execution_count": 10,
   "metadata": {},
   "outputs": [
    {
     "data": {
      "text/html": [
       "<pre style=\"white-space:pre;overflow-x:auto;line-height:normal;font-family:Menlo,'DejaVu Sans Mono',consolas,'Courier New',monospace\"><span style=\"color: #008000; text-decoration-color: #008000; font-weight: bold\">Conn: &lt;connection object at </span><span style=\"color: #008000; text-decoration-color: #008000; font-weight: bold\">0x000002C078CA7DE0</span><span style=\"color: #008000; text-decoration-color: #008000; font-weight: bold\">; dsn: </span><span style=\"color: #008000; text-decoration-color: #008000; font-weight: bold\">'user=postgres password=xxx dbname=postgres </span>\n",
       "<span style=\"color: #008000; text-decoration-color: #008000; font-weight: bold\">host=host.docker.internal'</span><span style=\"color: #008000; text-decoration-color: #008000; font-weight: bold\">, closed: </span><span style=\"color: #008000; text-decoration-color: #008000; font-weight: bold\">0</span><span style=\"color: #008000; text-decoration-color: #008000; font-weight: bold\">&gt;</span>\n",
       "</pre>\n"
      ],
      "text/plain": [
       "\u001b[1;32mConn: \u001b[0m\u001b[1;32m<\u001b[0m\u001b[1;32mconnection\u001b[0m\u001b[1;32m object at \u001b[0m\u001b[1;32m0x000002C078CA7DE0\u001b[0m\u001b[1;32m; dsn: \u001b[0m\u001b[1;32m'\u001b[0m\u001b[1;32muser\u001b[0m\u001b[1;32m=\u001b[0m\u001b[1;32mpostgres\u001b[0m\u001b[1;32m \u001b[0m\u001b[1;32mpassword\u001b[0m\u001b[1;32m=\u001b[0m\u001b[1;32mxxx\u001b[0m\u001b[1;32m \u001b[0m\u001b[1;32mdbname\u001b[0m\u001b[1;32m=\u001b[0m\u001b[1;32mpostgres\u001b[0m\u001b[1;32m \u001b[0m\n",
       "\u001b[1;32mhost\u001b[0m\u001b[1;32m=\u001b[0m\u001b[1;32mhost\u001b[0m\u001b[1;32m.docker.internal'\u001b[0m\u001b[1;32m, closed: \u001b[0m\u001b[1;32m0\u001b[0m\u001b[1;32m>\u001b[0m\n"
      ]
     },
     "metadata": {},
     "output_type": "display_data"
    }
   ],
   "source": [
    "conn = _conn_open()\n",
    "cur = conn.cursor()"
   ]
  },
  {
   "cell_type": "code",
   "execution_count": 11,
   "metadata": {},
   "outputs": [
    {
     "name": "stdout",
     "output_type": "stream",
     "text": [
      "Number of items: 3\n"
     ]
    },
    {
     "data": {
      "text/html": [
       "<pre style=\"white-space:pre;overflow-x:auto;line-height:normal;font-family:Menlo,'DejaVu Sans Mono',consolas,'Courier New',monospace\"><span style=\"color: #ff8700; text-decoration-color: #ff8700\">---------Item Number IMAGE: </span><span style=\"color: #ff8700; text-decoration-color: #ff8700; font-weight: bold\">1</span><span style=\"color: #ff8700; text-decoration-color: #ff8700\">--------</span>\n",
       "</pre>\n"
      ],
      "text/plain": [
       "\u001b[38;5;208m---------Item Number IMAGE: \u001b[0m\u001b[1;38;5;208m1\u001b[0m\u001b[38;5;208m--------\u001b[0m\n"
      ]
     },
     "metadata": {},
     "output_type": "display_data"
    },
    {
     "data": {
      "text/html": [
       "<pre style=\"white-space:pre;overflow-x:auto;line-height:normal;font-family:Menlo,'DejaVu Sans Mono',consolas,'Courier New',monospace\"><span style=\"color: #ff8700; text-decoration-color: #ff8700\">---------Item Number TEXT: </span><span style=\"color: #ff8700; text-decoration-color: #ff8700; font-weight: bold\">2</span><span style=\"color: #ff8700; text-decoration-color: #ff8700\">--------</span>\n",
       "</pre>\n"
      ],
      "text/plain": [
       "\u001b[38;5;208m---------Item Number TEXT: \u001b[0m\u001b[1;38;5;208m2\u001b[0m\u001b[38;5;208m--------\u001b[0m\n"
      ]
     },
     "metadata": {},
     "output_type": "display_data"
    },
    {
     "data": {
      "text/html": [
       "<pre style=\"white-space:pre;overflow-x:auto;line-height:normal;font-family:Menlo,'DejaVu Sans Mono',consolas,'Courier New',monospace\">ID is <span style=\"color: #ffff00; text-decoration-color: #ffff00\">080b0b51-b288-4a76-bddf-6470ed240745</span>\n",
       "</pre>\n"
      ],
      "text/plain": [
       "ID is \u001b[93m080b0b51-b288-4a76-bddf-6470ed240745\u001b[0m\n"
      ]
     },
     "metadata": {},
     "output_type": "display_data"
    },
    {
     "data": {
      "text/html": [
       "<pre style=\"white-space:pre;overflow-x:auto;line-height:normal;font-family:Menlo,'DejaVu Sans Mono',consolas,'Courier New',monospace\"><span style=\"color: #ff8700; text-decoration-color: #ff8700\">---------Item Number TEXT: </span><span style=\"color: #ff8700; text-decoration-color: #ff8700; font-weight: bold\">3</span><span style=\"color: #ff8700; text-decoration-color: #ff8700\">--------</span>\n",
       "</pre>\n"
      ],
      "text/plain": [
       "\u001b[38;5;208m---------Item Number TEXT: \u001b[0m\u001b[1;38;5;208m3\u001b[0m\u001b[38;5;208m--------\u001b[0m\n"
      ]
     },
     "metadata": {},
     "output_type": "display_data"
    },
    {
     "data": {
      "text/html": [
       "<pre style=\"white-space:pre;overflow-x:auto;line-height:normal;font-family:Menlo,'DejaVu Sans Mono',consolas,'Courier New',monospace\">ID is <span style=\"color: #ffff00; text-decoration-color: #ffff00\">52096aa0-8aec-4893-a349-999d06a61f40</span>\n",
       "</pre>\n"
      ],
      "text/plain": [
       "ID is \u001b[93m52096aa0-8aec-4893-a349-999d06a61f40\u001b[0m\n"
      ]
     },
     "metadata": {},
     "output_type": "display_data"
    }
   ],
   "source": [
    "console = Console()\n",
    "FILENAME = \"test_article_elements.json\"\n",
    "json_data = load_json(FILENAME)\n",
    "print(f\"Number of items: {len(json_data)}\")\n",
    "encoded_image_data = None\n",
    "for i in range(len(json_data)):\n",
    "\n",
    "    if json_data[i][\"type\"] == \"Image\":\n",
    "        console.print(f\"[dark_orange]---------Item Number IMAGE: {i + 1}--------[/]\")\n",
    "        el_image_b64 = json_data[i][\"metadata\"][\"image_base64\"]\n",
    "        # console.print(el_image_b64[:40])\n",
    "    if json_data[i][\"type\"] == \"NarrativeText\":\n",
    "\n",
    "        console.print(f\"[dark_orange]---------Item Number TEXT: {i + 1}--------[/]\")\n",
    "        el_text = json_data[i][\"text\"]\n",
    "        el_embedding = get_embedding(el_text)\n",
    "\n",
    "        # console.print(el_embedding)\n",
    "        new_id = str(uuid4())\n",
    "        new_element_id = randint(1000, 9999)\n",
    "        sql = f\"\"\"\n",
    "        INSERT INTO tbl_doc_elements (\n",
    "            file_id, element_id, element_text, image_base64, embedding)\n",
    "        VALUES \n",
    "        ('{new_id}','{new_element_id}','{el_text}',\n",
    "        '{encoded_image_data}', ARRAY[{el_embedding}])\n",
    "        RETURNING id;\n",
    "        \"\"\"\n",
    "\n",
    "        try:\n",
    "            cur.execute(sql)\n",
    "            row = cur.fetchone()\n",
    "            id = row[0]\n",
    "            console.print(f\"ID is {id}\")\n",
    "            conn.commit()\n",
    "        except Exception as e:\n",
    "            console.print(e)"
   ]
  },
  {
   "cell_type": "code",
   "execution_count": 12,
   "metadata": {},
   "outputs": [],
   "source": [
    "cur.close()\n",
    "conn.close()"
   ]
  }
 ],
 "metadata": {
  "kernelspec": {
   "display_name": "venv",
   "language": "python",
   "name": "python3"
  },
  "language_info": {
   "codemirror_mode": {
    "name": "ipython",
    "version": 3
   },
   "file_extension": ".py",
   "mimetype": "text/x-python",
   "name": "python",
   "nbconvert_exporter": "python",
   "pygments_lexer": "ipython3",
   "version": "3.12.8"
  }
 },
 "nbformat": 4,
 "nbformat_minor": 2
}
