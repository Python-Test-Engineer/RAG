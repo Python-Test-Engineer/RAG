{
 "cells": [
  {
   "cell_type": "code",
   "execution_count": 1,
   "metadata": {},
   "outputs": [],
   "source": [
    "import os\n",
    "\n",
    "from dotenv import find_dotenv, load_dotenv\n",
    "from unstructured_ingest.v2.interfaces import ProcessorConfig\n",
    "from unstructured_ingest.v2.pipeline.pipeline import Pipeline\n",
    "from unstructured_ingest.v2.processes.connectors.local import (\n",
    "    LocalConnectionConfig,\n",
    "    LocalDownloaderConfig,\n",
    "    LocalIndexerConfig,\n",
    "    LocalUploaderConfig,\n",
    ")\n",
    "from unstructured_ingest.v2.processes.partitioner import PartitionerConfig"
   ]
  },
  {
   "cell_type": "code",
   "execution_count": 2,
   "metadata": {},
   "outputs": [
    {
     "name": "stdout",
     "output_type": "stream",
     "text": [
      "UCbRHhbNcGKu3qnzM05GXmuZ9irPoN https://api.unstructuredapp.io/general/v0/general\n",
      "pdf_input_files pdf_json_output\n"
     ]
    }
   ],
   "source": [
    "load_dotenv(find_dotenv())\n",
    "UNSTRUCTURED_API_KEY = os.getenv(\"UNSTRUCTURED_API_KEY\")\n",
    "UNSTRUCTURED_API_URL = os.getenv(\"UNSTRUCTURED_API_URL\")\n",
    "LOCAL_FILE_INPUT_DIR = os.getenv(\"LOCAL_FILE_INPUT_DIR\")\n",
    "LOCAL_FILE_OUTPUT_DIR = os.getenv(\"LOCAL_FILE_OUTPUT_DIR\")\n",
    "\n",
    "\n",
    "print(UNSTRUCTURED_API_KEY, UNSTRUCTURED_API_URL)\n",
    "print(LOCAL_FILE_INPUT_DIR, LOCAL_FILE_OUTPUT_DIR)"
   ]
  },
  {
   "cell_type": "code",
   "execution_count": 3,
   "metadata": {},
   "outputs": [],
   "source": [
    "# extract_element_types=[\"Table\"],\n",
    "# extract_image_block_types=[\"Image\", \"Table\"],\n",
    "\n",
    "\n",
    "def generate_json_from_local(\n",
    "    input_path: str,\n",
    "    output_dir: str,\n",
    "    parition_by_api: bool = True,\n",
    "    api_key: str = None,\n",
    "    partition_endpoint: str = None,\n",
    "    split_pdf_page: bool = True,\n",
    "    split_pdf_allow_failed: bool = True,\n",
    "    split_pdf_concurrency_level: int = 15,\n",
    "):\n",
    "\n",
    "\n",
    "    Pipeline.from_configs(\n",
    "        context=ProcessorConfig(),\n",
    "        indexer_config=LocalIndexerConfig(input_path=input_path),\n",
    "        downloader_config=LocalDownloaderConfig(),\n",
    "        source_connection_config=LocalConnectionConfig(),\n",
    "        partitioner_config=PartitionerConfig(\n",
    "            strategy=\"hi_res\",\n",
    "            infer_table_structure=True,\n",
    "            unique_element_ids=True,\n",
    "            extract_image_block_output_dir=LOCAL_FILE_OUTPUT_DIR,\n",
    "            extract_images_in_pdf=True,\n",
    "            partition_by_api=parition_by_api,\n",
    "            api_key=api_key,\n",
    "            partition_endpoint=partition_endpoint,\n",
    "\n",
    "            additional_partition_args={\n",
    "                \"split_pdf_page\": split_pdf_page,\n",
    "                \"split_pdf_allow_failed\": split_pdf_allow_failed,\n",
    "                \"split_pdf_concurrency_level\": split_pdf_concurrency_level,\n",
    "            },\n",
    "        ),\n",
    "        uploader_config=LocalUploaderConfig(output_dir=output_dir),\n",
    "    ).run()"
   ]
  },
  {
   "cell_type": "code",
   "execution_count": 4,
   "metadata": {},
   "outputs": [
    {
     "name": "stderr",
     "output_type": "stream",
     "text": [
      "2024-12-25 14:33:15,743 MainProcess INFO     created index with configs: {\"input_path\": \"TMCB_43_2256640.pdf\", \"recursive\": false}, connection configs: {\"access_config\": \"**********\"}\n",
      "2024-12-25 14:33:15,744 MainProcess INFO     Created download with configs: {\"download_dir\": null}, connection configs: {\"access_config\": \"**********\"}\n",
      "2024-12-25 14:33:15,745 MainProcess INFO     created partition with configs: {\"strategy\": \"hi_res\", \"ocr_languages\": null, \"encoding\": null, \"additional_partition_args\": {\"split_pdf_page\": true, \"split_pdf_allow_failed\": true, \"split_pdf_concurrency_level\": 15}, \"skip_infer_table_types\": null, \"fields_include\": [\"element_id\", \"text\", \"type\", \"metadata\", \"embeddings\"], \"flatten_metadata\": false, \"metadata_exclude\": [], \"element_exclude\": [], \"metadata_include\": [], \"partition_endpoint\": \"https://api.unstructuredapp.io/general/v0/general\", \"partition_by_api\": true, \"api_key\": \"*******\", \"hi_res_model_name\": null}\n",
      "2024-12-25 14:33:15,746 MainProcess INFO     Created upload with configs: {\"output_dir\": \".\"}, connection configs: {\"access_config\": \"**********\"}\n",
      "2024-12-25 14:33:15,747 MainProcess INFO     running local pipeline: index (LocalIndexer) -> download (LocalDownloader) -> partition (hi_res) -> upload (LocalUploader) with configs: {\"reprocess\": false, \"verbose\": false, \"tqdm\": false, \"work_dir\": \"C:\\\\Users\\\\owner\\\\.cache\\\\unstructured\\\\ingest\\\\pipeline\", \"num_processes\": 2, \"max_connections\": null, \"raise_on_error\": false, \"disable_parallelism\": false, \"preserve_downloads\": false, \"download_only\": false, \"re_download\": false, \"uncompress\": false, \"iter_delete\": false, \"delete_cache\": false, \"otel_endpoint\": null, \"status\": {}}\n",
      "2024-12-25 14:33:15,954 MainProcess INFO     index finished in 0.0s\n",
      "2024-12-25 14:33:15,954 MainProcess INFO     calling DownloadStep with 1 docs\n",
      "2024-12-25 14:33:15,954 MainProcess INFO     processing content async\n",
      "2024-12-25 14:33:15,954 MainProcess WARNING  async code being run in dedicated thread pool to not conflict with existing event loop: <_WindowsSelectorEventLoop running=True closed=False debug=False>\n",
      "2024-12-25 14:33:15,977 MainProcess INFO     download finished in 0.0222145s, attributes: file_id=a50af5fcb63f\n",
      "2024-12-25 14:33:15,977 MainProcess INFO     download step finished in 0.0222145s\n",
      "2024-12-25 14:33:15,977 MainProcess INFO     calling PartitionStep with 1 docs\n",
      "2024-12-25 14:33:15,977 MainProcess INFO     processing content async\n",
      "2024-12-25 14:33:15,977 MainProcess WARNING  async code being run in dedicated thread pool to not conflict with existing event loop: <_WindowsSelectorEventLoop running=True closed=False debug=False>\n",
      "2024-12-25 14:33:15,993 MainProcess INFO     partition finished in 0.015975s, attributes: file_id=a50af5fcb63f\n",
      "2024-12-25 14:33:15,993 MainProcess INFO     partition step finished in 0.015975s\n",
      "2024-12-25 14:33:15,993 MainProcess INFO     calling UploadStep with 1 docs\n",
      "2024-12-25 14:33:15,993 MainProcess INFO     processing content across processes\n",
      "2024-12-25 14:33:15,993 MainProcess INFO     processing content serially\n",
      "2024-12-25 14:33:15,993 MainProcess WARNING  async code being run in dedicated thread pool to not conflict with existing event loop: <_WindowsSelectorEventLoop running=True closed=False debug=False>\n",
      "2024-12-25 14:33:16,011 MainProcess INFO     upload finished in 0.0045902s, attributes: file_id=a50af5fcb63f\n",
      "2024-12-25 14:33:16,013 MainProcess INFO     upload finished in 0.0205799s, attributes: file_id=a50af5fcb63f\n",
      "2024-12-25 14:33:16,017 MainProcess INFO     upload step finished in 0.0239207s\n",
      "2024-12-25 14:33:16,018 MainProcess INFO     ingest process finished in 0.2701897s\n"
     ]
    }
   ],
   "source": [
    "generate_json_from_local(\n",
    "    input_path=\"TMCB_43_2256640.pdf\",\n",
    "    output_dir=\".\",\n",
    "    parition_by_api=True,\n",
    "    api_key=UNSTRUCTURED_API_KEY,\n",
    "    partition_endpoint=UNSTRUCTURED_API_URL,\n",
    ")"
   ]
  }
 ],
 "metadata": {
  "kernelspec": {
   "display_name": "venv",
   "language": "python",
   "name": "python3"
  },
  "language_info": {
   "codemirror_mode": {
    "name": "ipython",
    "version": 3
   },
   "file_extension": ".py",
   "mimetype": "text/x-python",
   "name": "python",
   "nbconvert_exporter": "python",
   "pygments_lexer": "ipython3",
   "version": "3.12.1"
  }
 },
 "nbformat": 4,
 "nbformat_minor": 2
}
