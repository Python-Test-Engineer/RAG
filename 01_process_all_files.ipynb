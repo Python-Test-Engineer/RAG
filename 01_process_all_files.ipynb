{
 "cells": [
  {
   "cell_type": "code",
   "execution_count": 1,
   "metadata": {},
   "outputs": [],
   "source": [
    "import os\n",
    "\n",
    "from dotenv import find_dotenv, load_dotenv\n",
    "from unstructured_ingest.v2.interfaces import ProcessorConfig\n",
    "from unstructured_ingest.v2.pipeline.pipeline import Pipeline\n",
    "from unstructured_ingest.v2.processes.connectors.local import (\n",
    "    LocalConnectionConfig,\n",
    "    LocalDownloaderConfig,\n",
    "    LocalIndexerConfig,\n",
    "    LocalUploaderConfig,\n",
    ")\n",
    "from unstructured_ingest.v2.processes.partitioner import PartitionerConfig"
   ]
  },
  {
   "cell_type": "code",
   "execution_count": null,
   "metadata": {},
   "outputs": [],
   "source": [
    "load_dotenv(find_dotenv())\n",
    "UNSTRUCTURED_API_KEY = os.getenv(\"UNSTRUCTURED_API_KEY\")\n",
    "UNSTRUCTURED_API_URL = os.getenv(\"UNSTRUCTURED_API_URL\")\n",
    "LOCAL_FILE_INPUT_DIR = os.getenv(\"LOCAL_FILE_INPUT_DIR\")\n",
    "LOCAL_FILE_OUTPUT_DIR = os.getenv(\"LOCAL_FILE_OUTPUT_DIR\")\n",
    "\n",
    "\n",
    "print(UNSTRUCTURED_API_KEY, UNSTRUCTURED_API_URL)\n",
    "print(LOCAL_FILE_INPUT_DIR, LOCAL_FILE_OUTPUT_DIR)"
   ]
  },
  {
   "cell_type": "code",
   "execution_count": 3,
   "metadata": {},
   "outputs": [],
   "source": [
    "# extract_element_types=[\"Table\"],\n",
    "# extract_image_block_types=[\"Image\", \"Table\"],\n",
    "# extract_image_block_output_dir=LOCAL_FILE_OUTPUT_DIR,\n",
    "\n",
    "\n",
    "def generate_json_from_local(\n",
    "    input_path: str,\n",
    "    output_dir: str,\n",
    "    parition_by_api: bool = True,\n",
    "    api_key: str = None,\n",
    "    partition_endpoint: str = None,\n",
    "    split_pdf_page: bool = True,\n",
    "    split_pdf_allow_failed: bool = True,\n",
    "    split_pdf_concurrency_level: int = 15,\n",
    "):\n",
    "\n",
    "    Pipeline.from_configs(\n",
    "        context=ProcessorConfig(),\n",
    "        indexer_config=LocalIndexerConfig(input_path=LOCAL_FILE_INPUT_DIR),\n",
    "        downloader_config=LocalDownloaderConfig(),\n",
    "        source_connection_config=LocalConnectionConfig(),\n",
    "        partitioner_config=PartitionerConfig(\n",
    "            strategy=\"hi_res\",\n",
    "            chunking_strategy=\"by_title\",\n",
    "            infer_table_structure=True,\n",
    "            unique_element_ids=True,\n",
    "            extract_images_in_pdf=False,\n",
    "            partition_by_api=parition_by_api,\n",
    "            api_key=api_key,\n",
    "            partition_endpoint=partition_endpoint,\n",
    "            additional_partition_args={\n",
    "                \"split_pdf_page\": split_pdf_page,\n",
    "                \"split_pdf_allow_failed\": split_pdf_allow_failed,\n",
    "                \"split_pdf_concurrency_level\": split_pdf_concurrency_level,\n",
    "            },\n",
    "        ),\n",
    "        uploader_config=LocalUploaderConfig(output_dir=LOCAL_FILE_OUTPUT_DIR),\n",
    "    ).run()"
   ]
  },
  {
   "cell_type": "code",
   "execution_count": null,
   "metadata": {},
   "outputs": [],
   "source": [
    "generate_json_from_local(\n",
    "    input_path=\"embedded-images-tables.pdf\",\n",
    "    output_dir=\".\",\n",
    "    parition_by_api=True,\n",
    "    api_key=UNSTRUCTURED_API_KEY,\n",
    "    partition_endpoint=UNSTRUCTURED_API_URL,\n",
    ")"
   ]
  }
 ],
 "metadata": {
  "kernelspec": {
   "display_name": "venv",
   "language": "python",
   "name": "python3"
  },
  "language_info": {
   "codemirror_mode": {
    "name": "ipython",
    "version": 3
   },
   "file_extension": ".py",
   "mimetype": "text/x-python",
   "name": "python",
   "nbconvert_exporter": "python",
   "pygments_lexer": "ipython3",
   "version": "3.12.1"
  }
 },
 "nbformat": 4,
 "nbformat_minor": 2
}
