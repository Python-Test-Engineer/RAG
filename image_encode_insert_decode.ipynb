{
 "cells": [
  {
   "cell_type": "code",
   "execution_count": null,
   "metadata": {},
   "outputs": [],
   "source": [
    "import base64\n",
    "from uuid import uuid4\n",
    "import random\n",
    "\n",
    "\n",
    "from utils.get_save_base64 import decode_image, encode_image\n",
    "\n",
    "\n",
    "from utils.get_postgres_connection import _conn_open\n",
    "\n",
    "\n",
    "from rich.console import Console\n",
    "\n",
    "\n",
    "console = Console()\n",
    "\n",
    "\n",
    "conn = _conn_open()"
   ]
  },
  {
   "cell_type": "code",
   "execution_count": null,
   "metadata": {},
   "outputs": [],
   "source": [
    "encoded_image_data = encode_image(\"test02.png\").decode(\"utf-8\")"
   ]
  },
  {
   "cell_type": "code",
   "execution_count": null,
   "metadata": {},
   "outputs": [],
   "source": [
    "print(encoded_image_data)"
   ]
  },
  {
   "cell_type": "code",
   "execution_count": null,
   "metadata": {},
   "outputs": [],
   "source": [
    "new_id = str(uuid4())\n",
    "new_element_id = random.randint(1000, 9999)\n",
    "sql = f\"\"\"\n",
    "INSERT INTO tbl_doc_elements (\n",
    "    file_id, element_id, element_text, image_base64, embedding)\n",
    "VALUES \n",
    "('{new_id}','{new_element_id}','43 Hello World',\n",
    "'{encoded_image_data}', ARRAY[1, 2])\n",
    "RETURNING id;\n",
    "\"\"\""
   ]
  },
  {
   "cell_type": "code",
   "execution_count": null,
   "metadata": {},
   "outputs": [],
   "source": [
    "print(sql)"
   ]
  },
  {
   "cell_type": "code",
   "execution_count": null,
   "metadata": {},
   "outputs": [],
   "source": [
    "# sql = f\"\"\"\n",
    "# INSERT INTO tbl_doc_elements (\n",
    "# \tfile_id, element_id, element_text, image_base64, embedding)\n",
    "# VALUES\n",
    "# ('43524c61-ef85-404e-b487-fb0fe304d8e2','1043','43 Hello World',\n",
    "# '{encoded_image_data}', ARRAY[1, 2])\n",
    "# RETURNING id;\n",
    "# \"\"\"\n",
    "# console.print(sql)"
   ]
  },
  {
   "cell_type": "code",
   "execution_count": null,
   "metadata": {},
   "outputs": [],
   "source": [
    "cur = conn.cursor()\n",
    "try:\n",
    "    cur.execute(sql)\n",
    "    row = cur.fetchone()\n",
    "    id = row[0]\n",
    "    console.print(f\"ID is {id}\")\n",
    "    conn.commit()\n",
    "except Exception as e:\n",
    "    console.print(e)"
   ]
  },
  {
   "cell_type": "code",
   "execution_count": null,
   "metadata": {},
   "outputs": [],
   "source": [
    "cur = conn.cursor()\n",
    "\n",
    "sql = f\"SELECT id, image_base64 FROM tbl_doc_elements WHERE id='{id}';\"\n",
    "cur.execute(sql)\n",
    "rows = cur.fetchall()\n",
    "if not len(rows):\n",
    "    console.print(\"empty\")\n",
    "for row in rows:\n",
    "    encoded_image_data = row[1]\n",
    "    console.print(encoded_image_data)\n",
    "cur.close()\n",
    "conn.close()"
   ]
  },
  {
   "cell_type": "code",
   "execution_count": null,
   "metadata": {},
   "outputs": [],
   "source": [
    "output_filepath = f\"test_output_{random.randint(100, 900)}.png\"\n",
    "console.print(f\"[bold dark_orange]{output_filepath}[/]\")\n",
    "x = decode_image(encoded_image_data, output_filepath)"
   ]
  },
  {
   "cell_type": "markdown",
   "metadata": {},
   "source": []
  }
 ],
 "metadata": {
  "kernelspec": {
   "display_name": "venv",
   "language": "python",
   "name": "python3"
  },
  "language_info": {
   "codemirror_mode": {
    "name": "ipython",
    "version": 3
   },
   "file_extension": ".py",
   "mimetype": "text/x-python",
   "name": "python",
   "nbconvert_exporter": "python",
   "pygments_lexer": "ipython3",
   "version": "3.12.8"
  }
 },
 "nbformat": 4,
 "nbformat_minor": 2
}
