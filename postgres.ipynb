{
  "cells": [
    {
      "cell_type": "markdown",
      "id": "bccd47fc",
      "metadata": {
        "id": "bccd47fc"
      },
      "source": [
        "<a href=\"https://colab.research.google.com/github/run-llama/llama_index/blob/main/docs/docs/examples/vector_stores/postgres.ipynb\" target=\"_parent\"><img src=\"https://colab.research.google.com/assets/colab-badge.svg\" alt=\"Open In Colab\"/></a>"
      ]
    },
    {
      "cell_type": "markdown",
      "id": "db0855d0",
      "metadata": {
        "id": "db0855d0"
      },
      "source": [
        "# Postgres Vector Store\n",
        "In this notebook we are going to show how to use [Postgresql](https://www.postgresql.org) and  [pgvector](https://github.com/pgvector/pgvector)  to perform vector searches in LlamaIndex"
      ]
    },
    {
      "cell_type": "markdown",
      "id": "e4f33fc9",
      "metadata": {
        "id": "e4f33fc9"
      },
      "source": [
        "If you're opening this Notebook on colab, you will probably need to install LlamaIndex 🦙."
      ]
    },
    {
      "cell_type": "markdown",
      "id": "eadf6b8a",
      "metadata": {
        "id": "eadf6b8a"
      },
      "source": [
        "Running the following cell will install Postgres with PGVector in Colab."
      ]
    },
    {
      "cell_type": "code",
      "execution_count": null,
      "id": "c2d1c538",
      "metadata": {
        "id": "c2d1c538"
      },
      "outputs": [],
      "source": [
        "# import logging\n",
        "# import sys\n",
        "\n",
        "# Uncomment to see debug logs\n",
        "# logging.basicConfig(stream=sys.stdout, level=logging.DEBUG)\n",
        "# logging.getLogger().addHandler(logging.StreamHandler(stream=sys.stdout))\n",
        "\n",
        "import os\n",
        "from llama_index.core import SimpleDirectoryReader, StorageContext\n",
        "from llama_index.core import VectorStoreIndex\n",
        "from llama_index.vector_stores.postgres import PGVectorStore\n",
        "import textwrap\n",
        "import openai\n",
        "from dotenv import load_dotenv, find_dotenv\n",
        "import psycopg2"
      ]
    },
    {
      "cell_type": "code",
      "execution_count": 3,
      "id": "b20cf3c7",
      "metadata": {},
      "outputs": [],
      "source": [
        "OPENAI_API_KEY = os.getenv(\"OPENAI_API_KEY\")"
      ]
    },
    {
      "cell_type": "markdown",
      "id": "26c71b6d",
      "metadata": {
        "id": "26c71b6d"
      },
      "source": [
        "### Setup OpenAI\n",
        "The first step is to configure the openai key. It will be used to created embeddings for the documents loaded into the index"
      ]
    },
    {
      "cell_type": "code",
      "execution_count": null,
      "id": "67b86621",
      "metadata": {
        "id": "67b86621"
      },
      "outputs": [],
      "source": [
        "openai.api_key = OPENAI_API_KEY"
      ]
    },
    {
      "cell_type": "markdown",
      "id": "eecf4bd5",
      "metadata": {
        "id": "eecf4bd5"
      },
      "source": [
        "Download Data"
      ]
    },
    {
      "cell_type": "markdown",
      "id": "f7010b1d-d1bb-4f08-9309-a328bb4ea396",
      "metadata": {
        "id": "f7010b1d-d1bb-4f08-9309-a328bb4ea396"
      },
      "source": [
        "### Loading documents\n",
        "Load the documents stored in the `data/paul_graham/` using the SimpleDirectoryReader"
      ]
    },
    {
      "cell_type": "code",
      "execution_count": 8,
      "id": "c154dd4b",
      "metadata": {
        "id": "c154dd4b",
        "outputId": "b89efb4f-9b94-4d68-b629-e8ac2f6024ba"
      },
      "outputs": [
        {
          "name": "stdout",
          "output_type": "stream",
          "text": [
            "Document ID: 855b7123-e251-4c12-8219-584ab89ecd81\n"
          ]
        }
      ],
      "source": [
        "documents = SimpleDirectoryReader(\"./input_files\").load_data()\n",
        "print(\"Document ID:\", documents[0].doc_id)"
      ]
    },
    {
      "cell_type": "markdown",
      "id": "7bd24f0a",
      "metadata": {
        "id": "7bd24f0a"
      },
      "source": [
        "### Create the Database\n",
        "Using an existing postgres running at localhost, create the database we'll be using."
      ]
    },
    {
      "cell_type": "code",
      "execution_count": null,
      "id": "e6d61e73",
      "metadata": {
        "id": "e6d61e73"
      },
      "outputs": [
        {
          "name": "stdout",
          "output_type": "stream",
          "text": [
            "Connecting to PostgreSQL...\n",
            "Successfully connected to PostgreSQL.\n"
          ]
        }
      ],
      "source": [
        "print(\"Connecting to PostgreSQL...\")\n",
        "conn = psycopg2.connect(\n",
        "    database=\"postgres\",\n",
        "    user=\"postgres\",\n",
        "    password=\"postgres\",\n",
        "    host=\"localhost\",\n",
        ")\n",
        "\n",
        "cur = conn.cursor()\n",
        "\n",
        "print(\"Successfully connected to PostgreSQL.\")"
      ]
    },
    {
      "cell_type": "markdown",
      "id": "c0232fd1",
      "metadata": {
        "id": "c0232fd1"
      },
      "source": [
        "### Create the index\n",
        "Here we create an index backed by Postgres using the documents loaded previously. PGVectorStore takes a few arguments. The example below constructs a PGVectorStore with a HNSW index with m = 16, ef_construction = 64, and ef_search = 40, with the `vector_cosine_ops` method."
      ]
    },
    {
      "cell_type": "code",
      "execution_count": 12,
      "id": "8731da62",
      "metadata": {
        "id": "8731da62"
      },
      "outputs": [
        {
          "data": {
            "application/vnd.jupyter.widget-view+json": {
              "model_id": "0c36b876b4d1408e8de2a50f73fa272a",
              "version_major": 2,
              "version_minor": 0
            },
            "text/plain": [
              "Parsing nodes:   0%|          | 0/1 [00:00<?, ?it/s]"
            ]
          },
          "metadata": {},
          "output_type": "display_data"
        },
        {
          "data": {
            "application/vnd.jupyter.widget-view+json": {
              "model_id": "7002549554c044808c6d68a596e89e02",
              "version_major": 2,
              "version_minor": 0
            },
            "text/plain": [
              "Generating embeddings:   0%|          | 0/1 [00:00<?, ?it/s]"
            ]
          },
          "metadata": {},
          "output_type": "display_data"
        }
      ],
      "source": [
        "from sqlalchemy import make_url\n",
        "\n",
        "\n",
        "vector_store = PGVectorStore.from_params(\n",
        "    database=\"postgres\",\n",
        "    user=\"postgres\",\n",
        "    password=\"postgres\",\n",
        "    host=\"localhost\",\n",
        "    port=5432,\n",
        "    table_name=\"meetup\",\n",
        "    embed_dim=1536,  # openai embedding dimension\n",
        "    hnsw_kwargs={\n",
        "        \"hnsw_m\": 16,\n",
        "        \"hnsw_ef_construction\": 64,\n",
        "        \"hnsw_ef_search\": 40,\n",
        "        \"hnsw_dist_method\": \"vector_cosine_ops\",\n",
        "    },\n",
        ")\n",
        "\n",
        "storage_context = StorageContext.from_defaults(vector_store=vector_store)\n",
        "index = VectorStoreIndex.from_documents(\n",
        "    documents, storage_context=storage_context, show_progress=True\n",
        ")\n",
        "query_engine = index.as_query_engine()"
      ]
    },
    {
      "cell_type": "markdown",
      "id": "8ee4473a-094f-4d0a-a825-e1213db07240",
      "metadata": {
        "id": "8ee4473a-094f-4d0a-a825-e1213db07240"
      },
      "source": [
        "### Query the index\n",
        "We can now ask questions using our index."
      ]
    },
    {
      "cell_type": "code",
      "execution_count": 13,
      "id": "0a2bcc07",
      "metadata": {
        "id": "0a2bcc07"
      },
      "outputs": [
        {
          "name": "stdout",
          "output_type": "stream",
          "text": [
            "Response: In the next meetup, we will learn how to build AI Agents from scratch, explore Generative AI, understand fundamental patterns and Toole/Function calling, examine Multi Agents frameworks, test Agentically, evaluate our Agent, look at some AI Agents in a Data Pipeline from ETL to Query Analysis, explore an Open Source library for Data Analysis, and discuss the capabilities of AI Agents and what we can expect from them.\n"
          ]
        }
      ],
      "source": [
        "response = query_engine.query(\"What will we do in the next meetup?\")\n",
        "print(\"Response:\", response)"
      ]
    },
    {
      "cell_type": "code",
      "execution_count": 14,
      "id": "8cf55bf7",
      "metadata": {
        "id": "8cf55bf7",
        "outputId": "a43fd509-5bd3-4bcc-8f16-6237d63ac06b"
      },
      "outputs": [
        {
          "name": "stdout",
          "output_type": "stream",
          "text": [
            "In the next meetup, we will learn how to build AI Agents from scratch, explore Generative AI,\n",
            "understand fundamental patterns and Toole/Function calling, examine Multi Agents frameworks, test\n",
            "Agentically, evaluate our Agent, look at some AI Agents in a Data Pipeline from ETL to Query\n",
            "Analysis, explore an Open Source library for Data Analysis, and discuss the capabilities of AI\n",
            "Agents and what we can expect from them.\n"
          ]
        }
      ],
      "source": [
        "print(textwrap.fill(str(response), 100))"
      ]
    },
    {
      "cell_type": "code",
      "execution_count": 16,
      "id": "68cbd239-880e-41a3-98d8-dbb3fab55431",
      "metadata": {
        "id": "68cbd239-880e-41a3-98d8-dbb3fab55431"
      },
      "outputs": [
        {
          "name": "stdout",
          "output_type": "stream",
          "text": [
            "In part two, we look at some AI Agents and explore how they can be utilized in a Data Pipeline,\n",
            "covering tasks from ETL to Query Analysis. Additionally, we delve into an Open Source library for\n",
            "Data Analysis and engage in a discussion about the capabilities of our AI Agents and the\n",
            "expectations we can have from them.\n"
          ]
        }
      ],
      "source": [
        "response = query_engine.query(\"What do we do in part two?\")\n",
        "print(textwrap.fill(str(response), 100))"
      ]
    },
    {
      "cell_type": "markdown",
      "id": "b3bed9e1",
      "metadata": {
        "id": "b3bed9e1"
      },
      "source": [
        "### Querying existing index"
      ]
    },
    {
      "cell_type": "code",
      "execution_count": null,
      "id": "e6b2634b",
      "metadata": {
        "id": "e6b2634b"
      },
      "outputs": [],
      "source": [
        "vector_store = PGVectorStore.from_params(\n",
        "    database=\"postgres\",\n",
        "    user=\"postgres\",\n",
        "    password=\"postgres\",\n",
        "    host=\"localhost\",\n",
        "    port=5432,\n",
        "    table_name=\"meetup\",\n",
        "    embed_dim=1536,  # openai embedding dimension\n",
        "    hnsw_kwargs={\n",
        "        \"hnsw_m\": 16,\n",
        "        \"hnsw_ef_construction\": 64,\n",
        "        \"hnsw_ef_search\": 40,\n",
        "        \"hnsw_dist_method\": \"vector_cosine_ops\",\n",
        "    },\n",
        ")\n",
        "\n",
        "\n",
        "\n",
        "index = VectorStoreIndex.from_vector_store(vector_store=vector_store)\n",
        "\n",
        "\n",
        "query_engine = index.as_query_engine()"
      ]
    },
    {
      "cell_type": "code",
      "execution_count": 17,
      "id": "e7075af3-156e-4bde-8f76-6d9dee86861f",
      "metadata": {
        "id": "e7075af3-156e-4bde-8f76-6d9dee86861f"
      },
      "outputs": [],
      "source": [
        "response = query_engine.query(\"What will we do in part one?\")"
      ]
    },
    {
      "cell_type": "code",
      "execution_count": 18,
      "id": "b088c090",
      "metadata": {
        "id": "b088c090",
        "outputId": "9fbe3c14-767a-4407-a025-0dfca78aac1f"
      },
      "outputs": [
        {
          "name": "stdout",
          "output_type": "stream",
          "text": [
            "In part one, we will learn how to build AI Agents from scratch, understand how Generative AI is\n",
            "used, explore Toole/Function calling, examine how Multi Agents frameworks use traditional design\n",
            "patterns, briefly look at how to test Agentically, and evaluate our Agent.\n"
          ]
        }
      ],
      "source": [
        "print(textwrap.fill(str(response), 100))"
      ]
    },
    {
      "cell_type": "markdown",
      "id": "55745895-8f01-4275-abaa-b2ebef2cb4c7",
      "metadata": {
        "id": "55745895-8f01-4275-abaa-b2ebef2cb4c7"
      },
      "source": [
        "### Hybrid Search\n",
        "\n",
        "To enable hybrid search, you need to:\n",
        "1. pass in `hybrid_search=True` when constructing the `PGVectorStore` (and optionally configure `text_search_config` with the desired language)\n",
        "2. pass in `vector_store_query_mode=\"hybrid\"` when constructing the query engine (this config is passed to the retriever under the hood). You can also optionally set the `sparse_top_k` to configure how many results we should obtain from sparse text search (default is using the same value as `similarity_top_k`)."
      ]
    },
    {
      "cell_type": "markdown",
      "id": "74ac0f05",
      "metadata": {
        "id": "74ac0f05"
      },
      "source": [
        "#### Improving hybrid search with QueryFusionRetriever\n",
        "\n",
        "Since the scores for text search and vector search are calculated differently, the nodes that were found only by text search will have a much lower score.\n",
        "\n",
        "You can often improve hybrid search performance by using `QueryFusionRetriever`, which makes better use of the mutual information to rank the nodes."
      ]
    },
    {
      "cell_type": "code",
      "execution_count": 27,
      "id": "345ba0fb",
      "metadata": {
        "id": "345ba0fb"
      },
      "outputs": [],
      "source": [
        "from llama_index.core.response_synthesizers import CompactAndRefine\n",
        "from llama_index.core.retrievers import QueryFusionRetriever\n",
        "from llama_index.core.query_engine import RetrieverQueryEngine\n",
        "\n",
        "vector_retriever = hybrid_index.as_retriever(\n",
        "    vector_store_query_mode=\"default\",\n",
        "    similarity_top_k=5,\n",
        ")\n",
        "text_retriever = hybrid_index.as_retriever(\n",
        "    vector_store_query_mode=\"sparse\",\n",
        "    similarity_top_k=5,  # interchangeable with sparse_top_k in this context\n",
        ")\n",
        "retriever = QueryFusionRetriever(\n",
        "    [vector_retriever, text_retriever],\n",
        "    similarity_top_k=5,\n",
        "    num_queries=1,  # set this to 1 to disable query generation\n",
        "    mode=\"relative_score\",\n",
        "    use_async=False,\n",
        ")\n",
        "\n",
        "response_synthesizer = CompactAndRefine()\n",
        "query_engine = RetrieverQueryEngine(\n",
        "    retriever=retriever,\n",
        "    response_synthesizer=response_synthesizer,\n",
        ")"
      ]
    },
    {
      "cell_type": "code",
      "execution_count": 28,
      "id": "1a88c84e",
      "metadata": {
        "id": "1a88c84e",
        "outputId": "f7327d35-e4dc-4b2d-ae42-9138de726fa6"
      },
      "outputs": [
        {
          "ename": "AttributeError",
          "evalue": "type object 'Datameetup_hybrid' has no attribute 'text_search_tsv'",
          "output_type": "error",
          "traceback": [
            "\u001b[1;31m---------------------------------------------------------------------------\u001b[0m",
            "\u001b[1;31mAttributeError\u001b[0m                            Traceback (most recent call last)",
            "Cell \u001b[1;32mIn[28], line 1\u001b[0m\n\u001b[1;32m----> 1\u001b[0m response \u001b[38;5;241m=\u001b[39m \u001b[43mquery_engine\u001b[49m\u001b[38;5;241;43m.\u001b[39;49m\u001b[43mquery\u001b[49m\u001b[43m(\u001b[49m\n\u001b[0;32m      2\u001b[0m \u001b[43m    \u001b[49m\u001b[38;5;124;43m\"\u001b[39;49m\u001b[38;5;124;43mWhat are Craig\u001b[39;49m\u001b[38;5;124;43m'\u001b[39;49m\u001b[38;5;124;43ms linked and website?\u001b[39;49m\u001b[38;5;124;43m\"\u001b[39;49m\n\u001b[0;32m      3\u001b[0m \u001b[43m)\u001b[49m\n\u001b[0;32m      4\u001b[0m \u001b[38;5;28mprint\u001b[39m(response)\n",
            "File \u001b[1;32mc:\\Users\\mrcra\\Desktop\\RAG\\venv\\Lib\\site-packages\\llama_index\\core\\instrumentation\\dispatcher.py:322\u001b[0m, in \u001b[0;36mDispatcher.span.<locals>.wrapper\u001b[1;34m(func, instance, args, kwargs)\u001b[0m\n\u001b[0;32m    319\u001b[0m             _logger\u001b[38;5;241m.\u001b[39mdebug(\u001b[38;5;124mf\u001b[39m\u001b[38;5;124m\"\u001b[39m\u001b[38;5;124mFailed to reset active_span_id: \u001b[39m\u001b[38;5;132;01m{\u001b[39;00me\u001b[38;5;132;01m}\u001b[39;00m\u001b[38;5;124m\"\u001b[39m)\n\u001b[0;32m    321\u001b[0m \u001b[38;5;28;01mtry\u001b[39;00m:\n\u001b[1;32m--> 322\u001b[0m     result \u001b[38;5;241m=\u001b[39m \u001b[43mfunc\u001b[49m\u001b[43m(\u001b[49m\u001b[38;5;241;43m*\u001b[39;49m\u001b[43margs\u001b[49m\u001b[43m,\u001b[49m\u001b[43m \u001b[49m\u001b[38;5;241;43m*\u001b[39;49m\u001b[38;5;241;43m*\u001b[39;49m\u001b[43mkwargs\u001b[49m\u001b[43m)\u001b[49m\n\u001b[0;32m    323\u001b[0m     \u001b[38;5;28;01mif\u001b[39;00m \u001b[38;5;28misinstance\u001b[39m(result, asyncio\u001b[38;5;241m.\u001b[39mFuture):\n\u001b[0;32m    324\u001b[0m         \u001b[38;5;66;03m# If the result is a Future, wrap it\u001b[39;00m\n\u001b[0;32m    325\u001b[0m         new_future \u001b[38;5;241m=\u001b[39m asyncio\u001b[38;5;241m.\u001b[39mensure_future(result)\n",
            "File \u001b[1;32mc:\\Users\\mrcra\\Desktop\\RAG\\venv\\Lib\\site-packages\\llama_index\\core\\base\\base_query_engine.py:52\u001b[0m, in \u001b[0;36mBaseQueryEngine.query\u001b[1;34m(self, str_or_query_bundle)\u001b[0m\n\u001b[0;32m     50\u001b[0m     \u001b[38;5;28;01mif\u001b[39;00m \u001b[38;5;28misinstance\u001b[39m(str_or_query_bundle, \u001b[38;5;28mstr\u001b[39m):\n\u001b[0;32m     51\u001b[0m         str_or_query_bundle \u001b[38;5;241m=\u001b[39m QueryBundle(str_or_query_bundle)\n\u001b[1;32m---> 52\u001b[0m     query_result \u001b[38;5;241m=\u001b[39m \u001b[38;5;28;43mself\u001b[39;49m\u001b[38;5;241;43m.\u001b[39;49m\u001b[43m_query\u001b[49m\u001b[43m(\u001b[49m\u001b[43mstr_or_query_bundle\u001b[49m\u001b[43m)\u001b[49m\n\u001b[0;32m     53\u001b[0m dispatcher\u001b[38;5;241m.\u001b[39mevent(\n\u001b[0;32m     54\u001b[0m     QueryEndEvent(query\u001b[38;5;241m=\u001b[39mstr_or_query_bundle, response\u001b[38;5;241m=\u001b[39mquery_result)\n\u001b[0;32m     55\u001b[0m )\n\u001b[0;32m     56\u001b[0m \u001b[38;5;28;01mreturn\u001b[39;00m query_result\n",
            "File \u001b[1;32mc:\\Users\\mrcra\\Desktop\\RAG\\venv\\Lib\\site-packages\\llama_index\\core\\instrumentation\\dispatcher.py:322\u001b[0m, in \u001b[0;36mDispatcher.span.<locals>.wrapper\u001b[1;34m(func, instance, args, kwargs)\u001b[0m\n\u001b[0;32m    319\u001b[0m             _logger\u001b[38;5;241m.\u001b[39mdebug(\u001b[38;5;124mf\u001b[39m\u001b[38;5;124m\"\u001b[39m\u001b[38;5;124mFailed to reset active_span_id: \u001b[39m\u001b[38;5;132;01m{\u001b[39;00me\u001b[38;5;132;01m}\u001b[39;00m\u001b[38;5;124m\"\u001b[39m)\n\u001b[0;32m    321\u001b[0m \u001b[38;5;28;01mtry\u001b[39;00m:\n\u001b[1;32m--> 322\u001b[0m     result \u001b[38;5;241m=\u001b[39m \u001b[43mfunc\u001b[49m\u001b[43m(\u001b[49m\u001b[38;5;241;43m*\u001b[39;49m\u001b[43margs\u001b[49m\u001b[43m,\u001b[49m\u001b[43m \u001b[49m\u001b[38;5;241;43m*\u001b[39;49m\u001b[38;5;241;43m*\u001b[39;49m\u001b[43mkwargs\u001b[49m\u001b[43m)\u001b[49m\n\u001b[0;32m    323\u001b[0m     \u001b[38;5;28;01mif\u001b[39;00m \u001b[38;5;28misinstance\u001b[39m(result, asyncio\u001b[38;5;241m.\u001b[39mFuture):\n\u001b[0;32m    324\u001b[0m         \u001b[38;5;66;03m# If the result is a Future, wrap it\u001b[39;00m\n\u001b[0;32m    325\u001b[0m         new_future \u001b[38;5;241m=\u001b[39m asyncio\u001b[38;5;241m.\u001b[39mensure_future(result)\n",
            "File \u001b[1;32mc:\\Users\\mrcra\\Desktop\\RAG\\venv\\Lib\\site-packages\\llama_index\\core\\query_engine\\retriever_query_engine.py:178\u001b[0m, in \u001b[0;36mRetrieverQueryEngine._query\u001b[1;34m(self, query_bundle)\u001b[0m\n\u001b[0;32m    174\u001b[0m \u001b[38;5;250m\u001b[39m\u001b[38;5;124;03m\"\"\"Answer a query.\"\"\"\u001b[39;00m\n\u001b[0;32m    175\u001b[0m \u001b[38;5;28;01mwith\u001b[39;00m \u001b[38;5;28mself\u001b[39m\u001b[38;5;241m.\u001b[39mcallback_manager\u001b[38;5;241m.\u001b[39mevent(\n\u001b[0;32m    176\u001b[0m     CBEventType\u001b[38;5;241m.\u001b[39mQUERY, payload\u001b[38;5;241m=\u001b[39m{EventPayload\u001b[38;5;241m.\u001b[39mQUERY_STR: query_bundle\u001b[38;5;241m.\u001b[39mquery_str}\n\u001b[0;32m    177\u001b[0m ) \u001b[38;5;28;01mas\u001b[39;00m query_event:\n\u001b[1;32m--> 178\u001b[0m     nodes \u001b[38;5;241m=\u001b[39m \u001b[38;5;28;43mself\u001b[39;49m\u001b[38;5;241;43m.\u001b[39;49m\u001b[43mretrieve\u001b[49m\u001b[43m(\u001b[49m\u001b[43mquery_bundle\u001b[49m\u001b[43m)\u001b[49m\n\u001b[0;32m    179\u001b[0m     response \u001b[38;5;241m=\u001b[39m \u001b[38;5;28mself\u001b[39m\u001b[38;5;241m.\u001b[39m_response_synthesizer\u001b[38;5;241m.\u001b[39msynthesize(\n\u001b[0;32m    180\u001b[0m         query\u001b[38;5;241m=\u001b[39mquery_bundle,\n\u001b[0;32m    181\u001b[0m         nodes\u001b[38;5;241m=\u001b[39mnodes,\n\u001b[0;32m    182\u001b[0m     )\n\u001b[0;32m    183\u001b[0m     query_event\u001b[38;5;241m.\u001b[39mon_end(payload\u001b[38;5;241m=\u001b[39m{EventPayload\u001b[38;5;241m.\u001b[39mRESPONSE: response})\n",
            "File \u001b[1;32mc:\\Users\\mrcra\\Desktop\\RAG\\venv\\Lib\\site-packages\\llama_index\\core\\query_engine\\retriever_query_engine.py:133\u001b[0m, in \u001b[0;36mRetrieverQueryEngine.retrieve\u001b[1;34m(self, query_bundle)\u001b[0m\n\u001b[0;32m    132\u001b[0m \u001b[38;5;28;01mdef\u001b[39;00m \u001b[38;5;21mretrieve\u001b[39m(\u001b[38;5;28mself\u001b[39m, query_bundle: QueryBundle) \u001b[38;5;241m-\u001b[39m\u001b[38;5;241m>\u001b[39m List[NodeWithScore]:\n\u001b[1;32m--> 133\u001b[0m     nodes \u001b[38;5;241m=\u001b[39m \u001b[38;5;28;43mself\u001b[39;49m\u001b[38;5;241;43m.\u001b[39;49m\u001b[43m_retriever\u001b[49m\u001b[38;5;241;43m.\u001b[39;49m\u001b[43mretrieve\u001b[49m\u001b[43m(\u001b[49m\u001b[43mquery_bundle\u001b[49m\u001b[43m)\u001b[49m\n\u001b[0;32m    134\u001b[0m     \u001b[38;5;28;01mreturn\u001b[39;00m \u001b[38;5;28mself\u001b[39m\u001b[38;5;241m.\u001b[39m_apply_node_postprocessors(nodes, query_bundle\u001b[38;5;241m=\u001b[39mquery_bundle)\n",
            "File \u001b[1;32mc:\\Users\\mrcra\\Desktop\\RAG\\venv\\Lib\\site-packages\\llama_index\\core\\instrumentation\\dispatcher.py:322\u001b[0m, in \u001b[0;36mDispatcher.span.<locals>.wrapper\u001b[1;34m(func, instance, args, kwargs)\u001b[0m\n\u001b[0;32m    319\u001b[0m             _logger\u001b[38;5;241m.\u001b[39mdebug(\u001b[38;5;124mf\u001b[39m\u001b[38;5;124m\"\u001b[39m\u001b[38;5;124mFailed to reset active_span_id: \u001b[39m\u001b[38;5;132;01m{\u001b[39;00me\u001b[38;5;132;01m}\u001b[39;00m\u001b[38;5;124m\"\u001b[39m)\n\u001b[0;32m    321\u001b[0m \u001b[38;5;28;01mtry\u001b[39;00m:\n\u001b[1;32m--> 322\u001b[0m     result \u001b[38;5;241m=\u001b[39m \u001b[43mfunc\u001b[49m\u001b[43m(\u001b[49m\u001b[38;5;241;43m*\u001b[39;49m\u001b[43margs\u001b[49m\u001b[43m,\u001b[49m\u001b[43m \u001b[49m\u001b[38;5;241;43m*\u001b[39;49m\u001b[38;5;241;43m*\u001b[39;49m\u001b[43mkwargs\u001b[49m\u001b[43m)\u001b[49m\n\u001b[0;32m    323\u001b[0m     \u001b[38;5;28;01mif\u001b[39;00m \u001b[38;5;28misinstance\u001b[39m(result, asyncio\u001b[38;5;241m.\u001b[39mFuture):\n\u001b[0;32m    324\u001b[0m         \u001b[38;5;66;03m# If the result is a Future, wrap it\u001b[39;00m\n\u001b[0;32m    325\u001b[0m         new_future \u001b[38;5;241m=\u001b[39m asyncio\u001b[38;5;241m.\u001b[39mensure_future(result)\n",
            "File \u001b[1;32mc:\\Users\\mrcra\\Desktop\\RAG\\venv\\Lib\\site-packages\\llama_index\\core\\base\\base_retriever.py:245\u001b[0m, in \u001b[0;36mBaseRetriever.retrieve\u001b[1;34m(self, str_or_query_bundle)\u001b[0m\n\u001b[0;32m    240\u001b[0m \u001b[38;5;28;01mwith\u001b[39;00m \u001b[38;5;28mself\u001b[39m\u001b[38;5;241m.\u001b[39mcallback_manager\u001b[38;5;241m.\u001b[39mas_trace(\u001b[38;5;124m\"\u001b[39m\u001b[38;5;124mquery\u001b[39m\u001b[38;5;124m\"\u001b[39m):\n\u001b[0;32m    241\u001b[0m     \u001b[38;5;28;01mwith\u001b[39;00m \u001b[38;5;28mself\u001b[39m\u001b[38;5;241m.\u001b[39mcallback_manager\u001b[38;5;241m.\u001b[39mevent(\n\u001b[0;32m    242\u001b[0m         CBEventType\u001b[38;5;241m.\u001b[39mRETRIEVE,\n\u001b[0;32m    243\u001b[0m         payload\u001b[38;5;241m=\u001b[39m{EventPayload\u001b[38;5;241m.\u001b[39mQUERY_STR: query_bundle\u001b[38;5;241m.\u001b[39mquery_str},\n\u001b[0;32m    244\u001b[0m     ) \u001b[38;5;28;01mas\u001b[39;00m retrieve_event:\n\u001b[1;32m--> 245\u001b[0m         nodes \u001b[38;5;241m=\u001b[39m \u001b[38;5;28;43mself\u001b[39;49m\u001b[38;5;241;43m.\u001b[39;49m\u001b[43m_retrieve\u001b[49m\u001b[43m(\u001b[49m\u001b[43mquery_bundle\u001b[49m\u001b[43m)\u001b[49m\n\u001b[0;32m    246\u001b[0m         nodes \u001b[38;5;241m=\u001b[39m \u001b[38;5;28mself\u001b[39m\u001b[38;5;241m.\u001b[39m_handle_recursive_retrieval(query_bundle, nodes)\n\u001b[0;32m    247\u001b[0m         retrieve_event\u001b[38;5;241m.\u001b[39mon_end(\n\u001b[0;32m    248\u001b[0m             payload\u001b[38;5;241m=\u001b[39m{EventPayload\u001b[38;5;241m.\u001b[39mNODES: nodes},\n\u001b[0;32m    249\u001b[0m         )\n",
            "File \u001b[1;32mc:\\Users\\mrcra\\Desktop\\RAG\\venv\\Lib\\site-packages\\llama_index\\core\\instrumentation\\dispatcher.py:322\u001b[0m, in \u001b[0;36mDispatcher.span.<locals>.wrapper\u001b[1;34m(func, instance, args, kwargs)\u001b[0m\n\u001b[0;32m    319\u001b[0m             _logger\u001b[38;5;241m.\u001b[39mdebug(\u001b[38;5;124mf\u001b[39m\u001b[38;5;124m\"\u001b[39m\u001b[38;5;124mFailed to reset active_span_id: \u001b[39m\u001b[38;5;132;01m{\u001b[39;00me\u001b[38;5;132;01m}\u001b[39;00m\u001b[38;5;124m\"\u001b[39m)\n\u001b[0;32m    321\u001b[0m \u001b[38;5;28;01mtry\u001b[39;00m:\n\u001b[1;32m--> 322\u001b[0m     result \u001b[38;5;241m=\u001b[39m \u001b[43mfunc\u001b[49m\u001b[43m(\u001b[49m\u001b[38;5;241;43m*\u001b[39;49m\u001b[43margs\u001b[49m\u001b[43m,\u001b[49m\u001b[43m \u001b[49m\u001b[38;5;241;43m*\u001b[39;49m\u001b[38;5;241;43m*\u001b[39;49m\u001b[43mkwargs\u001b[49m\u001b[43m)\u001b[49m\n\u001b[0;32m    323\u001b[0m     \u001b[38;5;28;01mif\u001b[39;00m \u001b[38;5;28misinstance\u001b[39m(result, asyncio\u001b[38;5;241m.\u001b[39mFuture):\n\u001b[0;32m    324\u001b[0m         \u001b[38;5;66;03m# If the result is a Future, wrap it\u001b[39;00m\n\u001b[0;32m    325\u001b[0m         new_future \u001b[38;5;241m=\u001b[39m asyncio\u001b[38;5;241m.\u001b[39mensure_future(result)\n",
            "File \u001b[1;32mc:\\Users\\mrcra\\Desktop\\RAG\\venv\\Lib\\site-packages\\llama_index\\core\\retrievers\\fusion_retriever.py:271\u001b[0m, in \u001b[0;36mQueryFusionRetriever._retrieve\u001b[1;34m(self, query_bundle)\u001b[0m\n\u001b[0;32m    269\u001b[0m     results \u001b[38;5;241m=\u001b[39m \u001b[38;5;28mself\u001b[39m\u001b[38;5;241m.\u001b[39m_run_nested_async_queries(queries)\n\u001b[0;32m    270\u001b[0m \u001b[38;5;28;01melse\u001b[39;00m:\n\u001b[1;32m--> 271\u001b[0m     results \u001b[38;5;241m=\u001b[39m \u001b[38;5;28;43mself\u001b[39;49m\u001b[38;5;241;43m.\u001b[39;49m\u001b[43m_run_sync_queries\u001b[49m\u001b[43m(\u001b[49m\u001b[43mqueries\u001b[49m\u001b[43m)\u001b[49m\n\u001b[0;32m    273\u001b[0m \u001b[38;5;28;01mif\u001b[39;00m \u001b[38;5;28mself\u001b[39m\u001b[38;5;241m.\u001b[39mmode \u001b[38;5;241m==\u001b[39m FUSION_MODES\u001b[38;5;241m.\u001b[39mRECIPROCAL_RANK:\n\u001b[0;32m    274\u001b[0m     \u001b[38;5;28;01mreturn\u001b[39;00m \u001b[38;5;28mself\u001b[39m\u001b[38;5;241m.\u001b[39m_reciprocal_rerank_fusion(results)[: \u001b[38;5;28mself\u001b[39m\u001b[38;5;241m.\u001b[39msimilarity_top_k]\n",
            "File \u001b[1;32mc:\\Users\\mrcra\\Desktop\\RAG\\venv\\Lib\\site-packages\\llama_index\\core\\retrievers\\fusion_retriever.py:259\u001b[0m, in \u001b[0;36mQueryFusionRetriever._run_sync_queries\u001b[1;34m(self, queries)\u001b[0m\n\u001b[0;32m    257\u001b[0m \u001b[38;5;28;01mfor\u001b[39;00m query \u001b[38;5;129;01min\u001b[39;00m queries:\n\u001b[0;32m    258\u001b[0m     \u001b[38;5;28;01mfor\u001b[39;00m i, retriever \u001b[38;5;129;01min\u001b[39;00m \u001b[38;5;28menumerate\u001b[39m(\u001b[38;5;28mself\u001b[39m\u001b[38;5;241m.\u001b[39m_retrievers):\n\u001b[1;32m--> 259\u001b[0m         results[(query\u001b[38;5;241m.\u001b[39mquery_str, i)] \u001b[38;5;241m=\u001b[39m \u001b[43mretriever\u001b[49m\u001b[38;5;241;43m.\u001b[39;49m\u001b[43mretrieve\u001b[49m\u001b[43m(\u001b[49m\u001b[43mquery\u001b[49m\u001b[43m)\u001b[49m\n\u001b[0;32m    261\u001b[0m \u001b[38;5;28;01mreturn\u001b[39;00m results\n",
            "File \u001b[1;32mc:\\Users\\mrcra\\Desktop\\RAG\\venv\\Lib\\site-packages\\llama_index\\core\\instrumentation\\dispatcher.py:322\u001b[0m, in \u001b[0;36mDispatcher.span.<locals>.wrapper\u001b[1;34m(func, instance, args, kwargs)\u001b[0m\n\u001b[0;32m    319\u001b[0m             _logger\u001b[38;5;241m.\u001b[39mdebug(\u001b[38;5;124mf\u001b[39m\u001b[38;5;124m\"\u001b[39m\u001b[38;5;124mFailed to reset active_span_id: \u001b[39m\u001b[38;5;132;01m{\u001b[39;00me\u001b[38;5;132;01m}\u001b[39;00m\u001b[38;5;124m\"\u001b[39m)\n\u001b[0;32m    321\u001b[0m \u001b[38;5;28;01mtry\u001b[39;00m:\n\u001b[1;32m--> 322\u001b[0m     result \u001b[38;5;241m=\u001b[39m \u001b[43mfunc\u001b[49m\u001b[43m(\u001b[49m\u001b[38;5;241;43m*\u001b[39;49m\u001b[43margs\u001b[49m\u001b[43m,\u001b[49m\u001b[43m \u001b[49m\u001b[38;5;241;43m*\u001b[39;49m\u001b[38;5;241;43m*\u001b[39;49m\u001b[43mkwargs\u001b[49m\u001b[43m)\u001b[49m\n\u001b[0;32m    323\u001b[0m     \u001b[38;5;28;01mif\u001b[39;00m \u001b[38;5;28misinstance\u001b[39m(result, asyncio\u001b[38;5;241m.\u001b[39mFuture):\n\u001b[0;32m    324\u001b[0m         \u001b[38;5;66;03m# If the result is a Future, wrap it\u001b[39;00m\n\u001b[0;32m    325\u001b[0m         new_future \u001b[38;5;241m=\u001b[39m asyncio\u001b[38;5;241m.\u001b[39mensure_future(result)\n",
            "File \u001b[1;32mc:\\Users\\mrcra\\Desktop\\RAG\\venv\\Lib\\site-packages\\llama_index\\core\\base\\base_retriever.py:245\u001b[0m, in \u001b[0;36mBaseRetriever.retrieve\u001b[1;34m(self, str_or_query_bundle)\u001b[0m\n\u001b[0;32m    240\u001b[0m \u001b[38;5;28;01mwith\u001b[39;00m \u001b[38;5;28mself\u001b[39m\u001b[38;5;241m.\u001b[39mcallback_manager\u001b[38;5;241m.\u001b[39mas_trace(\u001b[38;5;124m\"\u001b[39m\u001b[38;5;124mquery\u001b[39m\u001b[38;5;124m\"\u001b[39m):\n\u001b[0;32m    241\u001b[0m     \u001b[38;5;28;01mwith\u001b[39;00m \u001b[38;5;28mself\u001b[39m\u001b[38;5;241m.\u001b[39mcallback_manager\u001b[38;5;241m.\u001b[39mevent(\n\u001b[0;32m    242\u001b[0m         CBEventType\u001b[38;5;241m.\u001b[39mRETRIEVE,\n\u001b[0;32m    243\u001b[0m         payload\u001b[38;5;241m=\u001b[39m{EventPayload\u001b[38;5;241m.\u001b[39mQUERY_STR: query_bundle\u001b[38;5;241m.\u001b[39mquery_str},\n\u001b[0;32m    244\u001b[0m     ) \u001b[38;5;28;01mas\u001b[39;00m retrieve_event:\n\u001b[1;32m--> 245\u001b[0m         nodes \u001b[38;5;241m=\u001b[39m \u001b[38;5;28;43mself\u001b[39;49m\u001b[38;5;241;43m.\u001b[39;49m\u001b[43m_retrieve\u001b[49m\u001b[43m(\u001b[49m\u001b[43mquery_bundle\u001b[49m\u001b[43m)\u001b[49m\n\u001b[0;32m    246\u001b[0m         nodes \u001b[38;5;241m=\u001b[39m \u001b[38;5;28mself\u001b[39m\u001b[38;5;241m.\u001b[39m_handle_recursive_retrieval(query_bundle, nodes)\n\u001b[0;32m    247\u001b[0m         retrieve_event\u001b[38;5;241m.\u001b[39mon_end(\n\u001b[0;32m    248\u001b[0m             payload\u001b[38;5;241m=\u001b[39m{EventPayload\u001b[38;5;241m.\u001b[39mNODES: nodes},\n\u001b[0;32m    249\u001b[0m         )\n",
            "File \u001b[1;32mc:\\Users\\mrcra\\Desktop\\RAG\\venv\\Lib\\site-packages\\llama_index\\core\\instrumentation\\dispatcher.py:322\u001b[0m, in \u001b[0;36mDispatcher.span.<locals>.wrapper\u001b[1;34m(func, instance, args, kwargs)\u001b[0m\n\u001b[0;32m    319\u001b[0m             _logger\u001b[38;5;241m.\u001b[39mdebug(\u001b[38;5;124mf\u001b[39m\u001b[38;5;124m\"\u001b[39m\u001b[38;5;124mFailed to reset active_span_id: \u001b[39m\u001b[38;5;132;01m{\u001b[39;00me\u001b[38;5;132;01m}\u001b[39;00m\u001b[38;5;124m\"\u001b[39m)\n\u001b[0;32m    321\u001b[0m \u001b[38;5;28;01mtry\u001b[39;00m:\n\u001b[1;32m--> 322\u001b[0m     result \u001b[38;5;241m=\u001b[39m \u001b[43mfunc\u001b[49m\u001b[43m(\u001b[49m\u001b[38;5;241;43m*\u001b[39;49m\u001b[43margs\u001b[49m\u001b[43m,\u001b[49m\u001b[43m \u001b[49m\u001b[38;5;241;43m*\u001b[39;49m\u001b[38;5;241;43m*\u001b[39;49m\u001b[43mkwargs\u001b[49m\u001b[43m)\u001b[49m\n\u001b[0;32m    323\u001b[0m     \u001b[38;5;28;01mif\u001b[39;00m \u001b[38;5;28misinstance\u001b[39m(result, asyncio\u001b[38;5;241m.\u001b[39mFuture):\n\u001b[0;32m    324\u001b[0m         \u001b[38;5;66;03m# If the result is a Future, wrap it\u001b[39;00m\n\u001b[0;32m    325\u001b[0m         new_future \u001b[38;5;241m=\u001b[39m asyncio\u001b[38;5;241m.\u001b[39mensure_future(result)\n",
            "File \u001b[1;32mc:\\Users\\mrcra\\Desktop\\RAG\\venv\\Lib\\site-packages\\llama_index\\core\\indices\\vector_store\\retrievers\\retriever.py:103\u001b[0m, in \u001b[0;36mVectorIndexRetriever._retrieve\u001b[1;34m(self, query_bundle)\u001b[0m\n\u001b[0;32m     97\u001b[0m     \u001b[38;5;28;01mif\u001b[39;00m query_bundle\u001b[38;5;241m.\u001b[39membedding \u001b[38;5;129;01mis\u001b[39;00m \u001b[38;5;28;01mNone\u001b[39;00m \u001b[38;5;129;01mand\u001b[39;00m \u001b[38;5;28mlen\u001b[39m(query_bundle\u001b[38;5;241m.\u001b[39membedding_strs) \u001b[38;5;241m>\u001b[39m \u001b[38;5;241m0\u001b[39m:\n\u001b[0;32m     98\u001b[0m         query_bundle\u001b[38;5;241m.\u001b[39membedding \u001b[38;5;241m=\u001b[39m (\n\u001b[0;32m     99\u001b[0m             \u001b[38;5;28mself\u001b[39m\u001b[38;5;241m.\u001b[39m_embed_model\u001b[38;5;241m.\u001b[39mget_agg_embedding_from_queries(\n\u001b[0;32m    100\u001b[0m                 query_bundle\u001b[38;5;241m.\u001b[39membedding_strs\n\u001b[0;32m    101\u001b[0m             )\n\u001b[0;32m    102\u001b[0m         )\n\u001b[1;32m--> 103\u001b[0m \u001b[38;5;28;01mreturn\u001b[39;00m \u001b[38;5;28;43mself\u001b[39;49m\u001b[38;5;241;43m.\u001b[39;49m\u001b[43m_get_nodes_with_embeddings\u001b[49m\u001b[43m(\u001b[49m\u001b[43mquery_bundle\u001b[49m\u001b[43m)\u001b[49m\n",
            "File \u001b[1;32mc:\\Users\\mrcra\\Desktop\\RAG\\venv\\Lib\\site-packages\\llama_index\\core\\indices\\vector_store\\retrievers\\retriever.py:180\u001b[0m, in \u001b[0;36mVectorIndexRetriever._get_nodes_with_embeddings\u001b[1;34m(self, query_bundle_with_embeddings)\u001b[0m\n\u001b[0;32m    176\u001b[0m \u001b[38;5;28;01mdef\u001b[39;00m \u001b[38;5;21m_get_nodes_with_embeddings\u001b[39m(\n\u001b[0;32m    177\u001b[0m     \u001b[38;5;28mself\u001b[39m, query_bundle_with_embeddings: QueryBundle\n\u001b[0;32m    178\u001b[0m ) \u001b[38;5;241m-\u001b[39m\u001b[38;5;241m>\u001b[39m List[NodeWithScore]:\n\u001b[0;32m    179\u001b[0m     query \u001b[38;5;241m=\u001b[39m \u001b[38;5;28mself\u001b[39m\u001b[38;5;241m.\u001b[39m_build_vector_store_query(query_bundle_with_embeddings)\n\u001b[1;32m--> 180\u001b[0m     query_result \u001b[38;5;241m=\u001b[39m \u001b[38;5;28;43mself\u001b[39;49m\u001b[38;5;241;43m.\u001b[39;49m\u001b[43m_vector_store\u001b[49m\u001b[38;5;241;43m.\u001b[39;49m\u001b[43mquery\u001b[49m\u001b[43m(\u001b[49m\u001b[43mquery\u001b[49m\u001b[43m,\u001b[49m\u001b[43m \u001b[49m\u001b[38;5;241;43m*\u001b[39;49m\u001b[38;5;241;43m*\u001b[39;49m\u001b[38;5;28;43mself\u001b[39;49m\u001b[38;5;241;43m.\u001b[39;49m\u001b[43m_kwargs\u001b[49m\u001b[43m)\u001b[49m\n\u001b[0;32m    181\u001b[0m     \u001b[38;5;28;01mreturn\u001b[39;00m \u001b[38;5;28mself\u001b[39m\u001b[38;5;241m.\u001b[39m_build_node_list_from_query_result(query_result)\n",
            "File \u001b[1;32mc:\\Users\\mrcra\\Desktop\\RAG\\venv\\Lib\\site-packages\\llama_index\\vector_stores\\postgres\\base.py:940\u001b[0m, in \u001b[0;36mPGVectorStore.query\u001b[1;34m(self, query, **kwargs)\u001b[0m\n\u001b[0;32m    935\u001b[0m \u001b[38;5;28;01melif\u001b[39;00m query\u001b[38;5;241m.\u001b[39mmode \u001b[38;5;129;01min\u001b[39;00m [\n\u001b[0;32m    936\u001b[0m     VectorStoreQueryMode\u001b[38;5;241m.\u001b[39mSPARSE,\n\u001b[0;32m    937\u001b[0m     VectorStoreQueryMode\u001b[38;5;241m.\u001b[39mTEXT_SEARCH,\n\u001b[0;32m    938\u001b[0m ]:\n\u001b[0;32m    939\u001b[0m     sparse_top_k \u001b[38;5;241m=\u001b[39m query\u001b[38;5;241m.\u001b[39msparse_top_k \u001b[38;5;129;01mor\u001b[39;00m query\u001b[38;5;241m.\u001b[39msimilarity_top_k\n\u001b[1;32m--> 940\u001b[0m     results \u001b[38;5;241m=\u001b[39m \u001b[38;5;28;43mself\u001b[39;49m\u001b[38;5;241;43m.\u001b[39;49m\u001b[43m_sparse_query_with_rank\u001b[49m\u001b[43m(\u001b[49m\n\u001b[0;32m    941\u001b[0m \u001b[43m        \u001b[49m\u001b[43mquery\u001b[49m\u001b[38;5;241;43m.\u001b[39;49m\u001b[43mquery_str\u001b[49m\u001b[43m,\u001b[49m\u001b[43m \u001b[49m\u001b[43msparse_top_k\u001b[49m\u001b[43m,\u001b[49m\u001b[43m \u001b[49m\u001b[43mquery\u001b[49m\u001b[38;5;241;43m.\u001b[39;49m\u001b[43mfilters\u001b[49m\n\u001b[0;32m    942\u001b[0m \u001b[43m    \u001b[49m\u001b[43m)\u001b[49m\n\u001b[0;32m    943\u001b[0m \u001b[38;5;28;01melif\u001b[39;00m query\u001b[38;5;241m.\u001b[39mmode \u001b[38;5;241m==\u001b[39m VectorStoreQueryMode\u001b[38;5;241m.\u001b[39mDEFAULT:\n\u001b[0;32m    944\u001b[0m     results \u001b[38;5;241m=\u001b[39m \u001b[38;5;28mself\u001b[39m\u001b[38;5;241m.\u001b[39m_query_with_score(\n\u001b[0;32m    945\u001b[0m         query\u001b[38;5;241m.\u001b[39mquery_embedding,\n\u001b[0;32m    946\u001b[0m         query\u001b[38;5;241m.\u001b[39msimilarity_top_k,\n\u001b[0;32m    947\u001b[0m         query\u001b[38;5;241m.\u001b[39mfilters,\n\u001b[0;32m    948\u001b[0m         \u001b[38;5;241m*\u001b[39m\u001b[38;5;241m*\u001b[39mkwargs,\n\u001b[0;32m    949\u001b[0m     )\n",
            "File \u001b[1;32mc:\\Users\\mrcra\\Desktop\\RAG\\venv\\Lib\\site-packages\\llama_index\\vector_stores\\postgres\\base.py:817\u001b[0m, in \u001b[0;36mPGVectorStore._sparse_query_with_rank\u001b[1;34m(self, query_str, limit, metadata_filters)\u001b[0m\n\u001b[0;32m    811\u001b[0m \u001b[38;5;28;01mdef\u001b[39;00m \u001b[38;5;21m_sparse_query_with_rank\u001b[39m(\n\u001b[0;32m    812\u001b[0m     \u001b[38;5;28mself\u001b[39m,\n\u001b[0;32m    813\u001b[0m     query_str: Optional[\u001b[38;5;28mstr\u001b[39m] \u001b[38;5;241m=\u001b[39m \u001b[38;5;28;01mNone\u001b[39;00m,\n\u001b[0;32m    814\u001b[0m     limit: \u001b[38;5;28mint\u001b[39m \u001b[38;5;241m=\u001b[39m \u001b[38;5;241m10\u001b[39m,\n\u001b[0;32m    815\u001b[0m     metadata_filters: Optional[MetadataFilters] \u001b[38;5;241m=\u001b[39m \u001b[38;5;28;01mNone\u001b[39;00m,\n\u001b[0;32m    816\u001b[0m ) \u001b[38;5;241m-\u001b[39m\u001b[38;5;241m>\u001b[39m List[DBEmbeddingRow]:\n\u001b[1;32m--> 817\u001b[0m     stmt \u001b[38;5;241m=\u001b[39m \u001b[38;5;28;43mself\u001b[39;49m\u001b[38;5;241;43m.\u001b[39;49m\u001b[43m_build_sparse_query\u001b[49m\u001b[43m(\u001b[49m\u001b[43mquery_str\u001b[49m\u001b[43m,\u001b[49m\u001b[43m \u001b[49m\u001b[43mlimit\u001b[49m\u001b[43m,\u001b[49m\u001b[43m \u001b[49m\u001b[43mmetadata_filters\u001b[49m\u001b[43m)\u001b[49m\n\u001b[0;32m    818\u001b[0m     \u001b[38;5;28;01mwith\u001b[39;00m \u001b[38;5;28mself\u001b[39m\u001b[38;5;241m.\u001b[39m_session() \u001b[38;5;28;01mas\u001b[39;00m session, session\u001b[38;5;241m.\u001b[39mbegin():\n\u001b[0;32m    819\u001b[0m         res \u001b[38;5;241m=\u001b[39m session\u001b[38;5;241m.\u001b[39mexecute(stmt)\n",
            "File \u001b[1;32mc:\\Users\\mrcra\\Desktop\\RAG\\venv\\Lib\\site-packages\\llama_index\\vector_stores\\postgres\\base.py:783\u001b[0m, in \u001b[0;36mPGVectorStore._build_sparse_query\u001b[1;34m(self, query_str, limit, metadata_filters)\u001b[0m\n\u001b[0;32m    765\u001b[0m \u001b[38;5;66;03m# Replace '&' with '|' to perform an OR search for higher recall\u001b[39;00m\n\u001b[0;32m    766\u001b[0m ts_query \u001b[38;5;241m=\u001b[39m func\u001b[38;5;241m.\u001b[39mto_tsquery(\n\u001b[0;32m    767\u001b[0m     func\u001b[38;5;241m.\u001b[39mreplace(\n\u001b[0;32m    768\u001b[0m         func\u001b[38;5;241m.\u001b[39mtext(\n\u001b[1;32m   (...)\u001b[0m\n\u001b[0;32m    775\u001b[0m     )\n\u001b[0;32m    776\u001b[0m )\n\u001b[0;32m    777\u001b[0m stmt \u001b[38;5;241m=\u001b[39m (\n\u001b[0;32m    778\u001b[0m     select(  \u001b[38;5;66;03m# type: ignore\u001b[39;00m\n\u001b[0;32m    779\u001b[0m         \u001b[38;5;28mself\u001b[39m\u001b[38;5;241m.\u001b[39m_table_class\u001b[38;5;241m.\u001b[39mid,\n\u001b[0;32m    780\u001b[0m         \u001b[38;5;28mself\u001b[39m\u001b[38;5;241m.\u001b[39m_table_class\u001b[38;5;241m.\u001b[39mnode_id,\n\u001b[0;32m    781\u001b[0m         \u001b[38;5;28mself\u001b[39m\u001b[38;5;241m.\u001b[39m_table_class\u001b[38;5;241m.\u001b[39mtext,\n\u001b[0;32m    782\u001b[0m         \u001b[38;5;28mself\u001b[39m\u001b[38;5;241m.\u001b[39m_table_class\u001b[38;5;241m.\u001b[39mmetadata_,\n\u001b[1;32m--> 783\u001b[0m         func\u001b[38;5;241m.\u001b[39mts_rank(\u001b[38;5;28;43mself\u001b[39;49m\u001b[38;5;241;43m.\u001b[39;49m\u001b[43m_table_class\u001b[49m\u001b[38;5;241;43m.\u001b[39;49m\u001b[43mtext_search_tsv\u001b[49m, ts_query)\u001b[38;5;241m.\u001b[39mlabel(\u001b[38;5;124m\"\u001b[39m\u001b[38;5;124mrank\u001b[39m\u001b[38;5;124m\"\u001b[39m),\n\u001b[0;32m    784\u001b[0m     )\n\u001b[0;32m    785\u001b[0m     \u001b[38;5;241m.\u001b[39mwhere(\u001b[38;5;28mself\u001b[39m\u001b[38;5;241m.\u001b[39m_table_class\u001b[38;5;241m.\u001b[39mtext_search_tsv\u001b[38;5;241m.\u001b[39mop(\u001b[38;5;124m\"\u001b[39m\u001b[38;5;124m@@\u001b[39m\u001b[38;5;124m\"\u001b[39m)(ts_query))\n\u001b[0;32m    786\u001b[0m     \u001b[38;5;241m.\u001b[39morder_by(text(\u001b[38;5;124m\"\u001b[39m\u001b[38;5;124mrank desc\u001b[39m\u001b[38;5;124m\"\u001b[39m))\n\u001b[0;32m    787\u001b[0m )\n\u001b[0;32m    789\u001b[0m \u001b[38;5;66;03m# type: ignore\u001b[39;00m\n\u001b[0;32m    790\u001b[0m \u001b[38;5;28;01mreturn\u001b[39;00m \u001b[38;5;28mself\u001b[39m\u001b[38;5;241m.\u001b[39m_apply_filters_and_limit(stmt, limit, metadata_filters)\n",
            "\u001b[1;31mAttributeError\u001b[0m: type object 'Datameetup_hybrid' has no attribute 'text_search_tsv'"
          ]
        }
      ],
      "source": [
        "response = query_engine.query(\n",
        "    \"What are Craig's linked and website?\"\n",
        ")\n",
        "print(response)"
      ]
    },
    {
      "cell_type": "markdown",
      "id": "2e5e8083",
      "metadata": {
        "id": "2e5e8083"
      },
      "source": [
        "### Metadata filters\n",
        "\n",
        "PGVectorStore supports storing metadata in nodes, and filtering based on that metadata during the retrieval step."
      ]
    },
    {
      "cell_type": "markdown",
      "id": "2d0ad3fc",
      "metadata": {
        "id": "2d0ad3fc"
      },
      "source": [
        "#### Download git commits dataset"
      ]
    },
    {
      "cell_type": "code",
      "execution_count": null,
      "id": "63e90a89",
      "metadata": {
        "id": "63e90a89"
      },
      "outputs": [],
      "source": [
        "!mkdir -p 'data/git_commits/'\n",
        "!wget 'https://raw.githubusercontent.com/run-llama/llama_index/main/docs/docs/examples/data/csv/commit_history.csv' -O 'data/git_commits/commit_history.csv'"
      ]
    },
    {
      "cell_type": "code",
      "execution_count": null,
      "id": "fef41f44",
      "metadata": {
        "id": "fef41f44",
        "outputId": "e8590848-610e-4df8-a60d-8ed62ee5ad6f"
      },
      "outputs": [
        {
          "name": "stdout",
          "output_type": "stream",
          "text": [
            "{'commit': '44e41c12ab25e36c202f58e068ced262eadc8d16', 'author': 'Lakshmi Narayanan Sreethar<lakshmi@timescale.com>', 'date': 'Tue Sep 5 21:03:21 2023 +0530', 'change summary': 'Fix segfault in set_integer_now_func', 'change details': 'When an invalid function oid is passed to set_integer_now_func, it finds out that the function oid is invalid but before throwing the error, it calls ReleaseSysCache on an invalid tuple causing a segfault. Fixed that by removing the invalid call to ReleaseSysCache.  Fixes #6037 '}\n",
            "4167\n"
          ]
        }
      ],
      "source": [
        "import csv\n",
        "\n",
        "with open(\"data/git_commits/commit_history.csv\", \"r\") as f:\n",
        "    commits = list(csv.DictReader(f))\n",
        "\n",
        "print(commits[0])\n",
        "print(len(commits))"
      ]
    },
    {
      "cell_type": "markdown",
      "id": "3b0d9f47",
      "metadata": {
        "id": "3b0d9f47"
      },
      "source": [
        "#### Add nodes with custom metadata"
      ]
    },
    {
      "cell_type": "code",
      "execution_count": null,
      "id": "3920109b",
      "metadata": {
        "id": "3920109b",
        "outputId": "2645365a-1b56-4d89-9387-d0455b8d1ae2"
      },
      "outputs": [
        {
          "name": "stdout",
          "output_type": "stream",
          "text": [
            "Node ID: 50fdca05-b1ce-41d8-b771-b13aa3ad7df0\n",
            "Text: Fix segfault in set_integer_now_func  When an invalid function\n",
            "oid is passed to set_integer_now_func, it finds out that the function\n",
            "oid is invalid but before throwing the error, it calls ReleaseSysCache\n",
            "on an invalid tuple causing a segfault. Fixed that by removing the\n",
            "invalid call to ReleaseSysCache.  Fixes #6037\n",
            "2023-03-22 to 2023-09-05\n",
            "{'dmitry@timescale.com', 'jguthrie@timescale.com', 'lakshmi@timescale.com', 'rafia.sabih@gmail.com', 'sven@timescale.com', 'konstantina@timescale.com', 'engel@sero-systems.de', 'nikhil@timescale.com', '36882414+akuzm@users.noreply.github.com', 'mats@timescale.com', 'satish.8483@gmail.com', 'fabriziomello@gmail.com', 'me@noctarius.com', 'erik@timescale.com', 'jan@timescale.com'}\n"
          ]
        }
      ],
      "source": [
        "# Create TextNode for each of the first 100 commits\n",
        "from llama_index.core.schema import TextNode\n",
        "from datetime import datetime\n",
        "import re\n",
        "\n",
        "nodes = []\n",
        "dates = set()\n",
        "authors = set()\n",
        "for commit in commits[:100]:\n",
        "    author_email = commit[\"author\"].split(\"<\")[1][:-1]\n",
        "    commit_date = datetime.strptime(commit[\"date\"], \"%a %b %d %H:%M:%S %Y %z\").strftime(\n",
        "        \"%Y-%m-%d\"\n",
        "    )\n",
        "    commit_text = commit[\"change summary\"]\n",
        "    if commit[\"change details\"]:\n",
        "        commit_text += \"\\n\\n\" + commit[\"change details\"]\n",
        "    fixes = re.findall(r\"#(\\d+)\", commit_text, re.IGNORECASE)\n",
        "    nodes.append(\n",
        "        TextNode(\n",
        "            text=commit_text,\n",
        "            metadata={\n",
        "                \"commit_date\": commit_date,\n",
        "                \"author\": author_email,\n",
        "                \"fixes\": fixes,\n",
        "            },\n",
        "        )\n",
        "    )\n",
        "    dates.add(commit_date)\n",
        "    authors.add(author_email)\n",
        "\n",
        "print(nodes[0])\n",
        "print(min(dates), \"to\", max(dates))\n",
        "print(authors)"
      ]
    },
    {
      "cell_type": "code",
      "execution_count": null,
      "id": "a638f76a",
      "metadata": {
        "id": "a638f76a"
      },
      "outputs": [],
      "source": [
        "vector_store = PGVectorStore.from_params(\n",
        "    database=db_name,\n",
        "    host=url.host,\n",
        "    password=url.password,\n",
        "    port=url.port,\n",
        "    user=url.username,\n",
        "    table_name=\"metadata_filter_demo3\",\n",
        "    embed_dim=1536,  # openai embedding dimension\n",
        "    hnsw_kwargs={\n",
        "        \"hnsw_m\": 16,\n",
        "        \"hnsw_ef_construction\": 64,\n",
        "        \"hnsw_ef_search\": 40,\n",
        "        \"hnsw_dist_method\": \"vector_cosine_ops\",\n",
        "    },\n",
        ")\n",
        "\n",
        "index = VectorStoreIndex.from_vector_store(vector_store=vector_store)\n",
        "index.insert_nodes(nodes)"
      ]
    },
    {
      "cell_type": "code",
      "execution_count": null,
      "id": "15f7cf45",
      "metadata": {
        "id": "15f7cf45",
        "outputId": "5633aa02-c757-4545-ab0d-7e29704ddd95"
      },
      "outputs": [
        {
          "name": "stdout",
          "output_type": "stream",
          "text": [
            "Lakshmi fixed the segfault by removing the invalid call to ReleaseSysCache that was causing the issue.\n"
          ]
        }
      ],
      "source": [
        "print(index.as_query_engine().query(\"How did Lakshmi fix the segfault?\"))"
      ]
    },
    {
      "cell_type": "markdown",
      "id": "7ab03ed4",
      "metadata": {
        "id": "7ab03ed4"
      },
      "source": [
        "#### Apply metadata filters\n",
        "\n",
        "Now we can filter by commit author or by date when retrieving nodes."
      ]
    },
    {
      "cell_type": "code",
      "execution_count": null,
      "id": "aa6212e7",
      "metadata": {
        "id": "aa6212e7",
        "outputId": "c6d78e66-7d6c-4fc5-cc03-e417e7321646"
      },
      "outputs": [
        {
          "name": "stdout",
          "output_type": "stream",
          "text": [
            "{'commit_date': '2023-08-07', 'author': 'mats@timescale.com', 'fixes': []}\n",
            "{'commit_date': '2023-08-27', 'author': 'sven@timescale.com', 'fixes': []}\n",
            "{'commit_date': '2023-07-13', 'author': 'mats@timescale.com', 'fixes': []}\n",
            "{'commit_date': '2023-08-07', 'author': 'sven@timescale.com', 'fixes': []}\n",
            "{'commit_date': '2023-08-30', 'author': 'sven@timescale.com', 'fixes': []}\n",
            "{'commit_date': '2023-08-15', 'author': 'sven@timescale.com', 'fixes': []}\n",
            "{'commit_date': '2023-08-23', 'author': 'sven@timescale.com', 'fixes': []}\n",
            "{'commit_date': '2023-08-10', 'author': 'mats@timescale.com', 'fixes': []}\n",
            "{'commit_date': '2023-07-25', 'author': 'mats@timescale.com', 'fixes': ['5892']}\n",
            "{'commit_date': '2023-08-21', 'author': 'sven@timescale.com', 'fixes': []}\n"
          ]
        }
      ],
      "source": [
        "from llama_index.core.vector_stores.types import (\n",
        "    MetadataFilter,\n",
        "    MetadataFilters,\n",
        ")\n",
        "\n",
        "filters = MetadataFilters(\n",
        "    filters=[\n",
        "        MetadataFilter(key=\"author\", value=\"mats@timescale.com\"),\n",
        "        MetadataFilter(key=\"author\", value=\"sven@timescale.com\"),\n",
        "    ],\n",
        "    condition=\"or\",\n",
        ")\n",
        "\n",
        "retriever = index.as_retriever(\n",
        "    similarity_top_k=10,\n",
        "    filters=filters,\n",
        ")\n",
        "\n",
        "retrieved_nodes = retriever.retrieve(\"What is this software project about?\")\n",
        "\n",
        "for node in retrieved_nodes:\n",
        "    print(node.node.metadata)"
      ]
    },
    {
      "cell_type": "code",
      "execution_count": null,
      "id": "67c19ec6",
      "metadata": {
        "id": "67c19ec6",
        "outputId": "7456fd7f-5e1e-4054-f87d-2a9d5e528cff"
      },
      "outputs": [
        {
          "name": "stdout",
          "output_type": "stream",
          "text": [
            "{'commit_date': '2023-08-23', 'author': 'erik@timescale.com', 'fixes': []}\n",
            "{'commit_date': '2023-08-17', 'author': 'konstantina@timescale.com', 'fixes': []}\n",
            "{'commit_date': '2023-08-15', 'author': '36882414+akuzm@users.noreply.github.com', 'fixes': []}\n",
            "{'commit_date': '2023-08-15', 'author': '36882414+akuzm@users.noreply.github.com', 'fixes': []}\n",
            "{'commit_date': '2023-08-24', 'author': 'lakshmi@timescale.com', 'fixes': []}\n",
            "{'commit_date': '2023-08-15', 'author': 'sven@timescale.com', 'fixes': []}\n",
            "{'commit_date': '2023-08-23', 'author': 'sven@timescale.com', 'fixes': []}\n",
            "{'commit_date': '2023-08-21', 'author': 'sven@timescale.com', 'fixes': []}\n",
            "{'commit_date': '2023-08-20', 'author': 'sven@timescale.com', 'fixes': []}\n",
            "{'commit_date': '2023-08-21', 'author': 'sven@timescale.com', 'fixes': []}\n"
          ]
        }
      ],
      "source": [
        "filters = MetadataFilters(\n",
        "    filters=[\n",
        "        MetadataFilter(key=\"commit_date\", value=\"2023-08-15\", operator=\">=\"),\n",
        "        MetadataFilter(key=\"commit_date\", value=\"2023-08-25\", operator=\"<=\"),\n",
        "    ],\n",
        "    condition=\"and\",\n",
        ")\n",
        "\n",
        "retriever = index.as_retriever(\n",
        "    similarity_top_k=10,\n",
        "    filters=filters,\n",
        ")\n",
        "\n",
        "retrieved_nodes = retriever.retrieve(\"What is this software project about?\")\n",
        "\n",
        "for node in retrieved_nodes:\n",
        "    print(node.node.metadata)"
      ]
    },
    {
      "cell_type": "markdown",
      "id": "4f6e9cdf",
      "metadata": {
        "id": "4f6e9cdf"
      },
      "source": [
        "#### Apply nested filters\n",
        "\n",
        "In the above examples, we combined multiple filters using AND or OR. We can also combine multiple sets of filters.\n",
        "\n",
        "e.g. in SQL:\n",
        "```sql\n",
        "WHERE (commit_date >= '2023-08-01' AND commit_date <= '2023-08-15') AND (author = 'mats@timescale.com' OR author = 'sven@timescale.com')\n",
        "```"
      ]
    },
    {
      "cell_type": "code",
      "execution_count": null,
      "id": "94f20be7",
      "metadata": {
        "id": "94f20be7",
        "outputId": "c08ab675-c7d7-4082-fbd4-f95cc6bfc0b6"
      },
      "outputs": [
        {
          "name": "stdout",
          "output_type": "stream",
          "text": [
            "{'commit_date': '2023-08-07', 'author': 'mats@timescale.com', 'fixes': []}\n",
            "{'commit_date': '2023-08-07', 'author': 'sven@timescale.com', 'fixes': []}\n",
            "{'commit_date': '2023-08-15', 'author': 'sven@timescale.com', 'fixes': []}\n",
            "{'commit_date': '2023-08-10', 'author': 'mats@timescale.com', 'fixes': []}\n"
          ]
        }
      ],
      "source": [
        "filters = MetadataFilters(\n",
        "    filters=[\n",
        "        MetadataFilters(\n",
        "            filters=[\n",
        "                MetadataFilter(key=\"commit_date\", value=\"2023-08-01\", operator=\">=\"),\n",
        "                MetadataFilter(key=\"commit_date\", value=\"2023-08-15\", operator=\"<=\"),\n",
        "            ],\n",
        "            condition=\"and\",\n",
        "        ),\n",
        "        MetadataFilters(\n",
        "            filters=[\n",
        "                MetadataFilter(key=\"author\", value=\"mats@timescale.com\"),\n",
        "                MetadataFilter(key=\"author\", value=\"sven@timescale.com\"),\n",
        "            ],\n",
        "            condition=\"or\",\n",
        "        ),\n",
        "    ],\n",
        "    condition=\"and\",\n",
        ")\n",
        "\n",
        "retriever = index.as_retriever(\n",
        "    similarity_top_k=10,\n",
        "    filters=filters,\n",
        ")\n",
        "\n",
        "retrieved_nodes = retriever.retrieve(\"What is this software project about?\")\n",
        "\n",
        "for node in retrieved_nodes:\n",
        "    print(node.node.metadata)"
      ]
    },
    {
      "cell_type": "markdown",
      "id": "737692ce",
      "metadata": {
        "id": "737692ce"
      },
      "source": [
        "The above can be simplified by using the IN operator. `PGVectorStore` supports `in`, `nin`, and `contains` for comparing an element with a list."
      ]
    },
    {
      "cell_type": "code",
      "execution_count": null,
      "id": "85faf8b3",
      "metadata": {
        "id": "85faf8b3",
        "outputId": "cea95df0-e790-465d-f993-ed70357c1cd4"
      },
      "outputs": [
        {
          "name": "stdout",
          "output_type": "stream",
          "text": [
            "{'commit_date': '2023-08-07', 'author': 'mats@timescale.com', 'fixes': []}\n",
            "{'commit_date': '2023-08-07', 'author': 'sven@timescale.com', 'fixes': []}\n",
            "{'commit_date': '2023-08-15', 'author': 'sven@timescale.com', 'fixes': []}\n",
            "{'commit_date': '2023-08-10', 'author': 'mats@timescale.com', 'fixes': []}\n"
          ]
        }
      ],
      "source": [
        "filters = MetadataFilters(\n",
        "    filters=[\n",
        "        MetadataFilter(key=\"commit_date\", value=\"2023-08-01\", operator=\">=\"),\n",
        "        MetadataFilter(key=\"commit_date\", value=\"2023-08-15\", operator=\"<=\"),\n",
        "        MetadataFilter(\n",
        "            key=\"author\",\n",
        "            value=[\"mats@timescale.com\", \"sven@timescale.com\"],\n",
        "            operator=\"in\",\n",
        "        ),\n",
        "    ],\n",
        "    condition=\"and\",\n",
        ")\n",
        "\n",
        "retriever = index.as_retriever(\n",
        "    similarity_top_k=10,\n",
        "    filters=filters,\n",
        ")\n",
        "\n",
        "retrieved_nodes = retriever.retrieve(\"What is this software project about?\")\n",
        "\n",
        "for node in retrieved_nodes:\n",
        "    print(node.node.metadata)"
      ]
    },
    {
      "cell_type": "code",
      "execution_count": null,
      "id": "1ab9c333",
      "metadata": {
        "id": "1ab9c333",
        "outputId": "e1346980-d815-4a10-c794-759b12d35d39"
      },
      "outputs": [
        {
          "name": "stdout",
          "output_type": "stream",
          "text": [
            "{'commit_date': '2023-08-09', 'author': 'me@noctarius.com', 'fixes': ['5805']}\n",
            "{'commit_date': '2023-08-15', 'author': '36882414+akuzm@users.noreply.github.com', 'fixes': []}\n",
            "{'commit_date': '2023-08-15', 'author': '36882414+akuzm@users.noreply.github.com', 'fixes': []}\n",
            "{'commit_date': '2023-08-11', 'author': '36882414+akuzm@users.noreply.github.com', 'fixes': []}\n",
            "{'commit_date': '2023-08-03', 'author': 'dmitry@timescale.com', 'fixes': []}\n",
            "{'commit_date': '2023-08-09', 'author': 'konstantina@timescale.com', 'fixes': ['5923', '5680', '5774', '5786', '5906', '5912']}\n",
            "{'commit_date': '2023-08-03', 'author': 'dmitry@timescale.com', 'fixes': ['5908']}\n",
            "{'commit_date': '2023-08-01', 'author': 'nikhil@timescale.com', 'fixes': []}\n",
            "{'commit_date': '2023-08-10', 'author': 'konstantina@timescale.com', 'fixes': []}\n",
            "{'commit_date': '2023-08-10', 'author': '36882414+akuzm@users.noreply.github.com', 'fixes': []}\n"
          ]
        }
      ],
      "source": [
        "# Same thing, with NOT IN\n",
        "filters = MetadataFilters(\n",
        "    filters=[\n",
        "        MetadataFilter(key=\"commit_date\", value=\"2023-08-01\", operator=\">=\"),\n",
        "        MetadataFilter(key=\"commit_date\", value=\"2023-08-15\", operator=\"<=\"),\n",
        "        MetadataFilter(\n",
        "            key=\"author\",\n",
        "            value=[\"mats@timescale.com\", \"sven@timescale.com\"],\n",
        "            operator=\"nin\",\n",
        "        ),\n",
        "    ],\n",
        "    condition=\"and\",\n",
        ")\n",
        "\n",
        "retriever = index.as_retriever(\n",
        "    similarity_top_k=10,\n",
        "    filters=filters,\n",
        ")\n",
        "\n",
        "retrieved_nodes = retriever.retrieve(\"What is this software project about?\")\n",
        "\n",
        "for node in retrieved_nodes:\n",
        "    print(node.node.metadata)"
      ]
    },
    {
      "cell_type": "code",
      "execution_count": null,
      "id": "a46764cf",
      "metadata": {
        "id": "a46764cf",
        "outputId": "5b00d940-33f1-4c77-bf96-d97a02bb18f4"
      },
      "outputs": [
        {
          "name": "stdout",
          "output_type": "stream",
          "text": [
            "{'commit_date': '2023-08-09', 'author': 'konstantina@timescale.com', 'fixes': ['5923', '5680', '5774', '5786', '5906', '5912']}\n"
          ]
        }
      ],
      "source": [
        "# CONTAINS\n",
        "filters = MetadataFilters(\n",
        "    filters=[\n",
        "        MetadataFilter(key=\"fixes\", value=\"5680\", operator=\"contains\"),\n",
        "    ]\n",
        ")\n",
        "\n",
        "retriever = index.as_retriever(\n",
        "    similarity_top_k=10,\n",
        "    filters=filters,\n",
        ")\n",
        "\n",
        "retrieved_nodes = retriever.retrieve(\"How did these commits fix the issue?\")\n",
        "for node in retrieved_nodes:\n",
        "    print(node.node.metadata)"
      ]
    },
    {
      "cell_type": "markdown",
      "id": "2b274ecb",
      "metadata": {
        "id": "2b274ecb"
      },
      "source": [
        "### PgVector Query Options"
      ]
    },
    {
      "cell_type": "markdown",
      "id": "a490a0fa",
      "metadata": {
        "id": "a490a0fa"
      },
      "source": [
        "#### IVFFlat Probes\n",
        "\n",
        "Specify the number of [IVFFlat probes](https://github.com/pgvector/pgvector?tab=readme-ov-file#query-options) (1 by default)\n",
        "\n",
        "When retrieving from the index, you can specify an appropriate number of IVFFlat probes (higher is better for recall, lower is better for speed)"
      ]
    },
    {
      "cell_type": "code",
      "execution_count": null,
      "id": "111a3682",
      "metadata": {
        "id": "111a3682"
      },
      "outputs": [],
      "source": [
        "retriever = index.as_retriever(\n",
        "    vector_store_query_mode=\"hybrid\",\n",
        "    similarity_top_k=5,\n",
        "    vector_store_kwargs={\"ivfflat_probes\": 10},\n",
        ")"
      ]
    },
    {
      "cell_type": "markdown",
      "id": "6104ef8d",
      "metadata": {
        "id": "6104ef8d"
      },
      "source": [
        "#### HNSW EF Search\n",
        "\n",
        "Specify the size of the dynamic [candidate list](https://github.com/pgvector/pgvector?tab=readme-ov-file#query-options-1) for search (40 by default)"
      ]
    },
    {
      "cell_type": "code",
      "execution_count": null,
      "id": "f3a44758",
      "metadata": {
        "id": "f3a44758"
      },
      "outputs": [],
      "source": [
        "retriever = index.as_retriever(\n",
        "    vector_store_query_mode=\"hybrid\",\n",
        "    similarity_top_k=5,\n",
        "    vector_store_kwargs={\"hnsw_ef_search\": 300},\n",
        ")"
      ]
    }
  ],
  "metadata": {
    "colab": {
      "provenance": []
    },
    "kernelspec": {
      "display_name": "venv",
      "language": "python",
      "name": "python3"
    },
    "language_info": {
      "codemirror_mode": {
        "name": "ipython",
        "version": 3
      },
      "file_extension": ".py",
      "mimetype": "text/x-python",
      "name": "python",
      "nbconvert_exporter": "python",
      "pygments_lexer": "ipython3",
      "version": "3.12.10"
    }
  },
  "nbformat": 4,
  "nbformat_minor": 5
}
