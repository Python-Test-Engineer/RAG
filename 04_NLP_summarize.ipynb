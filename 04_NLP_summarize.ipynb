{
 "cells": [
  {
   "cell_type": "code",
   "execution_count": 1,
   "metadata": {},
   "outputs": [
    {
     "name": "stderr",
     "output_type": "stream",
     "text": [
      "[nltk_data] Downloading package punkt to\n",
      "[nltk_data]     C:\\Users\\mrcra\\AppData\\Roaming\\nltk_data...\n",
      "[nltk_data]   Package punkt is already up-to-date!\n"
     ]
    },
    {
     "data": {
      "text/plain": [
       "True"
      ]
     },
     "execution_count": 1,
     "metadata": {},
     "output_type": "execute_result"
    }
   ],
   "source": [
    "import json\n",
    "import base64\n",
    "import openai\n",
    "from openai import OpenAI\n",
    "from dotenv import find_dotenv, load_dotenv\n",
    "from uuid import uuid4\n",
    "from random import randint\n",
    "from utils.get_openai_api_key import get_test_key\n",
    "from utils.get_postgres_connection import _conn_open\n",
    "from utils.load_json import load_json\n",
    "from rich.console import Console\n",
    "import psycopg2\n",
    "\n",
    "from nltk.corpus import stopwords\n",
    "from nltk.tokenize import word_tokenize, sent_tokenize\n",
    "\n",
    "import nltk\n",
    "\n",
    "nltk.download(\"punkt\")"
   ]
  },
  {
   "cell_type": "code",
   "execution_count": 2,
   "metadata": {},
   "outputs": [
    {
     "name": "stdout",
     "output_type": "stream",
     "text": [
      "Connecting to PostgreSQL...\n",
      "Successfully connected to PostgreSQL.\n"
     ]
    }
   ],
   "source": [
    "print(\"Connecting to PostgreSQL...\")\n",
    "conn = psycopg2.connect(\n",
    "    database=\"postgres\",\n",
    "    user=\"postgres\",\n",
    "    password=\"postgres\",\n",
    "    host=\"localhost\",\n",
    ")\n",
    "\n",
    "cur = conn.cursor()\n",
    "\n",
    "print(\"Successfully connected to PostgreSQL.\")"
   ]
  },
  {
   "cell_type": "code",
   "execution_count": 3,
   "metadata": {},
   "outputs": [],
   "source": [
    "id = \"051a2523-b8c4-4958-b166-c2fa8fb89059\"\n",
    "id = \"1b22edff-bec9-40e8-8c8b-515655dd0377\""
   ]
  },
  {
   "cell_type": "code",
   "execution_count": 4,
   "metadata": {},
   "outputs": [
    {
     "name": "stdout",
     "output_type": "stream",
     "text": [
      "Getting number of characters in text field...\n",
      "\n",
      "SELECT element_text\n",
      "FROM tbl_doc_elements\n",
      "WHERE element_type IN ('NARRATIVETEXT', 'TITLE', 'SUBTITLE','HEADER', 'FOOTER') \n",
      "AND id = '1b22edff-bec9-40e8-8c8b-515655dd0377';\n",
      "\n"
     ]
    }
   ],
   "source": [
    "print(\"Getting number of characters in text field...\")\n",
    "sql = f\"\"\"\n",
    "SELECT element_text\n",
    "FROM tbl_doc_elements\n",
    "WHERE element_type IN ('NARRATIVETEXT', 'TITLE', 'SUBTITLE','HEADER', 'FOOTER') \n",
    "AND id = '{id}';\n",
    "\"\"\"\n",
    "print(sql)"
   ]
  },
  {
   "cell_type": "code",
   "execution_count": 5,
   "metadata": {},
   "outputs": [
    {
     "name": "stdout",
     "output_type": "stream",
     "text": [
      "Further research is necessary to explore the safety, security and societal impacts of AI agents and multi-agent systems, emphasizing both technical solutions and organizational governance frameworks. These efforts are critical for mitigating risks associated with the ongoing development, deployment and increasing use of more sophisticated AI agents in a range of domains.\n",
      "Num in text field 1b22edff... is 373\n"
     ]
    }
   ],
   "source": [
    "cur.execute(sql)\n",
    "text = cur.fetchone()[0]\n",
    "\n",
    "num_chars = len(text)\n",
    "print(text)\n",
    "print(f\"Num in text field {id[:8]}... is {num_chars:,}\")"
   ]
  },
  {
   "cell_type": "code",
   "execution_count": 6,
   "metadata": {},
   "outputs": [
    {
     "name": "stdout",
     "output_type": "stream",
     "text": [
      "Original Text:\n",
      "Further research is necessary to explore the safety, security and societal impacts of AI agents and multi-agent systems, emphasizing both technical solutions and organizational governance frameworks. These efforts are critical for mitigating risks associated with the ongoing development, deployment and increasing use of more sophisticated AI agents in a range of domains.\n",
      "\n",
      "Summary:\n",
      "Further research is necessary to explore the safety, security and societal impacts of AI agents and multi-agent systems, emphasizing both technical solutions and organizational governance frameworks. These efforts are critical for mitigating risks associated with the ongoing development, deployment and increasing use of more sophisticated AI agents in a range of domains.\n"
     ]
    }
   ],
   "source": [
    "from summarizer import Summarizer\n",
    "\n",
    "# Create a BERT extractive summarizer\n",
    "summarizer = Summarizer()\n",
    "\n",
    "# Generate the summary\n",
    "summary = summarizer(\n",
    "    text, min_length=100, max_length=200\n",
    ")  # You can adjust the min_length and max_length parameters\n",
    "\n",
    "\n",
    "print(\"Original Text:\")\n",
    "print(text)\n",
    "print(\"\\nSummary:\")\n",
    "print(summary)"
   ]
  },
  {
   "cell_type": "code",
   "execution_count": 7,
   "metadata": {},
   "outputs": [
    {
     "name": "stdout",
     "output_type": "stream",
     "text": [
      "UPDATE tbl_doc_elements SET summary = 'Further research is necessary to explore the safety, security and societal impacts of AI agents and multi-agent systems, emphasizing both technical solutions and organizational governance frameworks. These efforts are critical for mitigating risks associated with the ongoing development, deployment and increasing use of more sophisticated AI agents in a range of domains.' WHERE id = '1b22edff-bec9-40e8-8c8b-515655dd0377';\n",
      "\n"
     ]
    }
   ],
   "source": [
    "sql = f\"\"\"UPDATE tbl_doc_elements SET summary = '{summary}' WHERE id = '{id}';\n",
    "\"\"\"\n",
    "print(sql)"
   ]
  },
  {
   "cell_type": "code",
   "execution_count": 8,
   "metadata": {},
   "outputs": [],
   "source": [
    "cur.execute(sql)\n",
    "conn.commit()"
   ]
  },
  {
   "cell_type": "code",
   "execution_count": 9,
   "metadata": {},
   "outputs": [],
   "source": [
    "cur.close()\n",
    "conn.close()"
   ]
  },
  {
   "cell_type": "markdown",
   "metadata": {},
   "source": []
  },
  {
   "cell_type": "code",
   "execution_count": null,
   "metadata": {},
   "outputs": [],
   "source": []
  },
  {
   "cell_type": "code",
   "execution_count": null,
   "metadata": {},
   "outputs": [],
   "source": []
  },
  {
   "cell_type": "code",
   "execution_count": null,
   "metadata": {},
   "outputs": [],
   "source": []
  },
  {
   "cell_type": "code",
   "execution_count": 10,
   "metadata": {},
   "outputs": [],
   "source": [
    "# cur.close()\n",
    "# conn.close()"
   ]
  }
 ],
 "metadata": {
  "kernelspec": {
   "display_name": "venv",
   "language": "python",
   "name": "python3"
  },
  "language_info": {
   "codemirror_mode": {
    "name": "ipython",
    "version": 3
   },
   "file_extension": ".py",
   "mimetype": "text/x-python",
   "name": "python",
   "nbconvert_exporter": "python",
   "pygments_lexer": "ipython3",
   "version": "3.12.8"
  }
 },
 "nbformat": 4,
 "nbformat_minor": 2
}
