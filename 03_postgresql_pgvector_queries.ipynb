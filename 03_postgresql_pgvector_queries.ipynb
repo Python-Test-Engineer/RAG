{
 "cells": [
  {
   "cell_type": "code",
   "execution_count": 1,
   "metadata": {},
   "outputs": [],
   "source": [
    "# CREATE TABLE items (id bigserial PRIMARY KEY, content TEXT, embedding vector(1536));"
   ]
  },
  {
   "cell_type": "code",
   "execution_count": 2,
   "metadata": {},
   "outputs": [],
   "source": [
    "import os\n",
    "from dotenv import find_dotenv, load_dotenv\n",
    "from openai import OpenAI\n",
    "import openai\n",
    "import psycopg2"
   ]
  },
  {
   "cell_type": "code",
   "execution_count": 3,
   "metadata": {},
   "outputs": [
    {
     "data": {
      "text/plain": [
       "True"
      ]
     },
     "execution_count": 3,
     "metadata": {},
     "output_type": "execute_result"
    }
   ],
   "source": [
    "load_dotenv(find_dotenv())"
   ]
  },
  {
   "cell_type": "code",
   "execution_count": 4,
   "metadata": {},
   "outputs": [
    {
     "name": "stdout",
     "output_type": "stream",
     "text": [
      "sk-proj-pqjN\n"
     ]
    }
   ],
   "source": [
    "OPENAI_API_KEY = os.getenv(\"OPENAI_API_KEY\")\n",
    "# Set up your OpenAI API key\n",
    "# openai.api_key = OPENAI_API_KEY\n",
    "client = OpenAI()\n",
    "# Choose a model\n",
    "model = \"text-embedding-ada-002\"\n",
    "print(OPENAI_API_KEY[:12])"
   ]
  },
  {
   "cell_type": "code",
   "execution_count": 5,
   "metadata": {},
   "outputs": [
    {
     "name": "stdout",
     "output_type": "stream",
     "text": [
      "Connecting to PostgreSQL...\n",
      "Successfully connected to PostgreSQL.\n"
     ]
    }
   ],
   "source": [
    "print(\"Connecting to PostgreSQL...\")\n",
    "conn = psycopg2.connect(\n",
    "    database=\"postgres\",\n",
    "    user=\"postgres\",\n",
    "    password=\"postgres\",\n",
    "    host=\"host.docker.internal\",\n",
    ")\n",
    "\n",
    "cur = conn.cursor()\n",
    "\n",
    "print(\"Successfully connected to PostgreSQL.\")"
   ]
  },
  {
   "cell_type": "code",
   "execution_count": 6,
   "metadata": {},
   "outputs": [],
   "source": [
    "# Converting the prompt to the pgvector embedding\n",
    "def get_embedding(prompt):\n",
    "    response = openai.embeddings.create(input=prompt, model=\"text-embedding-ada-002\")\n",
    "\n",
    "    embedding = response.data[0].embedding\n",
    "\n",
    "    # Converting the embedding to the pgvector and returning it\n",
    "    return \"[\" + \",\".join(map(str, embedding)) + \"]\"\n",
    "\n",
    "\n",
    "# Getting the matching threshold for the similarity search\n",
    "def get_matching_threshold():\n",
    "    return 0.7\n",
    "\n",
    "\n",
    "# Getting the number of matching movies to return\n",
    "def get_matching_count():\n",
    "    return 3"
   ]
  },
  {
   "cell_type": "markdown",
   "metadata": {},
   "source": [
    "Second, find the most relevant movies for a provided user prompt by calculating the cosine distance (`<=>`) between the prompt's and movies' embeddings:\n"
   ]
  },
  {
   "cell_type": "code",
   "execution_count": 7,
   "metadata": {},
   "outputs": [
    {
     "name": "stdout",
     "output_type": "stream",
     "text": [
      "1 Record inserted successfully into items table\n",
      "1 Record inserted successfully into items table\n",
      "1 Record inserted successfully into items table\n",
      "1 Record inserted successfully into items table\n",
      "1 Record inserted successfully into items table\n",
      "1 Record inserted successfully into items table\n",
      "1 Record inserted successfully into items table\n",
      "1 Record inserted successfully into items table\n",
      "1 Record inserted successfully into items table\n"
     ]
    }
   ],
   "source": [
    "try:\n",
    "    sentences = [\n",
    "        \"For weather use this tool => **get_weather**.\",\n",
    "        \"For hotel booking use this tool => **get_hotel_booking**.\",\n",
    "        \"For car hire use this tool => **get_car_hire**.\",\n",
    "        \"For flight booking use this tool => **get_flight**.\",\n",
    "        \"For jokes use this tool => **get_joke**.\",\n",
    "        \"To add two numbers use this tool => **get_adder**.\",\n",
    "        \"To critique an article prior to publication but not after publication use this tool => **get_article_review**.\",\n",
    "        \"For jokes use this tool => **get_joke**.\",\n",
    "        \"For all other requests use this tool => **customer_service_agent**.\",\n",
    "        \"For weather use this tool => **get_weather**.\",\n",
    "        \"For hotel booking use this tool => **get_hotel_booking**.\",\n",
    "        \"For car hire use this tool => **get_car_hire**.\",\n",
    "        \"For flight booking use this tool => **get_flight**.\",\n",
    "        \"For jokes use this tool => **get_joke**.\",\n",
    "        \"To add two numbers use this tool => **get_adder**.\",\n",
    "        \"To critique an article prior to publication but not after publication use this tool => **get_article_review**.\",\n",
    "        \"For jokes use this tool => **get_joke**.\",\n",
    "        \"For all other requests use this tool => **customer_service_agent**.\",\n",
    "        \"We only sell shoes.\",\n",
    "        \"Our opening hours are Monday to Friday from 9am to 5pm.\",\n",
    "        \"We are located at 123 Main Street, Brighton\",\n",
    "        \"We specialise in red shoes but have all colours\",\n",
    "        \"Our VAT rate is 20 percent and is applicable on all sales\",\n",
    "        \"We only accept card payments\",\n",
    "    ]\n",
    "    TABLE_NAME = \"items\"\n",
    "    # Insert sentences into the items table\n",
    "    for sentence in sentences:\n",
    "        embedding = get_embedding(sentence)\n",
    "        cur.execute(\n",
    "            f\"INSERT INTO {TABLE_NAME}  (content, embedding) VALUES (%s, %s)\",\n",
    "            (sentence, embedding),\n",
    "        )\n",
    "        conn.commit()\n",
    "        count = cur.rowcount\n",
    "        print(\n",
    "            count,\n",
    "            f\"Record inserted successfully into {TABLE_NAME} table\",\n",
    "        )\n",
    "except Exception as e:\n",
    "    print(\"Error executing query\", str(e))"
   ]
  },
  {
   "cell_type": "code",
   "execution_count": 12,
   "metadata": {},
   "outputs": [
    {
     "name": "stdout",
     "output_type": "stream",
     "text": [
      "Query: Sunset\n",
      "Most similar sentences:\n",
      "ID: 17,  Cosine Similarity: 0.8924482189273324, CONTENT: The sunset paints the sky with shades of orange, pink, and purple, reflecting on the calm sea.,\n",
      "ID: 18,  Cosine Similarity: 0.7965800176322535, CONTENT: In the dense forest, the howl of a lone wolf echoes, blending with the symphony of the night.,\n",
      "ID: 11,  Cosine Similarity: 0.7757856054689742, CONTENT: A group of vibrant parrots chatter loudly, sharing stories of their tropical adventures.,\n"
     ]
    }
   ],
   "source": [
    "try:\n",
    "    # Example query\n",
    "    # query = \"Which report for sales\"\n",
    "    query = \"Tell me jokes\"\n",
    "    # query = \"Which report for sales\"\n",
    "    query = \"Sunset\"\n",
    "    query_embedding = get_embedding(query)\n",
    "\n",
    "    # Perform a cosine similarity search\n",
    "    cur.execute(\n",
    "        \"\"\"SELECT id, content, 1 - (embedding <=> %s) AS cosine_similarity\n",
    "            FROM items\n",
    "            ORDER BY cosine_similarity DESC LIMIT 3\"\"\",\n",
    "        (query_embedding,),\n",
    "    )\n",
    "\n",
    "    # Fetch and print the result\n",
    "    print(\"Query:\", query)\n",
    "    print(\"Most similar sentences:\")\n",
    "    for row in cur.fetchall():\n",
    "        print(f\"ID: {row[0]},  Cosine Similarity: {row[2]}, CONTENT: {row[1]},\")\n",
    "\n",
    "except Exception as e:\n",
    "    print(\"Error executing query\", str(e))\n",
    "\n",
    "finally:\n",
    "    pass\n",
    "    # Close communication with the PostgreSQL database server\n",
    "    # cur.close()\n",
    "    # conn.close()\n",
    "\n",
    "# This check ensures that the function is only run when the script is executed directly, not when it's imported as a modul"
   ]
  },
  {
   "cell_type": "code",
   "execution_count": null,
   "metadata": {},
   "outputs": [],
   "source": []
  }
 ],
 "metadata": {
  "kernelspec": {
   "display_name": "venv",
   "language": "python",
   "name": "python3"
  },
  "language_info": {
   "codemirror_mode": {
    "name": "ipython",
    "version": 3
   },
   "file_extension": ".py",
   "mimetype": "text/x-python",
   "name": "python",
   "nbconvert_exporter": "python",
   "pygments_lexer": "ipython3",
   "version": "3.12.1"
  }
 },
 "nbformat": 4,
 "nbformat_minor": 2
}
