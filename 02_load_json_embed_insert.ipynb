{
 "cells": [
  {
   "cell_type": "code",
   "execution_count": 1,
   "metadata": {},
   "outputs": [],
   "source": [
    "import os\n",
    "import json\n",
    "import base64\n",
    "import openai\n",
    "from openai import OpenAI\n",
    "from dotenv import find_dotenv, load_dotenv\n",
    "from uuid import uuid4\n",
    "from random import randint\n",
    "from utils.get_openai_api_key import get_test_key\n",
    "from utils.get_postgres_connection import _conn_open\n",
    "from utils.load_json import load_json\n",
    "from rich.console import Console\n",
    "import psycopg2"
   ]
  },
  {
   "cell_type": "code",
   "execution_count": 2,
   "metadata": {},
   "outputs": [],
   "source": [
    "console = Console()"
   ]
  },
  {
   "cell_type": "code",
   "execution_count": 3,
   "metadata": {},
   "outputs": [
    {
     "data": {
      "text/html": [
       "<pre style=\"white-space:pre;overflow-x:auto;line-height:normal;font-family:Menlo,'DejaVu Sans Mono',consolas,'Courier New',monospace\"><span style=\"color: #008000; text-decoration-color: #008000\">Success: .env file found with some environment variables</span>\n",
       "</pre>\n"
      ],
      "text/plain": [
       "\u001b[32mSuccess: .env file found with some environment variables\u001b[0m\n"
      ]
     },
     "metadata": {},
     "output_type": "display_data"
    },
    {
     "data": {
      "text/html": [
       "<pre style=\"white-space:pre;overflow-x:auto;line-height:normal;font-family:Menlo,'DejaVu Sans Mono',consolas,'Courier New',monospace\">sk-proj-ZiP-\n",
       "</pre>\n"
      ],
      "text/plain": [
       "sk-proj-ZiP-\n"
      ]
     },
     "metadata": {},
     "output_type": "display_data"
    }
   ],
   "source": [
    "OPENAI_API_KEY = get_test_key()\n",
    "# Set up your OpenAI API key\n",
    "openai.api_key = OPENAI_API_KEY\n",
    "client = OpenAI()\n",
    "# Choose a model\n",
    "model = \"text-embedding-ada-002\"\n",
    "console.print(OPENAI_API_KEY[:12])"
   ]
  },
  {
   "cell_type": "code",
   "execution_count": 4,
   "metadata": {},
   "outputs": [],
   "source": [
    "def get_embedding(text, model=\"text-embedding-3-small\"):\n",
    "\n",
    "    text = text.replace(\"\\n\", \" \")\n",
    "    return client.embeddings.create(input=[text], model=model).data[0].embedding"
   ]
  },
  {
   "cell_type": "code",
   "execution_count": 5,
   "metadata": {},
   "outputs": [
    {
     "data": {
      "text/html": [
       "<pre style=\"white-space:pre;overflow-x:auto;line-height:normal;font-family:Menlo,'DejaVu Sans Mono',consolas,'Courier New',monospace\"><span style=\"color: #008000; text-decoration-color: #008000; font-weight: bold\">Conn: &lt;connection object at </span><span style=\"color: #008000; text-decoration-color: #008000; font-weight: bold\">0x0000012638D8B890</span><span style=\"color: #008000; text-decoration-color: #008000; font-weight: bold\">; dsn: </span><span style=\"color: #008000; text-decoration-color: #008000; font-weight: bold\">'user=postgres password=xxx dbname=postgres host=localhost'</span><span style=\"color: #008000; text-decoration-color: #008000; font-weight: bold\">, </span>\n",
       "<span style=\"color: #008000; text-decoration-color: #008000; font-weight: bold\">closed: </span><span style=\"color: #008000; text-decoration-color: #008000; font-weight: bold\">0</span><span style=\"color: #008000; text-decoration-color: #008000; font-weight: bold\">&gt;</span>\n",
       "</pre>\n"
      ],
      "text/plain": [
       "\u001b[1;32mConn: \u001b[0m\u001b[1;32m<\u001b[0m\u001b[1;32mconnection\u001b[0m\u001b[1;32m object at \u001b[0m\u001b[1;32m0x0000012638D8B890\u001b[0m\u001b[1;32m; dsn: \u001b[0m\u001b[1;32m'\u001b[0m\u001b[1;32muser\u001b[0m\u001b[1;32m=\u001b[0m\u001b[1;32mpostgres\u001b[0m\u001b[1;32m \u001b[0m\u001b[1;32mpassword\u001b[0m\u001b[1;32m=\u001b[0m\u001b[1;32mxxx\u001b[0m\u001b[1;32m \u001b[0m\u001b[1;32mdbname\u001b[0m\u001b[1;32m=\u001b[0m\u001b[1;32mpostgres\u001b[0m\u001b[1;32m \u001b[0m\u001b[1;32mhost\u001b[0m\u001b[1;32m=\u001b[0m\u001b[1;32mlocalhost\u001b[0m\u001b[1;32m'\u001b[0m\u001b[1;32m, \u001b[0m\n",
       "\u001b[1;32mclosed: \u001b[0m\u001b[1;32m0\u001b[0m\u001b[1;32m>\u001b[0m\n"
      ]
     },
     "metadata": {},
     "output_type": "display_data"
    }
   ],
   "source": [
    "conn = _conn_open()\n",
    "cur = conn.cursor()"
   ]
  },
  {
   "cell_type": "code",
   "execution_count": 6,
   "metadata": {},
   "outputs": [],
   "source": [
    "def decode_image(encoded_image_data, image_fimename):\n",
    "    decoded_image_data = base64.b64decode(encoded_image_data)\n",
    "    file_name_path = f\"./{image_fimename}\"\n",
    "    with open(file_name_path, \"wb\") as new_image_file:\n",
    "        new_image_file.write(decoded_image_data)"
   ]
  },
  {
   "cell_type": "code",
   "execution_count": 7,
   "metadata": {},
   "outputs": [
    {
     "name": "stdout",
     "output_type": "stream",
     "text": [
      "Number of items: 91\n"
     ]
    },
    {
     "data": {
      "text/html": [
       "<pre style=\"white-space:pre;overflow-x:auto;line-height:normal;font-family:Menlo,'DejaVu Sans Mono',consolas,'Courier New',monospace\">ID is <span style=\"color: #ffff00; text-decoration-color: #ffff00\">1dd86919-433f-4e26-ad61-75186620e221</span>\n",
       "FILE_ID: <span style=\"color: #ffff00; text-decoration-color: #ffff00\">8748aebb-8361-44d0-a3f7-b075ad00e227</span>\n",
       "</pre>\n"
      ],
      "text/plain": [
       "ID is \u001b[93m1dd86919-433f-4e26-ad61-75186620e221\u001b[0m\n",
       "FILE_ID: \u001b[93m8748aebb-8361-44d0-a3f7-b075ad00e227\u001b[0m\n"
      ]
     },
     "metadata": {},
     "output_type": "display_data"
    },
    {
     "data": {
      "text/html": [
       "<pre style=\"white-space:pre;overflow-x:auto;line-height:normal;font-family:Menlo,'DejaVu Sans Mono',consolas,'Courier New',monospace\">ID is <span style=\"color: #ffff00; text-decoration-color: #ffff00\">52f248eb-0697-4741-9842-889976e95c17</span>\n",
       "FILE_ID: <span style=\"color: #ffff00; text-decoration-color: #ffff00\">8748aebb-8361-44d0-a3f7-b075ad00e227</span>\n",
       "</pre>\n"
      ],
      "text/plain": [
       "ID is \u001b[93m52f248eb-0697-4741-9842-889976e95c17\u001b[0m\n",
       "FILE_ID: \u001b[93m8748aebb-8361-44d0-a3f7-b075ad00e227\u001b[0m\n"
      ]
     },
     "metadata": {},
     "output_type": "display_data"
    },
    {
     "data": {
      "text/html": [
       "<pre style=\"white-space:pre;overflow-x:auto;line-height:normal;font-family:Menlo,'DejaVu Sans Mono',consolas,'Courier New',monospace\">ID is <span style=\"color: #ffff00; text-decoration-color: #ffff00\">0bb13c34-6582-4409-b893-505f59d72132</span>\n",
       "FILE_ID: <span style=\"color: #ffff00; text-decoration-color: #ffff00\">8748aebb-8361-44d0-a3f7-b075ad00e227</span>\n",
       "</pre>\n"
      ],
      "text/plain": [
       "ID is \u001b[93m0bb13c34-6582-4409-b893-505f59d72132\u001b[0m\n",
       "FILE_ID: \u001b[93m8748aebb-8361-44d0-a3f7-b075ad00e227\u001b[0m\n"
      ]
     },
     "metadata": {},
     "output_type": "display_data"
    },
    {
     "data": {
      "text/html": [
       "<pre style=\"white-space:pre;overflow-x:auto;line-height:normal;font-family:Menlo,'DejaVu Sans Mono',consolas,'Courier New',monospace\">ID is <span style=\"color: #ffff00; text-decoration-color: #ffff00\">aa29fa64-7eb5-4495-b628-a71dc4190d14</span>\n",
       "FILE_ID: <span style=\"color: #ffff00; text-decoration-color: #ffff00\">8748aebb-8361-44d0-a3f7-b075ad00e227</span>\n",
       "</pre>\n"
      ],
      "text/plain": [
       "ID is \u001b[93maa29fa64-7eb5-4495-b628-a71dc4190d14\u001b[0m\n",
       "FILE_ID: \u001b[93m8748aebb-8361-44d0-a3f7-b075ad00e227\u001b[0m\n"
      ]
     },
     "metadata": {},
     "output_type": "display_data"
    },
    {
     "data": {
      "text/html": [
       "<pre style=\"white-space:pre;overflow-x:auto;line-height:normal;font-family:Menlo,'DejaVu Sans Mono',consolas,'Courier New',monospace\">ID is <span style=\"color: #ffff00; text-decoration-color: #ffff00\">9390ec94-45b6-43ea-81d9-3f0eca29da99</span>\n",
       "FILE_ID: <span style=\"color: #ffff00; text-decoration-color: #ffff00\">8748aebb-8361-44d0-a3f7-b075ad00e227</span>\n",
       "</pre>\n"
      ],
      "text/plain": [
       "ID is \u001b[93m9390ec94-45b6-43ea-81d9-3f0eca29da99\u001b[0m\n",
       "FILE_ID: \u001b[93m8748aebb-8361-44d0-a3f7-b075ad00e227\u001b[0m\n"
      ]
     },
     "metadata": {},
     "output_type": "display_data"
    },
    {
     "data": {
      "text/html": [
       "<pre style=\"white-space:pre;overflow-x:auto;line-height:normal;font-family:Menlo,'DejaVu Sans Mono',consolas,'Courier New',monospace\">ID is <span style=\"color: #ffff00; text-decoration-color: #ffff00\">ac0ff5d7-ec10-4521-83cf-6a8d54d15c76</span>\n",
       "FILE_ID: <span style=\"color: #ffff00; text-decoration-color: #ffff00\">8748aebb-8361-44d0-a3f7-b075ad00e227</span>\n",
       "</pre>\n"
      ],
      "text/plain": [
       "ID is \u001b[93mac0ff5d7-ec10-4521-83cf-6a8d54d15c76\u001b[0m\n",
       "FILE_ID: \u001b[93m8748aebb-8361-44d0-a3f7-b075ad00e227\u001b[0m\n"
      ]
     },
     "metadata": {},
     "output_type": "display_data"
    },
    {
     "data": {
      "text/html": [
       "<pre style=\"white-space:pre;overflow-x:auto;line-height:normal;font-family:Menlo,'DejaVu Sans Mono',consolas,'Courier New',monospace\">ID is <span style=\"color: #ffff00; text-decoration-color: #ffff00\">2b8529b2-f23c-4e25-8dea-11225f3e2996</span>\n",
       "FILE_ID: <span style=\"color: #ffff00; text-decoration-color: #ffff00\">8748aebb-8361-44d0-a3f7-b075ad00e227</span>\n",
       "</pre>\n"
      ],
      "text/plain": [
       "ID is \u001b[93m2b8529b2-f23c-4e25-8dea-11225f3e2996\u001b[0m\n",
       "FILE_ID: \u001b[93m8748aebb-8361-44d0-a3f7-b075ad00e227\u001b[0m\n"
      ]
     },
     "metadata": {},
     "output_type": "display_data"
    },
    {
     "data": {
      "text/html": [
       "<pre style=\"white-space:pre;overflow-x:auto;line-height:normal;font-family:Menlo,'DejaVu Sans Mono',consolas,'Courier New',monospace\">ID is <span style=\"color: #ffff00; text-decoration-color: #ffff00\">05e0f342-80ea-46c2-a075-a05df1e71a19</span>\n",
       "FILE_ID: <span style=\"color: #ffff00; text-decoration-color: #ffff00\">8748aebb-8361-44d0-a3f7-b075ad00e227</span>\n",
       "</pre>\n"
      ],
      "text/plain": [
       "ID is \u001b[93m05e0f342-80ea-46c2-a075-a05df1e71a19\u001b[0m\n",
       "FILE_ID: \u001b[93m8748aebb-8361-44d0-a3f7-b075ad00e227\u001b[0m\n"
      ]
     },
     "metadata": {},
     "output_type": "display_data"
    },
    {
     "data": {
      "text/html": [
       "<pre style=\"white-space:pre;overflow-x:auto;line-height:normal;font-family:Menlo,'DejaVu Sans Mono',consolas,'Courier New',monospace\">ID is <span style=\"color: #ffff00; text-decoration-color: #ffff00\">e70e9c83-6707-4d81-b213-572e876810ff</span>\n",
       "FILE_ID: <span style=\"color: #ffff00; text-decoration-color: #ffff00\">8748aebb-8361-44d0-a3f7-b075ad00e227</span>\n",
       "</pre>\n"
      ],
      "text/plain": [
       "ID is \u001b[93me70e9c83-6707-4d81-b213-572e876810ff\u001b[0m\n",
       "FILE_ID: \u001b[93m8748aebb-8361-44d0-a3f7-b075ad00e227\u001b[0m\n"
      ]
     },
     "metadata": {},
     "output_type": "display_data"
    },
    {
     "data": {
      "text/html": [
       "<pre style=\"white-space:pre;overflow-x:auto;line-height:normal;font-family:Menlo,'DejaVu Sans Mono',consolas,'Courier New',monospace\">ID is <span style=\"color: #ffff00; text-decoration-color: #ffff00\">b88255a0-add4-4513-8163-3ccc35c4cb01</span>\n",
       "FILE_ID: <span style=\"color: #ffff00; text-decoration-color: #ffff00\">8748aebb-8361-44d0-a3f7-b075ad00e227</span>\n",
       "</pre>\n"
      ],
      "text/plain": [
       "ID is \u001b[93mb88255a0-add4-4513-8163-3ccc35c4cb01\u001b[0m\n",
       "FILE_ID: \u001b[93m8748aebb-8361-44d0-a3f7-b075ad00e227\u001b[0m\n"
      ]
     },
     "metadata": {},
     "output_type": "display_data"
    },
    {
     "data": {
      "text/html": [
       "<pre style=\"white-space:pre;overflow-x:auto;line-height:normal;font-family:Menlo,'DejaVu Sans Mono',consolas,'Courier New',monospace\">ID is <span style=\"color: #ffff00; text-decoration-color: #ffff00\">0674d626-dc85-4c2b-9370-e07635ac947c</span>\n",
       "FILE_ID: <span style=\"color: #ffff00; text-decoration-color: #ffff00\">8748aebb-8361-44d0-a3f7-b075ad00e227</span>\n",
       "</pre>\n"
      ],
      "text/plain": [
       "ID is \u001b[93m0674d626-dc85-4c2b-9370-e07635ac947c\u001b[0m\n",
       "FILE_ID: \u001b[93m8748aebb-8361-44d0-a3f7-b075ad00e227\u001b[0m\n"
      ]
     },
     "metadata": {},
     "output_type": "display_data"
    },
    {
     "data": {
      "text/html": [
       "<pre style=\"white-space:pre;overflow-x:auto;line-height:normal;font-family:Menlo,'DejaVu Sans Mono',consolas,'Courier New',monospace\">ID is <span style=\"color: #ffff00; text-decoration-color: #ffff00\">ad7b6378-e3ce-4708-aae7-92146efb3ef3</span>\n",
       "FILE_ID: <span style=\"color: #ffff00; text-decoration-color: #ffff00\">8748aebb-8361-44d0-a3f7-b075ad00e227</span>\n",
       "</pre>\n"
      ],
      "text/plain": [
       "ID is \u001b[93mad7b6378-e3ce-4708-aae7-92146efb3ef3\u001b[0m\n",
       "FILE_ID: \u001b[93m8748aebb-8361-44d0-a3f7-b075ad00e227\u001b[0m\n"
      ]
     },
     "metadata": {},
     "output_type": "display_data"
    },
    {
     "data": {
      "text/html": [
       "<pre style=\"white-space:pre;overflow-x:auto;line-height:normal;font-family:Menlo,'DejaVu Sans Mono',consolas,'Courier New',monospace\">ID is <span style=\"color: #ffff00; text-decoration-color: #ffff00\">bcc44af4-d3c2-407a-a0b2-2d2930a753d0</span>\n",
       "FILE_ID: <span style=\"color: #ffff00; text-decoration-color: #ffff00\">8748aebb-8361-44d0-a3f7-b075ad00e227</span>\n",
       "</pre>\n"
      ],
      "text/plain": [
       "ID is \u001b[93mbcc44af4-d3c2-407a-a0b2-2d2930a753d0\u001b[0m\n",
       "FILE_ID: \u001b[93m8748aebb-8361-44d0-a3f7-b075ad00e227\u001b[0m\n"
      ]
     },
     "metadata": {},
     "output_type": "display_data"
    },
    {
     "data": {
      "text/html": [
       "<pre style=\"white-space:pre;overflow-x:auto;line-height:normal;font-family:Menlo,'DejaVu Sans Mono',consolas,'Courier New',monospace\">ID is <span style=\"color: #ffff00; text-decoration-color: #ffff00\">2327ef6e-0081-4291-8cf3-a5eedd32f0e9</span>\n",
       "FILE_ID: <span style=\"color: #ffff00; text-decoration-color: #ffff00\">8748aebb-8361-44d0-a3f7-b075ad00e227</span>\n",
       "</pre>\n"
      ],
      "text/plain": [
       "ID is \u001b[93m2327ef6e-0081-4291-8cf3-a5eedd32f0e9\u001b[0m\n",
       "FILE_ID: \u001b[93m8748aebb-8361-44d0-a3f7-b075ad00e227\u001b[0m\n"
      ]
     },
     "metadata": {},
     "output_type": "display_data"
    },
    {
     "data": {
      "text/html": [
       "<pre style=\"white-space:pre;overflow-x:auto;line-height:normal;font-family:Menlo,'DejaVu Sans Mono',consolas,'Courier New',monospace\">ID is <span style=\"color: #ffff00; text-decoration-color: #ffff00\">77004cec-6a3f-4ede-91a3-bfc6135cea38</span>\n",
       "FILE_ID: <span style=\"color: #ffff00; text-decoration-color: #ffff00\">8748aebb-8361-44d0-a3f7-b075ad00e227</span>\n",
       "</pre>\n"
      ],
      "text/plain": [
       "ID is \u001b[93m77004cec-6a3f-4ede-91a3-bfc6135cea38\u001b[0m\n",
       "FILE_ID: \u001b[93m8748aebb-8361-44d0-a3f7-b075ad00e227\u001b[0m\n"
      ]
     },
     "metadata": {},
     "output_type": "display_data"
    },
    {
     "data": {
      "text/html": [
       "<pre style=\"white-space:pre;overflow-x:auto;line-height:normal;font-family:Menlo,'DejaVu Sans Mono',consolas,'Courier New',monospace\">syntax error at or near <span style=\"color: #008000; text-decoration-color: #008000\">\"s\"</span>\n",
       "LINE <span style=\"color: #008080; text-decoration-color: #008080; font-weight: bold\">5</span>: <span style=\"color: #808000; text-decoration-color: #808000\">...</span>r adaptable AI agents will continue to grow. Luci's framewor<span style=\"color: #808000; text-decoration-color: #808000\">...</span>\n",
       "                                                             ^\n",
       "\n",
       "</pre>\n"
      ],
      "text/plain": [
       "syntax error at or near \u001b[32m\"s\"\u001b[0m\n",
       "LINE \u001b[1;36m5\u001b[0m: \u001b[33m...\u001b[0mr adaptable AI agents will continue to grow. Luci's framewor\u001b[33m...\u001b[0m\n",
       "                                                             ^\n",
       "\n"
      ]
     },
     "metadata": {},
     "output_type": "display_data"
    },
    {
     "data": {
      "text/html": [
       "<pre style=\"white-space:pre;overflow-x:auto;line-height:normal;font-family:Menlo,'DejaVu Sans Mono',consolas,'Courier New',monospace\">current transaction is aborted, commands ignored until end of transaction block\n",
       "\n",
       "</pre>\n"
      ],
      "text/plain": [
       "current transaction is aborted, commands ignored until end of transaction block\n",
       "\n"
      ]
     },
     "metadata": {},
     "output_type": "display_data"
    },
    {
     "data": {
      "text/html": [
       "<pre style=\"white-space:pre;overflow-x:auto;line-height:normal;font-family:Menlo,'DejaVu Sans Mono',consolas,'Courier New',monospace\">current transaction is aborted, commands ignored until end of transaction block\n",
       "\n",
       "</pre>\n"
      ],
      "text/plain": [
       "current transaction is aborted, commands ignored until end of transaction block\n",
       "\n"
      ]
     },
     "metadata": {},
     "output_type": "display_data"
    },
    {
     "data": {
      "text/html": [
       "<pre style=\"white-space:pre;overflow-x:auto;line-height:normal;font-family:Menlo,'DejaVu Sans Mono',consolas,'Courier New',monospace\">current transaction is aborted, commands ignored until end of transaction block\n",
       "\n",
       "</pre>\n"
      ],
      "text/plain": [
       "current transaction is aborted, commands ignored until end of transaction block\n",
       "\n"
      ]
     },
     "metadata": {},
     "output_type": "display_data"
    },
    {
     "data": {
      "text/html": [
       "<pre style=\"white-space:pre;overflow-x:auto;line-height:normal;font-family:Menlo,'DejaVu Sans Mono',consolas,'Courier New',monospace\">current transaction is aborted, commands ignored until end of transaction block\n",
       "\n",
       "</pre>\n"
      ],
      "text/plain": [
       "current transaction is aborted, commands ignored until end of transaction block\n",
       "\n"
      ]
     },
     "metadata": {},
     "output_type": "display_data"
    },
    {
     "data": {
      "text/html": [
       "<pre style=\"white-space:pre;overflow-x:auto;line-height:normal;font-family:Menlo,'DejaVu Sans Mono',consolas,'Courier New',monospace\">current transaction is aborted, commands ignored until end of transaction block\n",
       "\n",
       "</pre>\n"
      ],
      "text/plain": [
       "current transaction is aborted, commands ignored until end of transaction block\n",
       "\n"
      ]
     },
     "metadata": {},
     "output_type": "display_data"
    },
    {
     "data": {
      "text/html": [
       "<pre style=\"white-space:pre;overflow-x:auto;line-height:normal;font-family:Menlo,'DejaVu Sans Mono',consolas,'Courier New',monospace\">current transaction is aborted, commands ignored until end of transaction block\n",
       "\n",
       "</pre>\n"
      ],
      "text/plain": [
       "current transaction is aborted, commands ignored until end of transaction block\n",
       "\n"
      ]
     },
     "metadata": {},
     "output_type": "display_data"
    },
    {
     "data": {
      "text/html": [
       "<pre style=\"white-space:pre;overflow-x:auto;line-height:normal;font-family:Menlo,'DejaVu Sans Mono',consolas,'Courier New',monospace\">current transaction is aborted, commands ignored until end of transaction block\n",
       "\n",
       "</pre>\n"
      ],
      "text/plain": [
       "current transaction is aborted, commands ignored until end of transaction block\n",
       "\n"
      ]
     },
     "metadata": {},
     "output_type": "display_data"
    },
    {
     "data": {
      "text/html": [
       "<pre style=\"white-space:pre;overflow-x:auto;line-height:normal;font-family:Menlo,'DejaVu Sans Mono',consolas,'Courier New',monospace\">current transaction is aborted, commands ignored until end of transaction block\n",
       "\n",
       "</pre>\n"
      ],
      "text/plain": [
       "current transaction is aborted, commands ignored until end of transaction block\n",
       "\n"
      ]
     },
     "metadata": {},
     "output_type": "display_data"
    },
    {
     "data": {
      "text/html": [
       "<pre style=\"white-space:pre;overflow-x:auto;line-height:normal;font-family:Menlo,'DejaVu Sans Mono',consolas,'Courier New',monospace\">current transaction is aborted, commands ignored until end of transaction block\n",
       "\n",
       "</pre>\n"
      ],
      "text/plain": [
       "current transaction is aborted, commands ignored until end of transaction block\n",
       "\n"
      ]
     },
     "metadata": {},
     "output_type": "display_data"
    },
    {
     "data": {
      "text/html": [
       "<pre style=\"white-space:pre;overflow-x:auto;line-height:normal;font-family:Menlo,'DejaVu Sans Mono',consolas,'Courier New',monospace\">current transaction is aborted, commands ignored until end of transaction block\n",
       "\n",
       "</pre>\n"
      ],
      "text/plain": [
       "current transaction is aborted, commands ignored until end of transaction block\n",
       "\n"
      ]
     },
     "metadata": {},
     "output_type": "display_data"
    },
    {
     "data": {
      "text/html": [
       "<pre style=\"white-space:pre;overflow-x:auto;line-height:normal;font-family:Menlo,'DejaVu Sans Mono',consolas,'Courier New',monospace\">current transaction is aborted, commands ignored until end of transaction block\n",
       "\n",
       "</pre>\n"
      ],
      "text/plain": [
       "current transaction is aborted, commands ignored until end of transaction block\n",
       "\n"
      ]
     },
     "metadata": {},
     "output_type": "display_data"
    },
    {
     "data": {
      "text/html": [
       "<pre style=\"white-space:pre;overflow-x:auto;line-height:normal;font-family:Menlo,'DejaVu Sans Mono',consolas,'Courier New',monospace\">current transaction is aborted, commands ignored until end of transaction block\n",
       "\n",
       "</pre>\n"
      ],
      "text/plain": [
       "current transaction is aborted, commands ignored until end of transaction block\n",
       "\n"
      ]
     },
     "metadata": {},
     "output_type": "display_data"
    },
    {
     "data": {
      "text/html": [
       "<pre style=\"white-space:pre;overflow-x:auto;line-height:normal;font-family:Menlo,'DejaVu Sans Mono',consolas,'Courier New',monospace\">current transaction is aborted, commands ignored until end of transaction block\n",
       "\n",
       "</pre>\n"
      ],
      "text/plain": [
       "current transaction is aborted, commands ignored until end of transaction block\n",
       "\n"
      ]
     },
     "metadata": {},
     "output_type": "display_data"
    },
    {
     "data": {
      "text/html": [
       "<pre style=\"white-space:pre;overflow-x:auto;line-height:normal;font-family:Menlo,'DejaVu Sans Mono',consolas,'Courier New',monospace\">current transaction is aborted, commands ignored until end of transaction block\n",
       "\n",
       "</pre>\n"
      ],
      "text/plain": [
       "current transaction is aborted, commands ignored until end of transaction block\n",
       "\n"
      ]
     },
     "metadata": {},
     "output_type": "display_data"
    },
    {
     "data": {
      "text/html": [
       "<pre style=\"white-space:pre;overflow-x:auto;line-height:normal;font-family:Menlo,'DejaVu Sans Mono',consolas,'Courier New',monospace\">current transaction is aborted, commands ignored until end of transaction block\n",
       "\n",
       "</pre>\n"
      ],
      "text/plain": [
       "current transaction is aborted, commands ignored until end of transaction block\n",
       "\n"
      ]
     },
     "metadata": {},
     "output_type": "display_data"
    },
    {
     "data": {
      "text/html": [
       "<pre style=\"white-space:pre;overflow-x:auto;line-height:normal;font-family:Menlo,'DejaVu Sans Mono',consolas,'Courier New',monospace\">syntax error at or near <span style=\"color: #008000; text-decoration-color: #008000\">\"s\"</span>\n",
       "LINE <span style=\"color: #008080; text-decoration-color: #008080; font-weight: bold\">5</span>: <span style=\"color: #808000; text-decoration-color: #808000\">...</span>anscript of clinical interactions. The SOAP agent's task is <span style=\"color: #808000; text-decoration-color: #808000\">...</span>\n",
       "                                                             ^\n",
       "\n",
       "</pre>\n"
      ],
      "text/plain": [
       "syntax error at or near \u001b[32m\"s\"\u001b[0m\n",
       "LINE \u001b[1;36m5\u001b[0m: \u001b[33m...\u001b[0manscript of clinical interactions. The SOAP agent's task is \u001b[33m...\u001b[0m\n",
       "                                                             ^\n",
       "\n"
      ]
     },
     "metadata": {},
     "output_type": "display_data"
    },
    {
     "data": {
      "text/html": [
       "<pre style=\"white-space:pre;overflow-x:auto;line-height:normal;font-family:Menlo,'DejaVu Sans Mono',consolas,'Courier New',monospace\">current transaction is aborted, commands ignored until end of transaction block\n",
       "\n",
       "</pre>\n"
      ],
      "text/plain": [
       "current transaction is aborted, commands ignored until end of transaction block\n",
       "\n"
      ]
     },
     "metadata": {},
     "output_type": "display_data"
    },
    {
     "data": {
      "text/html": [
       "<pre style=\"white-space:pre;overflow-x:auto;line-height:normal;font-family:Menlo,'DejaVu Sans Mono',consolas,'Courier New',monospace\">current transaction is aborted, commands ignored until end of transaction block\n",
       "\n",
       "</pre>\n"
      ],
      "text/plain": [
       "current transaction is aborted, commands ignored until end of transaction block\n",
       "\n"
      ]
     },
     "metadata": {},
     "output_type": "display_data"
    },
    {
     "data": {
      "text/html": [
       "<pre style=\"white-space:pre;overflow-x:auto;line-height:normal;font-family:Menlo,'DejaVu Sans Mono',consolas,'Courier New',monospace\">current transaction is aborted, commands ignored until end of transaction block\n",
       "\n",
       "</pre>\n"
      ],
      "text/plain": [
       "current transaction is aborted, commands ignored until end of transaction block\n",
       "\n"
      ]
     },
     "metadata": {},
     "output_type": "display_data"
    },
    {
     "data": {
      "text/html": [
       "<pre style=\"white-space:pre;overflow-x:auto;line-height:normal;font-family:Menlo,'DejaVu Sans Mono',consolas,'Courier New',monospace\">current transaction is aborted, commands ignored until end of transaction block\n",
       "\n",
       "</pre>\n"
      ],
      "text/plain": [
       "current transaction is aborted, commands ignored until end of transaction block\n",
       "\n"
      ]
     },
     "metadata": {},
     "output_type": "display_data"
    },
    {
     "data": {
      "text/html": [
       "<pre style=\"white-space:pre;overflow-x:auto;line-height:normal;font-family:Menlo,'DejaVu Sans Mono',consolas,'Courier New',monospace\">current transaction is aborted, commands ignored until end of transaction block\n",
       "\n",
       "</pre>\n"
      ],
      "text/plain": [
       "current transaction is aborted, commands ignored until end of transaction block\n",
       "\n"
      ]
     },
     "metadata": {},
     "output_type": "display_data"
    },
    {
     "data": {
      "text/html": [
       "<pre style=\"white-space:pre;overflow-x:auto;line-height:normal;font-family:Menlo,'DejaVu Sans Mono',consolas,'Courier New',monospace\">current transaction is aborted, commands ignored until end of transaction block\n",
       "\n",
       "</pre>\n"
      ],
      "text/plain": [
       "current transaction is aborted, commands ignored until end of transaction block\n",
       "\n"
      ]
     },
     "metadata": {},
     "output_type": "display_data"
    },
    {
     "data": {
      "text/html": [
       "<pre style=\"white-space:pre;overflow-x:auto;line-height:normal;font-family:Menlo,'DejaVu Sans Mono',consolas,'Courier New',monospace\">current transaction is aborted, commands ignored until end of transaction block\n",
       "\n",
       "</pre>\n"
      ],
      "text/plain": [
       "current transaction is aborted, commands ignored until end of transaction block\n",
       "\n"
      ]
     },
     "metadata": {},
     "output_type": "display_data"
    },
    {
     "data": {
      "text/html": [
       "<pre style=\"white-space:pre;overflow-x:auto;line-height:normal;font-family:Menlo,'DejaVu Sans Mono',consolas,'Courier New',monospace\">current transaction is aborted, commands ignored until end of transaction block\n",
       "\n",
       "</pre>\n"
      ],
      "text/plain": [
       "current transaction is aborted, commands ignored until end of transaction block\n",
       "\n"
      ]
     },
     "metadata": {},
     "output_type": "display_data"
    },
    {
     "data": {
      "text/html": [
       "<pre style=\"white-space:pre;overflow-x:auto;line-height:normal;font-family:Menlo,'DejaVu Sans Mono',consolas,'Courier New',monospace\">current transaction is aborted, commands ignored until end of transaction block\n",
       "\n",
       "</pre>\n"
      ],
      "text/plain": [
       "current transaction is aborted, commands ignored until end of transaction block\n",
       "\n"
      ]
     },
     "metadata": {},
     "output_type": "display_data"
    },
    {
     "data": {
      "text/html": [
       "<pre style=\"white-space:pre;overflow-x:auto;line-height:normal;font-family:Menlo,'DejaVu Sans Mono',consolas,'Courier New',monospace\">current transaction is aborted, commands ignored until end of transaction block\n",
       "\n",
       "</pre>\n"
      ],
      "text/plain": [
       "current transaction is aborted, commands ignored until end of transaction block\n",
       "\n"
      ]
     },
     "metadata": {},
     "output_type": "display_data"
    },
    {
     "data": {
      "text/html": [
       "<pre style=\"white-space:pre;overflow-x:auto;line-height:normal;font-family:Menlo,'DejaVu Sans Mono',consolas,'Courier New',monospace\">current transaction is aborted, commands ignored until end of transaction block\n",
       "\n",
       "</pre>\n"
      ],
      "text/plain": [
       "current transaction is aborted, commands ignored until end of transaction block\n",
       "\n"
      ]
     },
     "metadata": {},
     "output_type": "display_data"
    },
    {
     "data": {
      "text/html": [
       "<pre style=\"white-space:pre;overflow-x:auto;line-height:normal;font-family:Menlo,'DejaVu Sans Mono',consolas,'Courier New',monospace\">current transaction is aborted, commands ignored until end of transaction block\n",
       "\n",
       "</pre>\n"
      ],
      "text/plain": [
       "current transaction is aborted, commands ignored until end of transaction block\n",
       "\n"
      ]
     },
     "metadata": {},
     "output_type": "display_data"
    },
    {
     "data": {
      "text/html": [
       "<pre style=\"white-space:pre;overflow-x:auto;line-height:normal;font-family:Menlo,'DejaVu Sans Mono',consolas,'Courier New',monospace\">current transaction is aborted, commands ignored until end of transaction block\n",
       "\n",
       "</pre>\n"
      ],
      "text/plain": [
       "current transaction is aborted, commands ignored until end of transaction block\n",
       "\n"
      ]
     },
     "metadata": {},
     "output_type": "display_data"
    },
    {
     "data": {
      "text/html": [
       "<pre style=\"white-space:pre;overflow-x:auto;line-height:normal;font-family:Menlo,'DejaVu Sans Mono',consolas,'Courier New',monospace\">current transaction is aborted, commands ignored until end of transaction block\n",
       "\n",
       "</pre>\n"
      ],
      "text/plain": [
       "current transaction is aborted, commands ignored until end of transaction block\n",
       "\n"
      ]
     },
     "metadata": {},
     "output_type": "display_data"
    },
    {
     "data": {
      "text/html": [
       "<pre style=\"white-space:pre;overflow-x:auto;line-height:normal;font-family:Menlo,'DejaVu Sans Mono',consolas,'Courier New',monospace\">current transaction is aborted, commands ignored until end of transaction block\n",
       "\n",
       "</pre>\n"
      ],
      "text/plain": [
       "current transaction is aborted, commands ignored until end of transaction block\n",
       "\n"
      ]
     },
     "metadata": {},
     "output_type": "display_data"
    },
    {
     "data": {
      "text/html": [
       "<pre style=\"white-space:pre;overflow-x:auto;line-height:normal;font-family:Menlo,'DejaVu Sans Mono',consolas,'Courier New',monospace\">current transaction is aborted, commands ignored until end of transaction block\n",
       "\n",
       "</pre>\n"
      ],
      "text/plain": [
       "current transaction is aborted, commands ignored until end of transaction block\n",
       "\n"
      ]
     },
     "metadata": {},
     "output_type": "display_data"
    },
    {
     "data": {
      "text/html": [
       "<pre style=\"white-space:pre;overflow-x:auto;line-height:normal;font-family:Menlo,'DejaVu Sans Mono',consolas,'Courier New',monospace\">current transaction is aborted, commands ignored until end of transaction block\n",
       "\n",
       "</pre>\n"
      ],
      "text/plain": [
       "current transaction is aborted, commands ignored until end of transaction block\n",
       "\n"
      ]
     },
     "metadata": {},
     "output_type": "display_data"
    },
    {
     "data": {
      "text/html": [
       "<pre style=\"white-space:pre;overflow-x:auto;line-height:normal;font-family:Menlo,'DejaVu Sans Mono',consolas,'Courier New',monospace\">current transaction is aborted, commands ignored until end of transaction block\n",
       "\n",
       "</pre>\n"
      ],
      "text/plain": [
       "current transaction is aborted, commands ignored until end of transaction block\n",
       "\n"
      ]
     },
     "metadata": {},
     "output_type": "display_data"
    },
    {
     "data": {
      "text/html": [
       "<pre style=\"white-space:pre;overflow-x:auto;line-height:normal;font-family:Menlo,'DejaVu Sans Mono',consolas,'Courier New',monospace\">current transaction is aborted, commands ignored until end of transaction block\n",
       "\n",
       "</pre>\n"
      ],
      "text/plain": [
       "current transaction is aborted, commands ignored until end of transaction block\n",
       "\n"
      ]
     },
     "metadata": {},
     "output_type": "display_data"
    },
    {
     "data": {
      "text/html": [
       "<pre style=\"white-space:pre;overflow-x:auto;line-height:normal;font-family:Menlo,'DejaVu Sans Mono',consolas,'Courier New',monospace\">current transaction is aborted, commands ignored until end of transaction block\n",
       "\n",
       "</pre>\n"
      ],
      "text/plain": [
       "current transaction is aborted, commands ignored until end of transaction block\n",
       "\n"
      ]
     },
     "metadata": {},
     "output_type": "display_data"
    },
    {
     "data": {
      "text/html": [
       "<pre style=\"white-space:pre;overflow-x:auto;line-height:normal;font-family:Menlo,'DejaVu Sans Mono',consolas,'Courier New',monospace\">current transaction is aborted, commands ignored until end of transaction block\n",
       "\n",
       "</pre>\n"
      ],
      "text/plain": [
       "current transaction is aborted, commands ignored until end of transaction block\n",
       "\n"
      ]
     },
     "metadata": {},
     "output_type": "display_data"
    },
    {
     "data": {
      "text/html": [
       "<pre style=\"white-space:pre;overflow-x:auto;line-height:normal;font-family:Menlo,'DejaVu Sans Mono',consolas,'Courier New',monospace\">current transaction is aborted, commands ignored until end of transaction block\n",
       "\n",
       "</pre>\n"
      ],
      "text/plain": [
       "current transaction is aborted, commands ignored until end of transaction block\n",
       "\n"
      ]
     },
     "metadata": {},
     "output_type": "display_data"
    },
    {
     "data": {
      "text/html": [
       "<pre style=\"white-space:pre;overflow-x:auto;line-height:normal;font-family:Menlo,'DejaVu Sans Mono',consolas,'Courier New',monospace\">current transaction is aborted, commands ignored until end of transaction block\n",
       "\n",
       "</pre>\n"
      ],
      "text/plain": [
       "current transaction is aborted, commands ignored until end of transaction block\n",
       "\n"
      ]
     },
     "metadata": {},
     "output_type": "display_data"
    },
    {
     "data": {
      "text/html": [
       "<pre style=\"white-space:pre;overflow-x:auto;line-height:normal;font-family:Menlo,'DejaVu Sans Mono',consolas,'Courier New',monospace\">current transaction is aborted, commands ignored until end of transaction block\n",
       "\n",
       "</pre>\n"
      ],
      "text/plain": [
       "current transaction is aborted, commands ignored until end of transaction block\n",
       "\n"
      ]
     },
     "metadata": {},
     "output_type": "display_data"
    },
    {
     "data": {
      "text/html": [
       "<pre style=\"white-space:pre;overflow-x:auto;line-height:normal;font-family:Menlo,'DejaVu Sans Mono',consolas,'Courier New',monospace\">current transaction is aborted, commands ignored until end of transaction block\n",
       "\n",
       "</pre>\n"
      ],
      "text/plain": [
       "current transaction is aborted, commands ignored until end of transaction block\n",
       "\n"
      ]
     },
     "metadata": {},
     "output_type": "display_data"
    },
    {
     "data": {
      "text/html": [
       "<pre style=\"white-space:pre;overflow-x:auto;line-height:normal;font-family:Menlo,'DejaVu Sans Mono',consolas,'Courier New',monospace\">current transaction is aborted, commands ignored until end of transaction block\n",
       "\n",
       "</pre>\n"
      ],
      "text/plain": [
       "current transaction is aborted, commands ignored until end of transaction block\n",
       "\n"
      ]
     },
     "metadata": {},
     "output_type": "display_data"
    },
    {
     "data": {
      "text/html": [
       "<pre style=\"white-space:pre;overflow-x:auto;line-height:normal;font-family:Menlo,'DejaVu Sans Mono',consolas,'Courier New',monospace\">current transaction is aborted, commands ignored until end of transaction block\n",
       "\n",
       "</pre>\n"
      ],
      "text/plain": [
       "current transaction is aborted, commands ignored until end of transaction block\n",
       "\n"
      ]
     },
     "metadata": {},
     "output_type": "display_data"
    },
    {
     "data": {
      "text/html": [
       "<pre style=\"white-space:pre;overflow-x:auto;line-height:normal;font-family:Menlo,'DejaVu Sans Mono',consolas,'Courier New',monospace\">current transaction is aborted, commands ignored until end of transaction block\n",
       "\n",
       "</pre>\n"
      ],
      "text/plain": [
       "current transaction is aborted, commands ignored until end of transaction block\n",
       "\n"
      ]
     },
     "metadata": {},
     "output_type": "display_data"
    },
    {
     "data": {
      "text/html": [
       "<pre style=\"white-space:pre;overflow-x:auto;line-height:normal;font-family:Menlo,'DejaVu Sans Mono',consolas,'Courier New',monospace\">current transaction is aborted, commands ignored until end of transaction block\n",
       "\n",
       "</pre>\n"
      ],
      "text/plain": [
       "current transaction is aborted, commands ignored until end of transaction block\n",
       "\n"
      ]
     },
     "metadata": {},
     "output_type": "display_data"
    },
    {
     "data": {
      "text/html": [
       "<pre style=\"white-space:pre;overflow-x:auto;line-height:normal;font-family:Menlo,'DejaVu Sans Mono',consolas,'Courier New',monospace\">current transaction is aborted, commands ignored until end of transaction block\n",
       "\n",
       "</pre>\n"
      ],
      "text/plain": [
       "current transaction is aborted, commands ignored until end of transaction block\n",
       "\n"
      ]
     },
     "metadata": {},
     "output_type": "display_data"
    },
    {
     "data": {
      "text/html": [
       "<pre style=\"white-space:pre;overflow-x:auto;line-height:normal;font-family:Menlo,'DejaVu Sans Mono',consolas,'Courier New',monospace\">current transaction is aborted, commands ignored until end of transaction block\n",
       "\n",
       "</pre>\n"
      ],
      "text/plain": [
       "current transaction is aborted, commands ignored until end of transaction block\n",
       "\n"
      ]
     },
     "metadata": {},
     "output_type": "display_data"
    },
    {
     "data": {
      "text/html": [
       "<pre style=\"white-space:pre;overflow-x:auto;line-height:normal;font-family:Menlo,'DejaVu Sans Mono',consolas,'Courier New',monospace\">current transaction is aborted, commands ignored until end of transaction block\n",
       "\n",
       "</pre>\n"
      ],
      "text/plain": [
       "current transaction is aborted, commands ignored until end of transaction block\n",
       "\n"
      ]
     },
     "metadata": {},
     "output_type": "display_data"
    },
    {
     "data": {
      "text/html": [
       "<pre style=\"white-space:pre;overflow-x:auto;line-height:normal;font-family:Menlo,'DejaVu Sans Mono',consolas,'Courier New',monospace\">current transaction is aborted, commands ignored until end of transaction block\n",
       "\n",
       "</pre>\n"
      ],
      "text/plain": [
       "current transaction is aborted, commands ignored until end of transaction block\n",
       "\n"
      ]
     },
     "metadata": {},
     "output_type": "display_data"
    },
    {
     "data": {
      "text/html": [
       "<pre style=\"white-space:pre;overflow-x:auto;line-height:normal;font-family:Menlo,'DejaVu Sans Mono',consolas,'Courier New',monospace\">syntax error at or near <span style=\"color: #008000; text-decoration-color: #008000\">\"s\"</span>\n",
       "LINE <span style=\"color: #008080; text-decoration-color: #008080; font-weight: bold\">5</span>: <span style=\"color: #808000; text-decoration-color: #808000\">...</span>Luci performs a real-time analysis of the patient's conditio<span style=\"color: #808000; text-decoration-color: #808000\">...</span>\n",
       "                                                             ^\n",
       "\n",
       "</pre>\n"
      ],
      "text/plain": [
       "syntax error at or near \u001b[32m\"s\"\u001b[0m\n",
       "LINE \u001b[1;36m5\u001b[0m: \u001b[33m...\u001b[0mLuci performs a real-time analysis of the patient's conditio\u001b[33m...\u001b[0m\n",
       "                                                             ^\n",
       "\n"
      ]
     },
     "metadata": {},
     "output_type": "display_data"
    },
    {
     "data": {
      "text/html": [
       "<pre style=\"white-space:pre;overflow-x:auto;line-height:normal;font-family:Menlo,'DejaVu Sans Mono',consolas,'Courier New',monospace\">current transaction is aborted, commands ignored until end of transaction block\n",
       "\n",
       "</pre>\n"
      ],
      "text/plain": [
       "current transaction is aborted, commands ignored until end of transaction block\n",
       "\n"
      ]
     },
     "metadata": {},
     "output_type": "display_data"
    },
    {
     "data": {
      "text/html": [
       "<pre style=\"white-space:pre;overflow-x:auto;line-height:normal;font-family:Menlo,'DejaVu Sans Mono',consolas,'Courier New',monospace\">current transaction is aborted, commands ignored until end of transaction block\n",
       "\n",
       "</pre>\n"
      ],
      "text/plain": [
       "current transaction is aborted, commands ignored until end of transaction block\n",
       "\n"
      ]
     },
     "metadata": {},
     "output_type": "display_data"
    },
    {
     "data": {
      "text/html": [
       "<pre style=\"white-space:pre;overflow-x:auto;line-height:normal;font-family:Menlo,'DejaVu Sans Mono',consolas,'Courier New',monospace\">current transaction is aborted, commands ignored until end of transaction block\n",
       "\n",
       "</pre>\n"
      ],
      "text/plain": [
       "current transaction is aborted, commands ignored until end of transaction block\n",
       "\n"
      ]
     },
     "metadata": {},
     "output_type": "display_data"
    },
    {
     "data": {
      "text/html": [
       "<pre style=\"white-space:pre;overflow-x:auto;line-height:normal;font-family:Menlo,'DejaVu Sans Mono',consolas,'Courier New',monospace\">current transaction is aborted, commands ignored until end of transaction block\n",
       "\n",
       "</pre>\n"
      ],
      "text/plain": [
       "current transaction is aborted, commands ignored until end of transaction block\n",
       "\n"
      ]
     },
     "metadata": {},
     "output_type": "display_data"
    },
    {
     "data": {
      "text/html": [
       "<pre style=\"white-space:pre;overflow-x:auto;line-height:normal;font-family:Menlo,'DejaVu Sans Mono',consolas,'Courier New',monospace\">current transaction is aborted, commands ignored until end of transaction block\n",
       "\n",
       "</pre>\n"
      ],
      "text/plain": [
       "current transaction is aborted, commands ignored until end of transaction block\n",
       "\n"
      ]
     },
     "metadata": {},
     "output_type": "display_data"
    },
    {
     "data": {
      "text/html": [
       "<pre style=\"white-space:pre;overflow-x:auto;line-height:normal;font-family:Menlo,'DejaVu Sans Mono',consolas,'Courier New',monospace\">current transaction is aborted, commands ignored until end of transaction block\n",
       "\n",
       "</pre>\n"
      ],
      "text/plain": [
       "current transaction is aborted, commands ignored until end of transaction block\n",
       "\n"
      ]
     },
     "metadata": {},
     "output_type": "display_data"
    },
    {
     "data": {
      "text/html": [
       "<pre style=\"white-space:pre;overflow-x:auto;line-height:normal;font-family:Menlo,'DejaVu Sans Mono',consolas,'Courier New',monospace\">current transaction is aborted, commands ignored until end of transaction block\n",
       "\n",
       "</pre>\n"
      ],
      "text/plain": [
       "current transaction is aborted, commands ignored until end of transaction block\n",
       "\n"
      ]
     },
     "metadata": {},
     "output_type": "display_data"
    },
    {
     "data": {
      "text/html": [
       "<pre style=\"white-space:pre;overflow-x:auto;line-height:normal;font-family:Menlo,'DejaVu Sans Mono',consolas,'Courier New',monospace\">current transaction is aborted, commands ignored until end of transaction block\n",
       "\n",
       "</pre>\n"
      ],
      "text/plain": [
       "current transaction is aborted, commands ignored until end of transaction block\n",
       "\n"
      ]
     },
     "metadata": {},
     "output_type": "display_data"
    },
    {
     "data": {
      "text/html": [
       "<pre style=\"white-space:pre;overflow-x:auto;line-height:normal;font-family:Menlo,'DejaVu Sans Mono',consolas,'Courier New',monospace\">current transaction is aborted, commands ignored until end of transaction block\n",
       "\n",
       "</pre>\n"
      ],
      "text/plain": [
       "current transaction is aborted, commands ignored until end of transaction block\n",
       "\n"
      ]
     },
     "metadata": {},
     "output_type": "display_data"
    },
    {
     "data": {
      "text/html": [
       "<pre style=\"white-space:pre;overflow-x:auto;line-height:normal;font-family:Menlo,'DejaVu Sans Mono',consolas,'Courier New',monospace\">current transaction is aborted, commands ignored until end of transaction block\n",
       "\n",
       "</pre>\n"
      ],
      "text/plain": [
       "current transaction is aborted, commands ignored until end of transaction block\n",
       "\n"
      ]
     },
     "metadata": {},
     "output_type": "display_data"
    },
    {
     "data": {
      "text/html": [
       "<pre style=\"white-space:pre;overflow-x:auto;line-height:normal;font-family:Menlo,'DejaVu Sans Mono',consolas,'Courier New',monospace\">current transaction is aborted, commands ignored until end of transaction block\n",
       "\n",
       "</pre>\n"
      ],
      "text/plain": [
       "current transaction is aborted, commands ignored until end of transaction block\n",
       "\n"
      ]
     },
     "metadata": {},
     "output_type": "display_data"
    },
    {
     "data": {
      "text/html": [
       "<pre style=\"white-space:pre;overflow-x:auto;line-height:normal;font-family:Menlo,'DejaVu Sans Mono',consolas,'Courier New',monospace\">current transaction is aborted, commands ignored until end of transaction block\n",
       "\n",
       "</pre>\n"
      ],
      "text/plain": [
       "current transaction is aborted, commands ignored until end of transaction block\n",
       "\n"
      ]
     },
     "metadata": {},
     "output_type": "display_data"
    },
    {
     "data": {
      "text/html": [
       "<pre style=\"white-space:pre;overflow-x:auto;line-height:normal;font-family:Menlo,'DejaVu Sans Mono',consolas,'Courier New',monospace\">current transaction is aborted, commands ignored until end of transaction block\n",
       "\n",
       "</pre>\n"
      ],
      "text/plain": [
       "current transaction is aborted, commands ignored until end of transaction block\n",
       "\n"
      ]
     },
     "metadata": {},
     "output_type": "display_data"
    },
    {
     "data": {
      "text/html": [
       "<pre style=\"white-space:pre;overflow-x:auto;line-height:normal;font-family:Menlo,'DejaVu Sans Mono',consolas,'Courier New',monospace\">current transaction is aborted, commands ignored until end of transaction block\n",
       "\n",
       "</pre>\n"
      ],
      "text/plain": [
       "current transaction is aborted, commands ignored until end of transaction block\n",
       "\n"
      ]
     },
     "metadata": {},
     "output_type": "display_data"
    },
    {
     "data": {
      "text/html": [
       "<pre style=\"white-space:pre;overflow-x:auto;line-height:normal;font-family:Menlo,'DejaVu Sans Mono',consolas,'Courier New',monospace\">current transaction is aborted, commands ignored until end of transaction block\n",
       "\n",
       "</pre>\n"
      ],
      "text/plain": [
       "current transaction is aborted, commands ignored until end of transaction block\n",
       "\n"
      ]
     },
     "metadata": {},
     "output_type": "display_data"
    },
    {
     "data": {
      "text/html": [
       "<pre style=\"white-space:pre;overflow-x:auto;line-height:normal;font-family:Menlo,'DejaVu Sans Mono',consolas,'Courier New',monospace\">current transaction is aborted, commands ignored until end of transaction block\n",
       "\n",
       "</pre>\n"
      ],
      "text/plain": [
       "current transaction is aborted, commands ignored until end of transaction block\n",
       "\n"
      ]
     },
     "metadata": {},
     "output_type": "display_data"
    },
    {
     "data": {
      "text/html": [
       "<pre style=\"white-space:pre;overflow-x:auto;line-height:normal;font-family:Menlo,'DejaVu Sans Mono',consolas,'Courier New',monospace\">current transaction is aborted, commands ignored until end of transaction block\n",
       "\n",
       "</pre>\n"
      ],
      "text/plain": [
       "current transaction is aborted, commands ignored until end of transaction block\n",
       "\n"
      ]
     },
     "metadata": {},
     "output_type": "display_data"
    },
    {
     "data": {
      "text/html": [
       "<pre style=\"white-space:pre;overflow-x:auto;line-height:normal;font-family:Menlo,'DejaVu Sans Mono',consolas,'Courier New',monospace\">current transaction is aborted, commands ignored until end of transaction block\n",
       "\n",
       "</pre>\n"
      ],
      "text/plain": [
       "current transaction is aborted, commands ignored until end of transaction block\n",
       "\n"
      ]
     },
     "metadata": {},
     "output_type": "display_data"
    },
    {
     "data": {
      "text/html": [
       "<pre style=\"white-space:pre;overflow-x:auto;line-height:normal;font-family:Menlo,'DejaVu Sans Mono',consolas,'Courier New',monospace\">current transaction is aborted, commands ignored until end of transaction block\n",
       "\n",
       "</pre>\n"
      ],
      "text/plain": [
       "current transaction is aborted, commands ignored until end of transaction block\n",
       "\n"
      ]
     },
     "metadata": {},
     "output_type": "display_data"
    },
    {
     "data": {
      "text/html": [
       "<pre style=\"white-space:pre;overflow-x:auto;line-height:normal;font-family:Menlo,'DejaVu Sans Mono',consolas,'Courier New',monospace\">current transaction is aborted, commands ignored until end of transaction block\n",
       "\n",
       "</pre>\n"
      ],
      "text/plain": [
       "current transaction is aborted, commands ignored until end of transaction block\n",
       "\n"
      ]
     },
     "metadata": {},
     "output_type": "display_data"
    },
    {
     "data": {
      "text/html": [
       "<pre style=\"white-space:pre;overflow-x:auto;line-height:normal;font-family:Menlo,'DejaVu Sans Mono',consolas,'Courier New',monospace\">current transaction is aborted, commands ignored until end of transaction block\n",
       "\n",
       "</pre>\n"
      ],
      "text/plain": [
       "current transaction is aborted, commands ignored until end of transaction block\n",
       "\n"
      ]
     },
     "metadata": {},
     "output_type": "display_data"
    },
    {
     "data": {
      "text/html": [
       "<pre style=\"white-space:pre;overflow-x:auto;line-height:normal;font-family:Menlo,'DejaVu Sans Mono',consolas,'Courier New',monospace\">current transaction is aborted, commands ignored until end of transaction block\n",
       "\n",
       "</pre>\n"
      ],
      "text/plain": [
       "current transaction is aborted, commands ignored until end of transaction block\n",
       "\n"
      ]
     },
     "metadata": {},
     "output_type": "display_data"
    },
    {
     "data": {
      "text/html": [
       "<pre style=\"white-space:pre;overflow-x:auto;line-height:normal;font-family:Menlo,'DejaVu Sans Mono',consolas,'Courier New',monospace\">current transaction is aborted, commands ignored until end of transaction block\n",
       "\n",
       "</pre>\n"
      ],
      "text/plain": [
       "current transaction is aborted, commands ignored until end of transaction block\n",
       "\n"
      ]
     },
     "metadata": {},
     "output_type": "display_data"
    },
    {
     "data": {
      "text/html": [
       "<pre style=\"white-space:pre;overflow-x:auto;line-height:normal;font-family:Menlo,'DejaVu Sans Mono',consolas,'Courier New',monospace\">current transaction is aborted, commands ignored until end of transaction block\n",
       "\n",
       "</pre>\n"
      ],
      "text/plain": [
       "current transaction is aborted, commands ignored until end of transaction block\n",
       "\n"
      ]
     },
     "metadata": {},
     "output_type": "display_data"
    },
    {
     "data": {
      "text/html": [
       "<pre style=\"white-space:pre;overflow-x:auto;line-height:normal;font-family:Menlo,'DejaVu Sans Mono',consolas,'Courier New',monospace\">current transaction is aborted, commands ignored until end of transaction block\n",
       "\n",
       "</pre>\n"
      ],
      "text/plain": [
       "current transaction is aborted, commands ignored until end of transaction block\n",
       "\n"
      ]
     },
     "metadata": {},
     "output_type": "display_data"
    }
   ],
   "source": [
    "console = Console()\n",
    "FILENAME = \"AIAgentFrameworkinHealthcareIndustry.pdf_6550.json\"\n",
    "json_data = load_json(FILENAME)\n",
    "print(f\"Number of items: {len(json_data)}\")\n",
    "encoded_image_data = None\n",
    "file_id = str(uuid4())\n",
    "for i in range(len(json_data)):\n",
    "\n",
    "    # if text_html then must be parsed for correct HTML quotes\n",
    "    element_id = json_data[i][\"element_id\"]\n",
    "    element_type = json_data[i][\"type\"].upper()\n",
    "    if \"parent_id\" in json_data[i]:\n",
    "        parent_id = json_data[i][\"parent_id\"]\n",
    "    else:\n",
    "        parent_id = \"\"\n",
    "    page_number = json_data[i][\"metadata\"][\"page_number\"]\n",
    "    filename = json_data[i][\"metadata\"][\"filename\"]\n",
    "    # notice errors with '\n",
    "    element_text = json_data[i][\"text\"].replace(\"'\\n'\", \" \")\n",
    "    if element_text is not None:\n",
    "        element_embedding = get_embedding(element_text)\n",
    "    else:\n",
    "        element_embedding = \"\"\n",
    "    if json_data[i][\"type\"] == \"Image\" or json_data[i][\"type\"] == \"Table\":\n",
    "        console.print(\n",
    "            f\"[dark_orange]--------- {element_type.upper()} Item Number  {i + 1}--------[/]\"\n",
    "        )\n",
    "        el_image_b64 = json_data[i][\"metadata\"][\"image_base64\"]\n",
    "        # console.print(el_image_b64[:40])\n",
    "    else:\n",
    "        el_image_b64 = \"NONE\"\n",
    "\n",
    "    sql = f\"\"\"\n",
    "        INSERT INTO tbl_doc_elements (\n",
    "            file_id, element_id, element_text, element_type, parent_id, page_number, image_base64, embedding)\n",
    "        VALUES \n",
    "        ('{file_id}','{element_id}','{element_text}','{element_type}','{parent_id}', '{page_number}', '{el_image_b64}', '{element_embedding}')\n",
    "        RETURNING id;\n",
    "            \"\"\"\n",
    "    # console.print(sql)\n",
    "    try:\n",
    "        cur.execute(sql)\n",
    "        row = cur.fetchone()\n",
    "        id = row[0]\n",
    "        console.print(f\"ID is {id}\\nFILE_ID: {file_id}\")\n",
    "        conn.commit()\n",
    "    except Exception as e:\n",
    "        console.print(e)"
   ]
  },
  {
   "cell_type": "code",
   "execution_count": 8,
   "metadata": {},
   "outputs": [
    {
     "data": {
      "text/html": [
       "<pre style=\"white-space:pre;overflow-x:auto;line-height:normal;font-family:Menlo,'DejaVu Sans Mono',consolas,'Courier New',monospace\">current transaction is aborted, commands ignored until end of transaction block\n",
       "\n",
       "</pre>\n"
      ],
      "text/plain": [
       "current transaction is aborted, commands ignored until end of transaction block\n",
       "\n"
      ]
     },
     "metadata": {},
     "output_type": "display_data"
    }
   ],
   "source": [
    "# ensure base64 in db produces image\n",
    "\n",
    "sql = \"\"\"\n",
    "SELECT id,image_base64 FROM public.tbl_doc_elements\n",
    "WHERE element_type = 'IMAGE'\n",
    "ORDER BY id ASC \n",
    "\"\"\"\n",
    "# console.print(sql)\n",
    "try:\n",
    "    cur.execute(sql)\n",
    "    row = cur.fetchone()\n",
    "    id = row[0]\n",
    "    image_base64 = row[1]\n",
    "    filename = f\"./test_image_{randint(1000,9999)}.png\"\n",
    "    console.print(\n",
    "        f\"Filename: {filename} Image is {image_base64[:20]} with len {len(image_base64)}\"\n",
    "    )\n",
    "\n",
    "    decode_image(image_base64, filename)\n",
    "\n",
    "except Exception as e:\n",
    "    console.print(e)"
   ]
  },
  {
   "cell_type": "code",
   "execution_count": 9,
   "metadata": {},
   "outputs": [],
   "source": [
    "cur.close()\n",
    "conn.close()"
   ]
  }
 ],
 "metadata": {
  "kernelspec": {
   "display_name": "venv",
   "language": "python",
   "name": "python3"
  },
  "language_info": {
   "codemirror_mode": {
    "name": "ipython",
    "version": 3
   },
   "file_extension": ".py",
   "mimetype": "text/x-python",
   "name": "python",
   "nbconvert_exporter": "python",
   "pygments_lexer": "ipython3",
   "version": "3.12.1"
  }
 },
 "nbformat": 4,
 "nbformat_minor": 2
}
