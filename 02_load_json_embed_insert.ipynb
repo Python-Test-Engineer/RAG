{
 "cells": [
  {
   "cell_type": "code",
   "execution_count": 1,
   "metadata": {},
   "outputs": [],
   "source": [
    "import os\n",
    "import json\n",
    "import base64\n",
    "import openai\n",
    "from openai import OpenAI\n",
    "from dotenv import find_dotenv, load_dotenv\n",
    "from uuid import uuid4\n",
    "from random import randint\n",
    "from utils.get_openai_api_key import get_test_key\n",
    "from utils.get_postgres_connection import _conn_open\n",
    "from utils.load_json import load_json\n",
    "from rich.console import Console\n",
    "\n",
    "console = Console()"
   ]
  },
  {
   "cell_type": "code",
   "execution_count": 2,
   "metadata": {},
   "outputs": [
    {
     "data": {
      "text/html": [
       "<pre style=\"white-space:pre;overflow-x:auto;line-height:normal;font-family:Menlo,'DejaVu Sans Mono',consolas,'Courier New',monospace\"><span style=\"color: #008000; text-decoration-color: #008000\">Success: .env file found with some environment variables</span>\n",
       "</pre>\n"
      ],
      "text/plain": [
       "\u001b[32mSuccess: .env file found with some environment variables\u001b[0m\n"
      ]
     },
     "metadata": {},
     "output_type": "display_data"
    },
    {
     "data": {
      "text/html": [
       "<pre style=\"white-space:pre;overflow-x:auto;line-height:normal;font-family:Menlo,'DejaVu Sans Mono',consolas,'Courier New',monospace\">sk-proj-SYay\n",
       "</pre>\n"
      ],
      "text/plain": [
       "sk-proj-SYay\n"
      ]
     },
     "metadata": {},
     "output_type": "display_data"
    }
   ],
   "source": [
    "OPENAI_API_KEY = get_test_key()\n",
    "# Set up your OpenAI API key\n",
    "openai.api_key = OPENAI_API_KEY\n",
    "client = OpenAI()\n",
    "# Choose a model\n",
    "model = \"text-embedding-ada-002\"\n",
    "console.print(OPENAI_API_KEY[:12])"
   ]
  },
  {
   "cell_type": "code",
   "execution_count": 3,
   "metadata": {},
   "outputs": [],
   "source": [
    "def get_embedding(text, model=\"text-embedding-3-small\"):\n",
    "\n",
    "    text = text.replace(\"\\n\", \" \")\n",
    "    return client.embeddings.create(input=[text], model=model).data[0].embedding"
   ]
  },
  {
   "cell_type": "code",
   "execution_count": 4,
   "metadata": {},
   "outputs": [
    {
     "data": {
      "text/html": [
       "<pre style=\"white-space:pre;overflow-x:auto;line-height:normal;font-family:Menlo,'DejaVu Sans Mono',consolas,'Courier New',monospace\"><span style=\"color: #008000; text-decoration-color: #008000; font-weight: bold\">Conn: &lt;connection object at </span><span style=\"color: #008000; text-decoration-color: #008000; font-weight: bold\">0x000001954269A790</span><span style=\"color: #008000; text-decoration-color: #008000; font-weight: bold\">; dsn: </span><span style=\"color: #008000; text-decoration-color: #008000; font-weight: bold\">'user=postgres password=xxx dbname=postgres </span>\n",
       "<span style=\"color: #008000; text-decoration-color: #008000; font-weight: bold\">host=host.docker.internal'</span><span style=\"color: #008000; text-decoration-color: #008000; font-weight: bold\">, closed: </span><span style=\"color: #008000; text-decoration-color: #008000; font-weight: bold\">0</span><span style=\"color: #008000; text-decoration-color: #008000; font-weight: bold\">&gt;</span>\n",
       "</pre>\n"
      ],
      "text/plain": [
       "\u001b[1;32mConn: \u001b[0m\u001b[1;32m<\u001b[0m\u001b[1;32mconnection\u001b[0m\u001b[1;32m object at \u001b[0m\u001b[1;32m0x000001954269A790\u001b[0m\u001b[1;32m; dsn: \u001b[0m\u001b[1;32m'\u001b[0m\u001b[1;32muser\u001b[0m\u001b[1;32m=\u001b[0m\u001b[1;32mpostgres\u001b[0m\u001b[1;32m \u001b[0m\u001b[1;32mpassword\u001b[0m\u001b[1;32m=\u001b[0m\u001b[1;32mxxx\u001b[0m\u001b[1;32m \u001b[0m\u001b[1;32mdbname\u001b[0m\u001b[1;32m=\u001b[0m\u001b[1;32mpostgres\u001b[0m\u001b[1;32m \u001b[0m\n",
       "\u001b[1;32mhost\u001b[0m\u001b[1;32m=\u001b[0m\u001b[1;32mhost\u001b[0m\u001b[1;32m.docker.internal'\u001b[0m\u001b[1;32m, closed: \u001b[0m\u001b[1;32m0\u001b[0m\u001b[1;32m>\u001b[0m\n"
      ]
     },
     "metadata": {},
     "output_type": "display_data"
    }
   ],
   "source": [
    "conn = _conn_open()\n",
    "cur = conn.cursor()"
   ]
  },
  {
   "cell_type": "code",
   "execution_count": 5,
   "metadata": {},
   "outputs": [],
   "source": [
    "def decode_image(encoded_image_data, image_fimename):\n",
    "    decoded_image_data = base64.b64decode(encoded_image_data)\n",
    "    file_name_path = f\"./{image_fimename}\"\n",
    "    with open(file_name_path, \"wb\") as new_image_file:\n",
    "        new_image_file.write(decoded_image_data)"
   ]
  },
  {
   "cell_type": "code",
   "execution_count": 6,
   "metadata": {},
   "outputs": [
    {
     "name": "stdout",
     "output_type": "stream",
     "text": [
      "Number of items: 91\n"
     ]
    },
    {
     "data": {
      "text/html": [
       "<pre style=\"white-space:pre;overflow-x:auto;line-height:normal;font-family:Menlo,'DejaVu Sans Mono',consolas,'Courier New',monospace\">ID is <span style=\"color: #ffff00; text-decoration-color: #ffff00\">fe2e1791-1fa5-482e-96f0-68b3a1bdd7bf</span>\n",
       "FILE_ID: <span style=\"color: #ffff00; text-decoration-color: #ffff00\">437f4568-c142-40ec-bdca-99c6cc70ebc3</span>\n",
       "</pre>\n"
      ],
      "text/plain": [
       "ID is \u001b[93mfe2e1791-1fa5-482e-96f0-68b3a1bdd7bf\u001b[0m\n",
       "FILE_ID: \u001b[93m437f4568-c142-40ec-bdca-99c6cc70ebc3\u001b[0m\n"
      ]
     },
     "metadata": {},
     "output_type": "display_data"
    },
    {
     "data": {
      "text/html": [
       "<pre style=\"white-space:pre;overflow-x:auto;line-height:normal;font-family:Menlo,'DejaVu Sans Mono',consolas,'Courier New',monospace\">ID is <span style=\"color: #ffff00; text-decoration-color: #ffff00\">03fb9541-dc31-4086-bded-266ac3210975</span>\n",
       "FILE_ID: <span style=\"color: #ffff00; text-decoration-color: #ffff00\">437f4568-c142-40ec-bdca-99c6cc70ebc3</span>\n",
       "</pre>\n"
      ],
      "text/plain": [
       "ID is \u001b[93m03fb9541-dc31-4086-bded-266ac3210975\u001b[0m\n",
       "FILE_ID: \u001b[93m437f4568-c142-40ec-bdca-99c6cc70ebc3\u001b[0m\n"
      ]
     },
     "metadata": {},
     "output_type": "display_data"
    },
    {
     "data": {
      "text/html": [
       "<pre style=\"white-space:pre;overflow-x:auto;line-height:normal;font-family:Menlo,'DejaVu Sans Mono',consolas,'Courier New',monospace\">ID is <span style=\"color: #ffff00; text-decoration-color: #ffff00\">12c17bd3-bc79-4281-8a55-c625ca8698e4</span>\n",
       "FILE_ID: <span style=\"color: #ffff00; text-decoration-color: #ffff00\">437f4568-c142-40ec-bdca-99c6cc70ebc3</span>\n",
       "</pre>\n"
      ],
      "text/plain": [
       "ID is \u001b[93m12c17bd3-bc79-4281-8a55-c625ca8698e4\u001b[0m\n",
       "FILE_ID: \u001b[93m437f4568-c142-40ec-bdca-99c6cc70ebc3\u001b[0m\n"
      ]
     },
     "metadata": {},
     "output_type": "display_data"
    },
    {
     "data": {
      "text/html": [
       "<pre style=\"white-space:pre;overflow-x:auto;line-height:normal;font-family:Menlo,'DejaVu Sans Mono',consolas,'Courier New',monospace\">ID is <span style=\"color: #ffff00; text-decoration-color: #ffff00\">45f0d190-67fa-4a07-b18f-c854b6006dc5</span>\n",
       "FILE_ID: <span style=\"color: #ffff00; text-decoration-color: #ffff00\">437f4568-c142-40ec-bdca-99c6cc70ebc3</span>\n",
       "</pre>\n"
      ],
      "text/plain": [
       "ID is \u001b[93m45f0d190-67fa-4a07-b18f-c854b6006dc5\u001b[0m\n",
       "FILE_ID: \u001b[93m437f4568-c142-40ec-bdca-99c6cc70ebc3\u001b[0m\n"
      ]
     },
     "metadata": {},
     "output_type": "display_data"
    },
    {
     "data": {
      "text/html": [
       "<pre style=\"white-space:pre;overflow-x:auto;line-height:normal;font-family:Menlo,'DejaVu Sans Mono',consolas,'Courier New',monospace\">ID is <span style=\"color: #ffff00; text-decoration-color: #ffff00\">96ce4292-0499-40a7-bdc2-785e660d82f3</span>\n",
       "FILE_ID: <span style=\"color: #ffff00; text-decoration-color: #ffff00\">437f4568-c142-40ec-bdca-99c6cc70ebc3</span>\n",
       "</pre>\n"
      ],
      "text/plain": [
       "ID is \u001b[93m96ce4292-0499-40a7-bdc2-785e660d82f3\u001b[0m\n",
       "FILE_ID: \u001b[93m437f4568-c142-40ec-bdca-99c6cc70ebc3\u001b[0m\n"
      ]
     },
     "metadata": {},
     "output_type": "display_data"
    },
    {
     "data": {
      "text/html": [
       "<pre style=\"white-space:pre;overflow-x:auto;line-height:normal;font-family:Menlo,'DejaVu Sans Mono',consolas,'Courier New',monospace\">ID is <span style=\"color: #ffff00; text-decoration-color: #ffff00\">a8a95c51-a6db-4eb5-8ab9-80530c86c00d</span>\n",
       "FILE_ID: <span style=\"color: #ffff00; text-decoration-color: #ffff00\">437f4568-c142-40ec-bdca-99c6cc70ebc3</span>\n",
       "</pre>\n"
      ],
      "text/plain": [
       "ID is \u001b[93ma8a95c51-a6db-4eb5-8ab9-80530c86c00d\u001b[0m\n",
       "FILE_ID: \u001b[93m437f4568-c142-40ec-bdca-99c6cc70ebc3\u001b[0m\n"
      ]
     },
     "metadata": {},
     "output_type": "display_data"
    },
    {
     "data": {
      "text/html": [
       "<pre style=\"white-space:pre;overflow-x:auto;line-height:normal;font-family:Menlo,'DejaVu Sans Mono',consolas,'Courier New',monospace\">ID is <span style=\"color: #ffff00; text-decoration-color: #ffff00\">8a3e11a9-e702-4c3e-8c02-b932444fec9e</span>\n",
       "FILE_ID: <span style=\"color: #ffff00; text-decoration-color: #ffff00\">437f4568-c142-40ec-bdca-99c6cc70ebc3</span>\n",
       "</pre>\n"
      ],
      "text/plain": [
       "ID is \u001b[93m8a3e11a9-e702-4c3e-8c02-b932444fec9e\u001b[0m\n",
       "FILE_ID: \u001b[93m437f4568-c142-40ec-bdca-99c6cc70ebc3\u001b[0m\n"
      ]
     },
     "metadata": {},
     "output_type": "display_data"
    },
    {
     "data": {
      "text/html": [
       "<pre style=\"white-space:pre;overflow-x:auto;line-height:normal;font-family:Menlo,'DejaVu Sans Mono',consolas,'Courier New',monospace\">ID is <span style=\"color: #ffff00; text-decoration-color: #ffff00\">95c8a114-53a8-49ce-b3a5-76ddfc36acbd</span>\n",
       "FILE_ID: <span style=\"color: #ffff00; text-decoration-color: #ffff00\">437f4568-c142-40ec-bdca-99c6cc70ebc3</span>\n",
       "</pre>\n"
      ],
      "text/plain": [
       "ID is \u001b[93m95c8a114-53a8-49ce-b3a5-76ddfc36acbd\u001b[0m\n",
       "FILE_ID: \u001b[93m437f4568-c142-40ec-bdca-99c6cc70ebc3\u001b[0m\n"
      ]
     },
     "metadata": {},
     "output_type": "display_data"
    },
    {
     "data": {
      "text/html": [
       "<pre style=\"white-space:pre;overflow-x:auto;line-height:normal;font-family:Menlo,'DejaVu Sans Mono',consolas,'Courier New',monospace\">ID is <span style=\"color: #ffff00; text-decoration-color: #ffff00\">7a3f4ac8-7dab-47d1-ac92-ccf4b5bbf203</span>\n",
       "FILE_ID: <span style=\"color: #ffff00; text-decoration-color: #ffff00\">437f4568-c142-40ec-bdca-99c6cc70ebc3</span>\n",
       "</pre>\n"
      ],
      "text/plain": [
       "ID is \u001b[93m7a3f4ac8-7dab-47d1-ac92-ccf4b5bbf203\u001b[0m\n",
       "FILE_ID: \u001b[93m437f4568-c142-40ec-bdca-99c6cc70ebc3\u001b[0m\n"
      ]
     },
     "metadata": {},
     "output_type": "display_data"
    },
    {
     "data": {
      "text/html": [
       "<pre style=\"white-space:pre;overflow-x:auto;line-height:normal;font-family:Menlo,'DejaVu Sans Mono',consolas,'Courier New',monospace\">ID is <span style=\"color: #ffff00; text-decoration-color: #ffff00\">436b06a0-751a-43f5-bf80-e73a74e2a208</span>\n",
       "FILE_ID: <span style=\"color: #ffff00; text-decoration-color: #ffff00\">437f4568-c142-40ec-bdca-99c6cc70ebc3</span>\n",
       "</pre>\n"
      ],
      "text/plain": [
       "ID is \u001b[93m436b06a0-751a-43f5-bf80-e73a74e2a208\u001b[0m\n",
       "FILE_ID: \u001b[93m437f4568-c142-40ec-bdca-99c6cc70ebc3\u001b[0m\n"
      ]
     },
     "metadata": {},
     "output_type": "display_data"
    },
    {
     "data": {
      "text/html": [
       "<pre style=\"white-space:pre;overflow-x:auto;line-height:normal;font-family:Menlo,'DejaVu Sans Mono',consolas,'Courier New',monospace\">ID is <span style=\"color: #ffff00; text-decoration-color: #ffff00\">38afc4c7-a41f-4352-abcd-72dbb1ff05d9</span>\n",
       "FILE_ID: <span style=\"color: #ffff00; text-decoration-color: #ffff00\">437f4568-c142-40ec-bdca-99c6cc70ebc3</span>\n",
       "</pre>\n"
      ],
      "text/plain": [
       "ID is \u001b[93m38afc4c7-a41f-4352-abcd-72dbb1ff05d9\u001b[0m\n",
       "FILE_ID: \u001b[93m437f4568-c142-40ec-bdca-99c6cc70ebc3\u001b[0m\n"
      ]
     },
     "metadata": {},
     "output_type": "display_data"
    },
    {
     "data": {
      "text/html": [
       "<pre style=\"white-space:pre;overflow-x:auto;line-height:normal;font-family:Menlo,'DejaVu Sans Mono',consolas,'Courier New',monospace\">ID is <span style=\"color: #ffff00; text-decoration-color: #ffff00\">f2fc6bd5-7830-4788-88aa-cbf11a48bd46</span>\n",
       "FILE_ID: <span style=\"color: #ffff00; text-decoration-color: #ffff00\">437f4568-c142-40ec-bdca-99c6cc70ebc3</span>\n",
       "</pre>\n"
      ],
      "text/plain": [
       "ID is \u001b[93mf2fc6bd5-7830-4788-88aa-cbf11a48bd46\u001b[0m\n",
       "FILE_ID: \u001b[93m437f4568-c142-40ec-bdca-99c6cc70ebc3\u001b[0m\n"
      ]
     },
     "metadata": {},
     "output_type": "display_data"
    },
    {
     "data": {
      "text/html": [
       "<pre style=\"white-space:pre;overflow-x:auto;line-height:normal;font-family:Menlo,'DejaVu Sans Mono',consolas,'Courier New',monospace\">ID is <span style=\"color: #ffff00; text-decoration-color: #ffff00\">8076dc42-64fc-473e-9fa4-5308d5b30167</span>\n",
       "FILE_ID: <span style=\"color: #ffff00; text-decoration-color: #ffff00\">437f4568-c142-40ec-bdca-99c6cc70ebc3</span>\n",
       "</pre>\n"
      ],
      "text/plain": [
       "ID is \u001b[93m8076dc42-64fc-473e-9fa4-5308d5b30167\u001b[0m\n",
       "FILE_ID: \u001b[93m437f4568-c142-40ec-bdca-99c6cc70ebc3\u001b[0m\n"
      ]
     },
     "metadata": {},
     "output_type": "display_data"
    },
    {
     "data": {
      "text/html": [
       "<pre style=\"white-space:pre;overflow-x:auto;line-height:normal;font-family:Menlo,'DejaVu Sans Mono',consolas,'Courier New',monospace\">ID is <span style=\"color: #ffff00; text-decoration-color: #ffff00\">f08c880e-2dba-4627-add6-534e5d319677</span>\n",
       "FILE_ID: <span style=\"color: #ffff00; text-decoration-color: #ffff00\">437f4568-c142-40ec-bdca-99c6cc70ebc3</span>\n",
       "</pre>\n"
      ],
      "text/plain": [
       "ID is \u001b[93mf08c880e-2dba-4627-add6-534e5d319677\u001b[0m\n",
       "FILE_ID: \u001b[93m437f4568-c142-40ec-bdca-99c6cc70ebc3\u001b[0m\n"
      ]
     },
     "metadata": {},
     "output_type": "display_data"
    },
    {
     "data": {
      "text/html": [
       "<pre style=\"white-space:pre;overflow-x:auto;line-height:normal;font-family:Menlo,'DejaVu Sans Mono',consolas,'Courier New',monospace\">ID is <span style=\"color: #ffff00; text-decoration-color: #ffff00\">108e45cc-e94c-4710-aa9d-081d476a88a0</span>\n",
       "FILE_ID: <span style=\"color: #ffff00; text-decoration-color: #ffff00\">437f4568-c142-40ec-bdca-99c6cc70ebc3</span>\n",
       "</pre>\n"
      ],
      "text/plain": [
       "ID is \u001b[93m108e45cc-e94c-4710-aa9d-081d476a88a0\u001b[0m\n",
       "FILE_ID: \u001b[93m437f4568-c142-40ec-bdca-99c6cc70ebc3\u001b[0m\n"
      ]
     },
     "metadata": {},
     "output_type": "display_data"
    },
    {
     "data": {
      "text/html": [
       "<pre style=\"white-space:pre;overflow-x:auto;line-height:normal;font-family:Menlo,'DejaVu Sans Mono',consolas,'Courier New',monospace\">syntax error at or near <span style=\"color: #008000; text-decoration-color: #008000\">\"s\"</span>\n",
       "LINE <span style=\"color: #008080; text-decoration-color: #008080; font-weight: bold\">5</span>: <span style=\"color: #808000; text-decoration-color: #808000\">...</span>r adaptable AI agents will continue to grow. Luci's framewor<span style=\"color: #808000; text-decoration-color: #808000\">...</span>\n",
       "                                                             ^\n",
       "\n",
       "</pre>\n"
      ],
      "text/plain": [
       "syntax error at or near \u001b[32m\"s\"\u001b[0m\n",
       "LINE \u001b[1;36m5\u001b[0m: \u001b[33m...\u001b[0mr adaptable AI agents will continue to grow. Luci's framewor\u001b[33m...\u001b[0m\n",
       "                                                             ^\n",
       "\n"
      ]
     },
     "metadata": {},
     "output_type": "display_data"
    },
    {
     "data": {
      "text/html": [
       "<pre style=\"white-space:pre;overflow-x:auto;line-height:normal;font-family:Menlo,'DejaVu Sans Mono',consolas,'Courier New',monospace\">current transaction is aborted, commands ignored until end of transaction block\n",
       "\n",
       "</pre>\n"
      ],
      "text/plain": [
       "current transaction is aborted, commands ignored until end of transaction block\n",
       "\n"
      ]
     },
     "metadata": {},
     "output_type": "display_data"
    },
    {
     "data": {
      "text/html": [
       "<pre style=\"white-space:pre;overflow-x:auto;line-height:normal;font-family:Menlo,'DejaVu Sans Mono',consolas,'Courier New',monospace\">current transaction is aborted, commands ignored until end of transaction block\n",
       "\n",
       "</pre>\n"
      ],
      "text/plain": [
       "current transaction is aborted, commands ignored until end of transaction block\n",
       "\n"
      ]
     },
     "metadata": {},
     "output_type": "display_data"
    },
    {
     "data": {
      "text/html": [
       "<pre style=\"white-space:pre;overflow-x:auto;line-height:normal;font-family:Menlo,'DejaVu Sans Mono',consolas,'Courier New',monospace\">current transaction is aborted, commands ignored until end of transaction block\n",
       "\n",
       "</pre>\n"
      ],
      "text/plain": [
       "current transaction is aborted, commands ignored until end of transaction block\n",
       "\n"
      ]
     },
     "metadata": {},
     "output_type": "display_data"
    },
    {
     "data": {
      "text/html": [
       "<pre style=\"white-space:pre;overflow-x:auto;line-height:normal;font-family:Menlo,'DejaVu Sans Mono',consolas,'Courier New',monospace\">current transaction is aborted, commands ignored until end of transaction block\n",
       "\n",
       "</pre>\n"
      ],
      "text/plain": [
       "current transaction is aborted, commands ignored until end of transaction block\n",
       "\n"
      ]
     },
     "metadata": {},
     "output_type": "display_data"
    },
    {
     "data": {
      "text/html": [
       "<pre style=\"white-space:pre;overflow-x:auto;line-height:normal;font-family:Menlo,'DejaVu Sans Mono',consolas,'Courier New',monospace\">current transaction is aborted, commands ignored until end of transaction block\n",
       "\n",
       "</pre>\n"
      ],
      "text/plain": [
       "current transaction is aborted, commands ignored until end of transaction block\n",
       "\n"
      ]
     },
     "metadata": {},
     "output_type": "display_data"
    },
    {
     "data": {
      "text/html": [
       "<pre style=\"white-space:pre;overflow-x:auto;line-height:normal;font-family:Menlo,'DejaVu Sans Mono',consolas,'Courier New',monospace\">current transaction is aborted, commands ignored until end of transaction block\n",
       "\n",
       "</pre>\n"
      ],
      "text/plain": [
       "current transaction is aborted, commands ignored until end of transaction block\n",
       "\n"
      ]
     },
     "metadata": {},
     "output_type": "display_data"
    },
    {
     "data": {
      "text/html": [
       "<pre style=\"white-space:pre;overflow-x:auto;line-height:normal;font-family:Menlo,'DejaVu Sans Mono',consolas,'Courier New',monospace\">current transaction is aborted, commands ignored until end of transaction block\n",
       "\n",
       "</pre>\n"
      ],
      "text/plain": [
       "current transaction is aborted, commands ignored until end of transaction block\n",
       "\n"
      ]
     },
     "metadata": {},
     "output_type": "display_data"
    },
    {
     "data": {
      "text/html": [
       "<pre style=\"white-space:pre;overflow-x:auto;line-height:normal;font-family:Menlo,'DejaVu Sans Mono',consolas,'Courier New',monospace\">current transaction is aborted, commands ignored until end of transaction block\n",
       "\n",
       "</pre>\n"
      ],
      "text/plain": [
       "current transaction is aborted, commands ignored until end of transaction block\n",
       "\n"
      ]
     },
     "metadata": {},
     "output_type": "display_data"
    },
    {
     "data": {
      "text/html": [
       "<pre style=\"white-space:pre;overflow-x:auto;line-height:normal;font-family:Menlo,'DejaVu Sans Mono',consolas,'Courier New',monospace\">current transaction is aborted, commands ignored until end of transaction block\n",
       "\n",
       "</pre>\n"
      ],
      "text/plain": [
       "current transaction is aborted, commands ignored until end of transaction block\n",
       "\n"
      ]
     },
     "metadata": {},
     "output_type": "display_data"
    },
    {
     "data": {
      "text/html": [
       "<pre style=\"white-space:pre;overflow-x:auto;line-height:normal;font-family:Menlo,'DejaVu Sans Mono',consolas,'Courier New',monospace\">current transaction is aborted, commands ignored until end of transaction block\n",
       "\n",
       "</pre>\n"
      ],
      "text/plain": [
       "current transaction is aborted, commands ignored until end of transaction block\n",
       "\n"
      ]
     },
     "metadata": {},
     "output_type": "display_data"
    },
    {
     "data": {
      "text/html": [
       "<pre style=\"white-space:pre;overflow-x:auto;line-height:normal;font-family:Menlo,'DejaVu Sans Mono',consolas,'Courier New',monospace\">current transaction is aborted, commands ignored until end of transaction block\n",
       "\n",
       "</pre>\n"
      ],
      "text/plain": [
       "current transaction is aborted, commands ignored until end of transaction block\n",
       "\n"
      ]
     },
     "metadata": {},
     "output_type": "display_data"
    },
    {
     "data": {
      "text/html": [
       "<pre style=\"white-space:pre;overflow-x:auto;line-height:normal;font-family:Menlo,'DejaVu Sans Mono',consolas,'Courier New',monospace\">current transaction is aborted, commands ignored until end of transaction block\n",
       "\n",
       "</pre>\n"
      ],
      "text/plain": [
       "current transaction is aborted, commands ignored until end of transaction block\n",
       "\n"
      ]
     },
     "metadata": {},
     "output_type": "display_data"
    },
    {
     "data": {
      "text/html": [
       "<pre style=\"white-space:pre;overflow-x:auto;line-height:normal;font-family:Menlo,'DejaVu Sans Mono',consolas,'Courier New',monospace\">current transaction is aborted, commands ignored until end of transaction block\n",
       "\n",
       "</pre>\n"
      ],
      "text/plain": [
       "current transaction is aborted, commands ignored until end of transaction block\n",
       "\n"
      ]
     },
     "metadata": {},
     "output_type": "display_data"
    },
    {
     "data": {
      "text/html": [
       "<pre style=\"white-space:pre;overflow-x:auto;line-height:normal;font-family:Menlo,'DejaVu Sans Mono',consolas,'Courier New',monospace\">current transaction is aborted, commands ignored until end of transaction block\n",
       "\n",
       "</pre>\n"
      ],
      "text/plain": [
       "current transaction is aborted, commands ignored until end of transaction block\n",
       "\n"
      ]
     },
     "metadata": {},
     "output_type": "display_data"
    },
    {
     "data": {
      "text/html": [
       "<pre style=\"white-space:pre;overflow-x:auto;line-height:normal;font-family:Menlo,'DejaVu Sans Mono',consolas,'Courier New',monospace\">current transaction is aborted, commands ignored until end of transaction block\n",
       "\n",
       "</pre>\n"
      ],
      "text/plain": [
       "current transaction is aborted, commands ignored until end of transaction block\n",
       "\n"
      ]
     },
     "metadata": {},
     "output_type": "display_data"
    },
    {
     "data": {
      "text/html": [
       "<pre style=\"white-space:pre;overflow-x:auto;line-height:normal;font-family:Menlo,'DejaVu Sans Mono',consolas,'Courier New',monospace\">syntax error at or near <span style=\"color: #008000; text-decoration-color: #008000\">\"s\"</span>\n",
       "LINE <span style=\"color: #008080; text-decoration-color: #008080; font-weight: bold\">5</span>: <span style=\"color: #808000; text-decoration-color: #808000\">...</span>anscript of clinical interactions. The SOAP agent's task is <span style=\"color: #808000; text-decoration-color: #808000\">...</span>\n",
       "                                                             ^\n",
       "\n",
       "</pre>\n"
      ],
      "text/plain": [
       "syntax error at or near \u001b[32m\"s\"\u001b[0m\n",
       "LINE \u001b[1;36m5\u001b[0m: \u001b[33m...\u001b[0manscript of clinical interactions. The SOAP agent's task is \u001b[33m...\u001b[0m\n",
       "                                                             ^\n",
       "\n"
      ]
     },
     "metadata": {},
     "output_type": "display_data"
    },
    {
     "data": {
      "text/html": [
       "<pre style=\"white-space:pre;overflow-x:auto;line-height:normal;font-family:Menlo,'DejaVu Sans Mono',consolas,'Courier New',monospace\">current transaction is aborted, commands ignored until end of transaction block\n",
       "\n",
       "</pre>\n"
      ],
      "text/plain": [
       "current transaction is aborted, commands ignored until end of transaction block\n",
       "\n"
      ]
     },
     "metadata": {},
     "output_type": "display_data"
    },
    {
     "data": {
      "text/html": [
       "<pre style=\"white-space:pre;overflow-x:auto;line-height:normal;font-family:Menlo,'DejaVu Sans Mono',consolas,'Courier New',monospace\">current transaction is aborted, commands ignored until end of transaction block\n",
       "\n",
       "</pre>\n"
      ],
      "text/plain": [
       "current transaction is aborted, commands ignored until end of transaction block\n",
       "\n"
      ]
     },
     "metadata": {},
     "output_type": "display_data"
    },
    {
     "data": {
      "text/html": [
       "<pre style=\"white-space:pre;overflow-x:auto;line-height:normal;font-family:Menlo,'DejaVu Sans Mono',consolas,'Courier New',monospace\">current transaction is aborted, commands ignored until end of transaction block\n",
       "\n",
       "</pre>\n"
      ],
      "text/plain": [
       "current transaction is aborted, commands ignored until end of transaction block\n",
       "\n"
      ]
     },
     "metadata": {},
     "output_type": "display_data"
    },
    {
     "data": {
      "text/html": [
       "<pre style=\"white-space:pre;overflow-x:auto;line-height:normal;font-family:Menlo,'DejaVu Sans Mono',consolas,'Courier New',monospace\">current transaction is aborted, commands ignored until end of transaction block\n",
       "\n",
       "</pre>\n"
      ],
      "text/plain": [
       "current transaction is aborted, commands ignored until end of transaction block\n",
       "\n"
      ]
     },
     "metadata": {},
     "output_type": "display_data"
    },
    {
     "data": {
      "text/html": [
       "<pre style=\"white-space:pre;overflow-x:auto;line-height:normal;font-family:Menlo,'DejaVu Sans Mono',consolas,'Courier New',monospace\">current transaction is aborted, commands ignored until end of transaction block\n",
       "\n",
       "</pre>\n"
      ],
      "text/plain": [
       "current transaction is aborted, commands ignored until end of transaction block\n",
       "\n"
      ]
     },
     "metadata": {},
     "output_type": "display_data"
    },
    {
     "data": {
      "text/html": [
       "<pre style=\"white-space:pre;overflow-x:auto;line-height:normal;font-family:Menlo,'DejaVu Sans Mono',consolas,'Courier New',monospace\">current transaction is aborted, commands ignored until end of transaction block\n",
       "\n",
       "</pre>\n"
      ],
      "text/plain": [
       "current transaction is aborted, commands ignored until end of transaction block\n",
       "\n"
      ]
     },
     "metadata": {},
     "output_type": "display_data"
    },
    {
     "data": {
      "text/html": [
       "<pre style=\"white-space:pre;overflow-x:auto;line-height:normal;font-family:Menlo,'DejaVu Sans Mono',consolas,'Courier New',monospace\">current transaction is aborted, commands ignored until end of transaction block\n",
       "\n",
       "</pre>\n"
      ],
      "text/plain": [
       "current transaction is aborted, commands ignored until end of transaction block\n",
       "\n"
      ]
     },
     "metadata": {},
     "output_type": "display_data"
    },
    {
     "data": {
      "text/html": [
       "<pre style=\"white-space:pre;overflow-x:auto;line-height:normal;font-family:Menlo,'DejaVu Sans Mono',consolas,'Courier New',monospace\">current transaction is aborted, commands ignored until end of transaction block\n",
       "\n",
       "</pre>\n"
      ],
      "text/plain": [
       "current transaction is aborted, commands ignored until end of transaction block\n",
       "\n"
      ]
     },
     "metadata": {},
     "output_type": "display_data"
    },
    {
     "data": {
      "text/html": [
       "<pre style=\"white-space:pre;overflow-x:auto;line-height:normal;font-family:Menlo,'DejaVu Sans Mono',consolas,'Courier New',monospace\">current transaction is aborted, commands ignored until end of transaction block\n",
       "\n",
       "</pre>\n"
      ],
      "text/plain": [
       "current transaction is aborted, commands ignored until end of transaction block\n",
       "\n"
      ]
     },
     "metadata": {},
     "output_type": "display_data"
    },
    {
     "data": {
      "text/html": [
       "<pre style=\"white-space:pre;overflow-x:auto;line-height:normal;font-family:Menlo,'DejaVu Sans Mono',consolas,'Courier New',monospace\">current transaction is aborted, commands ignored until end of transaction block\n",
       "\n",
       "</pre>\n"
      ],
      "text/plain": [
       "current transaction is aborted, commands ignored until end of transaction block\n",
       "\n"
      ]
     },
     "metadata": {},
     "output_type": "display_data"
    },
    {
     "data": {
      "text/html": [
       "<pre style=\"white-space:pre;overflow-x:auto;line-height:normal;font-family:Menlo,'DejaVu Sans Mono',consolas,'Courier New',monospace\">current transaction is aborted, commands ignored until end of transaction block\n",
       "\n",
       "</pre>\n"
      ],
      "text/plain": [
       "current transaction is aborted, commands ignored until end of transaction block\n",
       "\n"
      ]
     },
     "metadata": {},
     "output_type": "display_data"
    },
    {
     "data": {
      "text/html": [
       "<pre style=\"white-space:pre;overflow-x:auto;line-height:normal;font-family:Menlo,'DejaVu Sans Mono',consolas,'Courier New',monospace\">current transaction is aborted, commands ignored until end of transaction block\n",
       "\n",
       "</pre>\n"
      ],
      "text/plain": [
       "current transaction is aborted, commands ignored until end of transaction block\n",
       "\n"
      ]
     },
     "metadata": {},
     "output_type": "display_data"
    },
    {
     "data": {
      "text/html": [
       "<pre style=\"white-space:pre;overflow-x:auto;line-height:normal;font-family:Menlo,'DejaVu Sans Mono',consolas,'Courier New',monospace\">current transaction is aborted, commands ignored until end of transaction block\n",
       "\n",
       "</pre>\n"
      ],
      "text/plain": [
       "current transaction is aborted, commands ignored until end of transaction block\n",
       "\n"
      ]
     },
     "metadata": {},
     "output_type": "display_data"
    },
    {
     "data": {
      "text/html": [
       "<pre style=\"white-space:pre;overflow-x:auto;line-height:normal;font-family:Menlo,'DejaVu Sans Mono',consolas,'Courier New',monospace\">current transaction is aborted, commands ignored until end of transaction block\n",
       "\n",
       "</pre>\n"
      ],
      "text/plain": [
       "current transaction is aborted, commands ignored until end of transaction block\n",
       "\n"
      ]
     },
     "metadata": {},
     "output_type": "display_data"
    },
    {
     "data": {
      "text/html": [
       "<pre style=\"white-space:pre;overflow-x:auto;line-height:normal;font-family:Menlo,'DejaVu Sans Mono',consolas,'Courier New',monospace\">current transaction is aborted, commands ignored until end of transaction block\n",
       "\n",
       "</pre>\n"
      ],
      "text/plain": [
       "current transaction is aborted, commands ignored until end of transaction block\n",
       "\n"
      ]
     },
     "metadata": {},
     "output_type": "display_data"
    },
    {
     "data": {
      "text/html": [
       "<pre style=\"white-space:pre;overflow-x:auto;line-height:normal;font-family:Menlo,'DejaVu Sans Mono',consolas,'Courier New',monospace\">current transaction is aborted, commands ignored until end of transaction block\n",
       "\n",
       "</pre>\n"
      ],
      "text/plain": [
       "current transaction is aborted, commands ignored until end of transaction block\n",
       "\n"
      ]
     },
     "metadata": {},
     "output_type": "display_data"
    },
    {
     "data": {
      "text/html": [
       "<pre style=\"white-space:pre;overflow-x:auto;line-height:normal;font-family:Menlo,'DejaVu Sans Mono',consolas,'Courier New',monospace\">current transaction is aborted, commands ignored until end of transaction block\n",
       "\n",
       "</pre>\n"
      ],
      "text/plain": [
       "current transaction is aborted, commands ignored until end of transaction block\n",
       "\n"
      ]
     },
     "metadata": {},
     "output_type": "display_data"
    },
    {
     "data": {
      "text/html": [
       "<pre style=\"white-space:pre;overflow-x:auto;line-height:normal;font-family:Menlo,'DejaVu Sans Mono',consolas,'Courier New',monospace\">current transaction is aborted, commands ignored until end of transaction block\n",
       "\n",
       "</pre>\n"
      ],
      "text/plain": [
       "current transaction is aborted, commands ignored until end of transaction block\n",
       "\n"
      ]
     },
     "metadata": {},
     "output_type": "display_data"
    },
    {
     "data": {
      "text/html": [
       "<pre style=\"white-space:pre;overflow-x:auto;line-height:normal;font-family:Menlo,'DejaVu Sans Mono',consolas,'Courier New',monospace\">current transaction is aborted, commands ignored until end of transaction block\n",
       "\n",
       "</pre>\n"
      ],
      "text/plain": [
       "current transaction is aborted, commands ignored until end of transaction block\n",
       "\n"
      ]
     },
     "metadata": {},
     "output_type": "display_data"
    },
    {
     "data": {
      "text/html": [
       "<pre style=\"white-space:pre;overflow-x:auto;line-height:normal;font-family:Menlo,'DejaVu Sans Mono',consolas,'Courier New',monospace\">current transaction is aborted, commands ignored until end of transaction block\n",
       "\n",
       "</pre>\n"
      ],
      "text/plain": [
       "current transaction is aborted, commands ignored until end of transaction block\n",
       "\n"
      ]
     },
     "metadata": {},
     "output_type": "display_data"
    },
    {
     "data": {
      "text/html": [
       "<pre style=\"white-space:pre;overflow-x:auto;line-height:normal;font-family:Menlo,'DejaVu Sans Mono',consolas,'Courier New',monospace\">current transaction is aborted, commands ignored until end of transaction block\n",
       "\n",
       "</pre>\n"
      ],
      "text/plain": [
       "current transaction is aborted, commands ignored until end of transaction block\n",
       "\n"
      ]
     },
     "metadata": {},
     "output_type": "display_data"
    },
    {
     "data": {
      "text/html": [
       "<pre style=\"white-space:pre;overflow-x:auto;line-height:normal;font-family:Menlo,'DejaVu Sans Mono',consolas,'Courier New',monospace\">current transaction is aborted, commands ignored until end of transaction block\n",
       "\n",
       "</pre>\n"
      ],
      "text/plain": [
       "current transaction is aborted, commands ignored until end of transaction block\n",
       "\n"
      ]
     },
     "metadata": {},
     "output_type": "display_data"
    },
    {
     "data": {
      "text/html": [
       "<pre style=\"white-space:pre;overflow-x:auto;line-height:normal;font-family:Menlo,'DejaVu Sans Mono',consolas,'Courier New',monospace\">current transaction is aborted, commands ignored until end of transaction block\n",
       "\n",
       "</pre>\n"
      ],
      "text/plain": [
       "current transaction is aborted, commands ignored until end of transaction block\n",
       "\n"
      ]
     },
     "metadata": {},
     "output_type": "display_data"
    },
    {
     "data": {
      "text/html": [
       "<pre style=\"white-space:pre;overflow-x:auto;line-height:normal;font-family:Menlo,'DejaVu Sans Mono',consolas,'Courier New',monospace\">current transaction is aborted, commands ignored until end of transaction block\n",
       "\n",
       "</pre>\n"
      ],
      "text/plain": [
       "current transaction is aborted, commands ignored until end of transaction block\n",
       "\n"
      ]
     },
     "metadata": {},
     "output_type": "display_data"
    },
    {
     "data": {
      "text/html": [
       "<pre style=\"white-space:pre;overflow-x:auto;line-height:normal;font-family:Menlo,'DejaVu Sans Mono',consolas,'Courier New',monospace\">current transaction is aborted, commands ignored until end of transaction block\n",
       "\n",
       "</pre>\n"
      ],
      "text/plain": [
       "current transaction is aborted, commands ignored until end of transaction block\n",
       "\n"
      ]
     },
     "metadata": {},
     "output_type": "display_data"
    },
    {
     "data": {
      "text/html": [
       "<pre style=\"white-space:pre;overflow-x:auto;line-height:normal;font-family:Menlo,'DejaVu Sans Mono',consolas,'Courier New',monospace\">current transaction is aborted, commands ignored until end of transaction block\n",
       "\n",
       "</pre>\n"
      ],
      "text/plain": [
       "current transaction is aborted, commands ignored until end of transaction block\n",
       "\n"
      ]
     },
     "metadata": {},
     "output_type": "display_data"
    },
    {
     "data": {
      "text/html": [
       "<pre style=\"white-space:pre;overflow-x:auto;line-height:normal;font-family:Menlo,'DejaVu Sans Mono',consolas,'Courier New',monospace\">current transaction is aborted, commands ignored until end of transaction block\n",
       "\n",
       "</pre>\n"
      ],
      "text/plain": [
       "current transaction is aborted, commands ignored until end of transaction block\n",
       "\n"
      ]
     },
     "metadata": {},
     "output_type": "display_data"
    },
    {
     "data": {
      "text/html": [
       "<pre style=\"white-space:pre;overflow-x:auto;line-height:normal;font-family:Menlo,'DejaVu Sans Mono',consolas,'Courier New',monospace\">current transaction is aborted, commands ignored until end of transaction block\n",
       "\n",
       "</pre>\n"
      ],
      "text/plain": [
       "current transaction is aborted, commands ignored until end of transaction block\n",
       "\n"
      ]
     },
     "metadata": {},
     "output_type": "display_data"
    },
    {
     "data": {
      "text/html": [
       "<pre style=\"white-space:pre;overflow-x:auto;line-height:normal;font-family:Menlo,'DejaVu Sans Mono',consolas,'Courier New',monospace\">current transaction is aborted, commands ignored until end of transaction block\n",
       "\n",
       "</pre>\n"
      ],
      "text/plain": [
       "current transaction is aborted, commands ignored until end of transaction block\n",
       "\n"
      ]
     },
     "metadata": {},
     "output_type": "display_data"
    },
    {
     "data": {
      "text/html": [
       "<pre style=\"white-space:pre;overflow-x:auto;line-height:normal;font-family:Menlo,'DejaVu Sans Mono',consolas,'Courier New',monospace\">current transaction is aborted, commands ignored until end of transaction block\n",
       "\n",
       "</pre>\n"
      ],
      "text/plain": [
       "current transaction is aborted, commands ignored until end of transaction block\n",
       "\n"
      ]
     },
     "metadata": {},
     "output_type": "display_data"
    },
    {
     "data": {
      "text/html": [
       "<pre style=\"white-space:pre;overflow-x:auto;line-height:normal;font-family:Menlo,'DejaVu Sans Mono',consolas,'Courier New',monospace\">current transaction is aborted, commands ignored until end of transaction block\n",
       "\n",
       "</pre>\n"
      ],
      "text/plain": [
       "current transaction is aborted, commands ignored until end of transaction block\n",
       "\n"
      ]
     },
     "metadata": {},
     "output_type": "display_data"
    },
    {
     "data": {
      "text/html": [
       "<pre style=\"white-space:pre;overflow-x:auto;line-height:normal;font-family:Menlo,'DejaVu Sans Mono',consolas,'Courier New',monospace\">current transaction is aborted, commands ignored until end of transaction block\n",
       "\n",
       "</pre>\n"
      ],
      "text/plain": [
       "current transaction is aborted, commands ignored until end of transaction block\n",
       "\n"
      ]
     },
     "metadata": {},
     "output_type": "display_data"
    },
    {
     "data": {
      "text/html": [
       "<pre style=\"white-space:pre;overflow-x:auto;line-height:normal;font-family:Menlo,'DejaVu Sans Mono',consolas,'Courier New',monospace\">current transaction is aborted, commands ignored until end of transaction block\n",
       "\n",
       "</pre>\n"
      ],
      "text/plain": [
       "current transaction is aborted, commands ignored until end of transaction block\n",
       "\n"
      ]
     },
     "metadata": {},
     "output_type": "display_data"
    },
    {
     "data": {
      "text/html": [
       "<pre style=\"white-space:pre;overflow-x:auto;line-height:normal;font-family:Menlo,'DejaVu Sans Mono',consolas,'Courier New',monospace\">syntax error at or near <span style=\"color: #008000; text-decoration-color: #008000\">\"s\"</span>\n",
       "LINE <span style=\"color: #008080; text-decoration-color: #008080; font-weight: bold\">5</span>: <span style=\"color: #808000; text-decoration-color: #808000\">...</span>Luci performs a real-time analysis of the patient's conditio<span style=\"color: #808000; text-decoration-color: #808000\">...</span>\n",
       "                                                             ^\n",
       "\n",
       "</pre>\n"
      ],
      "text/plain": [
       "syntax error at or near \u001b[32m\"s\"\u001b[0m\n",
       "LINE \u001b[1;36m5\u001b[0m: \u001b[33m...\u001b[0mLuci performs a real-time analysis of the patient's conditio\u001b[33m...\u001b[0m\n",
       "                                                             ^\n",
       "\n"
      ]
     },
     "metadata": {},
     "output_type": "display_data"
    },
    {
     "data": {
      "text/html": [
       "<pre style=\"white-space:pre;overflow-x:auto;line-height:normal;font-family:Menlo,'DejaVu Sans Mono',consolas,'Courier New',monospace\">current transaction is aborted, commands ignored until end of transaction block\n",
       "\n",
       "</pre>\n"
      ],
      "text/plain": [
       "current transaction is aborted, commands ignored until end of transaction block\n",
       "\n"
      ]
     },
     "metadata": {},
     "output_type": "display_data"
    },
    {
     "data": {
      "text/html": [
       "<pre style=\"white-space:pre;overflow-x:auto;line-height:normal;font-family:Menlo,'DejaVu Sans Mono',consolas,'Courier New',monospace\">current transaction is aborted, commands ignored until end of transaction block\n",
       "\n",
       "</pre>\n"
      ],
      "text/plain": [
       "current transaction is aborted, commands ignored until end of transaction block\n",
       "\n"
      ]
     },
     "metadata": {},
     "output_type": "display_data"
    },
    {
     "data": {
      "text/html": [
       "<pre style=\"white-space:pre;overflow-x:auto;line-height:normal;font-family:Menlo,'DejaVu Sans Mono',consolas,'Courier New',monospace\">current transaction is aborted, commands ignored until end of transaction block\n",
       "\n",
       "</pre>\n"
      ],
      "text/plain": [
       "current transaction is aborted, commands ignored until end of transaction block\n",
       "\n"
      ]
     },
     "metadata": {},
     "output_type": "display_data"
    },
    {
     "data": {
      "text/html": [
       "<pre style=\"white-space:pre;overflow-x:auto;line-height:normal;font-family:Menlo,'DejaVu Sans Mono',consolas,'Courier New',monospace\">current transaction is aborted, commands ignored until end of transaction block\n",
       "\n",
       "</pre>\n"
      ],
      "text/plain": [
       "current transaction is aborted, commands ignored until end of transaction block\n",
       "\n"
      ]
     },
     "metadata": {},
     "output_type": "display_data"
    },
    {
     "data": {
      "text/html": [
       "<pre style=\"white-space:pre;overflow-x:auto;line-height:normal;font-family:Menlo,'DejaVu Sans Mono',consolas,'Courier New',monospace\">current transaction is aborted, commands ignored until end of transaction block\n",
       "\n",
       "</pre>\n"
      ],
      "text/plain": [
       "current transaction is aborted, commands ignored until end of transaction block\n",
       "\n"
      ]
     },
     "metadata": {},
     "output_type": "display_data"
    },
    {
     "data": {
      "text/html": [
       "<pre style=\"white-space:pre;overflow-x:auto;line-height:normal;font-family:Menlo,'DejaVu Sans Mono',consolas,'Courier New',monospace\">current transaction is aborted, commands ignored until end of transaction block\n",
       "\n",
       "</pre>\n"
      ],
      "text/plain": [
       "current transaction is aborted, commands ignored until end of transaction block\n",
       "\n"
      ]
     },
     "metadata": {},
     "output_type": "display_data"
    },
    {
     "data": {
      "text/html": [
       "<pre style=\"white-space:pre;overflow-x:auto;line-height:normal;font-family:Menlo,'DejaVu Sans Mono',consolas,'Courier New',monospace\">current transaction is aborted, commands ignored until end of transaction block\n",
       "\n",
       "</pre>\n"
      ],
      "text/plain": [
       "current transaction is aborted, commands ignored until end of transaction block\n",
       "\n"
      ]
     },
     "metadata": {},
     "output_type": "display_data"
    },
    {
     "data": {
      "text/html": [
       "<pre style=\"white-space:pre;overflow-x:auto;line-height:normal;font-family:Menlo,'DejaVu Sans Mono',consolas,'Courier New',monospace\">current transaction is aborted, commands ignored until end of transaction block\n",
       "\n",
       "</pre>\n"
      ],
      "text/plain": [
       "current transaction is aborted, commands ignored until end of transaction block\n",
       "\n"
      ]
     },
     "metadata": {},
     "output_type": "display_data"
    },
    {
     "data": {
      "text/html": [
       "<pre style=\"white-space:pre;overflow-x:auto;line-height:normal;font-family:Menlo,'DejaVu Sans Mono',consolas,'Courier New',monospace\">current transaction is aborted, commands ignored until end of transaction block\n",
       "\n",
       "</pre>\n"
      ],
      "text/plain": [
       "current transaction is aborted, commands ignored until end of transaction block\n",
       "\n"
      ]
     },
     "metadata": {},
     "output_type": "display_data"
    },
    {
     "data": {
      "text/html": [
       "<pre style=\"white-space:pre;overflow-x:auto;line-height:normal;font-family:Menlo,'DejaVu Sans Mono',consolas,'Courier New',monospace\">current transaction is aborted, commands ignored until end of transaction block\n",
       "\n",
       "</pre>\n"
      ],
      "text/plain": [
       "current transaction is aborted, commands ignored until end of transaction block\n",
       "\n"
      ]
     },
     "metadata": {},
     "output_type": "display_data"
    },
    {
     "data": {
      "text/html": [
       "<pre style=\"white-space:pre;overflow-x:auto;line-height:normal;font-family:Menlo,'DejaVu Sans Mono',consolas,'Courier New',monospace\">current transaction is aborted, commands ignored until end of transaction block\n",
       "\n",
       "</pre>\n"
      ],
      "text/plain": [
       "current transaction is aborted, commands ignored until end of transaction block\n",
       "\n"
      ]
     },
     "metadata": {},
     "output_type": "display_data"
    },
    {
     "data": {
      "text/html": [
       "<pre style=\"white-space:pre;overflow-x:auto;line-height:normal;font-family:Menlo,'DejaVu Sans Mono',consolas,'Courier New',monospace\">current transaction is aborted, commands ignored until end of transaction block\n",
       "\n",
       "</pre>\n"
      ],
      "text/plain": [
       "current transaction is aborted, commands ignored until end of transaction block\n",
       "\n"
      ]
     },
     "metadata": {},
     "output_type": "display_data"
    },
    {
     "data": {
      "text/html": [
       "<pre style=\"white-space:pre;overflow-x:auto;line-height:normal;font-family:Menlo,'DejaVu Sans Mono',consolas,'Courier New',monospace\">current transaction is aborted, commands ignored until end of transaction block\n",
       "\n",
       "</pre>\n"
      ],
      "text/plain": [
       "current transaction is aborted, commands ignored until end of transaction block\n",
       "\n"
      ]
     },
     "metadata": {},
     "output_type": "display_data"
    },
    {
     "data": {
      "text/html": [
       "<pre style=\"white-space:pre;overflow-x:auto;line-height:normal;font-family:Menlo,'DejaVu Sans Mono',consolas,'Courier New',monospace\">current transaction is aborted, commands ignored until end of transaction block\n",
       "\n",
       "</pre>\n"
      ],
      "text/plain": [
       "current transaction is aborted, commands ignored until end of transaction block\n",
       "\n"
      ]
     },
     "metadata": {},
     "output_type": "display_data"
    },
    {
     "data": {
      "text/html": [
       "<pre style=\"white-space:pre;overflow-x:auto;line-height:normal;font-family:Menlo,'DejaVu Sans Mono',consolas,'Courier New',monospace\">current transaction is aborted, commands ignored until end of transaction block\n",
       "\n",
       "</pre>\n"
      ],
      "text/plain": [
       "current transaction is aborted, commands ignored until end of transaction block\n",
       "\n"
      ]
     },
     "metadata": {},
     "output_type": "display_data"
    },
    {
     "data": {
      "text/html": [
       "<pre style=\"white-space:pre;overflow-x:auto;line-height:normal;font-family:Menlo,'DejaVu Sans Mono',consolas,'Courier New',monospace\">current transaction is aborted, commands ignored until end of transaction block\n",
       "\n",
       "</pre>\n"
      ],
      "text/plain": [
       "current transaction is aborted, commands ignored until end of transaction block\n",
       "\n"
      ]
     },
     "metadata": {},
     "output_type": "display_data"
    },
    {
     "data": {
      "text/html": [
       "<pre style=\"white-space:pre;overflow-x:auto;line-height:normal;font-family:Menlo,'DejaVu Sans Mono',consolas,'Courier New',monospace\">current transaction is aborted, commands ignored until end of transaction block\n",
       "\n",
       "</pre>\n"
      ],
      "text/plain": [
       "current transaction is aborted, commands ignored until end of transaction block\n",
       "\n"
      ]
     },
     "metadata": {},
     "output_type": "display_data"
    },
    {
     "data": {
      "text/html": [
       "<pre style=\"white-space:pre;overflow-x:auto;line-height:normal;font-family:Menlo,'DejaVu Sans Mono',consolas,'Courier New',monospace\">current transaction is aborted, commands ignored until end of transaction block\n",
       "\n",
       "</pre>\n"
      ],
      "text/plain": [
       "current transaction is aborted, commands ignored until end of transaction block\n",
       "\n"
      ]
     },
     "metadata": {},
     "output_type": "display_data"
    },
    {
     "data": {
      "text/html": [
       "<pre style=\"white-space:pre;overflow-x:auto;line-height:normal;font-family:Menlo,'DejaVu Sans Mono',consolas,'Courier New',monospace\">current transaction is aborted, commands ignored until end of transaction block\n",
       "\n",
       "</pre>\n"
      ],
      "text/plain": [
       "current transaction is aborted, commands ignored until end of transaction block\n",
       "\n"
      ]
     },
     "metadata": {},
     "output_type": "display_data"
    },
    {
     "data": {
      "text/html": [
       "<pre style=\"white-space:pre;overflow-x:auto;line-height:normal;font-family:Menlo,'DejaVu Sans Mono',consolas,'Courier New',monospace\">current transaction is aborted, commands ignored until end of transaction block\n",
       "\n",
       "</pre>\n"
      ],
      "text/plain": [
       "current transaction is aborted, commands ignored until end of transaction block\n",
       "\n"
      ]
     },
     "metadata": {},
     "output_type": "display_data"
    },
    {
     "data": {
      "text/html": [
       "<pre style=\"white-space:pre;overflow-x:auto;line-height:normal;font-family:Menlo,'DejaVu Sans Mono',consolas,'Courier New',monospace\">current transaction is aborted, commands ignored until end of transaction block\n",
       "\n",
       "</pre>\n"
      ],
      "text/plain": [
       "current transaction is aborted, commands ignored until end of transaction block\n",
       "\n"
      ]
     },
     "metadata": {},
     "output_type": "display_data"
    },
    {
     "data": {
      "text/html": [
       "<pre style=\"white-space:pre;overflow-x:auto;line-height:normal;font-family:Menlo,'DejaVu Sans Mono',consolas,'Courier New',monospace\">current transaction is aborted, commands ignored until end of transaction block\n",
       "\n",
       "</pre>\n"
      ],
      "text/plain": [
       "current transaction is aborted, commands ignored until end of transaction block\n",
       "\n"
      ]
     },
     "metadata": {},
     "output_type": "display_data"
    },
    {
     "data": {
      "text/html": [
       "<pre style=\"white-space:pre;overflow-x:auto;line-height:normal;font-family:Menlo,'DejaVu Sans Mono',consolas,'Courier New',monospace\">current transaction is aborted, commands ignored until end of transaction block\n",
       "\n",
       "</pre>\n"
      ],
      "text/plain": [
       "current transaction is aborted, commands ignored until end of transaction block\n",
       "\n"
      ]
     },
     "metadata": {},
     "output_type": "display_data"
    },
    {
     "data": {
      "text/html": [
       "<pre style=\"white-space:pre;overflow-x:auto;line-height:normal;font-family:Menlo,'DejaVu Sans Mono',consolas,'Courier New',monospace\">current transaction is aborted, commands ignored until end of transaction block\n",
       "\n",
       "</pre>\n"
      ],
      "text/plain": [
       "current transaction is aborted, commands ignored until end of transaction block\n",
       "\n"
      ]
     },
     "metadata": {},
     "output_type": "display_data"
    },
    {
     "data": {
      "text/html": [
       "<pre style=\"white-space:pre;overflow-x:auto;line-height:normal;font-family:Menlo,'DejaVu Sans Mono',consolas,'Courier New',monospace\">current transaction is aborted, commands ignored until end of transaction block\n",
       "\n",
       "</pre>\n"
      ],
      "text/plain": [
       "current transaction is aborted, commands ignored until end of transaction block\n",
       "\n"
      ]
     },
     "metadata": {},
     "output_type": "display_data"
    }
   ],
   "source": [
    "console = Console()\n",
    "FILENAME = \"AIAgentFrameworkinHealthcareIndustry.pdf_6550.json\"\n",
    "json_data = load_json(FILENAME)\n",
    "print(f\"Number of items: {len(json_data)}\")\n",
    "encoded_image_data = None\n",
    "file_id = str(uuid4())\n",
    "for i in range(len(json_data)):\n",
    "\n",
    "    # if text_html then must be parsed for correct HTML quotes\n",
    "    element_id = json_data[i][\"element_id\"]\n",
    "    element_type = json_data[i][\"type\"].upper()\n",
    "    if \"parent_id\" in json_data[i]:\n",
    "        parent_id = json_data[i][\"parent_id\"]\n",
    "    else:\n",
    "        parent_id = \"\"\n",
    "    page_number = json_data[i][\"metadata\"][\"page_number\"]\n",
    "    filename = json_data[i][\"metadata\"][\"filename\"]\n",
    "    # notice errors with '\n",
    "    element_text = json_data[i][\"text\"].replace(\"'\\n'\", \" \")\n",
    "    if element_text is not None:\n",
    "        element_embedding = get_embedding(element_text)\n",
    "    else:\n",
    "        element_embedding = \"\"\n",
    "    if json_data[i][\"type\"] == \"Image\" or json_data[i][\"type\"] == \"Table\":\n",
    "        console.print(\n",
    "            f\"[dark_orange]--------- {element_type.upper()} Item Number  {i + 1}--------[/]\"\n",
    "        )\n",
    "        el_image_b64 = json_data[i][\"metadata\"][\"image_base64\"]\n",
    "        # console.print(el_image_b64[:40])\n",
    "    else:\n",
    "        el_image_b64 = \"NONE\"\n",
    "\n",
    "    sql = f\"\"\"\n",
    "        INSERT INTO tbl_doc_elements (\n",
    "            file_id, element_id, element_text, element_type, parent_id, page_number, image_base64, embedding)\n",
    "        VALUES \n",
    "        ('{file_id}','{element_id}','{element_text}','{element_type}','{parent_id}', '{page_number}', '{el_image_b64}', '{element_embedding}')\n",
    "        RETURNING id;\n",
    "            \"\"\"\n",
    "    # console.print(sql)\n",
    "    try:\n",
    "        cur.execute(sql)\n",
    "        row = cur.fetchone()\n",
    "        id = row[0]\n",
    "        console.print(f\"ID is {id}\\nFILE_ID: {file_id}\")\n",
    "        conn.commit()\n",
    "    except Exception as e:\n",
    "        console.print(e)"
   ]
  },
  {
   "cell_type": "code",
   "execution_count": 7,
   "metadata": {},
   "outputs": [
    {
     "data": {
      "text/html": [
       "<pre style=\"white-space:pre;overflow-x:auto;line-height:normal;font-family:Menlo,'DejaVu Sans Mono',consolas,'Courier New',monospace\">current transaction is aborted, commands ignored until end of transaction block\n",
       "\n",
       "</pre>\n"
      ],
      "text/plain": [
       "current transaction is aborted, commands ignored until end of transaction block\n",
       "\n"
      ]
     },
     "metadata": {},
     "output_type": "display_data"
    }
   ],
   "source": [
    "# ensure base64 in db produces image\n",
    "\n",
    "sql = \"\"\"\n",
    "SELECT id,image_base64 FROM public.tbl_doc_elements\n",
    "WHERE element_type = 'IMAGE'\n",
    "ORDER BY id ASC \n",
    "\"\"\"\n",
    "# console.print(sql)\n",
    "try:\n",
    "    cur.execute(sql)\n",
    "    row = cur.fetchone()\n",
    "    id = row[0]\n",
    "    image_base64 = row[1]\n",
    "    filename = f\"./test_image_{randint(1000,9999)}.png\"\n",
    "    console.print(\n",
    "        f\"Filename: {filename} Image is {image_base64[:20]} with len {len(image_base64)}\"\n",
    "    )\n",
    "\n",
    "    decode_image(image_base64, filename)\n",
    "\n",
    "except Exception as e:\n",
    "    console.print(e)"
   ]
  },
  {
   "cell_type": "code",
   "execution_count": 8,
   "metadata": {},
   "outputs": [],
   "source": [
    "cur.close()\n",
    "conn.close()"
   ]
  }
 ],
 "metadata": {
  "kernelspec": {
   "display_name": "venv",
   "language": "python",
   "name": "python3"
  },
  "language_info": {
   "codemirror_mode": {
    "name": "ipython",
    "version": 3
   },
   "file_extension": ".py",
   "mimetype": "text/x-python",
   "name": "python",
   "nbconvert_exporter": "python",
   "pygments_lexer": "ipython3",
   "version": "3.12.1"
  }
 },
 "nbformat": 4,
 "nbformat_minor": 2
}
