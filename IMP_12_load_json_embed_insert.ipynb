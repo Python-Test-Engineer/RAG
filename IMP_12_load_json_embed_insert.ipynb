{
 "cells": [
  {
   "cell_type": "code",
   "execution_count": 1,
   "metadata": {},
   "outputs": [],
   "source": [
    "import os\n",
    "import json\n",
    "import openai\n",
    "from openai import OpenAI\n",
    "from dotenv import find_dotenv, load_dotenv\n",
    "from uuid import uuid4\n",
    "from random import randint\n",
    "from utils.get_openai_api_key import get_test_key\n",
    "from utils.get_postgres_connection import _conn_open\n",
    "from utils.load_json import load_json\n",
    "from rich.console import Console\n"
   ]
  },
  {
   "cell_type": "code",
   "execution_count": 2,
   "metadata": {},
   "outputs": [],
   "source": [
    "\n",
    "console = Console()"
   ]
  },
  {
   "cell_type": "code",
   "execution_count": 4,
   "metadata": {},
   "outputs": [
    {
     "data": {
      "text/html": [
       "<pre style=\"white-space:pre;overflow-x:auto;line-height:normal;font-family:Menlo,'DejaVu Sans Mono',consolas,'Courier New',monospace\"><span style=\"color: #008000; text-decoration-color: #008000\">Success: .env file found with some environment variables</span>\n",
       "</pre>\n"
      ],
      "text/plain": [
       "\u001b[32mSuccess: .env file found with some environment variables\u001b[0m\n"
      ]
     },
     "metadata": {},
     "output_type": "display_data"
    },
    {
     "data": {
      "text/html": [
       "<pre style=\"white-space:pre;overflow-x:auto;line-height:normal;font-family:Menlo,'DejaVu Sans Mono',consolas,'Courier New',monospace\">sk-proj-5AApBUEbDykyV5gVXqzArwMnOM7OXM-xOBbUJo2vwlD6we99fvPicSc432PCbe93EuFjmVQL1eT3BlbkFJ0t8QIry4fKSC79pjEVlIxvtOD\n",
       "Lm0d76RQInE6kFUQZsbA5HcUukLnzjYmLUcLyoXKnaj7DBjIA\n",
       "</pre>\n"
      ],
      "text/plain": [
       "sk-proj-5AApBUEbDykyV5gVXqzArwMnOM7OXM-xOBbUJo2vwlD6we99fvPicSc432PCbe93EuFjmVQL1eT3BlbkFJ0t8QIry4fKSC79pjEVlIxvtOD\n",
       "Lm0d76RQInE6kFUQZsbA5HcUukLnzjYmLUcLyoXKnaj7DBjIA\n"
      ]
     },
     "metadata": {},
     "output_type": "display_data"
    }
   ],
   "source": [
    "OPENAI_API_KEY = get_test_key()\n",
    "# Set up your OpenAI API key\n",
    "openai.api_key = OPENAI_API_KEY\n",
    "client = OpenAI()\n",
    "# Choose a model\n",
    "model = \"text-embedding-ada-002\"\n",
    "console.print(OPENAI_API_KEY)"
   ]
  },
  {
   "cell_type": "code",
   "execution_count": 5,
   "metadata": {},
   "outputs": [],
   "source": [
    "def get_embedding(text, model=\"text-embedding-3-small\"):\n",
    "\n",
    "    text = text.replace(\"\\n\", \" \")\n",
    "    return client.embeddings.create(input=[text], model=model).data[0].embedding"
   ]
  },
  {
   "cell_type": "code",
   "execution_count": null,
   "metadata": {},
   "outputs": [],
   "source": [
    "conn = _conn_open()\n",
    "cur = conn.cursor()"
   ]
  },
  {
   "cell_type": "code",
   "execution_count": null,
   "metadata": {},
   "outputs": [],
   "source": [
    "console = Console()\n",
    "FILENAME = \"test_article_elements.json\"\n",
    "json_data = load_json(FILENAME)\n",
    "print(f\"Number of items: {len(json_data)}\")\n",
    "encoded_image_data = None\n",
    "for i in range(len(json_data)):\n",
    "\n",
    "    if json_data[i][\"type\"] == \"Image\":\n",
    "        console.print(f\"[dark_orange]---------Item Number IMAGE: {i + 1}--------[/]\")\n",
    "        el_image_b64 = json_data[i][\"metadata\"][\"image_base64\"]\n",
    "\n",
    "        # console.print(el_image_b64[:40])\n",
    "        new_id = str(uuid4())\n",
    "        new_element_id = randint(1000, 9999)\n",
    "        sql = f\"\"\"\n",
    "        INSERT INTO tbl_doc_elements (\n",
    "            file_id, element_id, element_type, image_base64)\n",
    "        VALUES \n",
    "        ('{new_id}','{new_element_id}','IMAGE','{el_image_b64}')\n",
    "        RETURNING id;\n",
    "        \"\"\"\n",
    "        # console.print(sql)\n",
    "        try:\n",
    "            cur.execute(sql)\n",
    "            row = cur.fetchone()\n",
    "            id = row[0]\n",
    "            console.print(f\"ID is {id}\")\n",
    "            conn.commit()\n",
    "        except Exception as e:\n",
    "            console.print(e)\n",
    "    if json_data[i][\"type\"] == \"NarrativeText\":\n",
    "\n",
    "        console.print(f\"[dark_orange]---------Item Number TEXT: {i + 1}--------[/]\")\n",
    "        el_text = json_data[i][\"text\"]\n",
    "        el_embedding = get_embedding(el_text)\n",
    "\n",
    "        # console.print(el_embedding)\n",
    "        new_id = str(uuid4())\n",
    "        new_element_id = randint(1000, 9999)\n",
    "        sql = f\"\"\"\n",
    "        INSERT INTO tbl_doc_elements (\n",
    "            file_id, element_id, element_text, element_type, image_base64, embedding)\n",
    "        VALUES \n",
    "        ('{new_id}','{new_element_id}','{el_text}','NARRATIVE_TEXT',\n",
    "        '{encoded_image_data}', '{el_embedding}')\n",
    "        RETURNING id;\n",
    "        \"\"\"\n",
    "\n",
    "        try:\n",
    "            cur.execute(sql)\n",
    "            row = cur.fetchone()\n",
    "            id = row[0]\n",
    "            console.print(f\"ID is {id}\")\n",
    "            conn.commit()\n",
    "        except Exception as e:\n",
    "            console.print(e)"
   ]
  },
  {
   "cell_type": "code",
   "execution_count": 18,
   "metadata": {},
   "outputs": [],
   "source": [
    "cur.close()\n",
    "conn.close()"
   ]
  }
 ],
 "metadata": {
  "kernelspec": {
   "display_name": "venv",
   "language": "python",
   "name": "python3"
  },
  "language_info": {
   "codemirror_mode": {
    "name": "ipython",
    "version": 3
   },
   "file_extension": ".py",
   "mimetype": "text/x-python",
   "name": "python",
   "nbconvert_exporter": "python",
   "pygments_lexer": "ipython3",
   "version": "3.12.8"
  }
 },
 "nbformat": 4,
 "nbformat_minor": 2
}
