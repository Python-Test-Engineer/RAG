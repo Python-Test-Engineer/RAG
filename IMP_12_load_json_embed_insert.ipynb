{
 "cells": [
  {
   "cell_type": "code",
   "execution_count": 1,
   "metadata": {},
   "outputs": [],
   "source": [
    "import os\n",
    "import json\n",
    "import openai\n",
    "from openai import OpenAI\n",
    "from dotenv import find_dotenv, load_dotenv\n",
    "from uuid import uuid4\n",
    "from random import randint\n",
    "from utils.get_openai_api_key import get_test_key\n",
    "from utils.get_postgres_connection import _conn_open\n",
    "from utils.load_json import load_json\n",
    "from rich.console import Console"
   ]
  },
  {
   "cell_type": "code",
   "execution_count": 2,
   "metadata": {},
   "outputs": [],
   "source": [
    "console = Console()"
   ]
  },
  {
   "cell_type": "code",
   "execution_count": 3,
   "metadata": {},
   "outputs": [
    {
     "data": {
      "text/html": [
       "<pre style=\"white-space:pre;overflow-x:auto;line-height:normal;font-family:Menlo,'DejaVu Sans Mono',consolas,'Courier New',monospace\"><span style=\"color: #008000; text-decoration-color: #008000\">Success: .env file found with some environment variables</span>\n",
       "</pre>\n"
      ],
      "text/plain": [
       "\u001b[32mSuccess: .env file found with some environment variables\u001b[0m\n"
      ]
     },
     "metadata": {},
     "output_type": "display_data"
    },
    {
     "data": {
      "text/html": [
       "<pre style=\"white-space:pre;overflow-x:auto;line-height:normal;font-family:Menlo,'DejaVu Sans Mono',consolas,'Courier New',monospace\">sk-proj-sBnfVCsPqLywAXCJBb-le46R5JzKpXTGvbqgFW7RfcfOHY8HQZ0GCF9iPHigrBa2KSg8uPy7LbT3BlbkFJ4MdGvmdgQQ9K8nfW7yfDQw8SO\n",
       "UYOuj_4zJ-FYECe0m119fmBMAtB-snyiTK23PmdgmuL3P-RsA\n",
       "</pre>\n"
      ],
      "text/plain": [
       "sk-proj-sBnfVCsPqLywAXCJBb-le46R5JzKpXTGvbqgFW7RfcfOHY8HQZ0GCF9iPHigrBa2KSg8uPy7LbT3BlbkFJ4MdGvmdgQQ9K8nfW7yfDQw8SO\n",
       "UYOuj_4zJ-FYECe0m119fmBMAtB-snyiTK23PmdgmuL3P-RsA\n"
      ]
     },
     "metadata": {},
     "output_type": "display_data"
    }
   ],
   "source": [
    "OPENAI_API_KEY = get_test_key()\n",
    "# Set up your OpenAI API key\n",
    "openai.api_key = OPENAI_API_KEY\n",
    "client = OpenAI()\n",
    "# Choose a model\n",
    "model = \"text-embedding-ada-002\"\n",
    "console.print(OPENAI_API_KEY)"
   ]
  },
  {
   "cell_type": "code",
   "execution_count": 4,
   "metadata": {},
   "outputs": [],
   "source": [
    "def get_embedding(text, model=\"text-embedding-3-small\"):\n",
    "\n",
    "    text = text.replace(\"\\n\", \" \")\n",
    "    return client.embeddings.create(input=[text], model=model).data[0].embedding"
   ]
  },
  {
   "cell_type": "code",
   "execution_count": 5,
   "metadata": {},
   "outputs": [
    {
     "data": {
      "text/html": [
       "<pre style=\"white-space:pre;overflow-x:auto;line-height:normal;font-family:Menlo,'DejaVu Sans Mono',consolas,'Courier New',monospace\"><span style=\"color: #008000; text-decoration-color: #008000; font-weight: bold\">Conn: &lt;connection object at </span><span style=\"color: #008000; text-decoration-color: #008000; font-weight: bold\">0x000001C3D056E790</span><span style=\"color: #008000; text-decoration-color: #008000; font-weight: bold\">; dsn: </span><span style=\"color: #008000; text-decoration-color: #008000; font-weight: bold\">'user=postgres password=xxx dbname=postgres </span>\n",
       "<span style=\"color: #008000; text-decoration-color: #008000; font-weight: bold\">host=host.docker.internal'</span><span style=\"color: #008000; text-decoration-color: #008000; font-weight: bold\">, closed: </span><span style=\"color: #008000; text-decoration-color: #008000; font-weight: bold\">0</span><span style=\"color: #008000; text-decoration-color: #008000; font-weight: bold\">&gt;</span>\n",
       "</pre>\n"
      ],
      "text/plain": [
       "\u001b[1;32mConn: \u001b[0m\u001b[1;32m<\u001b[0m\u001b[1;32mconnection\u001b[0m\u001b[1;32m object at \u001b[0m\u001b[1;32m0x000001C3D056E790\u001b[0m\u001b[1;32m; dsn: \u001b[0m\u001b[1;32m'\u001b[0m\u001b[1;32muser\u001b[0m\u001b[1;32m=\u001b[0m\u001b[1;32mpostgres\u001b[0m\u001b[1;32m \u001b[0m\u001b[1;32mpassword\u001b[0m\u001b[1;32m=\u001b[0m\u001b[1;32mxxx\u001b[0m\u001b[1;32m \u001b[0m\u001b[1;32mdbname\u001b[0m\u001b[1;32m=\u001b[0m\u001b[1;32mpostgres\u001b[0m\u001b[1;32m \u001b[0m\n",
       "\u001b[1;32mhost\u001b[0m\u001b[1;32m=\u001b[0m\u001b[1;32mhost\u001b[0m\u001b[1;32m.docker.internal'\u001b[0m\u001b[1;32m, closed: \u001b[0m\u001b[1;32m0\u001b[0m\u001b[1;32m>\u001b[0m\n"
      ]
     },
     "metadata": {},
     "output_type": "display_data"
    }
   ],
   "source": [
    "conn = _conn_open()\n",
    "cur = conn.cursor()"
   ]
  },
  {
   "cell_type": "code",
   "execution_count": 6,
   "metadata": {},
   "outputs": [
    {
     "name": "stdout",
     "output_type": "stream",
     "text": [
      "Number of items: 12\n"
     ]
    },
    {
     "data": {
      "text/html": [
       "<pre style=\"white-space:pre;overflow-x:auto;line-height:normal;font-family:Menlo,'DejaVu Sans Mono',consolas,'Courier New',monospace\"><span style=\"color: #ff8700; text-decoration-color: #ff8700\">---------Item Number IMAGE: </span><span style=\"color: #ff8700; text-decoration-color: #ff8700; font-weight: bold\">1</span><span style=\"color: #ff8700; text-decoration-color: #ff8700\">--------</span>\n",
       "</pre>\n"
      ],
      "text/plain": [
       "\u001b[38;5;208m---------Item Number IMAGE: \u001b[0m\u001b[1;38;5;208m1\u001b[0m\u001b[38;5;208m--------\u001b[0m\n"
      ]
     },
     "metadata": {},
     "output_type": "display_data"
    },
    {
     "data": {
      "text/html": [
       "<pre style=\"white-space:pre;overflow-x:auto;line-height:normal;font-family:Menlo,'DejaVu Sans Mono',consolas,'Courier New',monospace\">ID is <span style=\"color: #ffff00; text-decoration-color: #ffff00\">cbdd9a21-adf6-4744-91d1-86aa0de10f9b</span>\n",
       "</pre>\n"
      ],
      "text/plain": [
       "ID is \u001b[93mcbdd9a21-adf6-4744-91d1-86aa0de10f9b\u001b[0m\n"
      ]
     },
     "metadata": {},
     "output_type": "display_data"
    },
    {
     "data": {
      "text/html": [
       "<pre style=\"white-space:pre;overflow-x:auto;line-height:normal;font-family:Menlo,'DejaVu Sans Mono',consolas,'Courier New',monospace\"><span style=\"color: #ff8700; text-decoration-color: #ff8700\">---------Item Number TEXT: </span><span style=\"color: #ff8700; text-decoration-color: #ff8700; font-weight: bold\">2</span><span style=\"color: #ff8700; text-decoration-color: #ff8700\">--------</span>\n",
       "</pre>\n"
      ],
      "text/plain": [
       "\u001b[38;5;208m---------Item Number TEXT: \u001b[0m\u001b[1;38;5;208m2\u001b[0m\u001b[38;5;208m--------\u001b[0m\n"
      ]
     },
     "metadata": {},
     "output_type": "display_data"
    },
    {
     "data": {
      "text/html": [
       "<pre style=\"white-space:pre;overflow-x:auto;line-height:normal;font-family:Menlo,'DejaVu Sans Mono',consolas,'Courier New',monospace\">ID is <span style=\"color: #ffff00; text-decoration-color: #ffff00\">e0e32c14-cdcb-4990-b207-ff94a727e223</span>\n",
       "</pre>\n"
      ],
      "text/plain": [
       "ID is \u001b[93me0e32c14-cdcb-4990-b207-ff94a727e223\u001b[0m\n"
      ]
     },
     "metadata": {},
     "output_type": "display_data"
    },
    {
     "data": {
      "text/html": [
       "<pre style=\"white-space:pre;overflow-x:auto;line-height:normal;font-family:Menlo,'DejaVu Sans Mono',consolas,'Courier New',monospace\"><span style=\"color: #ff8700; text-decoration-color: #ff8700\">---------Item Number TEXT: </span><span style=\"color: #ff8700; text-decoration-color: #ff8700; font-weight: bold\">3</span><span style=\"color: #ff8700; text-decoration-color: #ff8700\">--------</span>\n",
       "</pre>\n"
      ],
      "text/plain": [
       "\u001b[38;5;208m---------Item Number TEXT: \u001b[0m\u001b[1;38;5;208m3\u001b[0m\u001b[38;5;208m--------\u001b[0m\n"
      ]
     },
     "metadata": {},
     "output_type": "display_data"
    },
    {
     "data": {
      "text/html": [
       "<pre style=\"white-space:pre;overflow-x:auto;line-height:normal;font-family:Menlo,'DejaVu Sans Mono',consolas,'Courier New',monospace\">ID is <span style=\"color: #ffff00; text-decoration-color: #ffff00\">9645a8d7-225a-41f9-85a0-dbe23f8f4e4e</span>\n",
       "</pre>\n"
      ],
      "text/plain": [
       "ID is \u001b[93m9645a8d7-225a-41f9-85a0-dbe23f8f4e4e\u001b[0m\n"
      ]
     },
     "metadata": {},
     "output_type": "display_data"
    },
    {
     "data": {
      "text/html": [
       "<pre style=\"white-space:pre;overflow-x:auto;line-height:normal;font-family:Menlo,'DejaVu Sans Mono',consolas,'Courier New',monospace\"><span style=\"color: #ff8700; text-decoration-color: #ff8700\">---------Item Number IMAGE: </span><span style=\"color: #ff8700; text-decoration-color: #ff8700; font-weight: bold\">4</span><span style=\"color: #ff8700; text-decoration-color: #ff8700\">--------</span>\n",
       "</pre>\n"
      ],
      "text/plain": [
       "\u001b[38;5;208m---------Item Number IMAGE: \u001b[0m\u001b[1;38;5;208m4\u001b[0m\u001b[38;5;208m--------\u001b[0m\n"
      ]
     },
     "metadata": {},
     "output_type": "display_data"
    },
    {
     "data": {
      "text/html": [
       "<pre style=\"white-space:pre;overflow-x:auto;line-height:normal;font-family:Menlo,'DejaVu Sans Mono',consolas,'Courier New',monospace\">ID is <span style=\"color: #ffff00; text-decoration-color: #ffff00\">24097442-de30-4603-b485-8ba4896b06de</span>\n",
       "</pre>\n"
      ],
      "text/plain": [
       "ID is \u001b[93m24097442-de30-4603-b485-8ba4896b06de\u001b[0m\n"
      ]
     },
     "metadata": {},
     "output_type": "display_data"
    },
    {
     "data": {
      "text/html": [
       "<pre style=\"white-space:pre;overflow-x:auto;line-height:normal;font-family:Menlo,'DejaVu Sans Mono',consolas,'Courier New',monospace\"><span style=\"color: #ff8700; text-decoration-color: #ff8700\">---------Item Number TEXT: </span><span style=\"color: #ff8700; text-decoration-color: #ff8700; font-weight: bold\">5</span><span style=\"color: #ff8700; text-decoration-color: #ff8700\">--------</span>\n",
       "</pre>\n"
      ],
      "text/plain": [
       "\u001b[38;5;208m---------Item Number TEXT: \u001b[0m\u001b[1;38;5;208m5\u001b[0m\u001b[38;5;208m--------\u001b[0m\n"
      ]
     },
     "metadata": {},
     "output_type": "display_data"
    },
    {
     "data": {
      "text/html": [
       "<pre style=\"white-space:pre;overflow-x:auto;line-height:normal;font-family:Menlo,'DejaVu Sans Mono',consolas,'Courier New',monospace\">ID is <span style=\"color: #ffff00; text-decoration-color: #ffff00\">0de83f24-a4f2-4205-8c09-0520b61e6b82</span>\n",
       "</pre>\n"
      ],
      "text/plain": [
       "ID is \u001b[93m0de83f24-a4f2-4205-8c09-0520b61e6b82\u001b[0m\n"
      ]
     },
     "metadata": {},
     "output_type": "display_data"
    },
    {
     "data": {
      "text/html": [
       "<pre style=\"white-space:pre;overflow-x:auto;line-height:normal;font-family:Menlo,'DejaVu Sans Mono',consolas,'Courier New',monospace\"><span style=\"color: #ff8700; text-decoration-color: #ff8700\">---------Item Number TEXT: </span><span style=\"color: #ff8700; text-decoration-color: #ff8700; font-weight: bold\">6</span><span style=\"color: #ff8700; text-decoration-color: #ff8700\">--------</span>\n",
       "</pre>\n"
      ],
      "text/plain": [
       "\u001b[38;5;208m---------Item Number TEXT: \u001b[0m\u001b[1;38;5;208m6\u001b[0m\u001b[38;5;208m--------\u001b[0m\n"
      ]
     },
     "metadata": {},
     "output_type": "display_data"
    },
    {
     "data": {
      "text/html": [
       "<pre style=\"white-space:pre;overflow-x:auto;line-height:normal;font-family:Menlo,'DejaVu Sans Mono',consolas,'Courier New',monospace\">ID is <span style=\"color: #ffff00; text-decoration-color: #ffff00\">66b69956-6d91-48ea-8e2a-cdeeb5307d35</span>\n",
       "</pre>\n"
      ],
      "text/plain": [
       "ID is \u001b[93m66b69956-6d91-48ea-8e2a-cdeeb5307d35\u001b[0m\n"
      ]
     },
     "metadata": {},
     "output_type": "display_data"
    },
    {
     "data": {
      "text/html": [
       "<pre style=\"white-space:pre;overflow-x:auto;line-height:normal;font-family:Menlo,'DejaVu Sans Mono',consolas,'Courier New',monospace\"><span style=\"color: #ff8700; text-decoration-color: #ff8700\">---------Item Number IMAGE: </span><span style=\"color: #ff8700; text-decoration-color: #ff8700; font-weight: bold\">7</span><span style=\"color: #ff8700; text-decoration-color: #ff8700\">--------</span>\n",
       "</pre>\n"
      ],
      "text/plain": [
       "\u001b[38;5;208m---------Item Number IMAGE: \u001b[0m\u001b[1;38;5;208m7\u001b[0m\u001b[38;5;208m--------\u001b[0m\n"
      ]
     },
     "metadata": {},
     "output_type": "display_data"
    },
    {
     "data": {
      "text/html": [
       "<pre style=\"white-space:pre;overflow-x:auto;line-height:normal;font-family:Menlo,'DejaVu Sans Mono',consolas,'Courier New',monospace\">ID is <span style=\"color: #ffff00; text-decoration-color: #ffff00\">56ea70cc-5a6c-4a21-8ff7-24fc67893d47</span>\n",
       "</pre>\n"
      ],
      "text/plain": [
       "ID is \u001b[93m56ea70cc-5a6c-4a21-8ff7-24fc67893d47\u001b[0m\n"
      ]
     },
     "metadata": {},
     "output_type": "display_data"
    },
    {
     "data": {
      "text/html": [
       "<pre style=\"white-space:pre;overflow-x:auto;line-height:normal;font-family:Menlo,'DejaVu Sans Mono',consolas,'Courier New',monospace\"><span style=\"color: #ff8700; text-decoration-color: #ff8700\">---------Item Number TEXT: </span><span style=\"color: #ff8700; text-decoration-color: #ff8700; font-weight: bold\">8</span><span style=\"color: #ff8700; text-decoration-color: #ff8700\">--------</span>\n",
       "</pre>\n"
      ],
      "text/plain": [
       "\u001b[38;5;208m---------Item Number TEXT: \u001b[0m\u001b[1;38;5;208m8\u001b[0m\u001b[38;5;208m--------\u001b[0m\n"
      ]
     },
     "metadata": {},
     "output_type": "display_data"
    },
    {
     "data": {
      "text/html": [
       "<pre style=\"white-space:pre;overflow-x:auto;line-height:normal;font-family:Menlo,'DejaVu Sans Mono',consolas,'Courier New',monospace\">ID is <span style=\"color: #ffff00; text-decoration-color: #ffff00\">bfcccaf2-7a88-4d4c-ad4f-225cee4f5620</span>\n",
       "</pre>\n"
      ],
      "text/plain": [
       "ID is \u001b[93mbfcccaf2-7a88-4d4c-ad4f-225cee4f5620\u001b[0m\n"
      ]
     },
     "metadata": {},
     "output_type": "display_data"
    },
    {
     "data": {
      "text/html": [
       "<pre style=\"white-space:pre;overflow-x:auto;line-height:normal;font-family:Menlo,'DejaVu Sans Mono',consolas,'Courier New',monospace\"><span style=\"color: #ff8700; text-decoration-color: #ff8700\">---------Item Number TEXT: </span><span style=\"color: #ff8700; text-decoration-color: #ff8700; font-weight: bold\">9</span><span style=\"color: #ff8700; text-decoration-color: #ff8700\">--------</span>\n",
       "</pre>\n"
      ],
      "text/plain": [
       "\u001b[38;5;208m---------Item Number TEXT: \u001b[0m\u001b[1;38;5;208m9\u001b[0m\u001b[38;5;208m--------\u001b[0m\n"
      ]
     },
     "metadata": {},
     "output_type": "display_data"
    },
    {
     "data": {
      "text/html": [
       "<pre style=\"white-space:pre;overflow-x:auto;line-height:normal;font-family:Menlo,'DejaVu Sans Mono',consolas,'Courier New',monospace\">ID is <span style=\"color: #ffff00; text-decoration-color: #ffff00\">d8b16833-6316-4a3f-bbfe-06736cf4fbdc</span>\n",
       "</pre>\n"
      ],
      "text/plain": [
       "ID is \u001b[93md8b16833-6316-4a3f-bbfe-06736cf4fbdc\u001b[0m\n"
      ]
     },
     "metadata": {},
     "output_type": "display_data"
    },
    {
     "data": {
      "text/html": [
       "<pre style=\"white-space:pre;overflow-x:auto;line-height:normal;font-family:Menlo,'DejaVu Sans Mono',consolas,'Courier New',monospace\"><span style=\"color: #ff8700; text-decoration-color: #ff8700\">---------Item Number IMAGE: </span><span style=\"color: #ff8700; text-decoration-color: #ff8700; font-weight: bold\">10</span><span style=\"color: #ff8700; text-decoration-color: #ff8700\">--------</span>\n",
       "</pre>\n"
      ],
      "text/plain": [
       "\u001b[38;5;208m---------Item Number IMAGE: \u001b[0m\u001b[1;38;5;208m10\u001b[0m\u001b[38;5;208m--------\u001b[0m\n"
      ]
     },
     "metadata": {},
     "output_type": "display_data"
    },
    {
     "data": {
      "text/html": [
       "<pre style=\"white-space:pre;overflow-x:auto;line-height:normal;font-family:Menlo,'DejaVu Sans Mono',consolas,'Courier New',monospace\">ID is <span style=\"color: #ffff00; text-decoration-color: #ffff00\">0a9f7127-eaa5-4e6e-9e7f-e64036e3b2b6</span>\n",
       "</pre>\n"
      ],
      "text/plain": [
       "ID is \u001b[93m0a9f7127-eaa5-4e6e-9e7f-e64036e3b2b6\u001b[0m\n"
      ]
     },
     "metadata": {},
     "output_type": "display_data"
    },
    {
     "data": {
      "text/html": [
       "<pre style=\"white-space:pre;overflow-x:auto;line-height:normal;font-family:Menlo,'DejaVu Sans Mono',consolas,'Courier New',monospace\"><span style=\"color: #ff8700; text-decoration-color: #ff8700\">---------Item Number TEXT: </span><span style=\"color: #ff8700; text-decoration-color: #ff8700; font-weight: bold\">11</span><span style=\"color: #ff8700; text-decoration-color: #ff8700\">--------</span>\n",
       "</pre>\n"
      ],
      "text/plain": [
       "\u001b[38;5;208m---------Item Number TEXT: \u001b[0m\u001b[1;38;5;208m11\u001b[0m\u001b[38;5;208m--------\u001b[0m\n"
      ]
     },
     "metadata": {},
     "output_type": "display_data"
    },
    {
     "data": {
      "text/html": [
       "<pre style=\"white-space:pre;overflow-x:auto;line-height:normal;font-family:Menlo,'DejaVu Sans Mono',consolas,'Courier New',monospace\">ID is <span style=\"color: #ffff00; text-decoration-color: #ffff00\">77eb9536-7016-445f-90ba-dcb73f01eaab</span>\n",
       "</pre>\n"
      ],
      "text/plain": [
       "ID is \u001b[93m77eb9536-7016-445f-90ba-dcb73f01eaab\u001b[0m\n"
      ]
     },
     "metadata": {},
     "output_type": "display_data"
    },
    {
     "data": {
      "text/html": [
       "<pre style=\"white-space:pre;overflow-x:auto;line-height:normal;font-family:Menlo,'DejaVu Sans Mono',consolas,'Courier New',monospace\"><span style=\"color: #ff8700; text-decoration-color: #ff8700\">---------Item Number TEXT: </span><span style=\"color: #ff8700; text-decoration-color: #ff8700; font-weight: bold\">12</span><span style=\"color: #ff8700; text-decoration-color: #ff8700\">--------</span>\n",
       "</pre>\n"
      ],
      "text/plain": [
       "\u001b[38;5;208m---------Item Number TEXT: \u001b[0m\u001b[1;38;5;208m12\u001b[0m\u001b[38;5;208m--------\u001b[0m\n"
      ]
     },
     "metadata": {},
     "output_type": "display_data"
    },
    {
     "data": {
      "text/html": [
       "<pre style=\"white-space:pre;overflow-x:auto;line-height:normal;font-family:Menlo,'DejaVu Sans Mono',consolas,'Courier New',monospace\">ID is <span style=\"color: #ffff00; text-decoration-color: #ffff00\">7466e429-0e32-40cd-b152-5580c55fa04a</span>\n",
       "</pre>\n"
      ],
      "text/plain": [
       "ID is \u001b[93m7466e429-0e32-40cd-b152-5580c55fa04a\u001b[0m\n"
      ]
     },
     "metadata": {},
     "output_type": "display_data"
    }
   ],
   "source": [
    "FILENAME = \"test_article_elements.json\"\n",
    "json_data = load_json(FILENAME)\n",
    "print(f\"Number of items: {len(json_data)}\")\n",
    "encoded_image_data = None\n",
    "for i in range(len(json_data)):\n",
    "\n",
    "    if json_data[i][\"type\"] == \"Image\":\n",
    "        console.print(f\"[dark_orange]---------Item Number IMAGE: {i + 1}--------[/]\")\n",
    "        el_image_b64 = json_data[i][\"metadata\"][\"image_base64\"]\n",
    "\n",
    "        # console.print(el_image_b64[:40])\n",
    "        new_id = str(uuid4())\n",
    "        new_element_id = randint(1000, 9999)\n",
    "        sql = f\"\"\"\n",
    "        INSERT INTO tbl_doc_elements (\n",
    "            file_id, element_id, element_type, image_base64)\n",
    "        VALUES \n",
    "        ('{new_id}','{new_element_id}','IMAGE','{el_image_b64}')\n",
    "        RETURNING id;\n",
    "        \"\"\"\n",
    "        # console.print(sql)\n",
    "        try:\n",
    "            cur.execute(sql)\n",
    "            row = cur.fetchone()\n",
    "            id = row[0]\n",
    "            console.print(f\"ID is {id}\")\n",
    "            conn.commit()\n",
    "        except Exception as e:\n",
    "            console.print(e)\n",
    "    if json_data[i][\"type\"] == \"NarrativeText\":\n",
    "\n",
    "        console.print(f\"[dark_orange]---------Item Number TEXT: {i + 1}--------[/]\")\n",
    "        el_text = json_data[i][\"text\"]\n",
    "        el_embedding = get_embedding(el_text)\n",
    "\n",
    "        # console.print(el_embedding)\n",
    "        new_id = str(uuid4())\n",
    "        new_element_id = randint(1000, 9999)\n",
    "        sql = f\"\"\"\n",
    "        INSERT INTO tbl_doc_elements (\n",
    "            file_id, element_id, element_text, element_type, image_base64, embedding)\n",
    "        VALUES \n",
    "        ('{new_id}','{new_element_id}','{el_text}','NARRATIVE_TEXT',\n",
    "        '{encoded_image_data}', '{el_embedding}')\n",
    "        RETURNING id;\n",
    "        \"\"\"\n",
    "\n",
    "        try:\n",
    "            cur.execute(sql)\n",
    "            row = cur.fetchone()\n",
    "            id = row[0]\n",
    "            console.print(f\"ID is {id}\")\n",
    "            conn.commit()\n",
    "        except Exception as e:\n",
    "            console.print(e)"
   ]
  },
  {
   "cell_type": "code",
   "execution_count": 7,
   "metadata": {},
   "outputs": [],
   "source": [
    "cur.close()\n",
    "conn.close()"
   ]
  }
 ],
 "metadata": {
  "kernelspec": {
   "display_name": "venv",
   "language": "python",
   "name": "python3"
  },
  "language_info": {
   "codemirror_mode": {
    "name": "ipython",
    "version": 3
   },
   "file_extension": ".py",
   "mimetype": "text/x-python",
   "name": "python",
   "nbconvert_exporter": "python",
   "pygments_lexer": "ipython3",
   "version": "3.12.8"
  }
 },
 "nbformat": 4,
 "nbformat_minor": 2
}
