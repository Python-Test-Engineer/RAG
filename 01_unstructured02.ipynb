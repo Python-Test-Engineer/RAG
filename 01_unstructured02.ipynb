{
 "cells": [
  {
   "cell_type": "code",
   "execution_count": 7,
   "metadata": {},
   "outputs": [],
   "source": [
    "# Before calling the API, replace filename and ensure sdk is installed: \"pip install unstructured-client\"\n",
    "# See https://docs.unstructured.io/api-reference/api-services/sdk for more details\n",
    "\n",
    "import unstructured_client\n",
    "from unstructured_client.models import operations, shared\n",
    "from dotenv import find_dotenv, load_dotenv\n",
    "import os\n",
    "import json\n",
    "import random\n",
    "import chardet"
   ]
  },
  {
   "cell_type": "code",
   "execution_count": null,
   "metadata": {},
   "outputs": [],
   "source": [
    "load_dotenv(find_dotenv())\n",
    "UNSTRUCTURED_API_KEY = os.getenv(\"UNSTRUCTURED_API_KEY\")\n",
    "UNSTRUCTURED_API_URL = os.getenv(\"UNSTRUCTURED_API_URL\")\n",
    "LOCAL_FILE_INPUT_DIR = os.getenv(\"LOCAL_FILE_INPUT_DIR\")\n",
    "LOCAL_FILE_OUTPUT_DIR = os.getenv(\"LOCAL_FILE_OUTPUT_DIR\")\n",
    "\n",
    "\n",
    "print(UNSTRUCTURED_API_KEY, UNSTRUCTURED_API_URL)\n",
    "print(LOCAL_FILE_INPUT_DIR, LOCAL_FILE_OUTPUT_DIR)"
   ]
  },
  {
   "cell_type": "code",
   "execution_count": null,
   "metadata": {},
   "outputs": [],
   "source": []
  },
  {
   "cell_type": "code",
   "execution_count": 19,
   "metadata": {},
   "outputs": [],
   "source": [
    "client = unstructured_client.UnstructuredClient(\n",
    "    api_key_auth=UNSTRUCTURED_API_KEY,\n",
    "    server_url=UNSTRUCTURED_API_URL,\n",
    ")\n",
    "\n",
    "filename = \"test.pdf\"\n",
    "# with open(filename, \"rb\") as file:\n",
    "#     raw_data = file.read()\n",
    "#     detector = chardet.UniversalDetector()\n",
    "#     detector.feed(raw_data)\n",
    "#     detector.close()\n",
    "\n",
    "# encoding = detector.result[\"encoding\"]\n",
    "\n",
    "with open(filename, \"r\", encoding=\"utf-8\", errors=\"ignore\") as file:\n",
    "    data = file.read()\n",
    "\n",
    "\n",
    "req = operations.PartitionRequest(\n",
    "    partition_parameters=shared.PartitionParameters(\n",
    "        files=shared.Files(\n",
    "            content=data,\n",
    "            file_name=filename,\n",
    "            strategy=\"hi_res\",\n",
    "            extract_images_in_pdf=True,\n",
    "            infer_table_structure=True,\n",
    "        ),\n",
    "        # --- Other partition parameters ---\n",
    "        # Note: Defining 'strategy', 'chunking_strategy', and 'output_format'\n",
    "        # parameters as strings is accepted, but will not pass strict type checking. It is\n",
    "        # advised to use the defined enum classes as shown below.\n",
    "        strategy=shared.Strategy.HI_RES,\n",
    "        languages=[\"eng\"],\n",
    "        infer_table_structure=True,\n",
    "        extract_element_types=[\"Table\"],\n",
    "        extract_image_block_types=[\"Image\", \"Table\"],\n",
    "        extract_images_in_pdf=True,\n",
    "    ),\n",
    ")"
   ]
  },
  {
   "cell_type": "code",
   "execution_count": 20,
   "metadata": {},
   "outputs": [
    {
     "name": "stderr",
     "output_type": "stream",
     "text": [
      "INFO: HTTP Request: POST https://api.unstructuredapp.io/general/v0/general \"HTTP/1.1 500 Internal Server Error\"\n",
      "INFO: Failed to process a request due to API server error with status code 500. Attempting retry number 1 after sleep.\n",
      "INFO: Server message - {\"detail\":\"Cannot find Root object in pdf\"}\n",
      "ERROR: Failed to partition the document.\n",
      "ERROR: Server responded with 500 - {\"detail\":\"Cannot find Root object in pdf\"}\n"
     ]
    },
    {
     "name": "stdout",
     "output_type": "stream",
     "text": [
      "{\"detail\":\"Cannot find Root object in pdf\"}\n"
     ]
    }
   ],
   "source": [
    "output = []\n",
    "\n",
    "try:\n",
    "    res = client.general.partition(request=req)\n",
    "    for element in res.elements:\n",
    "        # print(element)\n",
    "\n",
    "        output.append(element)\n",
    "\n",
    "    # print(output)\n",
    "except Exception as e:\n",
    "    print(e)"
   ]
  },
  {
   "cell_type": "code",
   "execution_count": null,
   "metadata": {},
   "outputs": [],
   "source": [
    "output = str(output)\n",
    "output = output.encode(\"utf8\").decode(\"ascii\", \"ignore\")\n",
    "\n",
    "\n",
    "file = f\"03_unstructured_{random.randint(1000,9999)}.json\"\n",
    "\n",
    "\n",
    "with open(file, \"w\") as json_file:\n",
    "\n",
    "\n",
    "    # Write the array of dictionaries to the JSON file\n",
    "\n",
    "    json.dump(output, json_file)"
   ]
  }
 ],
 "metadata": {
  "kernelspec": {
   "display_name": "venv",
   "language": "python",
   "name": "python3"
  },
  "language_info": {
   "codemirror_mode": {
    "name": "ipython",
    "version": 3
   },
   "file_extension": ".py",
   "mimetype": "text/x-python",
   "name": "python",
   "nbconvert_exporter": "python",
   "pygments_lexer": "ipython3",
   "version": "3.12.1"
  }
 },
 "nbformat": 4,
 "nbformat_minor": 2
}
