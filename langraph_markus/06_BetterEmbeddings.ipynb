{
 "cells": [
  {
   "cell_type": "markdown",
   "metadata": {},
   "source": [
    "### Open Source Embeddings (Huggingface)"
   ]
  },
  {
   "cell_type": "code",
   "execution_count": 1,
   "metadata": {},
   "outputs": [],
   "source": [
    "from dotenv import load_dotenv\n",
    "import os\n",
    "\n",
    "app_dir = os.path.join(os.getcwd(), \"app\")\n",
    "load_dotenv(os.path.join(app_dir, \".env\"))\n",
    "\n",
    "\n",
    "with open(\"./data/restaurant.txt\") as f:\n",
    "    raw_data = f.read()"
   ]
  },
  {
   "cell_type": "code",
   "execution_count": 2,
   "metadata": {},
   "outputs": [
    {
     "name": "stderr",
     "output_type": "stream",
     "text": [
      "Created a chunk of size 329, which is longer than the specified 200\n",
      "Created a chunk of size 331, which is longer than the specified 200\n",
      "Created a chunk of size 291, which is longer than the specified 200\n",
      "Created a chunk of size 376, which is longer than the specified 200\n",
      "Created a chunk of size 291, which is longer than the specified 200\n"
     ]
    },
    {
     "data": {
      "text/plain": [
       "['In the charming streets of Palermo, tucked away in a quaint alley, stood Chef Amico, a restaurant that was more than a mere eateryâ€”it was a slice of Sicilian heaven. Founded by Amico, a chef whose name was synonymous with passion and creativity, the restaurant was a mosaic of his lifeâ€™s journey through the flavors of Italy.',\n",
       " 'Chef Amicoâ€™s doors opened to a world where the aromas of garlic and olive oil were as welcoming as a warm embrace. The walls, adorned with photos of Amicoâ€™s travels and family recipes, spoke of a rich culinary heritage. The chatter and laughter of patrons filled the air, creating a symphony as delightful as the dishes served.',\n",
       " \"One evening, as the sun cast a golden glow over the city, a renowned food critic, Elena Rossi, stepped into Chef Amico. Her mission was to uncover the secret behind the restaurant's growing fame. She was greeted by Amico himself, whose eyes sparkled with the joy of a man who loved his work.\",\n",
       " 'Elena was led to a table adorned with a simple, elegant setting. The first course was Caponata, a melody of eggplant, capers, and sweet tomatoes, which danced on her palate. Next came the Risotto al Nero di Seppia, a dish that told the tale of Sicilyâ€™s love affair with the sea. Each spoonful was a revelation, the rich flavors of squid ink harmonizing with the creamy rice.',\n",
       " 'The final masterpiece was Cannoli, the crown jewel of Sicilian desserts. As Elena savored the sweet ricotta filling, encased in a perfectly crisp shell, she realized that Chef Amico wasnâ€™t just about the food. It was about the stories, the traditions, and the heart poured into every dish.',\n",
       " 'Leaving the restaurant, Elena knew her review would sing praises not just of the food, but of the soul of Chef Amicoâ€”a place where every dish was a journey through Sicily, and every bite, a taste of Amicoâ€™s dream come true.']"
      ]
     },
     "execution_count": 2,
     "metadata": {},
     "output_type": "execute_result"
    }
   ],
   "source": [
    "from langchain_text_splitters import CharacterTextSplitter\n",
    "\n",
    "text_splitter = CharacterTextSplitter(\n",
    "    separator=\"\\n\",\n",
    "    chunk_size=200,\n",
    "    chunk_overlap=20,\n",
    "    length_function=len,\n",
    "    is_separator_regex=False,\n",
    ")\n",
    "texts = text_splitter.split_text(raw_data)\n",
    "texts"
   ]
  },
  {
   "cell_type": "code",
   "execution_count": 3,
   "metadata": {},
   "outputs": [
    {
     "name": "stderr",
     "output_type": "stream",
     "text": [
      "c:\\Users\\mrcra\\Desktop\\Udemy-Advanced-LangChain\\venv\\Lib\\site-packages\\sentence_transformers\\cross_encoder\\CrossEncoder.py:11: TqdmWarning: IProgress not found. Please update jupyter and ipywidgets. See https://ipywidgets.readthedocs.io/en/stable/user_install.html\n",
      "  from tqdm.autonotebook import tqdm, trange\n"
     ]
    }
   ],
   "source": [
    "#  pip install torch torchvision torchaudio --index-url https://download.pytorch.org/whl/cpu\n",
    "\n",
    "from sentence_transformers import SentenceTransformer\n",
    "\n",
    "model = SentenceTransformer(\"paraphrase-MiniLM-L6-v2\")\n",
    "\n",
    "embeddings_huggingface = model.encode(texts)"
   ]
  },
  {
   "cell_type": "code",
   "execution_count": 4,
   "metadata": {},
   "outputs": [
    {
     "data": {
      "text/plain": [
       "384"
      ]
     },
     "execution_count": 4,
     "metadata": {},
     "output_type": "execute_result"
    }
   ],
   "source": [
    "len(embeddings_huggingface[0])"
   ]
  },
  {
   "cell_type": "code",
   "execution_count": 5,
   "metadata": {},
   "outputs": [
    {
     "data": {
      "text/plain": [
       "array([ 1.26175344e-01,  4.17751461e-01, -1.12065524e-01,  4.59999964e-02,\n",
       "       -3.20104808e-01, -2.77941525e-01,  1.84422344e-01, -1.41149446e-01,\n",
       "        9.47149917e-02, -1.57853868e-02,  2.84208119e-01, -2.01127976e-01,\n",
       "       -5.12924790e-02,  1.25655070e-01,  2.72517890e-01, -3.62387329e-01,\n",
       "        2.35507518e-01, -8.82827491e-02,  2.03624323e-01,  4.81936298e-02,\n",
       "       -3.39867659e-02, -1.03866898e-01, -9.32260230e-02,  2.22075179e-01,\n",
       "        3.85922372e-01, -1.90588132e-01,  3.89328957e-01,  2.90763915e-01,\n",
       "       -6.22041263e-02, -6.92467615e-02,  1.97222948e-01, -1.65435225e-01,\n",
       "        1.78786263e-01, -2.32761614e-02, -1.31499559e-01,  2.63680398e-01,\n",
       "       -7.40772411e-02, -2.39875525e-01,  1.49779007e-01,  2.47149020e-02,\n",
       "        1.14711821e-01,  1.52374014e-01, -1.07586883e-01, -2.28516906e-01,\n",
       "        1.58248872e-01, -1.97336331e-01,  1.25389889e-01,  1.16206996e-01,\n",
       "       -3.07201166e-02, -1.14177965e-01, -5.13785899e-01,  5.75092919e-02,\n",
       "        2.72504296e-02, -1.04639329e-01, -1.14016496e-01,  9.36910696e-03,\n",
       "       -1.66862048e-02,  3.58389944e-01, -4.71081920e-02,  1.73963815e-01,\n",
       "        2.09344149e-01, -4.53309149e-01,  2.99544893e-02, -5.79156494e-03,\n",
       "       -1.73281550e-01, -1.58879701e-02, -4.21176082e-04, -3.03355306e-01,\n",
       "       -5.46759605e-01, -7.63306469e-02,  1.17822401e-01, -6.58325851e-01,\n",
       "        1.24932369e-02,  4.99223694e-02,  1.60175726e-01, -4.94916052e-01,\n",
       "       -2.30747089e-02, -2.75821596e-01, -7.04562604e-01,  1.55401856e-01,\n",
       "        2.29146764e-01,  5.14941439e-02, -3.76416832e-01,  4.33289677e-01,\n",
       "       -4.49483134e-02, -1.15684159e-01, -3.26573968e-01, -2.24856272e-01,\n",
       "        2.83837020e-01, -1.37686566e-01,  2.82663167e-01, -9.31413844e-02,\n",
       "       -6.11549355e-02, -2.94162452e-01,  1.83543399e-01, -1.35774761e-01,\n",
       "       -4.72858787e-01,  3.66976649e-01, -8.39673355e-02,  3.70257860e-03,\n",
       "       -2.51398254e-02,  2.01622114e-01,  1.55813515e-01, -1.57983512e-01,\n",
       "        2.89709598e-01,  2.32881442e-01,  1.58787489e-01,  1.38393804e-01,\n",
       "        1.16508313e-01,  1.46787539e-01, -4.21118289e-01,  1.43239737e-01,\n",
       "       -2.32766359e-03, -4.39630866e-01,  4.87214252e-02,  3.29606056e-01,\n",
       "        3.18365060e-02, -1.35239452e-01,  1.51322544e-01,  3.20326202e-02,\n",
       "        1.74720645e-01, -1.57065056e-02, -1.48438543e-01,  4.94638413e-01,\n",
       "       -2.90184975e-01,  2.47861937e-01,  2.73080826e-01, -5.86033985e-02,\n",
       "       -2.22256005e-01,  1.33432642e-01, -1.36421993e-01,  3.92120421e-01,\n",
       "        6.14870489e-01,  1.31660059e-01,  6.70420378e-02,  5.42556159e-02,\n",
       "       -1.20428875e-01, -1.66980792e-02, -1.08834907e-01, -3.26356679e-01,\n",
       "       -3.02128434e-01,  2.68076479e-01, -7.71089867e-02, -1.79195046e-01,\n",
       "        2.70555705e-01, -1.06326573e-01,  1.57578558e-01, -9.12714899e-02,\n",
       "       -1.28273204e-01, -1.71597511e-01,  1.75010532e-01,  1.67548001e-01,\n",
       "        1.87042058e-01,  1.79524928e-01,  8.08373988e-02,  2.01877624e-01,\n",
       "       -1.46745488e-01,  1.33848518e-01,  3.81799676e-02,  6.19290695e-02,\n",
       "       -3.45964879e-02,  7.77981943e-03, -1.22159064e-01,  3.62241536e-01,\n",
       "       -1.09742895e-01, -1.86700121e-01, -4.96263862e-01,  2.30217651e-01,\n",
       "       -2.33404309e-01,  2.30585426e-01, -2.53528535e-01, -1.65235266e-01,\n",
       "       -2.80698892e-02,  2.37924606e-01, -5.03597140e-01,  3.01538110e-01,\n",
       "        3.34036201e-01,  4.20455247e-01,  4.57190573e-02, -1.79452375e-01,\n",
       "       -1.97049417e-02,  3.27698648e-01,  2.46506296e-02,  9.40436199e-02,\n",
       "       -2.46278644e-02,  2.76801705e-01,  2.76978880e-01,  9.44925472e-02,\n",
       "       -3.09362933e-02,  3.24460834e-01, -1.02607891e-01,  2.73274362e-01,\n",
       "       -7.43743181e-02,  1.66259199e-01,  1.83159634e-01,  2.39882559e-01,\n",
       "        4.07351404e-01,  3.89336310e-02,  1.94387779e-01, -1.20362295e-02,\n",
       "       -1.25130981e-01, -2.50214408e-03, -1.30154565e-01,  2.50520520e-02,\n",
       "       -1.74066484e-01, -6.37747645e-02,  3.45018417e-01,  4.10826951e-01,\n",
       "       -3.44304601e-03,  1.60650671e-01,  3.14141959e-02,  1.69929907e-01,\n",
       "       -5.83799593e-02,  3.61917138e-01,  5.22837162e-01,  1.64809242e-01,\n",
       "        1.99951380e-02,  2.54407883e-01, -2.66404599e-01,  9.93020236e-02,\n",
       "        1.91561654e-01, -2.08920151e-01, -1.10265359e-01, -1.35164768e-01,\n",
       "        3.14543366e-01, -2.78752506e-01, -1.33437112e-01, -1.57455519e-01,\n",
       "       -4.26571108e-02, -3.32469672e-01, -4.71383244e-01, -1.14775680e-01,\n",
       "       -1.50642723e-01, -1.82086155e-02, -3.95766854e-01, -1.15964804e-02,\n",
       "        2.75979817e-01, -1.94070324e-01, -1.55884847e-01,  4.24950391e-01,\n",
       "        3.08752477e-01, -2.40061849e-01, -3.58754806e-02,  3.17580819e-01,\n",
       "       -2.64333844e-01, -7.69592971e-02,  5.51134385e-02, -1.88412759e-02,\n",
       "       -2.94751614e-01,  2.18852729e-01, -4.61307317e-02,  3.57318252e-01,\n",
       "       -2.20468551e-01,  1.92853529e-02, -5.15388846e-01, -3.58224078e-03,\n",
       "        1.33032098e-01, -1.07083000e-01, -1.82160825e-01,  5.13160646e-01,\n",
       "       -2.72439778e-01, -1.10368781e-01, -2.04597175e-01,  8.92796926e-03,\n",
       "       -1.29671976e-01, -1.49319828e-01, -2.21439257e-01,  3.34122688e-01,\n",
       "        2.42229611e-01,  1.94114879e-01,  3.49739473e-03, -4.70720232e-01,\n",
       "       -2.82281667e-01, -3.78115594e-01,  3.85766849e-02,  2.90314972e-01,\n",
       "       -6.23226166e-02, -3.88740562e-02, -2.13178489e-02, -4.70750295e-02,\n",
       "       -3.75360429e-01,  1.90698922e-01, -2.72559673e-01,  2.82757245e-02,\n",
       "        7.58303702e-02,  9.37627852e-02,  7.82325268e-02,  3.48381139e-02,\n",
       "        5.56724519e-02, -9.72917601e-02, -2.61680901e-01,  9.72994119e-02,\n",
       "       -1.74355105e-01,  4.30978954e-01,  1.58596218e-01,  2.84264646e-02,\n",
       "       -8.23653191e-02, -1.01214550e-01, -4.37570065e-01, -6.75802827e-02,\n",
       "       -1.74295947e-01,  4.26398844e-01, -1.61809221e-01,  7.51044899e-02,\n",
       "        1.90249819e-03, -1.20108478e-01, -1.84937328e-01,  2.96958704e-02,\n",
       "        3.10523645e-03, -1.75400838e-01, -3.15205790e-02,  2.61233076e-02,\n",
       "        1.59698687e-02,  4.85086113e-01,  1.63314477e-01,  2.47650325e-01,\n",
       "        1.92747533e-01,  6.42099790e-03,  2.05488995e-01, -2.51729339e-02,\n",
       "        1.72028884e-01, -1.97055116e-01, -1.20349713e-01,  2.02714428e-01,\n",
       "       -5.74508905e-02, -4.44792956e-01,  2.18386516e-01, -1.04408115e-01,\n",
       "       -4.11438733e-01,  4.86344427e-01, -4.24314976e-01,  4.61212695e-01,\n",
       "       -3.21914017e-01,  3.79957289e-01, -5.92320487e-02, -1.81805745e-01,\n",
       "        2.80128628e-01,  1.64859504e-01, -1.35898739e-01,  1.46935672e-01,\n",
       "        4.94712919e-01,  2.06457987e-01,  3.01126260e-02, -5.06758332e-01,\n",
       "       -1.74531549e-01, -3.34819525e-01, -3.40267688e-01, -1.61882862e-01,\n",
       "       -6.08209260e-02, -2.41442204e-01, -2.82975197e-01,  7.87710845e-02,\n",
       "       -1.97485849e-01, -1.62887990e-01, -1.74402058e-01, -3.30912806e-02,\n",
       "       -3.41326058e-01, -1.97357535e-01,  1.47390395e-01, -6.65931582e-01,\n",
       "       -1.94197074e-01, -2.24809393e-01,  3.47888060e-02, -1.94332246e-02,\n",
       "        3.92646305e-02,  4.10404354e-01,  3.42629164e-01,  2.86883324e-01,\n",
       "        5.22505827e-02,  2.37686485e-01, -4.64010894e-01,  3.37923467e-01,\n",
       "        3.24853003e-01, -1.08943023e-01, -4.23491746e-02, -2.57440716e-01,\n",
       "        1.91142440e-01,  1.80229530e-01,  3.51197869e-01, -2.71314774e-02,\n",
       "        1.59411937e-01, -2.96380091e-02, -1.35208338e-01, -2.39301577e-01],\n",
       "      dtype=float32)"
      ]
     },
     "execution_count": 5,
     "metadata": {},
     "output_type": "execute_result"
    }
   ],
   "source": [
    "embeddings_huggingface[0]"
   ]
  },
  {
   "cell_type": "markdown",
   "metadata": {},
   "source": [
    "### OpenAI Embeddings"
   ]
  },
  {
   "cell_type": "code",
   "execution_count": 6,
   "metadata": {},
   "outputs": [],
   "source": [
    "from langchain_openai import OpenAIEmbeddings\n",
    "\n",
    "# embeddings = OpenAIEmbeddings()\n",
    "embeddings = OpenAIEmbeddings(model=\"text-embedding-3-small\", dimensions=1536)"
   ]
  },
  {
   "cell_type": "code",
   "execution_count": null,
   "metadata": {},
   "outputs": [],
   "source": [
    "vectors = [embeddings.embed_query(text) for text in texts]"
   ]
  },
  {
   "cell_type": "code",
   "execution_count": null,
   "metadata": {},
   "outputs": [],
   "source": [
    "vectors"
   ]
  },
  {
   "cell_type": "code",
   "execution_count": null,
   "metadata": {},
   "outputs": [],
   "source": [
    "len(vectors[0])"
   ]
  }
 ],
 "metadata": {
  "kernelspec": {
   "display_name": "venv",
   "language": "python",
   "name": "python3"
  },
  "language_info": {
   "codemirror_mode": {
    "name": "ipython",
    "version": 3
   },
   "file_extension": ".py",
   "mimetype": "text/x-python",
   "name": "python",
   "nbconvert_exporter": "python",
   "pygments_lexer": "ipython3",
   "version": "3.12.7"
  }
 },
 "nbformat": 4,
 "nbformat_minor": 2
}
