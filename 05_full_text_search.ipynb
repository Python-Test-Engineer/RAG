{
 "cells": [
  {
   "cell_type": "code",
   "execution_count": 1,
   "metadata": {},
   "outputs": [],
   "source": [
    "import os\n",
    "from dotenv import find_dotenv, load_dotenv\n",
    "from openai import OpenAI\n",
    "import openai\n",
    "import psycopg2"
   ]
  },
  {
   "cell_type": "code",
   "execution_count": 2,
   "metadata": {},
   "outputs": [
    {
     "data": {
      "text/plain": [
       "True"
      ]
     },
     "execution_count": 2,
     "metadata": {},
     "output_type": "execute_result"
    }
   ],
   "source": [
    "load_dotenv(find_dotenv())"
   ]
  },
  {
   "cell_type": "code",
   "execution_count": 3,
   "metadata": {},
   "outputs": [
    {
     "name": "stdout",
     "output_type": "stream",
     "text": [
      "sk-proj-SYay\n"
     ]
    }
   ],
   "source": [
    "OPENAI_API_KEY = os.getenv(\"OPENAI_API_KEY\")\n",
    "# Set up your OpenAI API key\n",
    "# openai.api_key = OPENAI_API_KEY\n",
    "client = OpenAI()\n",
    "# Choose a model\n",
    "model = \"text-embedding-ada-002\"\n",
    "print(OPENAI_API_KEY[:12])"
   ]
  },
  {
   "cell_type": "code",
   "execution_count": 4,
   "metadata": {},
   "outputs": [
    {
     "name": "stdout",
     "output_type": "stream",
     "text": [
      "Connecting to PostgreSQL...\n",
      "Successfully connected to PostgreSQL.\n"
     ]
    }
   ],
   "source": [
    "print(\"Connecting to PostgreSQL...\")\n",
    "conn = psycopg2.connect(\n",
    "    database=\"postgres\",\n",
    "    user=\"postgres\",\n",
    "    password=\"postgres\",\n",
    "    host=\"host.docker.internal\",\n",
    ")\n",
    "\n",
    "cur = conn.cursor()\n",
    "\n",
    "print(\"Successfully connected to PostgreSQL.\")"
   ]
  },
  {
   "cell_type": "code",
   "execution_count": 5,
   "metadata": {},
   "outputs": [],
   "source": [
    "# Converting the prompt to the pgvector embedding\n",
    "def get_embedding(prompt):\n",
    "    response = openai.embeddings.create(input=prompt, model=\"text-embedding-ada-002\")\n",
    "\n",
    "    embedding = response.data[0].embedding\n",
    "\n",
    "    # Converting the embedding to the pgvector and returning it\n",
    "    return \"[\" + \",\".join(map(str, embedding)) + \"]\""
   ]
  },
  {
   "cell_type": "code",
   "execution_count": 6,
   "metadata": {},
   "outputs": [
    {
     "name": "stdout",
     "output_type": "stream",
     "text": [
      "Query: What is the LUCI framework\n",
      "Most similar sentences:\n",
      "('1d00e23c-84aa-4b43-933b-b46cd60e5c4f', 'Abstract - In this paper, we introduce the LUCI framework, the first AI-powered medical agent, to empower developers to build advanced medical applications and products. Luci is the first AI-based medical agent designed to automate a wide range of healthcare processes. LUCI will also be very suitable for medical scribing, as its voice agent simplifies the creation of clinical notes. The chain-of- thought mechanism introduced in this framework allows the user to pass multiple prompts in a go for the model to serve different functionalities. As an example, one prompt can be used for searching medical data, and another for writing. This is an innovative way that will revolutionize the field. Moreover, LUCI applies RxNorms to ensure consistency in medical nomenclature, which makes functionality even more effective.')\n",
      "('1d00e23c-84aa-4b43-933b-b46cd60e5c4f', 'In the new era of generative AI technology, AI agents[1] have become an integral part of the medical industry. All the medical AI is dependent on any AI agent, However, while many AI solutions exist in healthcare, there remains a significant gap: the lack of a comprehensive AI agent framework tailored specifically for healthcare developers[2]. Traditional AI frameworks are often too generic or limited, failing to meet the unique requirements of healthcare data, regulations, and practices. Developers are often forced to build their solutions from scratch or heavily modify existing frameworks, leading to inefficiencies and potential errors. To solve the problems of health care developers, we introduce Luci— learning useful clinical intelligence—the first medical AI[3] agent that will change the world. It is incorporated with the advanced medical search[4] feature and chain of thoughts where the user can give multiple prompts, and each prompt will have a unique tool like search, review, and others. Developers can also use multiple prompts and build the agent, as well as users can choose tools for the prompt. In the Luci-agent building section, the user can give objectives, tasks, and precautions and mention tools. One agent can be connected to another agent. Here we make it unique that agents can process tasks perfectly and pass the data to another agent with a unique tool or our own-made tool by creating a streamlined process, and the final output will be so optimized and updated as per the recent knowledge.')\n",
      "('1d00e23c-84aa-4b43-933b-b46cd60e5c4f', 'The structure and mechanism of Luci have been discussed here, providing insight into how this AI agent framework operates and its potential to reshape the future of healthcare AI. From clinical decision- making to automated medical scribing, Luci represents the next step in medical AI innovation.')\n",
      "('01fffaf6-f65b-4cbe-9d99-ab790ae37a95', 'Abstract - In this paper, we introduce the LUCI framework, the first AI-powered medical agent, to empower developers to build advanced medical applications and products. Luci is the first AI-based medical agent designed to automate a wide range of healthcare processes. LUCI will also be very suitable for medical scribing, as its voice agent simplifies the creation of clinical notes. The chain-of- thought mechanism introduced in this framework allows the user to pass multiple prompts in a go for the model to serve different functionalities. As an example, one prompt can be used for searching medical data, and another for writing. This is an innovative way that will revolutionize the field. Moreover, LUCI applies RxNorms to ensure consistency in medical nomenclature, which makes functionality even more effective.')\n",
      "('01fffaf6-f65b-4cbe-9d99-ab790ae37a95', 'In the new era of generative AI technology, AI agents[1] have become an integral part of the medical industry. All the medical AI is dependent on any AI agent, However, while many AI solutions exist in healthcare, there remains a significant gap: the lack of a comprehensive AI agent framework tailored specifically for healthcare developers[2]. Traditional AI frameworks are often too generic or limited, failing to meet the unique requirements of healthcare data, regulations, and practices. Developers are often forced to build their solutions from scratch or heavily modify existing frameworks, leading to inefficiencies and potential errors. To solve the problems of health care developers, we introduce Luci— learning useful clinical intelligence—the first medical AI[3] agent that will change the world. It is incorporated with the advanced medical search[4] feature and chain of thoughts where the user can give multiple prompts, and each prompt will have a unique tool like search, review, and others. Developers can also use multiple prompts and build the agent, as well as users can choose tools for the prompt. In the Luci-agent building section, the user can give objectives, tasks, and precautions and mention tools. One agent can be connected to another agent. Here we make it unique that agents can process tasks perfectly and pass the data to another agent with a unique tool or our own-made tool by creating a streamlined process, and the final output will be so optimized and updated as per the recent knowledge.')\n"
     ]
    }
   ],
   "source": [
    "try:\n",
    "\n",
    "    query = \"Potentiodynamic polarization\"\n",
    "    query = \" better time\"\n",
    "    query = \"What are AI agents\"\n",
    "    query = \"What is the LUCI framework\"\n",
    "    # Perform a cosine similarity search\n",
    "    sql = f\"\"\"\n",
    "       SELECT file_id, element_text FROM tbl_doc_elements WHERE element_text @@ websearch_to_tsquery('english','{query}') LIMIT 5;\n",
    "        \"\"\"\n",
    "    cur.execute(sql)\n",
    "\n",
    "    print(\"Query:\", query)\n",
    "\n",
    "    print(\"Most similar sentences:\")\n",
    "\n",
    "    for row in cur.fetchall():\n",
    "\n",
    "        print(row)\n",
    "\n",
    "except Exception as e:\n",
    "\n",
    "    print(\"Error executing query\", str(e))"
   ]
  },
  {
   "cell_type": "code",
   "execution_count": 7,
   "metadata": {},
   "outputs": [],
   "source": [
    "cur.close()\n",
    "conn.close()"
   ]
  },
  {
   "cell_type": "code",
   "execution_count": null,
   "metadata": {},
   "outputs": [],
   "source": []
  }
 ],
 "metadata": {
  "kernelspec": {
   "display_name": "venv",
   "language": "python",
   "name": "python3"
  },
  "language_info": {
   "codemirror_mode": {
    "name": "ipython",
    "version": 3
   },
   "file_extension": ".py",
   "mimetype": "text/x-python",
   "name": "python",
   "nbconvert_exporter": "python",
   "pygments_lexer": "ipython3",
   "version": "3.12.1"
  }
 },
 "nbformat": 4,
 "nbformat_minor": 2
}
