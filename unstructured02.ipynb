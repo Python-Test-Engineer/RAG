{
 "cells": [
  {
   "cell_type": "code",
   "execution_count": 1,
   "metadata": {},
   "outputs": [],
   "source": [
    "# Before calling the API, replace filename and ensure sdk is installed: \"pip install unstructured-client\"\n",
    "# See https://docs.unstructured.io/api-reference/api-services/sdk for more details\n",
    "\n",
    "import unstructured_client\n",
    "from unstructured_client.models import operations, shared\n",
    "from dotenv import find_dotenv, load_dotenv\n",
    "import os\n",
    "import json"
   ]
  },
  {
   "cell_type": "code",
   "execution_count": 2,
   "metadata": {},
   "outputs": [
    {
     "name": "stdout",
     "output_type": "stream",
     "text": [
      "1n2xEKMlmaQ5OCChsBRxhFjM1gVeIU https://api.unstructuredapp.io/general/v0/general\n",
      "pdf_input_files pdf_json_output\n"
     ]
    }
   ],
   "source": [
    "load_dotenv(find_dotenv())\n",
    "UNSTRUCTURED_API_KEY = os.getenv(\"UNSTRUCTURED_API_KEY\")\n",
    "UNSTRUCTURED_API_URL = os.getenv(\"UNSTRUCTURED_API_URL\")\n",
    "LOCAL_FILE_INPUT_DIR = os.getenv(\"LOCAL_FILE_INPUT_DIR\")\n",
    "LOCAL_FILE_OUTPUT_DIR = os.getenv(\"LOCAL_FILE_OUTPUT_DIR\")\n",
    "\n",
    "\n",
    "print(UNSTRUCTURED_API_KEY, UNSTRUCTURED_API_URL)\n",
    "print(LOCAL_FILE_INPUT_DIR, LOCAL_FILE_OUTPUT_DIR)"
   ]
  },
  {
   "cell_type": "code",
   "execution_count": 3,
   "metadata": {},
   "outputs": [],
   "source": [
    "client = unstructured_client.UnstructuredClient(\n",
    "    api_key_auth=UNSTRUCTURED_API_KEY,\n",
    "    server_url=UNSTRUCTURED_API_URL,\n",
    ")\n",
    "\n",
    "filename = \"pdf_input_files/embedded-images-tables.pdf\"\n",
    "with open(filename, \"rb\") as f:\n",
    "    data = f.read()\n",
    "\n",
    "req = operations.PartitionRequest(\n",
    "    partition_parameters=shared.PartitionParameters(\n",
    "        files=shared.Files(\n",
    "            content=data,\n",
    "            file_name=filename,\n",
    "            strategy=\"hi_res\",\n",
    "            extract_images_in_pdf=True,\n",
    "            infer_table_structure=True,\n",
    "        ),\n",
    "        # --- Other partition parameters ---\n",
    "        # Note: Defining 'strategy', 'chunking_strategy', and 'output_format'\n",
    "        # parameters as strings is accepted, but will not pass strict type checking. It is\n",
    "        # advised to use the defined enum classes as shown below.\n",
    "        strategy=shared.Strategy.HI_RES,\n",
    "        languages=[\"eng\"],\n",
    "        infer_table_structure=True,\n",
    "        extract_element_types=[\"Table\"],\n",
    "        extract_image_block_types=[\"Image\", \"Table\"],\n",
    "        extract_images_in_pdf=True,\n",
    "    ),\n",
    ")"
   ]
  },
  {
   "cell_type": "code",
   "execution_count": 4,
   "metadata": {},
   "outputs": [
    {
     "name": "stderr",
     "output_type": "stream",
     "text": [
      "INFO: HTTP Request: POST https://api.unstructuredapp.io/general/v0/general \"HTTP/1.1 200 OK\"\n"
     ]
    }
   ],
   "source": [
    "output = []\n",
    "\n",
    "try:\n",
    "    res = client.general.partition(request=req)\n",
    "    for element in res.elements:\n",
    "        # print(element)\n",
    "\n",
    "        output.append(element)\n",
    "\n",
    "    # print(output)\n",
    "    with open(\"unstrucutured_output_02.json\", \"w\") as json_file:\n",
    "        # Write the array of dictionaries to the JSON file\n",
    "        json.dump(output, json_file)\n",
    "except Exception as e:\n",
    "    print(e)"
   ]
  }
 ],
 "metadata": {
  "kernelspec": {
   "display_name": "venv",
   "language": "python",
   "name": "python3"
  },
  "language_info": {
   "codemirror_mode": {
    "name": "ipython",
    "version": 3
   },
   "file_extension": ".py",
   "mimetype": "text/x-python",
   "name": "python",
   "nbconvert_exporter": "python",
   "pygments_lexer": "ipython3",
   "version": "3.12.1"
  }
 },
 "nbformat": 4,
 "nbformat_minor": 2
}
